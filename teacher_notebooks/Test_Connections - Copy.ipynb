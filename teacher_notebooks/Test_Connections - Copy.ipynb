{
 "cells": [
  {
   "cell_type": "markdown",
   "metadata": {},
   "source": [
    "# Welcome\n",
    "\n",
    "Welcome to the first python notebook in the Autonomous materials discovery (47332) course. We will be using notebooks throughout the course. You might have to submit python scripts to the gbar high-performance computing system at DTU at some point if performing calculations in the notebook becomes too slow, but that is a bridge we will cross once we get there.\n",
    "\n",
    "Since you are reading this, you have (probably) succesfully managed to log into the gbar, \"source\" the correct file, and open the python notebook.\n",
    "\n",
    "You will get some basic information about course exercises in this notebook (consider it a teaser) with significantly more to follow on Monday. **The main purpose of this notebook is to verify that you can use the course software and that you can communicate with the robot.**"
   ]
  },
  {
   "cell_type": "markdown",
   "metadata": {},
   "source": [
    "# Color mixing as a test system\n",
    "In the course you will do recurrent exercises focused on mixing target colors. In practice we do this by mixing food colors diluted in water. Although we do perform significantly more complicated autonoums experiments in our daily research, mixing colored liquids is significantly closer to state-of-the-art for demonstration of autonomous orchestration than you might expect, as seen in [this paper](https://journals.plos.org/plosone/article?id=10.1371/journal.pone.0229862), which can also be found in the course group on DTU Inside. Sadly, we will not be doing the Tequilla Sunrise mixing also performed in that paper.\n",
    "\n",
    "To give each group access to their very own robot, which can be operated without specialist knowledge and safety measures, we went with LEGO. Luckily, [someone](https://journals.plos.org/plosbiology/article?id=10.1371/journal.pbio.2001413) already did most of the design for us, although we did have to modify and improve it in several ways. One major change we made to the robot is that we changed the operating system to a [Debian Linux-based system](https://www.ev3dev.org/). This allows us to use the programming language of our choice (Python, naturally) with all its flexibility and available modules. We thus have relatively easy access to state-of-the-art data science and machine learning software modules and could, in principle, run everyting directly on the LEGO EV3 brick computer. In practice the LEGO computer is rather slow once you begin doing semi-demanding operations such as training machine learning models, and we will thus run our main calculations on the gbar and send simple commands to the robot, which will execute them and pass back the result. More on that later in this notebook and later during the course.\n",
    "\n",
    "We have also written an *in silico*, i.e. a purely software, surrogate model for the color mixing robot, SilicoColorMixer. It has the advantage that it requires less maintenance, is less prone to error and data noise (beyond the noise introduced into the model on purpose), and is significantly faster than the physical robot. The *in silico* model is not written in the most computationally efficient way but instead such that you can easily switch between the *in silico* color mixer and the robot color mixer software. We will be using the *in silico* color mixer in the course to test various algorithms etc. before applying the code to the physical robot."
   ]
  },
  {
   "cell_type": "markdown",
   "metadata": {},
   "source": [
    "## Exercise 0.1: Verify access to the SilicoColorMixer module"
   ]
  },
  {
   "cell_type": "markdown",
   "metadata": {},
   "source": [
    "First, you should verify that you can import the SilicoColorMixer, begin and instance of it, and perform a simple color mixing calculation with it. Follow the cells below to try it out."
   ]
  },
  {
   "cell_type": "code",
   "execution_count": 1,
   "metadata": {},
   "outputs": [],
   "source": [
    "from silico_color_mixer import SilicoColorMixer"
   ]
  },
  {
   "cell_type": "markdown",
   "metadata": {},
   "source": [
    "If this fails, chances are that you have not updated your .bashrc file with \"source /zhome/0a/b/51514/47332_exercises/AMD2020.bashrc\" such that Python knows where to find the module. This should have happened when you ran \"source ~runch/47332_exercises/setup2020\".\n",
    "\n",
    "You will now initiate an instance of the SilicoColorMixer class. This is our model. In a later exercise we will go over it in detail. For now just execute:"
   ]
  },
  {
   "cell_type": "code",
   "execution_count": 2,
   "metadata": {},
   "outputs": [],
   "source": [
    "mixer = SilicoColorMixer()"
   ]
  },
  {
   "cell_type": "markdown",
   "metadata": {},
   "source": [
    "You can see the colors used in `mixer` and their rgb color codes. "
   ]
  },
  {
   "cell_type": "code",
   "execution_count": 3,
   "metadata": {},
   "outputs": [
    {
     "data": {
      "text/plain": [
       "(['red_t', 'green_t', 'blue_t', 'yellow_t'], array([[220.,  35.,  40.],\n",
       "        [ 73., 213.,   5.],\n",
       "        [ 54.,  59., 212.],\n",
       "        [249., 242.,  30.]]))"
      ]
     },
     "execution_count": 3,
     "metadata": {},
     "output_type": "execute_result"
    }
   ],
   "source": [
    "mixer.get_colors()"
   ]
  },
  {
   "cell_type": "markdown",
   "metadata": {},
   "source": [
    "You will next try to mix a new color from these base colors, that the mixer has access to. You do this by providing a list of pseudo volumes of each base color. Note that the mixer does normalization for you, so the sum of the pseudo volumes is irrelevant. The `run_cuvette` method is called such to agree with the name in the LEGO robot software. A cuvette is a small container (here 4.5 ml) that we will mix the liquids in and can shine light into to obtain the color code of the result. "
   ]
  },
  {
   "cell_type": "code",
   "execution_count": 4,
   "metadata": {},
   "outputs": [],
   "source": [
    "output_color = mixer.run_cuvette([1.0, 0.0, 0.0, 2.0])"
   ]
  },
  {
   "cell_type": "markdown",
   "metadata": {},
   "source": [
    "Visualize the output color."
   ]
  },
  {
   "cell_type": "code",
   "execution_count": 5,
   "metadata": {},
   "outputs": [],
   "source": [
    "import matplotlib.pyplot as plt\n",
    "import numpy as np"
   ]
  },
  {
   "cell_type": "code",
   "execution_count": 6,
   "metadata": {},
   "outputs": [
    {
     "data": {
      "text/plain": [
       "<matplotlib.image.AxesImage at 0x24d67ff9860>"
      ]
     },
     "execution_count": 6,
     "metadata": {},
     "output_type": "execute_result"
    },
    {
     "data": {
      "image/png": "[encoded data removed]",
      "text/plain": [
       "<Figure size 432x288 with 1 Axes>"
      ]
     },
     "metadata": {
      "needs_background": "light"
     },
     "output_type": "display_data"
    }
   ],
   "source": [
    "plt.axis('off')\n",
    "plt.imshow(np.array([[output_color]], dtype=np.uint8))"
   ]
  },
  {
   "cell_type": "markdown",
   "metadata": {},
   "source": [
    "Try it out for a bit by changing the input volumes list. You can rerun the cell multiple times with changed values in input_volumes."
   ]
  },
  {
   "cell_type": "code",
   "execution_count": 7,
   "metadata": {},
   "outputs": [
    {
     "data": {
      "text/plain": [
       "<matplotlib.image.AxesImage at 0x24d68356630>"
      ]
     },
     "execution_count": 7,
     "metadata": {},
     "output_type": "execute_result"
    },
    {
     "data": {
      "image/png": "[encoded data removed]",
      "text/plain": [
       "<Figure size 432x288 with 1 Axes>"
      ]
     },
     "metadata": {
      "needs_background": "light"
     },
     "output_type": "display_data"
    }
   ],
   "source": [
    "input_volumes=[1.0, 0.0, 0.0, 0.0]\n",
    "output_color = mixer.run_cuvette(input_volumes)\n",
    "plt.axis('off')\n",
    "plt.imshow(np.array([[output_color]], dtype=np.uint8))"
   ]
  },
  {
   "cell_type": "markdown",
   "metadata": {},
   "source": [
    "## Exercise 0.2: Verify access to the LEGO robot"
   ]
  },
  {
   "cell_type": "markdown",
   "metadata": {},
   "source": [
    "You will now verify that you can communicate with the robot by making it speak to you! But first we need to get a few things out of the way.\n",
    "\n",
    "You should have formed groups by now. Each group will have access to one shared robot and their own group space on the discord server. Ask me to post the name and password for your robot in there if I haven't already done so.\n",
    "\n",
    "The robot control software is split into two parts: one running on the gbar and one running on the robot. SSH is used to connect from gbar to the robot. Once you have given the name and password as inputs during initialization of the gbar part of the control software, the connection should be handled for you. \n",
    "\n",
    "There is one small catch though. Image what an awful mess it could cause if two programs were simultaniously controlling the robot. To prevent this, only one python process is allowed on the robot at a time. It means you have to take turns executing your code on it. If you try to run while the robot is already busy you will see a so-called Traceback ending with this line."
   ]
  },
  {
   "cell_type": "raw",
   "metadata": {},
   "source": [
    "Exception: The robot is already running a python process"
   ]
  },
  {
   "cell_type": "markdown",
   "metadata": {},
   "source": [
    "Even though this helps, you can still mess up optimization runs badly by running more than program on the robot at a time if you are unlucky with timings such that the \"only one python process\" restriction is not triggered. You should thus be mindful of each other while running the robot.\n",
    "\n",
    "Now, let's get ready to rumble! We will use **many** different packages and modules in this course. To help you keep track of what is being used and is required, you will install these packages on your own user as you go slowly bulding your environment. By typing ! in front of a line of code in the notebook, it will be executed as if you had put the line into the gbar command prompt. Try it out by running `!ls` to see the content of your current directory. Note that it might require a bit of patience before you see an output from `!` commands"
   ]
  },
  {
   "cell_type": "code",
   "execution_count": 8,
   "metadata": {},
   "outputs": [
    {
     "name": "stdout",
     "output_type": "stream",
     "text": [
      "20210603203223499940.log\n",
      "20210603204258019294.log\n",
      "Exercises_HTC_solutions.ipynb\n",
      "InSilico_color_mixing_and_optimization_exercise.ipynb\n",
      "Orange_optimization_20200529103507874480.log\n",
      "Orange_optimization_raw.log\n",
      "Test_Connections - Copy.ipynb\n",
      "exercise-Dragonfly-InSilico.ipynb\n",
      "exercise-InSilico-NN.ipynb\n",
      "exercise-LEGO_color_mixing_and_optimization.ipynb\n",
      "exercise_dragonfly_lego.ipynb\n",
      "exercise_error_correcting_NN.ipynb\n",
      "exercise_false_optimum_part1.ipynb\n",
      "exercise_false_optimum_part2.ipynb\n",
      "ga-perovskites.master.ipynb\n",
      "teacher_exercise-Dragonfly-InSilico.ipynb\n",
      "teacher_exercise-Dragonfly-InSilico_true.ipynb\n",
      "teacher_exercise-InSilico-NN.ipynb\n",
      "teacher_exercise0-test_connections.ipynb\n",
      "teacher_exercise1-InSilico_color_mixing_and_optimization.ipynb\n",
      "teacher_exercise2-LEGO_color_mixing_and_optimization--turquis_optimization - Copy.ipynb\n",
      "teacher_exercise2-LEGO_color_mixing_and_optimization.ipynb\n",
      "teacher_exercise2-LEGO_color_mixing_and_optimization_long_orange_run_at_end.ipynb\n",
      "teacher_exercise_dragonfly_lego.ipynb\n",
      "teacher_exercise_error_correcting_NN.ipynb\n",
      "teacher_exercise_error_correcting_NN_local.ipynb\n",
      "teacher_exercise_false_optimum_part1.ipynb\n",
      "teacher_exercise_false_optimum_part2.ipynb\n"
     ]
    }
   ],
   "source": [
    "!ls"
   ]
  },
  {
   "cell_type": "markdown",
   "metadata": {},
   "source": [
    "We will use the `paramiko` package for ssh connections to the robot from within the local part of the control software - `AiLEGO_master`. Go ahead and install it now by running the cell below. "
   ]
  },
  {
   "cell_type": "code",
   "execution_count": 9,
   "metadata": {},
   "outputs": [
    {
     "name": "stdout",
     "output_type": "stream",
     "text": [
      "Requirement already satisfied: paramiko in c:\\users\\runch\\appdata\\roaming\\python\\python36\\site-packages (2.7.2)\n",
      "Requirement already satisfied: pynacl>=1.0.1 in c:\\users\\runch\\appdata\\local\\continuum\\anaconda3\\lib\\site-packages (from paramiko) (1.3.0)\n",
      "Requirement already satisfied: cryptography>=2.5 in c:\\users\\runch\\appdata\\local\\continuum\\anaconda3\\lib\\site-packages (from paramiko) (3.3.1)\n",
      "Requirement already satisfied: bcrypt>=3.1.3 in c:\\users\\runch\\appdata\\local\\continuum\\anaconda3\\lib\\site-packages (from paramiko) (3.1.7)\n",
      "Requirement already satisfied: six>=1.4.1 in c:\\users\\runch\\appdata\\local\\continuum\\anaconda3\\lib\\site-packages (from bcrypt>=3.1.3->paramiko) (1.15.0)\n",
      "Requirement already satisfied: cffi>=1.1 in c:\\users\\runch\\appdata\\local\\continuum\\anaconda3\\lib\\site-packages (from bcrypt>=3.1.3->paramiko) (1.14.4)\n",
      "Requirement already satisfied: pycparser in c:\\users\\runch\\appdata\\local\\continuum\\anaconda3\\lib\\site-packages (from cffi>=1.1->bcrypt>=3.1.3->paramiko) (2.20)\n"
     ]
    }
   ],
   "source": [
    "!pip3 install --user --upgrade paramiko"
   ]
  },
  {
   "cell_type": "markdown",
   "metadata": {},
   "source": [
    "Now go ahead and import the `AiLEGO_master` module."
   ]
  },
  {
   "cell_type": "code",
   "execution_count": 2,
   "metadata": {},
   "outputs": [],
   "source": [
    "from ailego_master import AiLEGO_master"
   ]
  },
  {
   "cell_type": "markdown",
   "metadata": {},
   "source": [
    "Initiate an instance of the control software. It will prompt you for the name and password of your robot. Since the DNS server might not have assigned the robots probably, such that they are callable by their name, you might want to change to `local_ssh=True` and give the IP address instead of the name. The IP can be read on the robot display. We will load an instance that will not be able to run experiments but only make the robot speak."
   ]
  },
  {
   "cell_type": "code",
   "execution_count": 3,
   "metadata": {},
   "outputs": [
    {
     "name": "stdout",
     "output_type": "stream",
     "text": [
      "Input robot name\n",
      "Robot password:········\n",
      "Verify that syringe is at the top positon and the plunger fully pressed. Then press ENTER\n",
      "Verify that color cartridges are filled and cuvettes empty (#5 can be filled). Then press ENTER\n"
     ]
    }
   ],
   "source": [
    "speaking_robot = AiLEGO_master(speak_only=False, local_ssh=True)"
   ]
  },
  {
   "cell_type": "code",
   "execution_count": 4,
   "metadata": {},
   "outputs": [
    {
     "name": "stdout",
     "output_type": "stream",
     "text": [
      "python3 read_color.py --ID 20210603204829978076 --xoffset None --cuvette 1 --pos '{\"1\": 2.9, \"2\": 3.4, \"3\": 3.9, \"4\": 4.4, \"5\": 4.9, \"6\": 5.4, \"7\": 5.9, \"8\": 6.4, \"9\": 6.9, \"10\": 7.4, \"blue\": 8.35, \"red\": 0.95, \"green\": 1.9, \"yellow\": 9.3, \"rinse1\": 0.0, \"rinse2\": 10.35}'\n"
     ]
    },
    {
     "ename": "NameError",
     "evalue": "name 'aaa' is not defined",
     "output_type": "error",
     "traceback": [
      "\u001b[1;31m---------------------------------------------------------------------------\u001b[0m",
      "\u001b[1;31mNameError\u001b[0m                                 Traceback (most recent call last)",
      "\u001b[1;32m<ipython-input-4-1ed53bc6b73b>\u001b[0m in \u001b[0;36m<module>\u001b[1;34m\u001b[0m\n\u001b[1;32m----> 1\u001b[1;33m \u001b[0mspeaking_robot\u001b[0m\u001b[1;33m.\u001b[0m\u001b[0mread_color\u001b[0m\u001b[1;33m(\u001b[0m\u001b[1;36m1\u001b[0m\u001b[1;33m)\u001b[0m\u001b[1;33m\u001b[0m\u001b[1;33m\u001b[0m\u001b[0m\n\u001b[0m",
      "\u001b[1;32m~\\Documents\\WORK\\WORK\\47332_exercises\\software\\ailego_master.py\u001b[0m in \u001b[0;36mread_color\u001b[1;34m(self, cuvette, offset)\u001b[0m\n\u001b[0;32m    180\u001b[0m \u001b[1;33m\u001b[0m\u001b[0m\n\u001b[0;32m    181\u001b[0m         \u001b[0mprint\u001b[0m\u001b[1;33m(\u001b[0m\u001b[0mcommand\u001b[0m\u001b[1;33m)\u001b[0m\u001b[1;33m\u001b[0m\u001b[1;33m\u001b[0m\u001b[0m\n\u001b[1;32m--> 182\u001b[1;33m         \u001b[0maaa\u001b[0m\u001b[1;33m\u001b[0m\u001b[1;33m\u001b[0m\u001b[0m\n\u001b[0m\u001b[0;32m    183\u001b[0m \u001b[1;33m\u001b[0m\u001b[0m\n\u001b[0;32m    184\u001b[0m         \u001b[0moutput_raw\u001b[0m \u001b[1;33m=\u001b[0m \u001b[0mself\u001b[0m\u001b[1;33m.\u001b[0m\u001b[0mssh_into_robot\u001b[0m\u001b[1;33m(\u001b[0m\u001b[0mcommand\u001b[0m\u001b[1;33m)\u001b[0m\u001b[1;33m\u001b[0m\u001b[1;33m\u001b[0m\u001b[0m\n",
      "\u001b[1;31mNameError\u001b[0m: name 'aaa' is not defined"
     ]
    }
   ],
   "source": [
    "speaking_robot.read_color(1)"
   ]
  },
  {
   "cell_type": "markdown",
   "metadata": {},
   "source": [
    "Now make the robot say something. Be creative if you like. Note that the input has to be a string, i.e. surrounded by single or double quatation marks. Watch the camera to confirm the robot says what you want it to. Make sure to turn on the sound of the phone, tablet, device and the camera sound in the app. Note that it will take some time for the robot to execute your command as it needs to load drivers. "
   ]
  },
  {
   "cell_type": "code",
   "execution_count": null,
   "metadata": {},
   "outputs": [],
   "source": [
    "say = 'rock! robot rock!'  # replace with your awesome catchphrase.\n",
    "\n",
    "speaking_robot.make_robot_talk(say)"
   ]
  },
  {
   "cell_type": "markdown",
   "metadata": {},
   "source": [
    "If the robot said something the sounds remotely like what you asked it to say, congratulations, you have succesfully confirmed that you can control it remotely."
   ]
  },
  {
   "cell_type": "markdown",
   "metadata": {},
   "source": [
    "This concludes this exercise. Well done!"
   ]
  }
 ],
 "metadata": {
  "kernelspec": {
   "display_name": "Python 3",
   "language": "python",
   "name": "python3"
  },
  "language_info": {
   "codemirror_mode": {
    "name": "ipython",
    "version": 3
   },
   "file_extension": ".py",
   "mimetype": "text/x-python",
   "name": "python",
   "nbconvert_exporter": "python",
   "pygments_lexer": "ipython3",
   "version": "3.6.9"
  }
 },
 "nbformat": 4,
 "nbformat_minor": 2
}
