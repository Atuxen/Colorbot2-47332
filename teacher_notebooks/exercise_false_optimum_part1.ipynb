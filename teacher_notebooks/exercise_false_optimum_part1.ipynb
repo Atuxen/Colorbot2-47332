{
 "cells": [
  {
   "cell_type": "markdown",
   "metadata": {},
   "source": [
    "# Exercise: False optimum on LEGO robots - part 1"
   ]
  },
  {
   "cell_type": "markdown",
   "metadata": {},
   "source": [
    "Hi there! As you are getting better at python and are building yourselves a toolbox, these notebooks will become thinner, provide less code, and require more of you. You will get far by using your old notebooks and copy/paste cells from those into this.\n",
    "\n",
    "Task in part 1: Attempt to determine how to mix the target color located in cuvette 5 using a standard optimizer.\n",
    "\n",
    "You will very likely see that you cannot easily obtain the peach orange target color but get stuck in a more red local minimum. Do not spend too much time stuck in that minimum but terminate the optimization once you have assured yourself of what is going on. In part 2 you will switch to the Bayesian optimizer.\n",
    "\n",
    "While getting your notebook ready for optimization, initialize the robot and run the below cells. Can you figure out what is going on? You should run these colors as you will need these data points later on."
   ]
  },
  {
   "cell_type": "code",
   "execution_count": null,
   "metadata": {},
   "outputs": [],
   "source": [
    "try:\n",
    "    from scipy.optimize import minimize\n",
    "    import numpy as np\n",
    "    from IPython import display\n",
    "    import matplotlib.pyplot as plt\n",
    "    from plot_pie_charts import make_piechart_plot\n",
    "    from ailego_master import AiLEGO_master\n",
    "except:\n",
    "    print('Have you completed the other notebooks?')"
   ]
  },
  {
   "cell_type": "code",
   "execution_count": null,
   "metadata": {},
   "outputs": [],
   "source": [
    "mixer = AiLEGO_master(colors=['red_u', 'green_u', 'blue_t', 'yellow_u'])"
   ]
  },
  {
   "cell_type": "code",
   "execution_count": null,
   "metadata": {},
   "outputs": [],
   "source": [
    "data_points = [[1., 0., 0., 0.],\n",
    "               [0., 1., 0., 0.],\n",
    "               [0., 0., 1., 0.],\n",
    "               [0., 0., 0., 1.]]\n",
    "\n",
    "for data_point in data_points:\n",
    "    print(mixer.run_cuvette(data_point))\n",
    "    \n",
    "mixer.set_first_empty_cuvette(1)\n",
    "input('Have cuvettes other than #5 emptied. When ready to continue, press Enter')"
   ]
  },
  {
   "cell_type": "markdown",
   "metadata": {},
   "source": [
    "Use the cells below to prepare this notebook to run a standard optimization. I advice you to print of the target color with something like `print(target)` at some point to make life easier later on. \n",
    "\n",
    "Notes: Make plenty of figures, i.e., move plotting commands outside the `if` statement that pauses the optimization every ninth function call."
   ]
  },
  {
   "cell_type": "code",
   "execution_count": null,
   "metadata": {},
   "outputs": [],
   "source": [
    "# cell for you to use"
   ]
  },
  {
   "cell_type": "code",
   "execution_count": null,
   "metadata": {},
   "outputs": [],
   "source": [
    "# cell for you to use"
   ]
  },
  {
   "cell_type": "code",
   "execution_count": null,
   "metadata": {},
   "outputs": [],
   "source": [
    "# cell for you to use"
   ]
  },
  {
   "cell_type": "code",
   "execution_count": null,
   "metadata": {},
   "outputs": [],
   "source": [
    "# cell for you to use. Add more if needed"
   ]
  },
  {
   "cell_type": "markdown",
   "metadata": {},
   "source": [
    "# Preparing savefile for Dragonfly"
   ]
  },
  {
   "cell_type": "markdown",
   "metadata": {},
   "source": [
    "To get a head start with part 2, where we will be using the Dragonfly Bayesian optimizer, you should start by getting the data you have generated and make a savefile to be used as starting point for the Dragonfly optimizer. You can get started on this while to optimization is running above, but make sure not to write the savefile before you have all the data including the data you are currently generating. (Note: I have removed data from the robot in a few cases where I know the robot made an error and produced bad data)."
   ]
  },
  {
   "cell_type": "markdown",
   "metadata": {},
   "source": [
    "If you do not have the data yourself, you can get it by using `ssh robot@ailegoX.eduroam.wireless.dtu.dk` from the gbar, where `X` is your robot/group number. You will find the data in the file `datafile.csv` in the `/47332_exercises/data` folder. You can open the file with `nano datafile.csv` and copy (`Crtl` + `c)`/paste (most) of the content to somewhere easily available to you. The lines are too long, but don't worry about missing the last part. Press `Crtl` + `x` to close the file. \n",
    "\n",
    "If you want to copy the file to your own data folder (47332/data), you can use the line \n",
    "\n",
    "`scp robot@ailegoX.eduroam.wireless.dtu.dk:/home/robot/47332_exercises/data/datafile.csv  ~/47332/data`\n",
    "\n",
    "from the terminal after you have logged on to gbar."
   ]
  },
  {
   "cell_type": "markdown",
   "metadata": {},
   "source": [
    "Remember that the color has changed, so the \"score\" value you calculated for the turquoise optimization is not useful anymore. The rgb code on the other hand is. Using input volumes and the resulting rgb code, which you can get from your data, and the rgb code of the liquid in cuvette 5, you can calculate new scores for input volumes. \n",
    "\n",
    "You should already have the color code of the peach orange target in cuvette 5. If you don't, you can get it once the robot has finished the optimization above by running the below cell."
   ]
  },
  {
   "cell_type": "code",
   "execution_count": null,
   "metadata": {},
   "outputs": [],
   "source": [
    "# Do not run if you already know target rgb code\n",
    "target = mixer.read_color(5)\n",
    "print(target)"
   ]
  },
  {
   "cell_type": "markdown",
   "metadata": {},
   "source": [
    "The below cells show how you could make the savefile once you have the raw data and the target color code. A lot of c/p and hard coding is fine for getting the data into the first cell below this since we don't have a lot of data yet and really want to get going. If you want to, you can yourselves also figure out how to load the data from file. We will do it properly in a later exercise."
   ]
  },
  {
   "cell_type": "code",
   "execution_count": null,
   "metadata": {},
   "outputs": [],
   "source": [
    "example_data = [[[0.25, 0.25, 0.25, 0.25], (45, 45, 45)],\n",
    "                [[0.35, 0.15, 0.25, 0.25], (55, 35, 45)]]\n",
    "\n",
    "example_target = (70, 40, 40)\n",
    "\n",
    "\n"
   ]
  },
  {
   "cell_type": "code",
   "execution_count": null,
   "metadata": {},
   "outputs": [],
   "source": [
    "# This is how my \"score\" function looks (modified version is used for NN).\n",
    "# You made one yourself in the very first exercise.\n",
    "def root_sum_sqr_err(input1, input2):\n",
    "    \"\"\"Root of the sum of squared difference between input colors\"\"\"\n",
    "    dif = np.asarray(input1)- np.asarray(input2)\n",
    "    return (sum(dif**2)**(0.5))"
   ]
  },
  {
   "cell_type": "code",
   "execution_count": null,
   "metadata": {},
   "outputs": [],
   "source": [
    "data_to_save = []\n",
    "for data_point in example_data:\n",
    "    score = root_sum_sqr_err(data_point[1], example_target)\n",
    "    dts_point = data_point[0].copy()\n",
    "    dts_point.append(score)\n",
    "    data_to_save.append(dts_point)\n",
    "    \n",
    "print(data_to_save)"
   ]
  },
  {
   "cell_type": "code",
   "execution_count": null,
   "metadata": {},
   "outputs": [],
   "source": [
    "constraints = [[0., 1.]] * 4\n",
    "print(constraints)"
   ]
  },
  {
   "cell_type": "code",
   "execution_count": null,
   "metadata": {},
   "outputs": [],
   "source": [
    "from pathlib import Path\n",
    "from make_savefile import make_dragonfly_save_file\n",
    "\n",
    "home = str(Path.home())\n",
    "\n",
    "filename = 'robot_data'\n",
    "file_path = home + '/47332/data/'\n",
    "full_path = file_path + filename\n",
    "\n",
    "make_dragonfly_save_file(data_to_save, full_path, constraints)"
   ]
  },
  {
   "cell_type": "markdown",
   "metadata": {},
   "source": [
    "You now have a savefile called `robot_data` ready for use in Dragonfly in part 2 of this exercise.\n",
    "\n",
    "Have a break and continue with the \"part2\" notebook once you are ready. Lunch is always nice :)"
   ]
  }
 ],
 "metadata": {
  "kernelspec": {
   "display_name": "Python 3",
   "language": "python",
   "name": "python3"
  },
  "language_info": {
   "codemirror_mode": {
    "name": "ipython",
    "version": 3
   },
   "file_extension": ".py",
   "mimetype": "text/x-python",
   "name": "python",
   "nbconvert_exporter": "python",
   "pygments_lexer": "ipython3",
   "version": "3.6.2"
  }
 },
 "nbformat": 4,
 "nbformat_minor": 4
}
