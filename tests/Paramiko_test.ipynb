{
 "cells": [
  {
   "cell_type": "code",
   "execution_count": 2,
   "metadata": {},
   "outputs": [],
   "source": [
    "import paramiko"
   ]
  },
  {
   "cell_type": "code",
   "execution_count": 2,
   "metadata": {},
   "outputs": [
    {
     "name": "stdout",
     "output_type": "stream",
     "text": [
      "hello\n",
      "\n",
      "['hello\\n']\n"
     ]
    }
   ],
   "source": [
    "ssh_client = paramiko.SSHClient()\n",
    "ssh_client.set_missing_host_key_policy(paramiko.AutoAddPolicy())\n",
    "ssh_client.connect(hostname='ailego4',\n",
    "                           username='robot',\n",
    "                           password='')\n",
    "\n",
    "#stdin, stdout, stderr = ssh_client.exec_command('python3 test_script.py')\n",
    "\n",
    "stdin, stdout, stderr = ssh_client.exec_command('echo \"hello\"')\n",
    "\n",
    "output = stdout.readlines()\n",
    "ssh_client.close()\n",
    "# print(output)  # For debugging\n",
    "#print(join(stderr))\n",
    "#print(stderr)\n",
    "error = stderr.readlines()\n",
    "for line in error:\n",
    "    print(line)\n",
    "for line in output:\n",
    "    print(line)\n",
    "print(output)"
   ]
  },
  {
   "cell_type": "code",
   "execution_count": 6,
   "metadata": {},
   "outputs": [
    {
     "name": "stdout",
     "output_type": "stream",
     "text": [
      "completed the script\n",
      "\n",
      "['completed the script\\n']\n"
     ]
    }
   ],
   "source": [
    "\n",
    "\n",
    "ssh_client = paramiko.SSHClient()\n",
    "ssh_client.set_missing_host_key_policy(paramiko.AutoAddPolicy())\n",
    "ssh_client.connect(hostname='ailego4',\n",
    "                           username='robot',\n",
    "                           password='')\n",
    "\n",
    "stdin, stdout, stderr = ssh_client.exec_command('pgrep python3 | wc -l')\n",
    "output = stdout.readlines()\n",
    "#print(int(output[0]))\n",
    "if int(output[0]) >= 1:\n",
    "    raise Exception('The robot is already running a python process')\n",
    "stdin, stdout, stderr = ssh_client.exec_command('python3 test_script.py')\n",
    "\n",
    "output = stdout.readlines()\n",
    "ssh_client.close()\n",
    "# print(output)  # For debugging\n",
    "#print(join(stderr))\n",
    "#print(stderr)\n",
    "error = stderr.readlines()\n",
    "for line in error:\n",
    "    print(line)\n",
    "for line in output:\n",
    "    print(line)\n",
    "print(output)\n",
    "\n"
   ]
  },
  {
   "cell_type": "code",
   "execution_count": null,
   "metadata": {},
   "outputs": [],
   "source": [
    "stdin, stdout, stderr = ssh_client0.exec_command('who')\n",
    "output = stdout.readlines()\n",
    "#ssh_client.close()\n",
    "# print(output)  # For debugging\n",
    "#print(join(stderr))\n",
    "#print(stderr)\n",
    "error = stderr.readlines()\n",
    "for line in error:\n",
    "    print(line)\n",
    "for line in output:\n",
    "    print(line)\n",
    "print(output)"
   ]
  },
  {
   "cell_type": "code",
   "execution_count": null,
   "metadata": {},
   "outputs": [],
   "source": [
    "ssh_client.close()"
   ]
  },
  {
   "cell_type": "code",
   "execution_count": null,
   "metadata": {},
   "outputs": [],
   "source": [
    "from ailego_master import AiLEGO_master\n",
    "#speaking_robot = AiLEGO_master(speak_only=True)\n",
    "speaking_robot = AiLEGO_master(speak_only=True, local_ssh=True)"
   ]
  },
  {
   "cell_type": "code",
   "execution_count": null,
   "metadata": {},
   "outputs": [],
   "source": [
    "say = 'rock! robot rock!  rock! robot rock! rock! robot rock! rock! robot rock!'  # replace with your awesome oneliner.\n",
    "\n",
    "speaking_robot.make_robot_talk(say)"
   ]
  },
  {
   "cell_type": "code",
   "execution_count": null,
   "metadata": {},
   "outputs": [],
   "source": []
  }
 ],
 "metadata": {
  "interpreter": {
   "hash": "c1bceae1b0f30ee21e0b335445df0019c1035ce0f130113777dc9bc85664ba25"
  },
  "kernelspec": {
   "display_name": "Python 3.9.11 ('47332-2022': venv)",
   "language": "python",
   "name": "python3"
  },
  "language_info": {
   "codemirror_mode": {
    "name": "ipython",
    "version": 3
   },
   "file_extension": ".py",
   "mimetype": "text/x-python",
   "name": "python",
   "nbconvert_exporter": "python",
   "pygments_lexer": "ipython3",
   "version": "3.9.11"
  }
 },
 "nbformat": 4,
 "nbformat_minor": 2
}
