{
 "cells": [
  {
   "cell_type": "markdown",
   "metadata": {},
   "source": [
    "# Welcome!\n",
    "\n",
    "Welcome to the first Jupyter notebook in the AI-orchestrated self-driving labs (47332) course. \n",
    "We will be using the Jupyter notebooks throughout the course. \n",
    "\n",
    "Since you are reading this, you have (probably) have managed to \n",
    "\n",
    "1.  install `PumpController` and `Odyssey` packages \n",
    "2.  download the notebooks for the course\n",
    "3.  receive your pumpbot.\n",
    "\n",
    "You will get some basic information about course exercises in this notebook (consider it a teaser) with significantly \n",
    "more to follow next week. \n",
    "\n",
    "**The main purpose of this notebook is to verify that you can use the course software and that you can communicate \n",
    "with the robot.**"
   ]
  },
  {
   "cell_type": "markdown",
   "metadata": {},
   "source": [
    "## Exercise 0.1: Verify access to the PumpController"
   ]
  },
  {
   "cell_type": "markdown",
   "metadata": {},
   "source": [
    "We will now test to see if you have the `PumpController` and can establish a connection with your pumpbot. \n",
    "\n",
    "Import the necessary modules for the `PumpController`"
   ]
  },
  {
   "cell_type": "code",
   "execution_count": 1,
   "metadata": {},
   "outputs": [],
   "source": [
    "from pump_controller import PumpController, get_serial_port, list_serial_ports\n",
    "from pump_controller import visualize_rgb, visualize_candidates\n",
    "import time\n",
    "import numpy as np"
   ]
  },
  {
   "cell_type": "markdown",
   "metadata": {},
   "source": [
    "If you run the command above without any error messages, it means that you have successfully installed the `PumpController`."
   ]
  },
  {
   "cell_type": "markdown",
   "metadata": {},
   "source": [
    "## Exercise 0.2.1: (USB): Establish connection to your pumpbot via USB serial"
   ]
  },
  {
   "cell_type": "markdown",
   "metadata": {},
   "source": [
    "Now we initialize the calibratebot. \n",
    "\n",
    "We need to figure out which port that the controller is connected to your computer. The `get_serial_port()` function should automatically do this for you, but things have a way of failing when you need them not to. That is why you can call the `list_serial_ports()` function to see all the ports on your computer, and you can simply use the correct port as a string input instead of using the `get_serial_port` function, if the command below does not work. \n",
    "\n",
    "The `cell_volume` and `drain_time` properties are already defined to 20 mL and 20 seconds, respectively, but you have the option of changing them here. Notice that a folder called *logs* is created with a file with the current timestamp in it - this is where the colors that you mix on this controller in this session will be stored.\n",
    "\n",
    "\n",
    "We start with the `config_template.json` file as the `config_file` to begin with, but we will make our own in this tutorial."
   ]
  },
  {
   "cell_type": "markdown",
   "metadata": {},
   "source": [
    "Let's run the initialization command below."
   ]
  },
  {
   "cell_type": "code",
   "execution_count": 5,
   "metadata": {},
   "outputs": [
    {
     "name": "stdout",
     "output_type": "stream",
     "text": [
      "Serial port /dev/cu.usbserial-310 opened @ 9600\n"
     ]
    },
    {
     "ename": "KeyboardInterrupt",
     "evalue": "",
     "output_type": "error",
     "traceback": [
      "\u001b[0;31m---------------------------------------------------------------------------\u001b[0m",
      "\u001b[0;31mKeyboardInterrupt\u001b[0m                         Traceback (most recent call last)",
      "Cell \u001b[0;32mIn[5], line 1\u001b[0m\n\u001b[0;32m----> 1\u001b[0m calibratebot \u001b[38;5;241m=\u001b[39m \u001b[43mPumpController\u001b[49m\u001b[43m(\u001b[49m\u001b[43mser_port\u001b[49m\u001b[43m \u001b[49m\u001b[38;5;241;43m=\u001b[39;49m\u001b[43m \u001b[49m\u001b[43mget_serial_port\u001b[49m\u001b[43m(\u001b[49m\u001b[43m)\u001b[49m\u001b[43m,\u001b[49m\u001b[43m \u001b[49m\u001b[43mcell_volume\u001b[49m\u001b[43m \u001b[49m\u001b[38;5;241;43m=\u001b[39;49m\u001b[43m \u001b[49m\u001b[38;5;241;43m20\u001b[39;49m\u001b[43m,\u001b[49m\u001b[43m \u001b[49m\u001b[43mdrain_time\u001b[49m\u001b[43m \u001b[49m\u001b[38;5;241;43m=\u001b[39;49m\u001b[43m \u001b[49m\u001b[38;5;241;43m20\u001b[39;49m\u001b[43m,\u001b[49m\u001b[43m \u001b[49m\u001b[43mconfig_file\u001b[49m\u001b[43m \u001b[49m\u001b[38;5;241;43m=\u001b[39;49m\u001b[43m \u001b[49m\u001b[38;5;124;43m'\u001b[39;49m\u001b[38;5;124;43m/Users/achtu/DTU/codebase/colorbot/47332-exercises-2024_Kris/pump_controller/config.json\u001b[39;49m\u001b[38;5;124;43m'\u001b[39;49m\u001b[43m)\u001b[49m\n",
      "File \u001b[0;32m~/DTU/codebase/colorbot/47332-exercises-2025/pump_controller/pump_controller.py:43\u001b[0m, in \u001b[0;36mPumpController.__init__\u001b[0;34m(self, ser_port, baud_rate, cell_volume, drain_time, config_file)\u001b[0m\n\u001b[1;32m     41\u001b[0m     \u001b[38;5;28mself\u001b[39m\u001b[38;5;241m.\u001b[39mser \u001b[38;5;241m=\u001b[39m serial\u001b[38;5;241m.\u001b[39mSerial(ser_port, baud_rate)\n\u001b[1;32m     42\u001b[0m     \u001b[38;5;28mprint\u001b[39m(\u001b[38;5;124mf\u001b[39m\u001b[38;5;124m\"\u001b[39m\u001b[38;5;124mSerial port \u001b[39m\u001b[38;5;132;01m{\u001b[39;00mser_port\u001b[38;5;132;01m}\u001b[39;00m\u001b[38;5;124m opened @ \u001b[39m\u001b[38;5;132;01m{\u001b[39;00mbaud_rate\u001b[38;5;132;01m}\u001b[39;00m\u001b[38;5;124m\"\u001b[39m)\n\u001b[0;32m---> 43\u001b[0m     \u001b[38;5;28;43mself\u001b[39;49m\u001b[38;5;241;43m.\u001b[39;49m\u001b[43mwait_for_arduino\u001b[49m\u001b[43m(\u001b[49m\u001b[43m)\u001b[49m\n\u001b[1;32m     44\u001b[0m \u001b[38;5;28;01melse\u001b[39;00m:\n\u001b[1;32m     45\u001b[0m     \u001b[38;5;28mself\u001b[39m\u001b[38;5;241m.\u001b[39mser \u001b[38;5;241m=\u001b[39m \u001b[38;5;28;01mNone\u001b[39;00m\n",
      "File \u001b[0;32m~/DTU/codebase/colorbot/47332-exercises-2025/pump_controller/pump_controller.py:206\u001b[0m, in \u001b[0;36mPumpController.wait_for_arduino\u001b[0;34m(self)\u001b[0m\n\u001b[1;32m    204\u001b[0m \u001b[38;5;28;01mwhile\u001b[39;00m \u001b[38;5;28mself\u001b[39m\u001b[38;5;241m.\u001b[39mser\u001b[38;5;241m.\u001b[39min_waiting \u001b[38;5;241m==\u001b[39m \u001b[38;5;241m0\u001b[39m:\n\u001b[1;32m    205\u001b[0m     \u001b[38;5;28;01mpass\u001b[39;00m\n\u001b[0;32m--> 206\u001b[0m msg \u001b[38;5;241m=\u001b[39m \u001b[38;5;28;43mself\u001b[39;49m\u001b[38;5;241;43m.\u001b[39;49m\u001b[43mrecv_from_arduino\u001b[49m\u001b[43m(\u001b[49m\u001b[43m)\u001b[49m\n\u001b[1;32m    207\u001b[0m \u001b[38;5;28mprint\u001b[39m(msg)\n",
      "File \u001b[0;32m~/DTU/codebase/colorbot/47332-exercises-2025/pump_controller/pump_controller.py:172\u001b[0m, in \u001b[0;36mPumpController.recv_from_arduino\u001b[0;34m(self, timeout)\u001b[0m\n\u001b[1;32m    170\u001b[0m \u001b[38;5;28;01mwhile\u001b[39;00m time\u001b[38;5;241m.\u001b[39mtime() \u001b[38;5;241m-\u001b[39m start_time \u001b[38;5;241m<\u001b[39m timeout:\n\u001b[1;32m    171\u001b[0m     \u001b[38;5;28;01mwhile\u001b[39;00m \u001b[38;5;28mord\u001b[39m(x) \u001b[38;5;241m!=\u001b[39m start_marker:\n\u001b[0;32m--> 172\u001b[0m         x \u001b[38;5;241m=\u001b[39m \u001b[38;5;28;43mself\u001b[39;49m\u001b[38;5;241;43m.\u001b[39;49m\u001b[43mser\u001b[49m\u001b[38;5;241;43m.\u001b[39;49m\u001b[43mread\u001b[49m\u001b[43m(\u001b[49m\u001b[43m)\u001b[49m\n\u001b[1;32m    174\u001b[0m     \u001b[38;5;28;01mwhile\u001b[39;00m \u001b[38;5;28mord\u001b[39m(x) \u001b[38;5;241m!=\u001b[39m end_marker:\n\u001b[1;32m    175\u001b[0m         \u001b[38;5;28;01mif\u001b[39;00m \u001b[38;5;28mord\u001b[39m(x) \u001b[38;5;241m!=\u001b[39m start_marker:\n",
      "File \u001b[0;32m~/Library/Caches/pypoetry/virtualenvs/colorbot2--_9kUS4P-py3.12/lib/python3.12/site-packages/serial/serialposix.py:565\u001b[0m, in \u001b[0;36mSerial.read\u001b[0;34m(self, size)\u001b[0m\n\u001b[1;32m    563\u001b[0m \u001b[38;5;28;01mwhile\u001b[39;00m \u001b[38;5;28mlen\u001b[39m(read) \u001b[38;5;241m<\u001b[39m size:\n\u001b[1;32m    564\u001b[0m     \u001b[38;5;28;01mtry\u001b[39;00m:\n\u001b[0;32m--> 565\u001b[0m         ready, _, _ \u001b[38;5;241m=\u001b[39m \u001b[43mselect\u001b[49m\u001b[38;5;241;43m.\u001b[39;49m\u001b[43mselect\u001b[49m\u001b[43m(\u001b[49m\u001b[43m[\u001b[49m\u001b[38;5;28;43mself\u001b[39;49m\u001b[38;5;241;43m.\u001b[39;49m\u001b[43mfd\u001b[49m\u001b[43m,\u001b[49m\u001b[43m \u001b[49m\u001b[38;5;28;43mself\u001b[39;49m\u001b[38;5;241;43m.\u001b[39;49m\u001b[43mpipe_abort_read_r\u001b[49m\u001b[43m]\u001b[49m\u001b[43m,\u001b[49m\u001b[43m \u001b[49m\u001b[43m[\u001b[49m\u001b[43m]\u001b[49m\u001b[43m,\u001b[49m\u001b[43m \u001b[49m\u001b[43m[\u001b[49m\u001b[43m]\u001b[49m\u001b[43m,\u001b[49m\u001b[43m \u001b[49m\u001b[43mtimeout\u001b[49m\u001b[38;5;241;43m.\u001b[39;49m\u001b[43mtime_left\u001b[49m\u001b[43m(\u001b[49m\u001b[43m)\u001b[49m\u001b[43m)\u001b[49m\n\u001b[1;32m    566\u001b[0m         \u001b[38;5;28;01mif\u001b[39;00m \u001b[38;5;28mself\u001b[39m\u001b[38;5;241m.\u001b[39mpipe_abort_read_r \u001b[38;5;129;01min\u001b[39;00m ready:\n\u001b[1;32m    567\u001b[0m             os\u001b[38;5;241m.\u001b[39mread(\u001b[38;5;28mself\u001b[39m\u001b[38;5;241m.\u001b[39mpipe_abort_read_r, \u001b[38;5;241m1000\u001b[39m)\n",
      "\u001b[0;31mKeyboardInterrupt\u001b[0m: "
     ]
    }
   ],
   "source": [
    "calibratebot = PumpController(ser_port = get_serial_port(), cell_volume = 20, drain_time = 20, config_file = '/Users/achtu/DTU/codebase/colorbot/47332-exercises-2024_Kris/pump_controller/config.json')"
   ]
  },
  {
   "cell_type": "markdown",
   "metadata": {},
   "source": [
    "If you have successfully initialized the pumpbot, you will see the \"Arduino is ready\" message. If the \"Arduino is ready\" message doesn't show up immediately, press the reset button on the Arduino.\n",
    "\n",
    "Do you see the message? If so, you are now ready to move on to the next step.\n"
   ]
  },
  {
   "cell_type": "markdown",
   "metadata": {},
   "source": [
    "## Exercise 0.2.2: (MQTT wireless): Establish connection to your pumpbot HiveMQTT broker\n",
    "\n",
    "For connecting to the colorbot wirelessly from any wifi network, we use a the messaging protocol MQTT, and an MQTT broker to handle the messages. "
   ]
  },
  {
   "cell_type": "code",
   "execution_count": 2,
   "metadata": {},
   "outputs": [
    {
     "name": "stdout",
     "output_type": "stream",
     "text": [
      "MQTT connected → ad4f7ebd5715403691c1876f43e8829b.s1.eu.hivemq.cloud:8883\n"
     ]
    },
    {
     "name": "stdout",
     "output_type": "stream",
     "text": [
      "REPSONSE FROM MQTT BROKER:  machines/colorbot-5/status: offline\n"
     ]
    }
   ],
   "source": [
    "calibratebot = PumpController(ser_port = None, \n",
    "                              cell_volume = 20, \n",
    "                              drain_time = 20, \n",
    "                              config_file = \"config_files/config.json\")\n"
   ]
  },
  {
   "cell_type": "markdown",
   "metadata": {},
   "source": [
    "Send commands on the topic /command"
   ]
  },
  {
   "cell_type": "code",
   "execution_count": 19,
   "metadata": {},
   "outputs": [
    {
     "name": "stdout",
     "output_type": "stream",
     "text": [
      "Publishing LED color: (0, 0, 0) on topic colorbot-5/command\n",
      "Publishing LED color: (100, 100, 100) on topic colorbot-5/command\n",
      "Publishing LED color: (200, 200, 200) on topic colorbot-5/command\n"
     ]
    }
   ],
   "source": [
    "topic = \"colorbot-5/command\"\n",
    "\n",
    "for i in range(0, 256, 100):\n",
    "    print(f\"Publishing LED color: {(i,i,i)} on topic {topic}\")\n",
    "    calibratebot.mqtt.publish(topic, {\"led_color\": {\"r\": 255-i, \"g\": i, \"b\": i}})\n",
    "    time.sleep(1)\n",
    "\n",
    "\n"
   ]
  },
  {
   "cell_type": "markdown",
   "metadata": {},
   "source": [
    "Send and recieve"
   ]
  },
  {
   "cell_type": "code",
   "execution_count": 10,
   "metadata": {},
   "outputs": [
    {
     "name": "stdout",
     "output_type": "stream",
     "text": [
      "Meas request sent…\n"
     ]
    },
    {
     "ename": "TimeoutError",
     "evalue": "No color_sense within 12.0 s",
     "output_type": "error",
     "traceback": [
      "\u001b[0;31m---------------------------------------------------------------------------\u001b[0m",
      "\u001b[0;31mTimeoutError\u001b[0m                              Traceback (most recent call last)",
      "Cell \u001b[0;32mIn[10], line 1\u001b[0m\n\u001b[0;32m----> 1\u001b[0m rgb \u001b[38;5;241m=\u001b[39m \u001b[43mcalibratebot\u001b[49m\u001b[38;5;241;43m.\u001b[39;49m\u001b[43mmeasure\u001b[49m\u001b[43m(\u001b[49m\u001b[43mtimeout\u001b[49m\u001b[38;5;241;43m=\u001b[39;49m\u001b[38;5;241;43m12.0\u001b[39;49m\u001b[43m)\u001b[49m\n\u001b[1;32m      2\u001b[0m \u001b[38;5;28mprint\u001b[39m(\u001b[38;5;124m\"\u001b[39m\u001b[38;5;124mMeasured\u001b[39m\u001b[38;5;124m\"\u001b[39m, rgb)\n",
      "File \u001b[0;32m~/DTU/codebase/colorbot/47332-exercises-2025/pump_controller/pump_controller.py:360\u001b[0m, in \u001b[0;36mPumpController.measure\u001b[0;34m(self, timeout)\u001b[0m\n\u001b[1;32m    357\u001b[0m \u001b[38;5;28mprint\u001b[39m(\u001b[38;5;124m\"\u001b[39m\u001b[38;5;124mMeas request sent…\u001b[39m\u001b[38;5;124m\"\u001b[39m)\n\u001b[1;32m    359\u001b[0m \u001b[38;5;28;01mif\u001b[39;00m \u001b[38;5;129;01mnot\u001b[39;00m \u001b[38;5;28mself\u001b[39m\u001b[38;5;241m.\u001b[39mcolor_event\u001b[38;5;241m.\u001b[39mwait(timeout):\n\u001b[0;32m--> 360\u001b[0m     \u001b[38;5;28;01mraise\u001b[39;00m \u001b[38;5;167;01mTimeoutError\u001b[39;00m(\u001b[38;5;124m\"\u001b[39m\u001b[38;5;124mNo color_sense within \u001b[39m\u001b[38;5;132;01m%s\u001b[39;00m\u001b[38;5;124m s\u001b[39m\u001b[38;5;124m\"\u001b[39m \u001b[38;5;241m%\u001b[39m timeout)\n\u001b[1;32m    362\u001b[0m \u001b[38;5;28;01mreturn\u001b[39;00m \u001b[38;5;28mself\u001b[39m\u001b[38;5;241m.\u001b[39mlast_color\n",
      "\u001b[0;31mTimeoutError\u001b[0m: No color_sense within 12.0 s"
     ]
    }
   ],
   "source": [
    "rgb = calibratebot.measure(timeout=12.0)\n",
    "print(\"Measured\", rgb)\n"
   ]
  },
  {
   "cell_type": "markdown",
   "metadata": {},
   "source": [
    "## Exercise 0.3: Controlling the pumps of your pumpbot"
   ]
  },
  {
   "cell_type": "markdown",
   "metadata": {},
   "source": [
    "For calibrating the pumps, we will not be using the test cell, but running the liquid from the respective bottles into a bottle on the scale. So removing the hoses from the test cell and place such that they dispense onto a bottle on the weighing scale."
   ]
  },
  {
   "cell_type": "markdown",
   "metadata": {},
   "source": [
    "Before doing anything else, we should purge all the pumps. This means filling all of the tubes with their respective liquids. We do this by using the `purge_pump` function, which takes the pump name ('R', 'G', 'B', 'Y', 'W', 'D') and the time (in seconds) to run the pump, as variables. \n",
    "\n",
    "As you can probably guess, the names correspond to the following:\n",
    "\n",
    "* 'R': red\n",
    "* 'G': green\n",
    "* 'B': blue\n",
    "* 'Y': yellow\n",
    "* 'W': water\n",
    "* 'D': drain\n",
    "   \n",
    "Do this one-by-one until all tubes are filled with liquid. The drain tubes of course do not need to be purged. \n",
    "\n",
    "After purging the red, green, blue, yellow and water pumps, empty the weighing bottle."
   ]
  },
  {
   "cell_type": "code",
   "execution_count": 20,
   "metadata": {},
   "outputs": [
    {
     "name": "stdout",
     "output_type": "stream",
     "text": [
      "Purging pump R for 3 seconds...\n",
      "Purging pump G for 3 seconds...\n"
     ]
    }
   ],
   "source": [
    "calibratebot.purge_pump('R', 3)\n",
    "\n",
    "calibratebot.purge_pump('G', 3)\n",
    "# calibratebot.purge_pump('B', 3)\n",
    "# calibratebot.purge_pump('Y', 3)\n",
    "# calibratebot.purge_pump('W', 3)\n",
    "\n",
    "# Drain:\n",
    "# calibratebot.drain()\n",
    "\n",
    "# Drain for custom time (if required):\n",
    "# calibratebot.drain(drain_time = 10)\n",
    "\n",
    "# Flush:\n",
    "# calibratebot.flush()"
   ]
  },
  {
   "cell_type": "markdown",
   "metadata": {},
   "source": [
    "## Exercise 0.4: Calibrating the pumps"
   ]
  },
  {
   "cell_type": "markdown",
   "metadata": {},
   "source": [
    "Now we want to calibrate the pumps. We need to figure out how many mL of water comes out of the pump for every second that we run it. We do this by running the pump for certains amounts of times and weigh the amount of liquid that is output. We can then do a linear regression in Excel to find the slope and the offset for each pump. As each pump is different, these values will also be different. \n",
    "\n",
    "\n",
    "The `calibration_test` function cycles through different amounts of time of running the pumps, and waits for 5 seconds. In these 5 seconds, your job is to read the measurement on the weighing scale and note it down in the Excel sheet."
   ]
  },
  {
   "cell_type": "code",
   "execution_count": 5,
   "metadata": {},
   "outputs": [],
   "source": [
    "times = [0.1, 0.2, 0.4, 0.8, 1.0, 1.6, 2.0, 2.5, 3.0, 5.0, 7.0, 8.0]\n",
    "\n",
    "def calibration_test(pump, times):\n",
    "    for t in times:\n",
    "        calibratebot.purge_pump(pump, t)\n",
    "        print(f\"sleeping after {t} on {pump}\")\n",
    "        print(\"-----------\")\n",
    "        print()\n",
    "        \n",
    "        time.sleep(t + 5.0)"
   ]
  },
  {
   "cell_type": "markdown",
   "metadata": {},
   "source": [
    "Let us run the calibration now! \n",
    "\n",
    "Open up the `calibrate_files/pump_calibration_template.xlsx` file and get ready to note down the weights. Optimally, you should do three calibrations for each pump - this results in 6 x 3 = 18 calibrations. If you are pressed for time, just do one calibration per pump and copy the results to the other columns for the same pump. \n",
    "\n",
    "Finally, you can take the average `a` (slope) and `b` (intercept) values on the `Main` page of the Excel sheet and write them into a `config.json file`. A template for this is given in `config_files/config_template.json`. Do not change the `pin` values for the different pumps!"
   ]
  },
  {
   "cell_type": "code",
   "execution_count": 6,
   "metadata": {},
   "outputs": [
    {
     "name": "stdout",
     "output_type": "stream",
     "text": [
      "Sent from PC -- TEST STR -- <Mix,27,0.1>\n",
      "Reply Received  Msg Mix,27,0.1 Time 353\n",
      "===========\n",
      "sleeping after 0.1 on R\n",
      "-----------\n",
      "\n",
      "Sent from PC -- TEST STR -- <Mix,27,0.2>\n",
      "Reply Received  Msg Mix,27,0.2 Time 363\n",
      "===========\n",
      "sleeping after 0.2 on R\n",
      "-----------\n",
      "\n",
      "Sent from PC -- TEST STR -- <Mix,27,0.4>\n",
      "Reply Received  Msg Mix,27,0.4 Time 374\n",
      "===========\n",
      "sleeping after 0.4 on R\n",
      "-----------\n",
      "\n",
      "Sent from PC -- TEST STR -- <Mix,27,0.8>\n",
      "Reply Received  Msg Mix,27,0.8 Time 385\n",
      "===========\n",
      "sleeping after 0.8 on R\n",
      "-----------\n",
      "\n",
      "Sent from PC -- TEST STR -- <Mix,27,1.0>\n",
      "Reply Received  Msg Mix,27,1.0 Time 398\n",
      "===========\n",
      "sleeping after 1.0 on R\n",
      "-----------\n",
      "\n",
      "Sent from PC -- TEST STR -- <Mix,27,1.6>\n",
      "Reply Received  Msg Mix,27,1.6 Time 412\n",
      "===========\n",
      "sleeping after 1.6 on R\n",
      "-----------\n",
      "\n",
      "Sent from PC -- TEST STR -- <Mix,27,2.0>\n",
      "Reply Received  Msg Mix,27,2.0 Time 428\n",
      "===========\n",
      "sleeping after 2.0 on R\n",
      "-----------\n",
      "\n",
      "Sent from PC -- TEST STR -- <Mix,27,2.5>\n",
      "Reply Received  Msg Mix,27,2.5 Time 446\n",
      "===========\n",
      "sleeping after 2.5 on R\n",
      "-----------\n",
      "\n",
      "Sent from PC -- TEST STR -- <Mix,27,3.0>\n",
      "Reply Received  Msg Mix,27,3.0 Time 465\n",
      "===========\n",
      "sleeping after 3.0 on R\n",
      "-----------\n",
      "\n"
     ]
    },
    {
     "ename": "KeyboardInterrupt",
     "evalue": "",
     "output_type": "error",
     "traceback": [
      "\u001b[31m---------------------------------------------------------------------------\u001b[39m",
      "\u001b[31mKeyboardInterrupt\u001b[39m                         Traceback (most recent call last)",
      "\u001b[36mCell\u001b[39m\u001b[36m \u001b[39m\u001b[32mIn[6]\u001b[39m\u001b[32m, line 1\u001b[39m\n\u001b[32m----> \u001b[39m\u001b[32m1\u001b[39m \u001b[43mcalibration_test\u001b[49m\u001b[43m(\u001b[49m\u001b[33;43m'\u001b[39;49m\u001b[33;43mR\u001b[39;49m\u001b[33;43m'\u001b[39;49m\u001b[43m,\u001b[49m\u001b[43m \u001b[49m\u001b[43mtimes\u001b[49m\u001b[43m)\u001b[49m\n\u001b[32m      3\u001b[39m \u001b[38;5;66;03m# calibration_test('G', times)\u001b[39;00m\n\u001b[32m      4\u001b[39m \u001b[38;5;66;03m# calibration_test('B', times)\u001b[39;00m\n\u001b[32m      5\u001b[39m \u001b[38;5;66;03m# calibration_test('Y', times)\u001b[39;00m\n\u001b[32m      6\u001b[39m \u001b[38;5;66;03m# calibration_test('W', times)\u001b[39;00m\n\u001b[32m      7\u001b[39m \u001b[38;5;66;03m# calibration_test('D', times)\u001b[39;00m\n",
      "\u001b[36mCell\u001b[39m\u001b[36m \u001b[39m\u001b[32mIn[5]\u001b[39m\u001b[32m, line 10\u001b[39m, in \u001b[36mcalibration_test\u001b[39m\u001b[34m(pump, times)\u001b[39m\n\u001b[32m      7\u001b[39m \u001b[38;5;28mprint\u001b[39m(\u001b[33m\"\u001b[39m\u001b[33m-----------\u001b[39m\u001b[33m\"\u001b[39m)\n\u001b[32m      8\u001b[39m \u001b[38;5;28mprint\u001b[39m()\n\u001b[32m---> \u001b[39m\u001b[32m10\u001b[39m \u001b[43mtime\u001b[49m\u001b[43m.\u001b[49m\u001b[43msleep\u001b[49m\u001b[43m(\u001b[49m\u001b[43mt\u001b[49m\u001b[43m \u001b[49m\u001b[43m+\u001b[49m\u001b[43m \u001b[49m\u001b[32;43m5.0\u001b[39;49m\u001b[43m)\u001b[49m\n",
      "\u001b[31mKeyboardInterrupt\u001b[39m: "
     ]
    }
   ],
   "source": [
    "calibration_test('R', times)\n",
    "\n",
    "# calibration_test('G', times)\n",
    "# calibration_test('B', times)\n",
    "# calibration_test('Y', times)\n",
    "# calibration_test('W', times)\n",
    "# calibration_test('D', times)"
   ]
  },
  {
   "cell_type": "markdown",
   "metadata": {},
   "source": [
    "Take these calibration slope and intercept values for each of the pumps, and note them down in the `config.json` file"
   ]
  },
  {
   "cell_type": "markdown",
   "metadata": {},
   "source": []
  }
 ],
 "metadata": {
  "kernelspec": {
   "display_name": "colorbot2--_9kUS4P-py3.12",
   "language": "python",
   "name": "python3"
  },
  "language_info": {
   "codemirror_mode": {
    "name": "ipython",
    "version": 3
   },
   "file_extension": ".py",
   "mimetype": "text/x-python",
   "name": "python",
   "nbconvert_exporter": "python",
   "pygments_lexer": "ipython3",
   "version": "3.12.3"
  }
 },
 "nbformat": 4,
 "nbformat_minor": 2
}
