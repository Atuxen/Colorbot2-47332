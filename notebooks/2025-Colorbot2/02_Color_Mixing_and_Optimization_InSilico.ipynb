{
 "cells": [
  {
   "cell_type": "markdown",
   "metadata": {},
   "source": [
    "# *In silico* color mixing and optimization"
   ]
  },
  {
   "cell_type": "markdown",
   "metadata": {},
   "source": [
    "This is the first full color mixing exercise in the AI-orchestrated self-driving labs (47332) course. \n",
    "\n",
    "In this exercise, you will explore the `SilicoPumpController` python class, which is a digital version of the `PumpController` you saw before. You will also get familiarized with common optimizers. You should by now know to basic principles of optimizers and some standard ones.\n",
    "\n",
    "With this digital (or **in silico**) version, you can experiment with your code prior to deploying it on the actual pumpbot. Therefore, you should experience that code produced in this exercise will be very useful and easy to transfer to later exercises involving the robot. Towards the end of the course, you will also use the *in silico* model in combination with the pumpbot for improved performance."
   ]
  },
  {
   "cell_type": "markdown",
   "metadata": {},
   "source": [
    "## Exercise 1: Get started with `SilicoPumpController`"
   ]
  },
  {
   "cell_type": "markdown",
   "metadata": {},
   "source": [
    "Before we dive in, let us import necessary packages for use of the `SilicoPumpController`. These include the controller itself, the a visualization function, and numpy and matplotlib packages."
   ]
  },
  {
   "cell_type": "code",
   "execution_count": 9,
   "metadata": {},
   "outputs": [
    {
     "ename": "ModuleNotFoundError",
     "evalue": "No module named 'pump_controller'",
     "output_type": "error",
     "traceback": [
      "\u001b[0;31m---------------------------------------------------------------------------\u001b[0m",
      "\u001b[0;31mModuleNotFoundError\u001b[0m                       Traceback (most recent call last)",
      "Cell \u001b[0;32mIn[9], line 1\u001b[0m\n\u001b[0;32m----> 1\u001b[0m \u001b[38;5;28;01mfrom\u001b[39;00m\u001b[38;5;250m \u001b[39m\u001b[38;5;21;01mpump_controller\u001b[39;00m\u001b[38;5;250m \u001b[39m\u001b[38;5;28;01mimport\u001b[39;00m SilicoPumpController, visualize_rgb\n\u001b[1;32m      2\u001b[0m \u001b[38;5;28;01mimport\u001b[39;00m\u001b[38;5;250m \u001b[39m\u001b[38;5;21;01mnumpy\u001b[39;00m\u001b[38;5;250m \u001b[39m\u001b[38;5;28;01mas\u001b[39;00m\u001b[38;5;250m \u001b[39m\u001b[38;5;21;01mnp\u001b[39;00m\n\u001b[1;32m      3\u001b[0m \u001b[38;5;28;01mimport\u001b[39;00m\u001b[38;5;250m \u001b[39m\u001b[38;5;21;01mmatplotlib\u001b[39;00m\u001b[38;5;21;01m.\u001b[39;00m\u001b[38;5;21;01mpyplot\u001b[39;00m\u001b[38;5;250m \u001b[39m\u001b[38;5;28;01mas\u001b[39;00m\u001b[38;5;250m \u001b[39m\u001b[38;5;21;01mplt\u001b[39;00m\n",
      "\u001b[0;31mModuleNotFoundError\u001b[0m: No module named 'pump_controller'"
     ]
    }
   ],
   "source": [
    "from pump_controller import SilicoPumpController, visualize_rgb\n",
    "import numpy as np\n",
    "import matplotlib.pyplot as plt"
   ]
  },
  {
   "cell_type": "markdown",
   "metadata": {},
   "source": [
    "We strongly recommend you to read more about different classes, methods and functions in the `pump_controller` module. We have \n",
    "\n",
    "* `PumpController` class\n",
    "* `SilicoPumpController` class\n",
    "* `read_logfile()` function\n",
    "* `get_serial_port()` function\n",
    "* `list_serial_ports()` function\n",
    "* `visualize_candidates(data_df)` function \n",
    "* `visualize_rgb(mixture, rgb, pump_controller, target, score)` function\n",
    "\n",
    "A detailed documentation is found module [here](https://www.student.dtu.dk/~s193903/47332/)."
   ]
  },
  {
   "cell_type": "markdown",
   "metadata": {},
   "source": [
    "The silicobot, an instance of `SilicoPumpController`, is initialized with the standard deviation of noise, `noise_std`. We initialize it with a noise value of 3, meaning that your measurements will not always be the same but contain some noise. \n",
    "\n",
    "Notice that when ou instantiate a silicobot, you will also generate a file with current timestamp under the *logs* folder in your current directory. All the colors you mix will be stored here!"
   ]
  },
  {
   "cell_type": "code",
   "execution_count": 3,
   "metadata": {},
   "outputs": [],
   "source": [
    "silicobot = SilicoPumpController(noise_std = 3)"
   ]
  },
  {
   "cell_type": "markdown",
   "metadata": {},
   "source": [
    "For the main exercise of the course, you will be given a target color that you are tasked to match by mixing red, green, blue, and yellow. You will not know the components of the target color that you want to match, but can only measure its color. \n",
    "\n",
    "For the silico case, you can create your own target color, either by specifying what the target color is or by simulating the mixing of red, green, blue, and yellow. We will demonstrate how to do the latter, which is done by using the `change_target` function of the silicobot. This function mixes a color with the given amounts of red, green, blue, and yellow, and stores that color. "
   ]
  },
  {
   "cell_type": "code",
   "execution_count": 24,
   "metadata": {},
   "outputs": [
    {
     "name": "stdout",
     "output_type": "stream",
     "text": [
      "Silico target changed to [125.31246956 147.09547757  77.74341755]. Created by [0.1, 0.2, 0.3, 0.4].\n"
     ]
    },
    {
     "data": {
      "text/plain": [
       "array([125.31246956, 147.09547757,  77.74341755])"
      ]
     },
     "execution_count": 24,
     "metadata": {},
     "output_type": "execute_result"
    }
   ],
   "source": [
    "input_volumes = [0.1, 0.2, 0.3, 0.4]\n",
    "silicobot.change_target(input_volumes)"
   ]
  },
  {
   "cell_type": "markdown",
   "metadata": {},
   "source": [
    "Both the amounts of R, G, B, Y colorants and the target color mixture are stored in `silicobot.target_mixture` and `silicobot.target_color`. You can see them by running the command below."
   ]
  },
  {
   "cell_type": "code",
   "execution_count": 11,
   "metadata": {},
   "outputs": [
    {
     "name": "stdout",
     "output_type": "stream",
     "text": [
      "Input volumes [R,G,B,Y] of the target color is: [0.1, 0.2, 0.3, 0.4]\n",
      "RGB of the target color is: [130.68169972 153.50344847  76.67888686]\n"
     ]
    }
   ],
   "source": [
    "print(f\"Input volumes [R,G,B,Y] of the target color is: {silicobot.target_mixture}\")\n",
    "print(f\"RGB of the target color is: {silicobot.target_color}\")"
   ]
  },
  {
   "cell_type": "markdown",
   "metadata": {},
   "source": [
    "Now to the fun part! \n",
    "\n",
    "You can mix a new color using the `mix_color` method in `SilicoPumpController` with the amounts of R, G, B, Y you decide. The `mix_color` function mixes the color, measures it and logs it as well. \n",
    "\n",
    "Let's mix some colors using the silicobot. Feel free to change the values specified in the `input_volumes`. "
   ]
  },
  {
   "cell_type": "code",
   "execution_count": 25,
   "metadata": {},
   "outputs": [
    {
     "name": "stdout",
     "output_type": "stream",
     "text": [
      "Measured Color: [131.26595552 100.85491063  51.41196281]\n",
      "Target Color: [125.31246956 147.09547757  77.74341755]\n"
     ]
    }
   ],
   "source": [
    "input_volumes = [0.4, 0.3, 0.2, 0.1]\n",
    "measured_color = silicobot.mix_color(input_volumes)\n",
    "\n",
    "print(f\"Measured Color: {measured_color}\")\n",
    "print(f\"Target Color: {silicobot.target_color}\")"
   ]
  },
  {
   "cell_type": "markdown",
   "metadata": {},
   "source": [
    "We can now compare the color you just mixed with the target color using the `visualize_rgb` function. There are several components in the visualization:\n",
    "\n",
    "* The outer-most ring shows the color mixture that you used to mix the color. \n",
    "* The large ring shows that color that you actually mixed\n",
    "* The inner circle shows the target color. \n",
    "* The number in the middle is the score (you don't have that yet). \n",
    "\n",
    "If you just want your mixed color, simply set the `target` and `score` properties to `None`."
   ]
  },
  {
   "cell_type": "code",
   "execution_count": 26,
   "metadata": {},
   "outputs": [
    {
     "data": {
      "image/png": "[encoded data removed]",
      "text/plain": [
       "<Figure size 640x480 with 1 Axes>"
      ]
     },
     "metadata": {},
     "output_type": "display_data"
    }
   ],
   "source": [
    "visualize_rgb(mixture = input_volumes,\n",
    "              rgb = measured_color,\n",
    "              pump_controller = silicobot,\n",
    "              target = silicobot.target_color,\n",
    "              score = None\n",
    "              )"
   ]
  },
  {
   "cell_type": "markdown",
   "metadata": {},
   "source": [
    "You are encouraged to repeat the steps above to get a sense of how these tools work. In particular, monitor the log files and generate few different colors. Since you have introduced noise in your silicobot, mixing the same ratios of R, G, B, Y, do not yield exactly the same color. Try mixing the same color multiple times and see deviation in the resulting colors.  "
   ]
  },
  {
   "cell_type": "markdown",
   "metadata": {},
   "source": [
    "As an example, the code below mixes the same color multiple times - an attempt at equal parts red and yellow - and show you the difference."
   ]
  },
  {
   "cell_type": "code",
   "execution_count": 28,
   "metadata": {},
   "outputs": [
    {
     "name": "stdout",
     "output_type": "stream",
     "text": [
      "Mix 0 = [255.         130.21789651   0.        ]\n",
      "Mix 1 = [250.0247596  127.5165673    0.62305085]\n",
      "Mix 2 = [249.13027198 128.47473138   5.46947297]\n",
      "Mix 3 = [251.60031603 124.33404689   0.        ]\n",
      "Mix 4 = [250.72668685 131.99508001   3.21172363]\n",
      "Mix 5 = [254.95521589 126.85341264   0.        ]\n",
      "Mix 6 = [255.        131.9432038   0.       ]\n",
      "Mix 7 = [254.42077298 131.30300473   0.51722967]\n",
      "Mix 8 = [254.90372763 130.19859687   0.        ]\n",
      "Mix 9 = [255.         123.30488159   3.37745528]\n"
     ]
    },
    {
     "data": {
      "text/plain": [
       "<matplotlib.image.AxesImage at 0x1279a02d0>"
      ]
     },
     "execution_count": 28,
     "metadata": {},
     "output_type": "execute_result"
    },
    {
     "data": {
      "image/png": "[encoded data removed]",
      "text/plain": [
       "<Figure size 640x480 with 1 Axes>"
      ]
     },
     "metadata": {},
     "output_type": "display_data"
    }
   ],
   "source": [
    "mixed_colors = []\n",
    "input_volumes=[1.0, 0.0, 0.0, 1.0]\n",
    "for n in range (10):\n",
    "    color = silicobot.mix_color(input_volumes)\n",
    "    print(f'Mix {n} = {color}')\n",
    "    mixed_colors.append(color)\n",
    "\n",
    "plt.axis('off')\n",
    "plt.imshow(np.array([mixed_colors], dtype=np.uint8))"
   ]
  },
  {
   "cell_type": "markdown",
   "metadata": {},
   "source": [
    "Now, it is your turn to shine. \n",
    "\n",
    "Use the below cells to experiment with the `SilicoPumpController` and insert more if needed. \n",
    "Make a figure like the one produced by the cell above, but instead of 10 shades of orange, make a rainbow."
   ]
  },
  {
   "cell_type": "code",
   "execution_count": null,
   "metadata": {},
   "outputs": [],
   "source": [
    "# my_mixer = SilicoPumpController(..."
   ]
  },
  {
   "cell_type": "code",
   "execution_count": null,
   "metadata": {},
   "outputs": [],
   "source": []
  },
  {
   "cell_type": "markdown",
   "metadata": {},
   "source": []
  },
  {
   "cell_type": "markdown",
   "metadata": {},
   "source": [
    "## Exercise 2: Difference from target\n",
    "\n",
    "Next up, we will be comparing the mixed color and target color. We set the target color and assign it to our silicobot. "
   ]
  },
  {
   "cell_type": "code",
   "execution_count": 30,
   "metadata": {},
   "outputs": [
    {
     "name": "stdout",
     "output_type": "stream",
     "text": [
      "Target color is set to [220, 141, 50]\n"
     ]
    }
   ],
   "source": [
    "target_color = [220, 141, 50]\n",
    "\n",
    "silicobot_w_target = SilicoPumpController(noise_std = 3)\n",
    "silicobot_w_target.target_color = target_color\n",
    "\n",
    "print(f\"Target color is set to {silicobot_w_target.target_color}\")"
   ]
  },
  {
   "cell_type": "markdown",
   "metadata": {},
   "source": [
    "Let's mix some colors and visualize the mixture and target. "
   ]
  },
  {
   "cell_type": "code",
   "execution_count": 41,
   "metadata": {},
   "outputs": [
    {
     "name": "stdout",
     "output_type": "stream",
     "text": [
      "Mix = [  0.         255.           1.35875692], Target = [220, 141, 50]\n"
     ]
    },
    {
     "data": {
      "text/plain": [
       "<matplotlib.image.AxesImage at 0x127c8c050>"
      ]
     },
     "execution_count": 41,
     "metadata": {},
     "output_type": "execute_result"
    },
    {
     "data": {
      "image/png": "[encoded data removed]",
      "text/plain": [
       "<Figure size 640x480 with 1 Axes>"
      ]
     },
     "metadata": {},
     "output_type": "display_data"
    }
   ],
   "source": [
    "input_volumes = [0., 1., 0., 0.]\n",
    "color = silicobot_w_target.mix_color(input_volumes)\n",
    "target = silicobot_w_target.target_color\n",
    "print(f\"Mix = {color}, Target = {target}\")\n",
    "plt.axis('off')\n",
    "plt.imshow(np.array([[color,target]], dtype=np.uint8))"
   ]
  },
  {
   "cell_type": "markdown",
   "metadata": {},
   "source": [
    "It is evident that the mixed color and the target color are very different. But **how** different are they?\n",
    "\n",
    "To answer this, **you** will now write a function that takes the color (r, g, b) and target (r, g, b) as inputs \n",
    "and returns some quantitative measure for the difference. \n",
    "To get you started, you can get inspiration from the cell below, which contains a function that takes (r, g, b) tuples \n",
    "(or lists, arrays, etc.) as `input_color1` and `input_color2` and returns the squared value of the red channel \n",
    "of `input_color1`, $\\mathrm{red}^2$ -- a **very poor** measure for the difference between the two colors across all channels. \n",
    "Try making a function that returns the root summed squared error for each of the r, g, b channels, \n",
    "$\\sqrt((\\Delta r)^2+(\\Delta g)^2+(\\Delta b)^2)$"
   ]
  },
  {
   "cell_type": "code",
   "execution_count": 42,
   "metadata": {},
   "outputs": [
    {
     "data": {
      "text/plain": [
       "4624"
      ]
     },
     "execution_count": 42,
     "metadata": {},
     "output_type": "execute_result"
    }
   ],
   "source": [
    "def red_squared(input_color1, input_color2):\n",
    "    r_color, g_color, b_color = input_color1[0], input_color1[1], input_color1[2]\n",
    "    red2 = r_color**2\n",
    "    return red2\n",
    "    \n",
    "red_squared((68, 216, 5), (68, 216, 5))"
   ]
  },
  {
   "cell_type": "code",
   "execution_count": null,
   "metadata": {},
   "outputs": [],
   "source": [
    "# def color_difference():\n",
    "#     ..."
   ]
  },
  {
   "cell_type": "markdown",
   "metadata": {},
   "source": [
    "Calculate the difference score for a few data points and store them in a list following the example below but using you own \"score\" function (which is often referred to as loss function) and mixing color combinations of your own choice."
   ]
  },
  {
   "cell_type": "markdown",
   "metadata": {},
   "source": [
    "Run the below cell a few times with different `input_volumes` to generate some data points. Edit such that you use your own score function."
   ]
  },
  {
   "cell_type": "code",
   "execution_count": 43,
   "metadata": {},
   "outputs": [
    {
     "ename": "NameError",
     "evalue": "name 'color_difference' is not defined",
     "output_type": "error",
     "traceback": [
      "\u001b[31m---------------------------------------------------------------------------\u001b[39m",
      "\u001b[31mNameError\u001b[39m                                 Traceback (most recent call last)",
      "\u001b[36mCell\u001b[39m\u001b[36m \u001b[39m\u001b[32mIn[43]\u001b[39m\u001b[32m, line 5\u001b[39m\n\u001b[32m      3\u001b[39m color = silicobot_w_target.mix_color(input_volumes)\n\u001b[32m      4\u001b[39m target = silicobot_w_target.target_color\n\u001b[32m----> \u001b[39m\u001b[32m5\u001b[39m score = \u001b[43mcolor_difference\u001b[49m(color, target)  \u001b[38;5;66;03m# replace with your function\u001b[39;00m\n\u001b[32m      6\u001b[39m plt.axis(\u001b[33m'\u001b[39m\u001b[33moff\u001b[39m\u001b[33m'\u001b[39m)\n\u001b[32m      7\u001b[39m plt.imshow(np.array([[color, target]], dtype=np.uint8))\n",
      "\u001b[31mNameError\u001b[39m: name 'color_difference' is not defined"
     ]
    }
   ],
   "source": [
    "# run a handful of times with different color\n",
    "input_volumes = [0.5, 5, 5.5, 0.5]\n",
    "color = silicobot_w_target.mix_color(input_volumes)\n",
    "target = silicobot_w_target.target_color\n",
    "score = color_difference(color, target)  # replace with your function\n",
    "plt.axis('off')\n",
    "plt.imshow(np.array([[color, target]], dtype=np.uint8))\n",
    "\n",
    "print(f\"color difference score = {score}\")"
   ]
  },
  {
   "cell_type": "markdown",
   "metadata": {},
   "source": [
    "We will now show you how to visualize the data you have generated. \n",
    "\n",
    "The `pump_controller` module comes with two useful functions:\n",
    "\n",
    "* `read_logfile()` function that loads the data from the logfile\n",
    "* `visualize_candidates()` function that visualize the measurements you have recorded in the log file.\n",
    "\n",
    "Let's start by loading these two functions."
   ]
  },
  {
   "cell_type": "code",
   "execution_count": 44,
   "metadata": {},
   "outputs": [],
   "source": [
    "from pump_controller import read_logfile, visualize_candidates"
   ]
  },
  {
   "cell_type": "markdown",
   "metadata": {},
   "source": [
    "The log file contains mixture of the samples (amounts of red, green, blue, and yellow in the mix), color measurement of the samples, mixture of the target, and color measurement of the target. Let's load the log file and display it by running the cell below."
   ]
  },
  {
   "cell_type": "code",
   "execution_count": 45,
   "metadata": {},
   "outputs": [
    {
     "data": {
      "application/vnd.microsoft.datawrangler.viewer.v0+json": {
       "columns": [
        {
         "name": "index",
         "rawType": "int64",
         "type": "integer"
        },
        {
         "name": "mixture",
         "rawType": "object",
         "type": "unknown"
        },
        {
         "name": "measurement",
         "rawType": "object",
         "type": "unknown"
        },
        {
         "name": "target_mixture",
         "rawType": "object",
         "type": "unknown"
        },
        {
         "name": "target_measurement",
         "rawType": "object",
         "type": "unknown"
        }
       ],
       "conversionMethod": "pd.DataFrame",
       "ref": "f24f8425-db61-414e-9f7e-e0e7c3b5ac29",
       "rows": [
        [
         "0",
         "[0.0, 1.0, 0.0, 0.0]",
         "[0.0, 254.30264997750228, 3.8185773576082918]",
         "[0.25, 0.25, 0.25, 0.25]",
         "[220.0, 141.0, 50.0]"
        ],
        [
         "1",
         "[0.0, 1.0, 0.0, 0.0]",
         "[0.5992741132278881, 255.0, 0.0]",
         "[0.25, 0.25, 0.25, 0.25]",
         "[220.0, 141.0, 50.0]"
        ],
        [
         "2",
         "[0.0, 1.0, 0.0, 0.0]",
         "[3.961943452388346, 254.18435690462695, 5.4310095729084376]",
         "[0.25, 0.25, 0.25, 0.25]",
         "[220.0, 141.0, 50.0]"
        ],
        [
         "3",
         "[0.0, 1.0, 0.0, 0.0]",
         "[0.0, 253.82000861465002, 1.0763592287356398]",
         "[0.25, 0.25, 0.25, 0.25]",
         "[220.0, 141.0, 50.0]"
        ],
        [
         "4",
         "[0.0, 1.0, 0.0, 0.0]",
         "[0.0, 254.26287156116462, 5.294860905782642]",
         "[0.25, 0.25, 0.25, 0.25]",
         "[220.0, 141.0, 50.0]"
        ],
        [
         "5",
         "[0.0, 1.0, 0.0, 0.0]",
         "[0.0, 255.0, 0.0]",
         "[0.25, 0.25, 0.25, 0.25]",
         "[220.0, 141.0, 50.0]"
        ],
        [
         "6",
         "[0.0, 1.0, 0.0, 0.0]",
         "[0.0, 255.0, 0.0]",
         "[0.25, 0.25, 0.25, 0.25]",
         "[220.0, 141.0, 50.0]"
        ],
        [
         "7",
         "[0.0, 1.0, 0.0, 0.0]",
         "[0.1497159501802275, 255.0, 0.0]",
         "[0.25, 0.25, 0.25, 0.25]",
         "[220.0, 141.0, 50.0]"
        ],
        [
         "8",
         "[0.0, 1.0, 0.0, 0.0]",
         "[0.237036516702746, 253.88315272101332, 0.0]",
         "[0.25, 0.25, 0.25, 0.25]",
         "[220.0, 141.0, 50.0]"
        ],
        [
         "9",
         "[0.0, 1.0, 0.0, 0.0]",
         "[4.174752570778932, 254.43040817486218, 0.9634048097796917]",
         "[0.25, 0.25, 0.25, 0.25]",
         "[220.0, 141.0, 50.0]"
        ],
        [
         "10",
         "[0.0, 1.0, 0.0, 0.0]",
         "[0.0, 255.0, 1.3587569152098167]",
         "[0.25, 0.25, 0.25, 0.25]",
         "[220.0, 141.0, 50.0]"
        ],
        [
         "11",
         "[0.043478260869565216, 0.43478260869565216, 0.4782608695652174, 0.043478260869565216]",
         "[19.91060949568775, 124.83727219546915, 121.00018551501422]",
         "[0.25, 0.25, 0.25, 0.25]",
         "[220.0, 141.0, 50.0]"
        ]
       ],
       "shape": {
        "columns": 4,
        "rows": 12
       }
      },
      "text/html": [
       "<div>\n",
       "<style scoped>\n",
       "    .dataframe tbody tr th:only-of-type {\n",
       "        vertical-align: middle;\n",
       "    }\n",
       "\n",
       "    .dataframe tbody tr th {\n",
       "        vertical-align: top;\n",
       "    }\n",
       "\n",
       "    .dataframe thead th {\n",
       "        text-align: right;\n",
       "    }\n",
       "</style>\n",
       "<table border=\"1\" class=\"dataframe\">\n",
       "  <thead>\n",
       "    <tr style=\"text-align: right;\">\n",
       "      <th></th>\n",
       "      <th>mixture</th>\n",
       "      <th>measurement</th>\n",
       "      <th>target_mixture</th>\n",
       "      <th>target_measurement</th>\n",
       "    </tr>\n",
       "  </thead>\n",
       "  <tbody>\n",
       "    <tr>\n",
       "      <th>0</th>\n",
       "      <td>[0.0, 1.0, 0.0, 0.0]</td>\n",
       "      <td>[0.0, 254.30264997750228, 3.8185773576082918]</td>\n",
       "      <td>[0.25, 0.25, 0.25, 0.25]</td>\n",
       "      <td>[220.0, 141.0, 50.0]</td>\n",
       "    </tr>\n",
       "    <tr>\n",
       "      <th>1</th>\n",
       "      <td>[0.0, 1.0, 0.0, 0.0]</td>\n",
       "      <td>[0.5992741132278881, 255.0, 0.0]</td>\n",
       "      <td>[0.25, 0.25, 0.25, 0.25]</td>\n",
       "      <td>[220.0, 141.0, 50.0]</td>\n",
       "    </tr>\n",
       "    <tr>\n",
       "      <th>2</th>\n",
       "      <td>[0.0, 1.0, 0.0, 0.0]</td>\n",
       "      <td>[3.961943452388346, 254.18435690462695, 5.4310...</td>\n",
       "      <td>[0.25, 0.25, 0.25, 0.25]</td>\n",
       "      <td>[220.0, 141.0, 50.0]</td>\n",
       "    </tr>\n",
       "    <tr>\n",
       "      <th>3</th>\n",
       "      <td>[0.0, 1.0, 0.0, 0.0]</td>\n",
       "      <td>[0.0, 253.82000861465002, 1.0763592287356398]</td>\n",
       "      <td>[0.25, 0.25, 0.25, 0.25]</td>\n",
       "      <td>[220.0, 141.0, 50.0]</td>\n",
       "    </tr>\n",
       "    <tr>\n",
       "      <th>4</th>\n",
       "      <td>[0.0, 1.0, 0.0, 0.0]</td>\n",
       "      <td>[0.0, 254.26287156116462, 5.294860905782642]</td>\n",
       "      <td>[0.25, 0.25, 0.25, 0.25]</td>\n",
       "      <td>[220.0, 141.0, 50.0]</td>\n",
       "    </tr>\n",
       "    <tr>\n",
       "      <th>5</th>\n",
       "      <td>[0.0, 1.0, 0.0, 0.0]</td>\n",
       "      <td>[0.0, 255.0, 0.0]</td>\n",
       "      <td>[0.25, 0.25, 0.25, 0.25]</td>\n",
       "      <td>[220.0, 141.0, 50.0]</td>\n",
       "    </tr>\n",
       "    <tr>\n",
       "      <th>6</th>\n",
       "      <td>[0.0, 1.0, 0.0, 0.0]</td>\n",
       "      <td>[0.0, 255.0, 0.0]</td>\n",
       "      <td>[0.25, 0.25, 0.25, 0.25]</td>\n",
       "      <td>[220.0, 141.0, 50.0]</td>\n",
       "    </tr>\n",
       "    <tr>\n",
       "      <th>7</th>\n",
       "      <td>[0.0, 1.0, 0.0, 0.0]</td>\n",
       "      <td>[0.1497159501802275, 255.0, 0.0]</td>\n",
       "      <td>[0.25, 0.25, 0.25, 0.25]</td>\n",
       "      <td>[220.0, 141.0, 50.0]</td>\n",
       "    </tr>\n",
       "    <tr>\n",
       "      <th>8</th>\n",
       "      <td>[0.0, 1.0, 0.0, 0.0]</td>\n",
       "      <td>[0.237036516702746, 253.88315272101332, 0.0]</td>\n",
       "      <td>[0.25, 0.25, 0.25, 0.25]</td>\n",
       "      <td>[220.0, 141.0, 50.0]</td>\n",
       "    </tr>\n",
       "    <tr>\n",
       "      <th>9</th>\n",
       "      <td>[0.0, 1.0, 0.0, 0.0]</td>\n",
       "      <td>[4.174752570778932, 254.43040817486218, 0.9634...</td>\n",
       "      <td>[0.25, 0.25, 0.25, 0.25]</td>\n",
       "      <td>[220.0, 141.0, 50.0]</td>\n",
       "    </tr>\n",
       "    <tr>\n",
       "      <th>10</th>\n",
       "      <td>[0.0, 1.0, 0.0, 0.0]</td>\n",
       "      <td>[0.0, 255.0, 1.3587569152098167]</td>\n",
       "      <td>[0.25, 0.25, 0.25, 0.25]</td>\n",
       "      <td>[220.0, 141.0, 50.0]</td>\n",
       "    </tr>\n",
       "    <tr>\n",
       "      <th>11</th>\n",
       "      <td>[0.043478260869565216, 0.43478260869565216, 0....</td>\n",
       "      <td>[19.91060949568775, 124.83727219546915, 121.00...</td>\n",
       "      <td>[0.25, 0.25, 0.25, 0.25]</td>\n",
       "      <td>[220.0, 141.0, 50.0]</td>\n",
       "    </tr>\n",
       "  </tbody>\n",
       "</table>\n",
       "</div>"
      ],
      "text/plain": [
       "                                              mixture  \\\n",
       "0                                [0.0, 1.0, 0.0, 0.0]   \n",
       "1                                [0.0, 1.0, 0.0, 0.0]   \n",
       "2                                [0.0, 1.0, 0.0, 0.0]   \n",
       "3                                [0.0, 1.0, 0.0, 0.0]   \n",
       "4                                [0.0, 1.0, 0.0, 0.0]   \n",
       "5                                [0.0, 1.0, 0.0, 0.0]   \n",
       "6                                [0.0, 1.0, 0.0, 0.0]   \n",
       "7                                [0.0, 1.0, 0.0, 0.0]   \n",
       "8                                [0.0, 1.0, 0.0, 0.0]   \n",
       "9                                [0.0, 1.0, 0.0, 0.0]   \n",
       "10                               [0.0, 1.0, 0.0, 0.0]   \n",
       "11  [0.043478260869565216, 0.43478260869565216, 0....   \n",
       "\n",
       "                                          measurement  \\\n",
       "0       [0.0, 254.30264997750228, 3.8185773576082918]   \n",
       "1                    [0.5992741132278881, 255.0, 0.0]   \n",
       "2   [3.961943452388346, 254.18435690462695, 5.4310...   \n",
       "3       [0.0, 253.82000861465002, 1.0763592287356398]   \n",
       "4        [0.0, 254.26287156116462, 5.294860905782642]   \n",
       "5                                   [0.0, 255.0, 0.0]   \n",
       "6                                   [0.0, 255.0, 0.0]   \n",
       "7                    [0.1497159501802275, 255.0, 0.0]   \n",
       "8        [0.237036516702746, 253.88315272101332, 0.0]   \n",
       "9   [4.174752570778932, 254.43040817486218, 0.9634...   \n",
       "10                   [0.0, 255.0, 1.3587569152098167]   \n",
       "11  [19.91060949568775, 124.83727219546915, 121.00...   \n",
       "\n",
       "              target_mixture    target_measurement  \n",
       "0   [0.25, 0.25, 0.25, 0.25]  [220.0, 141.0, 50.0]  \n",
       "1   [0.25, 0.25, 0.25, 0.25]  [220.0, 141.0, 50.0]  \n",
       "2   [0.25, 0.25, 0.25, 0.25]  [220.0, 141.0, 50.0]  \n",
       "3   [0.25, 0.25, 0.25, 0.25]  [220.0, 141.0, 50.0]  \n",
       "4   [0.25, 0.25, 0.25, 0.25]  [220.0, 141.0, 50.0]  \n",
       "5   [0.25, 0.25, 0.25, 0.25]  [220.0, 141.0, 50.0]  \n",
       "6   [0.25, 0.25, 0.25, 0.25]  [220.0, 141.0, 50.0]  \n",
       "7   [0.25, 0.25, 0.25, 0.25]  [220.0, 141.0, 50.0]  \n",
       "8   [0.25, 0.25, 0.25, 0.25]  [220.0, 141.0, 50.0]  \n",
       "9   [0.25, 0.25, 0.25, 0.25]  [220.0, 141.0, 50.0]  \n",
       "10  [0.25, 0.25, 0.25, 0.25]  [220.0, 141.0, 50.0]  \n",
       "11  [0.25, 0.25, 0.25, 0.25]  [220.0, 141.0, 50.0]  "
      ]
     },
     "execution_count": 45,
     "metadata": {},
     "output_type": "execute_result"
    }
   ],
   "source": [
    "logs = read_logfile(silicobot_w_target.log_file)\n",
    "logs"
   ]
  },
  {
   "cell_type": "markdown",
   "metadata": {},
   "source": [
    "Notice that the log file has the mixture of the target set to its default value of [0.25, 0.25, 0.25, 0.25]. This is happening since we specified the target color directly without specifying the mixture of the target.\n",
    "\n",
    "To visualize all the samples we have tested so far, we use the `visualize_candidates` function. We call them candidates since we are choosing the best sample out of the them, and all of the mixtures we have tested are considered to be the candidates of the optimal mixutre. The visualization function requires the color difference score, which is not recorded in the log file. Therefore, we will calculate scores of each candidate using the `color_difference` function you have written. \n",
    "\n",
    "Now, let's run the code below to visualize the data you just generated. "
   ]
  },
  {
   "cell_type": "code",
   "execution_count": 46,
   "metadata": {},
   "outputs": [
    {
     "ename": "NameError",
     "evalue": "name 'color_difference' is not defined",
     "output_type": "error",
     "traceback": [
      "\u001b[31m---------------------------------------------------------------------------\u001b[39m",
      "\u001b[31mNameError\u001b[39m                                 Traceback (most recent call last)",
      "\u001b[36mCell\u001b[39m\u001b[36m \u001b[39m\u001b[32mIn[46]\u001b[39m\u001b[32m, line 1\u001b[39m\n\u001b[32m----> \u001b[39m\u001b[32m1\u001b[39m logs[\u001b[33m'\u001b[39m\u001b[33mscore\u001b[39m\u001b[33m'\u001b[39m] = [\u001b[43mcolor_difference\u001b[49m(logs[\u001b[33m'\u001b[39m\u001b[33mmeasurement\u001b[39m\u001b[33m'\u001b[39m][i], logs[\u001b[33m'\u001b[39m\u001b[33mtarget_measurement\u001b[39m\u001b[33m'\u001b[39m][i]) \u001b[38;5;28;01mfor\u001b[39;00m i \u001b[38;5;129;01min\u001b[39;00m \u001b[38;5;28mrange\u001b[39m(\u001b[38;5;28mlen\u001b[39m(logs))]\n\u001b[32m      2\u001b[39m visualize_candidates(logs)\n",
      "\u001b[31mNameError\u001b[39m: name 'color_difference' is not defined"
     ]
    }
   ],
   "source": [
    "logs['score'] = [color_difference(logs['measurement'][i], logs['target_measurement'][i]) for i in range(len(logs))]\n",
    "visualize_candidates(logs)"
   ]
  },
  {
   "cell_type": "markdown",
   "metadata": {},
   "source": [
    "Looks pretty cool, right? We will be using these tools to find the mixture that best matches our target color. \n"
   ]
  },
  {
   "cell_type": "markdown",
   "metadata": {},
   "source": [
    "## Exercise 1.3: Optimization\n",
    "\n",
    "As you now know how to use the color mixer and calculate a difference score, we will use common optimizers find a way to mix the target color. Start by loading in the scipy module."
   ]
  },
  {
   "cell_type": "code",
   "execution_count": null,
   "metadata": {},
   "outputs": [],
   "source": [
    "from IPython import display\n",
    "from scipy.optimize import minimize"
   ]
  },
  {
   "cell_type": "markdown",
   "metadata": {},
   "source": [
    "The SciPy minimize function will seek to determine that input parameters which minimize the \n",
    "output of a given function. We first have to make such a function. \n",
    "For simplicity, make it such that it takes only one input argument (multiple keyword arguments are ok). \n",
    "Before trying with the color mixer, try to optimize a very simple function as the one below. "
   ]
  },
  {
   "cell_type": "code",
   "execution_count": null,
   "metadata": {},
   "outputs": [],
   "source": [
    "def parabola_4d(func_input):\n",
    "    \"\"\" input is of format [x, y]\"\"\"\n",
    "    return func_input[0]**2 + func_input[1]**2 + func_input[2]**2 +  func_input[3]**2"
   ]
  },
  {
   "cell_type": "markdown",
   "metadata": {},
   "source": [
    "Set the initial guess, `x0`."
   ]
  },
  {
   "cell_type": "code",
   "execution_count": null,
   "metadata": {},
   "outputs": [],
   "source": [
    "x0 = [2, -4, 5, 3]"
   ]
  },
  {
   "cell_type": "markdown",
   "metadata": {},
   "source": [
    "There are countless different optimizers available. \n",
    "The SciPy package has some of the more common ones [readily available](https://docs.scipy.org/doc/scipy-0.18.1/reference/generated/scipy.optimize.minimize.html#scipy.optimize.minimize). \n",
    "No two optimizers are the same, and they excel at different tasks. \n",
    "You will use the [conjugate gradient optimizer](https://en.wikipedia.org/wiki/Conjugate_gradient_method) in this exercise \n",
    "but we encourage you to experiment with other optimizers in the SciPy package.\n",
    "\n",
    "Try experimenting the values of  `eps` and `gtol`."
   ]
  },
  {
   "cell_type": "code",
   "execution_count": null,
   "metadata": {},
   "outputs": [],
   "source": [
    "res = minimize(parabola_4d, x0, method='CG', options={'disp': True, 'eps': 0.01, 'maxiter': 3, 'gtol': 1}) \n",
    "res.x"
   ]
  },
  {
   "cell_type": "markdown",
   "metadata": {},
   "source": [
    "The last line are the input values that give the minimum output value. We know the correct answer is `[0, 0, 0, 0]`.\n",
    "\n",
    "However, things often do not go so smooth for us when trying to optimize the color mixing, and we will run into issues. What are some of the issues and how do they cause trouble? \n",
    "\n",
    "Let's start by removing one of the issues (noise in the color mixing) by using the mixer below. Note that we set `noise_std` to zero, such that there is no noise."
   ]
  },
  {
   "cell_type": "code",
   "execution_count": null,
   "metadata": {},
   "outputs": [],
   "source": [
    "target_volumes = [0.1, 0.2, 0.0, 0.4]\n",
    "silicobot_opt1 = SilicoPumpController(noise_std = 0)\n",
    "silicobot_opt1.change_target(target_volumes)"
   ]
  },
  {
   "cell_type": "markdown",
   "metadata": {},
   "source": [
    "Write a function where a color is mixed with `silicobot_opt1` and a score is calculated. \n",
    "Make sure the function will have its lowest value when the difference between the mixed color and target color is \n",
    "as small as possible. Use the following snippet for inspiration. We have included the print statement so that you can see the input volumes during the optimization process."
   ]
  },
  {
   "cell_type": "code",
   "execution_count": null,
   "metadata": {},
   "outputs": [],
   "source": [
    "def find_score_from_color(input_volumes):\n",
    "    \"\"\"Your awesome function\"\"\"\n",
    "    print(f\"input volumes : {input_volumes}\")\n",
    "    # mix new color based on the input volumes and calculate its score \n",
    "    return score"
   ]
  },
  {
   "cell_type": "markdown",
   "metadata": {},
   "source": [
    "Let's start the optimization process by providing the starting point `x0` and minimize the score using the conjugate gradient optimizer."
   ]
  },
  {
   "cell_type": "code",
   "execution_count": null,
   "metadata": {},
   "outputs": [],
   "source": [
    "input_volumes = [0.1, 0.1, 0.1, 0.1]"
   ]
  },
  {
   "cell_type": "code",
   "execution_count": null,
   "metadata": {},
   "outputs": [],
   "source": [
    "res = minimize(find_score_from_color, input_volumes, method='CG', options={'disp': True, 'eps': 0.01, 'maxiter': 3, 'gtol': 1}) \n",
    "print(res)"
   ]
  },
  {
   "cell_type": "markdown",
   "metadata": {},
   "source": [
    "Do you see any negative number (volume) as inputs? If so, it is clearly a problem. Our pump_controller is smart enough to convert a negative volume to zero. However, the it is clearly not the desired behavior of the optimizer. We need to set bounds of our input fields, such that the values stay within the specified range.\n",
    "\n",
    "We can solve this issue by changing our optimizer to `L-BFGS-B`, which accept bounds. Give the function a starting point and run the minimization. Again, you should try different values of `eps` and `gtol` and possibly also `maxiter` this time.\n",
    "\n",
    "Note that the log file keep appending new results to the same log file. You can create a new log file by initializing the controller again."
   ]
  },
  {
   "cell_type": "code",
   "execution_count": null,
   "metadata": {},
   "outputs": [],
   "source": [
    "res = minimize(find_score_from_color, input_volumes, method='L-BFGS-B',\n",
    "               bounds = 4*[[0.0, 1.0]], \n",
    "               options={'disp': True, 'eps': 0.1, 'maxiter': 4, 'gtol': 0.1})\n",
    "print(res)"
   ]
  },
  {
   "cell_type": "markdown",
   "metadata": {},
   "source": [
    "You cannot see how the optimization is progressing. Load the log file and visualize the candidates as shown in Exercise 1.2. \n",
    "Below are some cells for you to play with. Add more as needed."
   ]
  },
  {
   "cell_type": "code",
   "execution_count": null,
   "metadata": {},
   "outputs": [],
   "source": [
    "# place for your code"
   ]
  },
  {
   "cell_type": "code",
   "execution_count": null,
   "metadata": {},
   "outputs": [],
   "source": [
    "# place for your code"
   ]
  },
  {
   "cell_type": "code",
   "execution_count": null,
   "metadata": {},
   "outputs": [],
   "source": [
    "# place for your code"
   ]
  },
  {
   "cell_type": "markdown",
   "metadata": {},
   "source": [
    "## Exercise 1.3: Optimization by mimicking the real pumpbot\n",
    "\n",
    "If you are gettting some good plots and have gotten a good feel for how different optimization methods and parameters work, you are ready to simulate the real pump bots. What do we mean by simulating the real pump bot? We mean adding two things to our simulation:\n",
    "\n",
    "1. Add noise to the `SilicoPumpController`\n",
    "2. Inject the ways to pause the optimization sequence. \n",
    "\n",
    "The reason for adding the noise is quite simple. Both the pumps and color sensor in your robot is not perfectly accurate, meaning that the color measurement you get is not exactly the same if you mix the same sample and measure its color multiple times. This noise affects your optimization performance, and we should include the noise in our simulation. \n",
    "\n",
    "The second reason is more practical. As you have probably seen in the log files for some of your optimizations so far, the optimization steps can go up to several dozens or even more than a hundred. In this case, you will need to refill your color and water holder, or empty the drain container. For this reason, you will want the optimizer to pause once in a while, so you have time to check the status of the robot during the optimizaiton sequence. \n",
    "\n",
    "Let's load the `SilicoPumpController` with noise."
   ]
  },
  {
   "cell_type": "code",
   "execution_count": null,
   "metadata": {},
   "outputs": [],
   "source": [
    "target_volumes = [0.1, 0.2, 0.0, 0.4]\n",
    "silicobot_opt2 = SilicoPumpController(noise_std = 3)\n",
    "silicobot_opt2.change_target(target_volumes)"
   ]
  },
  {
   "cell_type": "markdown",
   "metadata": {},
   "source": [
    "Input your `find_score_from_color` function in the cell below, update it to use the new mixer renaming it `find_score_from_color2`, and run the cell."
   ]
  },
  {
   "cell_type": "code",
   "execution_count": null,
   "metadata": {},
   "outputs": [],
   "source": [
    "# def find_score_from_color2(input_volumes):\n",
    "#     ..."
   ]
  },
  {
   "cell_type": "markdown",
   "metadata": {},
   "source": [
    "It is possible to force the `find_score_from_color2` function to raise an error after more than 5 function calls, but it is better to set a maximum number of function evaluations in the optimizer if it allows it. Here, `maxfun` (what a name!) is given."
   ]
  },
  {
   "cell_type": "code",
   "execution_count": null,
   "metadata": {},
   "outputs": [],
   "source": [
    "res = minimize(find_score_from_color2, input_volumes, method='L-BFGS-B',\n",
    "               bounds = 4*[[0.0, 1.0]], \n",
    "               options={'disp': True, 'eps': 0.1, 'maxiter': 3, 'gtol': 0.1, 'maxfun': 5})\n",
    "res"
   ]
  },
  {
   "cell_type": "markdown",
   "metadata": {},
   "source": [
    "Use the cell below to load the log file and plot the optimization process."
   ]
  },
  {
   "cell_type": "code",
   "execution_count": null,
   "metadata": {},
   "outputs": [],
   "source": []
  },
  {
   "cell_type": "markdown",
   "metadata": {},
   "source": [
    "Not surprisingly, 5 function evaluations is not enough to get anywhere. We can even see that the optimizer actually makes more than 5 evaluations. To prevent this from happening, we force the `find_score_from_color2` function to wait for our go-ahead every time 5 function evaluations have been made. Go ahead finish the function."
   ]
  },
  {
   "cell_type": "code",
   "execution_count": null,
   "metadata": {},
   "outputs": [],
   "source": [
    "func_calls=[0]\n",
    "\n",
    "def find_score_from_color2(input_volumes, func_calls=func_calls):  \n",
    "    print(f\"input volumes : {input_volumes}\")\n",
    "    # mix new color based on the input volumes and calculate its score \n",
    "    # ...\n",
    "    # ...\n",
    "    \n",
    "    # Optional: Load data and visualize candidates. Uncomment the line below to clear output each time\n",
    "    # display.clear_output(wait=True)\n",
    "\n",
    "    func_calls[0] += 1\n",
    "    if func_calls[0] % 5 == 0:\n",
    "        input('Optimization paused. Check your setup and press Enter.')\n",
    "    return score"
   ]
  },
  {
   "cell_type": "markdown",
   "metadata": {},
   "source": [
    "It is not all that pretty, but it works. Try it out. Note that with a noisy mixer, getting `eps` right is especially important. "
   ]
  },
  {
   "cell_type": "code",
   "execution_count": null,
   "metadata": {},
   "outputs": [],
   "source": [
    "func_calls = [0]\n",
    "input_volumes = [0.1, 0.1, 0.1, 0.1]\n",
    "\n",
    "res = minimize(find_score_from_color2, input_volumes, method='L-BFGS-B',\n",
    "               bounds = 4*[[0.0, 1.0]], \n",
    "               options={'disp': True, 'eps': 0.1, 'maxiter': 5, 'gtol': 0.1, 'maxfun':100})\n",
    "res"
   ]
  },
  {
   "cell_type": "markdown",
   "metadata": {},
   "source": [
    "If you think this has been a piece of cake and you are wondering what you should do next, now would be a great time for you to start experimenting with alternative \"score\" functions and [other optimizers](https://docs.scipy.org/doc/scipy/reference/generated/scipy.optimize.minimize.html). If you feel like you are already struggling, no worries! You did well to get this far. "
   ]
  },
  {
   "cell_type": "markdown",
   "metadata": {},
   "source": [
    "This ends todays exercise. Good job! "
   ]
  }
 ],
 "metadata": {
  "kernelspec": {
   "display_name": "Python 3 (ipykernel)",
   "language": "python",
   "name": "python3"
  },
  "language_info": {
   "codemirror_mode": {
    "name": "ipython",
    "version": 3
   },
   "file_extension": ".py",
   "mimetype": "text/x-python",
   "name": "python",
   "nbconvert_exporter": "python",
   "pygments_lexer": "ipython3",
   "version": "3.12.3"
  }
 },
 "nbformat": 4,
 "nbformat_minor": 4
}
