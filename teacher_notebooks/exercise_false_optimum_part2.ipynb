{
 "cells": [
  {
   "cell_type": "markdown",
   "metadata": {},
   "source": [
    "# Exercise: False optimum on LEGO robots - part 2"
   ]
  },
  {
   "cell_type": "markdown",
   "metadata": {},
   "source": [
    "As you have now probably observed, getting a standard optimizer to mix peach orange is not an easy feat. In this exercise you will see if the Dragonfly Bayesian optimizer fares any better.\n",
    "\n",
    "Task in part 2: Attempt to determine how to mix the target color located in cuvette 5 using the Dragonfly optimizer.\n",
    "\n",
    "You will have to do almost all the code yourselves in this notebook putting together pieces of code from your past exercises.\n",
    "\n",
    "Make sure you have made a savefile at the end of part 1 of this exercise. If not, go back and do that now. Also make sure that you are actually using this savefile in your Dragonfly optimizer. If in doubt about how this works, go back to part 1 and the in silico Dragonfly exercises."
   ]
  },
  {
   "cell_type": "code",
   "execution_count": null,
   "metadata": {},
   "outputs": [],
   "source": [
    "try:\n",
    "    from dragonfly import minimize_function\n",
    "    from argparse import Namespace\n",
    "    from scipy.optimize import minimize\n",
    "    import numpy as np\n",
    "    from IPython import display\n",
    "    import matplotlib.pyplot as plt\n",
    "    from plot_pie_charts import make_piechart_plot\n",
    "    from ailego_master import AiLEGO_master\n",
    "    from silico_color_mixer import SilicoColorMixer\n",
    "    from pathlib import Path\n",
    "    from make_savefile import make_dragonfly_save_file\n",
    "except:\n",
    "    print('Have you completed the other notebooks?')"
   ]
  },
  {
   "cell_type": "markdown",
   "metadata": {},
   "source": [
    "Hint: It might be a good idea to test your code with a `SilicoColorMixer` before trying to run the robot. Comment in and out the lines below to use the correct mixer."
   ]
  },
  {
   "cell_type": "code",
   "execution_count": null,
   "metadata": {},
   "outputs": [],
   "source": [
    "mixer = SilicoColorMixer(target=(246., 199., 30.))\n",
    "# mixer = AiLEGO_master(colors=['red_u', 'green_u', 'blue_t', 'yellow_u'])"
   ]
  },
  {
   "cell_type": "markdown",
   "metadata": {},
   "source": [
    "Use the cells below to prepare this notebook to run the optimization."
   ]
  },
  {
   "cell_type": "code",
   "execution_count": null,
   "metadata": {},
   "outputs": [],
   "source": [
    "# cell for you to use"
   ]
  },
  {
   "cell_type": "code",
   "execution_count": null,
   "metadata": {},
   "outputs": [],
   "source": [
    "# cell for you to use"
   ]
  },
  {
   "cell_type": "code",
   "execution_count": null,
   "metadata": {},
   "outputs": [],
   "source": [
    "# cell for you to use"
   ]
  },
  {
   "cell_type": "code",
   "execution_count": null,
   "metadata": {},
   "outputs": [],
   "source": [
    "# cell for you to use. Add more if needed"
   ]
  },
  {
   "cell_type": "markdown",
   "metadata": {},
   "source": [
    "Once you think you have obtained a good result, ask the person in the lab to show you the color you mixed next to the target color. See if you can visually see a difference. \n",
    "\n",
    "If you finish early and have something robot related you want to catch up on, now is a good time. You will get at least one more chance for this later. \n",
    "\n",
    "If you really think you are done and up to speed with the robot exercises, you can get started with the first part of tomorrows exercise. You simply have to make 9 datapoints where you, and just you, decide what to mix. We will use these data points as a test set.\n",
    "\n",
    "I any case, great job for making it to the end of this notebook. You're awesome! "
   ]
  }
 ],
 "metadata": {
  "kernelspec": {
   "display_name": "Python 3",
   "language": "python",
   "name": "python3"
  },
  "language_info": {
   "codemirror_mode": {
    "name": "ipython",
    "version": 3
   },
   "file_extension": ".py",
   "mimetype": "text/x-python",
   "name": "python",
   "nbconvert_exporter": "python",
   "pygments_lexer": "ipython3",
   "version": "3.6.2"
  }
 },
 "nbformat": 4,
 "nbformat_minor": 4
}
