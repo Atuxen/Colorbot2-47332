{
 "cells": [
  {
   "cell_type": "markdown",
   "metadata": {},
   "source": [
    "# Note: This exercise will be integrated into another"
   ]
  },
  {
   "cell_type": "markdown",
   "metadata": {},
   "source": [
    "# Exercise: Bayesian optimization on LEGO robots"
   ]
  },
  {
   "cell_type": "markdown",
   "metadata": {},
   "source": [
    "Hi there! As you are getting better at python and are building yourselves a toolbox, these notebooks will become thinner, provide less code, and require more of you. You will get far by using your old notebooks and copy/paste cells from those into this. This is in particular true today whre you will combine the first lego robot exercise and the *in silico* robot exercise with Dragonfly.\n",
    "\n",
    "Task: Determine how to mix the target color located in cuvette 5 using the Dragonfly Bayesian optimizer.\n",
    "\n",
    "In contrast to the *in silico* color mixer, life is not linear and the color parameter space is full of local minima. Using a Bayesian optimizer helps you avoid these. It might seem like we are spending resources without any gain during the exploration function calls of the optimization, but as you will see one of these next days where you will compare standard optimizers and the Bayesian, it can make a world of difference."
   ]
  },
  {
   "cell_type": "code",
   "execution_count": null,
   "metadata": {},
   "outputs": [],
   "source": [
    "try:\n",
    "    from dragonfly import minimize_function\n",
    "    from argparse import Namespace\n",
    "    import numpy as np\n",
    "    from IPython import display\n",
    "    import matplotlib.pyplot as plt\n",
    "    from plot_pie_charts import make_piechart_plot\n",
    "    from make_savefile import make_dragonfly_save_file\n",
    "    from ailego_master import AiLEGO_master\n",
    "except:\n",
    "    print('Have you completed the other notebooks?')"
   ]
  },
  {
   "cell_type": "markdown",
   "metadata": {},
   "source": [
    "To get a head start, you should start by getting the data you generated on Wednesday and make a savefile to be used as starting point for the Dragonfly optimizer. Remember that the color has changed, so the \"score\" value you calculated is not useful anymore. The rgb code on the other hand is. Using input volumes and the resulting rgb code, which you can get from your data, and the rgb code of the liquid in cuvette 5, you can calculate new input volumes to score data. You can get rgb of cuvette 5 by running:"
   ]
  },
  {
   "cell_type": "code",
   "execution_count": null,
   "metadata": {},
   "outputs": [],
   "source": [
    "lego_mixer = AiLEGO_master(colors=['red_u', 'green_u', 'blue_t', 'yellow_u'])\n",
    "target = lego_mixer.read_color(5)"
   ]
  },
  {
   "cell_type": "markdown",
   "metadata": {},
   "source": [
    "If you do not have the data yourself you can get it by using `ssh robot@ailegoX.eduroam.wireless.dtu.dk` from the gbar, where `X` is your robot/group number. You will find the data in the file `datafile.csv` in the `/47332_exercises/data` folder. You can open the file with `nano datafile.csv` and copy (`Crtl` + `c)`/paste (most) of the content to somewhere easily available to you. The lines are too long, but don't worry about missing the last part. Press `Crtl` + `x` to close the file."
   ]
  },
  {
   "cell_type": "markdown",
   "metadata": {},
   "source": [
    "The below cells shows how you could make the savefile once you have the data. A lot of c/p and hard coding is fine for getting the data into the first cell below this since we don't have a lot of data yet and really want to get going with the optimization. We will load data from the file the right way in a later exercise."
   ]
  },
  {
   "cell_type": "code",
   "execution_count": null,
   "metadata": {},
   "outputs": [],
   "source": [
    "example_data = [[[0.25, 0.25, 0.25, 0.25], (45, 45, 45)],\n",
    "                [[0.35, 0.15, 0.25, 0.25], (55, 35, 45)]]\n",
    "\n",
    "example_target = (70, 40, 40)\n"
   ]
  },
  {
   "cell_type": "code",
   "execution_count": null,
   "metadata": {},
   "outputs": [],
   "source": [
    "# This is how my \"score\" function looks. You made one yourself in the very first exercise.\n",
    "def root_sum_sqr_err(input1, input2):\n",
    "    \"\"\"The sum of squared difference between input colors\"\"\"\n",
    "    dif = np.asarray(input1)- np.asarray(input2)\n",
    "    return (sum(dif**2)**(0.5))"
   ]
  },
  {
   "cell_type": "code",
   "execution_count": null,
   "metadata": {},
   "outputs": [],
   "source": [
    "data_to_save = []\n",
    "for data_point in example_data:\n",
    "    score = root_sum_sqr_err(data_point[1], example_target)\n",
    "    dts_point = data_point[0].copy()\n",
    "    dts_point.append(score)\n",
    "    data_to_save.append(dts_point)\n",
    "    \n",
    "print(data_to_save)"
   ]
  },
  {
   "cell_type": "code",
   "execution_count": null,
   "metadata": {},
   "outputs": [],
   "source": [
    "constraints = [[0., 1.]] * 4\n",
    "print(constraints)"
   ]
  },
  {
   "cell_type": "code",
   "execution_count": null,
   "metadata": {},
   "outputs": [],
   "source": [
    "from pathlib import Path\n",
    "home = str(Path.home())\n",
    "\n",
    "filename = 'robot_data'\n",
    "file_path = home + '/47332/data/'\n",
    "full_path = file_path + filename\n",
    "\n",
    "make_dragonfly_save_file(data_to_save, full_path, constraints)"
   ]
  },
  {
   "cell_type": "markdown",
   "metadata": {},
   "source": [
    "You now have a savefile called `robot_data` ready for use in Dragonfly.\n",
    "\n",
    "With that in place, let us get started with the optimization. I will get you going.\n",
    "\n",
    "You already loaded an instance of the LEGO mixer class, here called `lego_mixer`. Copy/paste in your \"score\" function (or use mine) and your \"find_color2\" function (or whatever name you want to give it by now). Remember to update your function such that it uses the correct mixer name, score function etc."
   ]
  },
  {
   "cell_type": "code",
   "execution_count": null,
   "metadata": {},
   "outputs": [],
   "source": [
    "# Your \"score\" function here"
   ]
  },
  {
   "cell_type": "code",
   "execution_count": null,
   "metadata": {},
   "outputs": [],
   "source": [
    "# Your \"find_color2\" function or similar here\n",
    "# remember to update it"
   ]
  },
  {
   "cell_type": "markdown",
   "metadata": {},
   "source": [
    "With that you are ready to set up and code your optimizer. Use what you did yesterday and get start running. Plotting progress as you go will be very helpful."
   ]
  },
  {
   "cell_type": "code",
   "execution_count": null,
   "metadata": {},
   "outputs": [],
   "source": []
  },
  {
   "cell_type": "code",
   "execution_count": null,
   "metadata": {},
   "outputs": [],
   "source": []
  },
  {
   "cell_type": "code",
   "execution_count": null,
   "metadata": {},
   "outputs": [],
   "source": []
  }
 ],
 "metadata": {
  "kernelspec": {
   "display_name": "Python 3",
   "language": "python",
   "name": "python3"
  },
  "language_info": {
   "codemirror_mode": {
    "name": "ipython",
    "version": 3
   },
   "file_extension": ".py",
   "mimetype": "text/x-python",
   "name": "python",
   "nbconvert_exporter": "python",
   "pygments_lexer": "ipython3",
   "version": "3.6.2"
  }
 },
 "nbformat": 4,
 "nbformat_minor": 4
}
