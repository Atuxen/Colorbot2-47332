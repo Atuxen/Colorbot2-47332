{
 "cells": [
  {
   "cell_type": "markdown",
   "metadata": {},
   "source": [
    "# Exercise: Error correcting Neural Networks"
   ]
  },
  {
   "cell_type": "markdown",
   "metadata": {},
   "source": [
    "This is a rather long exercise where you will put most of what you have learned during the exercises to good use. The majority of it can be done without use of the LEGO robot so you can finish on your own time if you do not finish today. \n",
    "\n",
    "During this exercise we will train an error correcting neural network. The method is the similar to that employed by the group of [Anatole v. Lilienfeld's group for electronic structure calculations of molecules](https://pubs.acs.org/doi/10.1021/acs.jctc.5b00099) ([arxiv](https://arxiv.org/abs/1503.04987)). Generating data is rather expensive with the LEGO robots, and we cannot mix data from all 4 robots without inducing significant noise. We thus have to make as much as possible out of the precious data we have.\n",
    "\n",
    "You will:\n",
    " * Change the SilicoColorMixer model to be as similar to the LEGO as possible\n",
    " * Train a neural network to predict the error between the update SilicoColorMixer and AiLEGO_master (the robot) color mixer\n",
    " * Test performance "
   ]
  },
  {
   "cell_type": "markdown",
   "metadata": {},
   "source": [
    "Import all the modules and functions you think you will be needing today."
   ]
  },
  {
   "cell_type": "code",
   "execution_count": 1,
   "metadata": {},
   "outputs": [],
   "source": [
    "# import statements here"
   ]
  },
  {
   "cell_type": "code",
   "execution_count": 2,
   "metadata": {},
   "outputs": [],
   "source": [
    "# Teacher\n",
    "import numpy as np\n",
    "from IPython import display\n",
    "import matplotlib.pyplot as plt\n",
    "from plot_pie_charts import make_piechart_plot\n",
    "from silico_color_mixer import SilicoColorMixer\n",
    "from sklearn.neural_network import MLPRegressor\n",
    "from scipy.optimize import minimize"
   ]
  },
  {
   "cell_type": "markdown",
   "metadata": {},
   "source": [
    "We start with making sure you can actually do the last thing. Right now, most of the data you have on the robots are correlated as they originate from oprimization runs. We want to use some of this as a test dataset (dependent test set) but we also want a test dataset that is not correlated with the optimization runs. Run the robot to generate 9 data points where you decide the input list, like you did on the first robot day. This will be your independent data set. Use the cells below. You have done this before and can do it again; this time unassisted."
   ]
  },
  {
   "cell_type": "code",
   "execution_count": 3,
   "metadata": {},
   "outputs": [],
   "source": [
    "# for you to generate independent test data set on robot"
   ]
  },
  {
   "cell_type": "code",
   "execution_count": 4,
   "metadata": {},
   "outputs": [],
   "source": [
    "# for you to generate independent test data set on robot"
   ]
  },
  {
   "cell_type": "code",
   "execution_count": 5,
   "metadata": {},
   "outputs": [],
   "source": [
    "# for you to generate independent test data set on robot. Add more cells as needed"
   ]
  },
  {
   "cell_type": "markdown",
   "metadata": {},
   "source": [
    "## Change SilicoColorMixer"
   ]
  },
  {
   "cell_type": "markdown",
   "metadata": {},
   "source": [
    "Change the color mixer such that it is as similar to the LEGO robot as possible without changing the source code. By make sure the `SilicoColorMixer` and the robot are as similar as possible, you can use a smaller neural network to predict the error and require less training data.\n",
    "\n",
    "First, lets change the rgb codes of the used colors in the `SilicoColorMixer`. If you cannot remember how to do this, go back and reread the documentation of the `SilicoColorMixer` or open the DocString by initializing and pressing `Shift`+`Tab`."
   ]
  },
  {
   "cell_type": "code",
   "execution_count": 6,
   "metadata": {},
   "outputs": [],
   "source": [
    "from silico_color_mixer import SilicoColorMixer"
   ]
  },
  {
   "cell_type": "markdown",
   "metadata": {},
   "source": [
    "Initialize a mixer. We have plenty of noise in our lego data already so you can remove that. Change the colors such that the colors codes are that of the pure colors you have obtained with your robot. You should have those in your robot data. Pay attention to the input formats. You can find examples in the DocString."
   ]
  },
  {
   "cell_type": "code",
   "execution_count": 7,
   "metadata": {},
   "outputs": [],
   "source": [
    "# Cell for you to change colors used in SilicoColorMixer and initialize the mixer."
   ]
  },
  {
   "cell_type": "code",
   "execution_count": 8,
   "metadata": {},
   "outputs": [],
   "source": [
    "# Cell for you to change colors used in SilicoColorMixer and initialize the mixer. Add more as needed."
   ]
  },
  {
   "cell_type": "code",
   "execution_count": 9,
   "metadata": {},
   "outputs": [],
   "source": [
    "# Teacher\n",
    "rgb_codes = {'red': [88, 26, 70],   # \n",
    "             'green': [22, 72, 59],\n",
    "             'blue': [23, 117, 169],\n",
    "             'yellow': [61, 68, 45]}"
   ]
  },
  {
   "cell_type": "code",
   "execution_count": 10,
   "metadata": {},
   "outputs": [],
   "source": [
    "# Teacher\n",
    "mixer = SilicoColorMixer(colors=['red', 'green', 'blue', 'yellow'], color_codes=rgb_codes, noise=False)"
   ]
  },
  {
   "cell_type": "markdown",
   "metadata": {},
   "source": [
    "Try out your need updated silico mixer to make sure it works."
   ]
  },
  {
   "cell_type": "code",
   "execution_count": 11,
   "metadata": {},
   "outputs": [],
   "source": [
    "# Cell for you to try out the mixer. Add more cells as needed."
   ]
  },
  {
   "cell_type": "code",
   "execution_count": 12,
   "metadata": {},
   "outputs": [
    {
     "data": {
      "text/plain": [
       "(48.5, 70.75, 85.75)"
      ]
     },
     "execution_count": 12,
     "metadata": {},
     "output_type": "execute_result"
    }
   ],
   "source": [
    "# Teacher\n",
    "mixer.run_cuvette([1., 1., 1., 1.,])"
   ]
  },
  {
   "cell_type": "markdown",
   "metadata": {},
   "source": [
    "## Optimization of weights"
   ]
  },
  {
   "cell_type": "markdown",
   "metadata": {},
   "source": [
    "During the robot runs you might have noticed that the different colors have different strength. A little blue is very potent while you need a lot of yellow for the outcome to get a yellow tone. This difference if strength is also reflected in the measured rgb color codes. Update your silico model to reflect this by adding weights to each color input. \n",
    "\n",
    "It can be done using a wrapper function as the one below."
   ]
  },
  {
   "cell_type": "code",
   "execution_count": 13,
   "metadata": {},
   "outputs": [],
   "source": [
    "def run_cuvette_w_weights(colors_input):\n",
    "    w_r, w_g, w_b, w_y = 1., 1., 1., 1.\n",
    "    weighted_colors = [colors_input[0] * w_r,\n",
    "                       colors_input[1] * w_g,\n",
    "                       colors_input[2] * w_b,\n",
    "                       colors_input[3] * w_y]\n",
    "    return mixer.run_cuvette(weighted_colors)"
   ]
  },
  {
   "cell_type": "code",
   "execution_count": 14,
   "metadata": {},
   "outputs": [
    {
     "data": {
      "text/plain": [
       "(48.5, 70.75, 85.75)"
      ]
     },
     "execution_count": 14,
     "metadata": {},
     "output_type": "execute_result"
    }
   ],
   "source": [
    "run_cuvette_w_weights([1.,1.,1.,1.])"
   ]
  },
  {
   "cell_type": "markdown",
   "metadata": {},
   "source": [
    "In the above example, all the weights, `w_r` ect., are `1.`. You need to optimize those. Go find your robot data and find a datapoint with input `[0.25, 0.25, 0.25, 0.25]`. You should all have at least one of those. Reinitialize your silico mixer giving the rgb code you obtained from that datapoint as target. Based on this single data point and what you have learned so far, optimize the weights. You will need to write a new wrapper function that takes the weights as input.\n",
    "\n",
    "If you look closer at the `[0.25, 0.25, 0.25, 0.25]` data point, you will likely find that the values in the rgb code are so low that they cannot possibly be achived by a linear combination of the pure colors. Life is not linear, and when you physically mix all four colors they counteract each other. The resulting color is a blueish semitransparent grey with a low rgb signal. Your fit will thus not be all that great."
   ]
  },
  {
   "cell_type": "code",
   "execution_count": 15,
   "metadata": {},
   "outputs": [],
   "source": [
    "# Cell for you to work in."
   ]
  },
  {
   "cell_type": "code",
   "execution_count": 16,
   "metadata": {},
   "outputs": [],
   "source": [
    "# Cell for you to work in."
   ]
  },
  {
   "cell_type": "code",
   "execution_count": 17,
   "metadata": {},
   "outputs": [],
   "source": [
    "# Cell for you to work in."
   ]
  },
  {
   "cell_type": "code",
   "execution_count": 18,
   "metadata": {},
   "outputs": [],
   "source": [
    "# Cell for you to work in. Add more as needed"
   ]
  },
  {
   "cell_type": "code",
   "execution_count": 19,
   "metadata": {},
   "outputs": [],
   "source": [
    "# Teacher\n",
    "mixer = SilicoColorMixer(colors=['red', 'green', 'blue', 'yellow'], color_codes=rgb_codes, noise=False, target = (38, 46, 69))"
   ]
  },
  {
   "cell_type": "code",
   "execution_count": 20,
   "metadata": {},
   "outputs": [],
   "source": [
    "# Teacher\n",
    "def root_sum_sqr_err(input1, input2):\n",
    "    \"\"\"The sum of squared difference between input colors\"\"\"\n",
    "    dif = np.asarray(input1)- np.asarray(input2)\n",
    "    return (sum(dif**2)**(0.5))"
   ]
  },
  {
   "cell_type": "code",
   "execution_count": 21,
   "metadata": {},
   "outputs": [],
   "source": [
    "# Teacher\n",
    "# wrapper function\n",
    "def run_cuvette_w_weights(weights):\n",
    "    weighted_colors = [weights[0] * 0.25,\n",
    "                       weights[1] * 0.25,\n",
    "                       weights[2] * 0.25,\n",
    "                       weights[3] * 0.25]\n",
    "    return mixer.run_cuvette(weighted_colors, read_target=True)"
   ]
  },
  {
   "cell_type": "code",
   "execution_count": 22,
   "metadata": {},
   "outputs": [
    {
     "data": {
      "text/plain": [
       "((48.5, 70.75, 85.75), (38, 46, 69))"
      ]
     },
     "execution_count": 22,
     "metadata": {},
     "output_type": "execute_result"
    }
   ],
   "source": [
    "run_cuvette_w_weights([1.0, 1.0, 1.0, 1.0])"
   ]
  },
  {
   "cell_type": "code",
   "execution_count": 23,
   "metadata": {},
   "outputs": [],
   "source": [
    "# Teacher\n",
    "def find_weights(weights):\n",
    "    color, target = run_cuvette_w_weights(weights)\n",
    "    score = root_sum_sqr_err(color, target)\n",
    "    print('color:', color, 'target:', target, 'input:', weights, 'score:', score)\n",
    "    return score"
   ]
  },
  {
   "cell_type": "code",
   "execution_count": 24,
   "metadata": {},
   "outputs": [
    {
     "name": "stdout",
     "output_type": "stream",
     "text": [
      "color: (48.5, 70.75, 85.75) target: (38, 46, 69) input: [1. 1. 1. 1.] score: 31.676095087620887\n",
      "color: (49.46341463414635, 69.65853658536587, 85.36585365853661) target: (38, 46, 69) input: [1.1 1.  1.  1. ] score: 30.967360145935785\n",
      "color: (47.85365853658537, 70.78048780487806, 85.09756097560977) target: (38, 46, 69) input: [1.  1.1 1.  1. ] score: 31.149616879936207\n",
      "color: (47.878048780487816, 71.87804878048782, 87.78048780487806) target: (38, 46, 69) input: [1.  1.  1.1 1. ] score: 33.46574335920506\n",
      "color: (48.804878048780495, 70.6829268292683, 84.75609756097562) target: (38, 46, 69) input: [1.  1.  1.  1.1] score: 31.212928040461264\n",
      "color: (59.700544231415705, 52.256772172445494, 59.50628288854068) target: (38, 46, 69) input: [8.08734942 6.26478208 0.         5.63167047] score: 24.498805737217747\n",
      "color: (59.84145109664713, 52.126036108537775, 59.558532542911856) target: (38, 46, 69) input: [8.18734942 6.26478208 0.         5.63167047] score: 24.57068603343405\n",
      "color: (59.512828059464965, 52.35507640717989, 59.50376203671483) target: (38, 46, 69) input: [8.08734942 6.36478208 0.         5.63167047] score: 24.35913181360403\n",
      "color: (59.51780719639198, 52.579137568895014, 60.051467098685116) target: (38, 46, 69) input: [8.08734942 6.26478208 0.1        5.63167047] score: 24.215229067210146\n",
      "color: (59.70701439961807, 52.335159859471894, 59.434054119736814) target: (38, 46, 69) input: [8.08734942 6.26478208 0.         5.73167047] score: 24.552719710337882\n",
      "color: (58.20493961359997, 53.97599987395397, 61.82259626838235) target: (38, 46, 69) input: [8.43038712 6.94492323 0.45641589 5.84056306] score: 22.877309350209302\n",
      "color: (58.34178815525027, 53.8475062668154, 61.86015503687098) target: (38, 46, 69) input: [8.53038712 6.94492323 0.45641589 5.84056306] score: 22.942299057816896\n",
      "color: (58.03865053338316, 54.05878400326823, 61.80963209989313) target: (38, 46, 69) input: [8.43038712 7.04492323 0.45641589 5.84056306] score: 22.763850846227147\n",
      "color: (58.04324352765388, 54.265468745450356, 62.31486146967164) target: (38, 46, 69) input: [8.43038712 6.94492323 0.55641589 5.84056306] score: 22.687896814392836\n",
      "color: (58.217777309941, 54.04041202618538, 61.74533018010313) target: (38, 46, 69) input: [8.43038712 6.94492323 0.45641589 5.94056306] score: 22.935496050901406\n",
      "color: (54.32208300661057, 57.411698367254736, 65.73079583859963) target: (38, 46, 69) input: [8.5082576  8.72308344 1.34812663 5.63558488] score: 20.18229296063278\n",
      "color: (54.46058946024857, 57.28251214280837, 65.74835370384316) target: (38, 46, 69) input: [8.6082576  8.72308344 1.34812663 5.63558488] score: 20.21928013720506\n",
      "color: (54.18915266260157, 57.471695365410824, 65.70311423756867) target: (38, 46, 69) input: [8.5082576  8.82308344 1.34812663 5.63558488] score: 20.11362508898707\n",
      "color: (54.1932653413538, 57.65676590926105, 66.15550890031365) target: (38, 46, 69) input: [8.5082576  8.72308344 1.44812663 5.63558488] score: 20.15423438126578\n",
      "color: (54.34954713393842, 57.4552446504019, 65.64553673503748) target: (38, 46, 69) input: [8.5082576  8.72308344 1.34812663 5.73558488] score: 20.24309129756171\n",
      "color: (51.05029591710553, 59.54325660915497, 67.94143812322426) target: (38, 46, 69) input: [ 7.95631398 10.          1.78689954  4.68783519] score: 18.83747797218099\n",
      "color: (51.20092015060351, 59.40651864490916, 67.94982978189903) target: (38, 46, 69) input: [ 8.05631398 10.          1.78689954  4.68783519] score: 18.8441474332455\n",
      "color: (50.93187335692514, 59.59403610716984, 67.9049886496193) target: (38, 46, 69) input: [ 7.95631398 10.1         1.78689954  4.68783519] score: 18.79441981174333\n",
      "color: (50.935949823496024, 59.777477102859635, 68.35339997241658) target: (38, 46, 69) input: [ 7.95631398 10.          1.88689954  4.68783519] score: 18.909673840431495\n",
      "color: (51.09085555318964, 59.57773024088631, 67.84791811762693) target: (38, 46, 69) input: [ 7.95631398 10.          1.78689954  4.78783519] score: 18.895834204195562\n",
      "color: (49.48062949055454, 59.77471127451649, 68.04090323850828) target: (38, 46, 69) input: [ 7.14787267 10.          1.57012994  3.56380309] score: 17.957377057732742\n",
      "color: (49.65273075449839, 59.62380874358708, 68.04965631584005) target: (38, 46, 69) input: [ 7.24787267 10.          1.57012994  3.56380309] score: 17.952644703126474\n",
      "color: (49.35784838051181, 59.82933282242621, 68.00050925350897) target: (38, 46, 69) input: [ 7.14787267 10.1         1.57012994  3.56380309] score: 17.92345245482719\n",
      "color: (49.36231629526918, 60.03038898650799, 68.49197987681994) target: (38, 46, 69) input: [ 7.14787267 10.          1.67012994  3.56380309] score: 18.061343558883433\n",
      "color: (49.532097056049345, 59.81146116339673, 67.93795844690575) target: (38, 46, 69) input: [ 7.14787267 10.          1.57012994  3.66380309] score: 18.02425183575332\n",
      "color: (41.6198818328792, 60.93381532861568, 68.53901554999302) target: (38, 46, 69) input: [ 4.58466684 10.          0.88285048  0.        ] score: 15.37318741889117\n",
      "color: (41.91781063678842, 60.70941336009679, 68.54840037622724) target: (38, 46, 69) input: [ 4.68466684 10.          0.88285048  0.        ] score: 15.228920638184377\n",
      "color: (41.493850935194814, 61.004900424843854, 68.47774042596163) target: (38, 46, 69) input: [ 4.58466684 10.1         0.88285048  0.        ] score: 15.415147945430679\n",
      "color: (41.50027456703714, 61.293963857748594, 69.18433992861766) target: (38, 46, 69) input: [ 4.58466684 10.          0.98285048  0.        ] score: 15.690482265884947\n",
      "color: (41.74437257704558, 60.97920589747454, 68.38780958016905) target: (38, 46, 69) input: [ 4.58466684 10.          0.88285048  0.1       ] score: 15.452239721956163\n",
      "color: (42.84416083252911, 59.00528079433069, 66.15868498103524) target: (38, 46, 69) input: [4.62663844 9.5543021  0.4922522  0.        ] score: 14.166026039358762\n",
      "color: (43.14982149757345, 58.78186747141235, 66.18468690957845) target: (38, 46, 69) input: [4.72663844 9.5543021  0.4922522  0.        ] score: 14.064948820053264\n",
      "color: (42.70306634331514, 59.09324227589541, 66.11022771720206) target: (38, 46, 69) input: [4.62663844 9.6543021  0.4922522  0.        ] score: 14.209243828274106\n",
      "color: (42.709835360803915, 59.397848062889715, 66.85481964096593) target: (38, 46, 69) input: [4.62663844 9.5543021  0.5922522  0.        ] score: 14.362683614664153\n",
      "color: (42.96705802537688, 59.06616620594037, 66.0154614723594) target: (38, 46, 69) input: [4.62663844 9.5543021  0.4922522  0.1       ] score: 14.293489251113252\n",
      "color: (45.50032544347201, 55.620985296974055, 62.916720907245335) target: (38, 46, 69) input: [4.82276625 8.7218365  0.         0.        ] score: 13.63174692997675\n",
      "color: (45.81180152904444, 55.403895903999334, 62.96863358817407) target: (38, 46, 69) input: [4.92276625 8.7218365  0.         0.        ] score: 13.632126836856326\n",
      "color: (45.328093786284256, 55.74102554289279, 62.888015631047374) target: (38, 46, 69) input: [4.82276625 8.8218365  0.         0.        ] score: 13.636161120131609\n",
      "color: (45.33542269147759, 56.070826276592925, 63.69419520231435) target: (38, 46, 69) input: [4.82276625 8.7218365  0.1        0.        ] score: 13.541843763206801\n",
      "color: (45.61392108882436, 55.711709922119454, 62.78541095834067) target: (38, 46, 69) input: [4.82276625 8.7218365  0.         0.1       ] score: 13.817026486004506\n",
      "color: (45.188517144697904, 56.30613231918725, 63.98917968189167) target: (38, 46, 69) input: [4.88841092 8.88880318 0.14250414 0.        ] score: 13.5277293874685\n",
      "color: (45.49388335896583, 56.08996440632398, 64.03205372695547) target: (38, 46, 69) input: [4.98841092 8.88880318 0.14250414 0.        ] score: 13.51466461627986\n",
      "color: (45.0231178353842, 56.41807371063845, 63.95359280635852) target: (38, 46, 69) input: [4.88841092 8.98880318 0.14250414 0.        ] score: 13.53981792839269\n",
      "color: (45.03025064634755, 56.739050203989564, 64.73820201232792) target: (38, 46, 69) input: [4.88841092 8.88880318 0.24250414 0.        ] score: 13.524590401265547\n",
      "color: (45.301297462955155, 56.38954246678502, 63.8537334528715) target: (38, 46, 69) input: [4.88841092 8.88880318 0.14250414 0.1       ] score: 13.701664011563652\n",
      "color: (45.41063615182523, 56.16375728631807, 64.05608766309972) target: (38, 46, 69) input: [4.92653137 8.82270336 0.14603506 0.        ] score: 13.515241749405648\n",
      "color: (45.714948712353525, 55.948229056131844, 64.0985585295171) target: (38, 46, 69) input: [5.02653137 8.82270336 0.14603506 0.        ] score: 13.50969368550156\n",
      "color: (45.24336080447899, 56.276911537377735, 64.01996054487135) target: (38, 46, 69) input: [4.92653137 8.92270336 0.14603506 0.        ] score: 13.52338639045665\n",
      "color: (45.25050607581043, 56.59844874729219, 64.80594039132892) target: (38, 46, 69) input: [4.92653137 8.82270336 0.24603506 0.        ] score: 13.508778264722148\n",
      "color: (45.52202638640485, 56.248330452052, 63.9199267462313) target: (38, 46, 69) input: [4.92653137 8.82270336 0.14603506 0.1       ] score: 13.690007387722016\n"
     ]
    },
    {
     "data": {
      "text/plain": [
       "      fun: 13.515241749405648\n",
       " hess_inv: <4x4 LbfgsInvHessProduct with dtype=float64>\n",
       "      jac: array([-0.05548064,  0.08144641, -0.06463485,  1.74765638])\n",
       "  message: b'CONVERGENCE: NORM_OF_PROJECTED_GRADIENT_<=_PGTOL'\n",
       "     nfev: 55\n",
       "      nit: 9\n",
       "   status: 0\n",
       "  success: True\n",
       "        x: array([4.92653137, 8.82270336, 0.14603506, 0.        ])"
      ]
     },
     "execution_count": 24,
     "metadata": {},
     "output_type": "execute_result"
    }
   ],
   "source": [
    "# Teacher\n",
    "res = minimize(find_weights, [1.0, 1.0, 1.0, 1.0], method='L-BFGS-B',\n",
    "               bounds = 4*[[0.0, 10.0]], \n",
    "               options={'disp': True, 'eps': 0.1, 'maxiter': 100, 'gtol': 0.1, 'maxfun':10000})\n",
    "res"
   ]
  },
  {
   "cell_type": "markdown",
   "metadata": {},
   "source": [
    "Do the weights you find during optimization make sense? How sensitive are these weights to changes in the input colors and the target color? \n",
    "\n",
    "The noise in our data robot data is too large to use it to improve the silico model by incorporating weights into it. We would need to use more data points and proably also a more advanced model than simply adding weights. Lets see if we can close the gaps with an error correcting neural network rather than attempting to improve the silico model further. "
   ]
  },
  {
   "cell_type": "markdown",
   "metadata": {},
   "source": [
    "## Error correcting neural network"
   ]
  },
  {
   "cell_type": "markdown",
   "metadata": {},
   "source": [
    "The other day you train a neural network to replicate the silico mixer. Today is slightly different as you will need it to predict the error between the robot and the silico mixer. Start by getting your data from the robot and splitting it into train set, dependent test set, and independent test set.\n",
    "\n",
    "Start by copying the robot data file to your own data folder. It cannot easily be done from within the notebook so make a new login to gbar. From gbar run the below line. Replace X with your robot number."
   ]
  },
  {
   "cell_type": "raw",
   "metadata": {},
   "source": [
    "scp robot@ailegoX.eduroam.wireless.dtu.dk:/home/robot/47332_exercises/data/datafile.csv  ~/47332/data"
   ]
  },
  {
   "cell_type": "markdown",
   "metadata": {},
   "source": [
    "Use pandas to load in the data. It might perhaps be a bit overkill, but pandas is a great tool for you to get an introduction to if you don't already know it."
   ]
  },
  {
   "cell_type": "code",
   "execution_count": 25,
   "metadata": {},
   "outputs": [],
   "source": [
    "try:\n",
    "    import pandas as pd\n",
    "except:\n",
    "    !pip3 install pandas --user --upgrade\n",
    "    import pandas as pd"
   ]
  },
  {
   "cell_type": "markdown",
   "metadata": {},
   "source": [
    "You can then load in the data with the cell below"
   ]
  },
  {
   "cell_type": "code",
   "execution_count": 26,
   "metadata": {},
   "outputs": [
    {
     "ename": "FileNotFoundError",
     "evalue": "[Errno 2] File b'C:\\\\Users\\\\runch/47332/data/datafile.csv' does not exist: b'C:\\\\Users\\\\runch/47332/data/datafile.csv'",
     "output_type": "error",
     "traceback": [
      "\u001b[1;31m---------------------------------------------------------------------------\u001b[0m",
      "\u001b[1;31mFileNotFoundError\u001b[0m                         Traceback (most recent call last)",
      "\u001b[1;32m<ipython-input-26-fea9f20f29ef>\u001b[0m in \u001b[0;36m<module>\u001b[1;34m\u001b[0m\n\u001b[1;32m----> 1\u001b[1;33m \u001b[0mdf\u001b[0m \u001b[1;33m=\u001b[0m \u001b[0mpd\u001b[0m\u001b[1;33m.\u001b[0m\u001b[0mread_csv\u001b[0m\u001b[1;33m(\u001b[0m\u001b[1;34m'~/47332/data/datafile.csv'\u001b[0m\u001b[1;33m,\u001b[0m \u001b[0msep\u001b[0m\u001b[1;33m=\u001b[0m\u001b[1;34m';'\u001b[0m\u001b[1;33m)\u001b[0m\u001b[1;33m\u001b[0m\u001b[1;33m\u001b[0m\u001b[0m\n\u001b[0m\u001b[0;32m      2\u001b[0m \u001b[0mprint\u001b[0m\u001b[1;33m(\u001b[0m\u001b[0mdf\u001b[0m\u001b[1;33m)\u001b[0m\u001b[1;33m\u001b[0m\u001b[1;33m\u001b[0m\u001b[0m\n",
      "\u001b[1;32mc:\\users\\runch\\appdata\\local\\continuum\\anaconda3\\lib\\site-packages\\pandas\\io\\parsers.py\u001b[0m in \u001b[0;36mparser_f\u001b[1;34m(filepath_or_buffer, sep, delimiter, header, names, index_col, usecols, squeeze, prefix, mangle_dupe_cols, dtype, engine, converters, true_values, false_values, skipinitialspace, skiprows, skipfooter, nrows, na_values, keep_default_na, na_filter, verbose, skip_blank_lines, parse_dates, infer_datetime_format, keep_date_col, date_parser, dayfirst, cache_dates, iterator, chunksize, compression, thousands, decimal, lineterminator, quotechar, quoting, doublequote, escapechar, comment, encoding, dialect, error_bad_lines, warn_bad_lines, delim_whitespace, low_memory, memory_map, float_precision)\u001b[0m\n\u001b[0;32m    683\u001b[0m         )\n\u001b[0;32m    684\u001b[0m \u001b[1;33m\u001b[0m\u001b[0m\n\u001b[1;32m--> 685\u001b[1;33m         \u001b[1;32mreturn\u001b[0m \u001b[0m_read\u001b[0m\u001b[1;33m(\u001b[0m\u001b[0mfilepath_or_buffer\u001b[0m\u001b[1;33m,\u001b[0m \u001b[0mkwds\u001b[0m\u001b[1;33m)\u001b[0m\u001b[1;33m\u001b[0m\u001b[1;33m\u001b[0m\u001b[0m\n\u001b[0m\u001b[0;32m    686\u001b[0m \u001b[1;33m\u001b[0m\u001b[0m\n\u001b[0;32m    687\u001b[0m     \u001b[0mparser_f\u001b[0m\u001b[1;33m.\u001b[0m\u001b[0m__name__\u001b[0m \u001b[1;33m=\u001b[0m \u001b[0mname\u001b[0m\u001b[1;33m\u001b[0m\u001b[1;33m\u001b[0m\u001b[0m\n",
      "\u001b[1;32mc:\\users\\runch\\appdata\\local\\continuum\\anaconda3\\lib\\site-packages\\pandas\\io\\parsers.py\u001b[0m in \u001b[0;36m_read\u001b[1;34m(filepath_or_buffer, kwds)\u001b[0m\n\u001b[0;32m    455\u001b[0m \u001b[1;33m\u001b[0m\u001b[0m\n\u001b[0;32m    456\u001b[0m     \u001b[1;31m# Create the parser.\u001b[0m\u001b[1;33m\u001b[0m\u001b[1;33m\u001b[0m\u001b[1;33m\u001b[0m\u001b[0m\n\u001b[1;32m--> 457\u001b[1;33m     \u001b[0mparser\u001b[0m \u001b[1;33m=\u001b[0m \u001b[0mTextFileReader\u001b[0m\u001b[1;33m(\u001b[0m\u001b[0mfp_or_buf\u001b[0m\u001b[1;33m,\u001b[0m \u001b[1;33m**\u001b[0m\u001b[0mkwds\u001b[0m\u001b[1;33m)\u001b[0m\u001b[1;33m\u001b[0m\u001b[1;33m\u001b[0m\u001b[0m\n\u001b[0m\u001b[0;32m    458\u001b[0m \u001b[1;33m\u001b[0m\u001b[0m\n\u001b[0;32m    459\u001b[0m     \u001b[1;32mif\u001b[0m \u001b[0mchunksize\u001b[0m \u001b[1;32mor\u001b[0m \u001b[0miterator\u001b[0m\u001b[1;33m:\u001b[0m\u001b[1;33m\u001b[0m\u001b[1;33m\u001b[0m\u001b[0m\n",
      "\u001b[1;32mc:\\users\\runch\\appdata\\local\\continuum\\anaconda3\\lib\\site-packages\\pandas\\io\\parsers.py\u001b[0m in \u001b[0;36m__init__\u001b[1;34m(self, f, engine, **kwds)\u001b[0m\n\u001b[0;32m    893\u001b[0m             \u001b[0mself\u001b[0m\u001b[1;33m.\u001b[0m\u001b[0moptions\u001b[0m\u001b[1;33m[\u001b[0m\u001b[1;34m\"has_index_names\"\u001b[0m\u001b[1;33m]\u001b[0m \u001b[1;33m=\u001b[0m \u001b[0mkwds\u001b[0m\u001b[1;33m[\u001b[0m\u001b[1;34m\"has_index_names\"\u001b[0m\u001b[1;33m]\u001b[0m\u001b[1;33m\u001b[0m\u001b[1;33m\u001b[0m\u001b[0m\n\u001b[0;32m    894\u001b[0m \u001b[1;33m\u001b[0m\u001b[0m\n\u001b[1;32m--> 895\u001b[1;33m         \u001b[0mself\u001b[0m\u001b[1;33m.\u001b[0m\u001b[0m_make_engine\u001b[0m\u001b[1;33m(\u001b[0m\u001b[0mself\u001b[0m\u001b[1;33m.\u001b[0m\u001b[0mengine\u001b[0m\u001b[1;33m)\u001b[0m\u001b[1;33m\u001b[0m\u001b[1;33m\u001b[0m\u001b[0m\n\u001b[0m\u001b[0;32m    896\u001b[0m \u001b[1;33m\u001b[0m\u001b[0m\n\u001b[0;32m    897\u001b[0m     \u001b[1;32mdef\u001b[0m \u001b[0mclose\u001b[0m\u001b[1;33m(\u001b[0m\u001b[0mself\u001b[0m\u001b[1;33m)\u001b[0m\u001b[1;33m:\u001b[0m\u001b[1;33m\u001b[0m\u001b[1;33m\u001b[0m\u001b[0m\n",
      "\u001b[1;32mc:\\users\\runch\\appdata\\local\\continuum\\anaconda3\\lib\\site-packages\\pandas\\io\\parsers.py\u001b[0m in \u001b[0;36m_make_engine\u001b[1;34m(self, engine)\u001b[0m\n\u001b[0;32m   1133\u001b[0m     \u001b[1;32mdef\u001b[0m \u001b[0m_make_engine\u001b[0m\u001b[1;33m(\u001b[0m\u001b[0mself\u001b[0m\u001b[1;33m,\u001b[0m \u001b[0mengine\u001b[0m\u001b[1;33m=\u001b[0m\u001b[1;34m\"c\"\u001b[0m\u001b[1;33m)\u001b[0m\u001b[1;33m:\u001b[0m\u001b[1;33m\u001b[0m\u001b[1;33m\u001b[0m\u001b[0m\n\u001b[0;32m   1134\u001b[0m         \u001b[1;32mif\u001b[0m \u001b[0mengine\u001b[0m \u001b[1;33m==\u001b[0m \u001b[1;34m\"c\"\u001b[0m\u001b[1;33m:\u001b[0m\u001b[1;33m\u001b[0m\u001b[1;33m\u001b[0m\u001b[0m\n\u001b[1;32m-> 1135\u001b[1;33m             \u001b[0mself\u001b[0m\u001b[1;33m.\u001b[0m\u001b[0m_engine\u001b[0m \u001b[1;33m=\u001b[0m \u001b[0mCParserWrapper\u001b[0m\u001b[1;33m(\u001b[0m\u001b[0mself\u001b[0m\u001b[1;33m.\u001b[0m\u001b[0mf\u001b[0m\u001b[1;33m,\u001b[0m \u001b[1;33m**\u001b[0m\u001b[0mself\u001b[0m\u001b[1;33m.\u001b[0m\u001b[0moptions\u001b[0m\u001b[1;33m)\u001b[0m\u001b[1;33m\u001b[0m\u001b[1;33m\u001b[0m\u001b[0m\n\u001b[0m\u001b[0;32m   1136\u001b[0m         \u001b[1;32melse\u001b[0m\u001b[1;33m:\u001b[0m\u001b[1;33m\u001b[0m\u001b[1;33m\u001b[0m\u001b[0m\n\u001b[0;32m   1137\u001b[0m             \u001b[1;32mif\u001b[0m \u001b[0mengine\u001b[0m \u001b[1;33m==\u001b[0m \u001b[1;34m\"python\"\u001b[0m\u001b[1;33m:\u001b[0m\u001b[1;33m\u001b[0m\u001b[1;33m\u001b[0m\u001b[0m\n",
      "\u001b[1;32mc:\\users\\runch\\appdata\\local\\continuum\\anaconda3\\lib\\site-packages\\pandas\\io\\parsers.py\u001b[0m in \u001b[0;36m__init__\u001b[1;34m(self, src, **kwds)\u001b[0m\n\u001b[0;32m   1915\u001b[0m         \u001b[0mkwds\u001b[0m\u001b[1;33m[\u001b[0m\u001b[1;34m\"usecols\"\u001b[0m\u001b[1;33m]\u001b[0m \u001b[1;33m=\u001b[0m \u001b[0mself\u001b[0m\u001b[1;33m.\u001b[0m\u001b[0musecols\u001b[0m\u001b[1;33m\u001b[0m\u001b[1;33m\u001b[0m\u001b[0m\n\u001b[0;32m   1916\u001b[0m \u001b[1;33m\u001b[0m\u001b[0m\n\u001b[1;32m-> 1917\u001b[1;33m         \u001b[0mself\u001b[0m\u001b[1;33m.\u001b[0m\u001b[0m_reader\u001b[0m \u001b[1;33m=\u001b[0m \u001b[0mparsers\u001b[0m\u001b[1;33m.\u001b[0m\u001b[0mTextReader\u001b[0m\u001b[1;33m(\u001b[0m\u001b[0msrc\u001b[0m\u001b[1;33m,\u001b[0m \u001b[1;33m**\u001b[0m\u001b[0mkwds\u001b[0m\u001b[1;33m)\u001b[0m\u001b[1;33m\u001b[0m\u001b[1;33m\u001b[0m\u001b[0m\n\u001b[0m\u001b[0;32m   1918\u001b[0m         \u001b[0mself\u001b[0m\u001b[1;33m.\u001b[0m\u001b[0munnamed_cols\u001b[0m \u001b[1;33m=\u001b[0m \u001b[0mself\u001b[0m\u001b[1;33m.\u001b[0m\u001b[0m_reader\u001b[0m\u001b[1;33m.\u001b[0m\u001b[0munnamed_cols\u001b[0m\u001b[1;33m\u001b[0m\u001b[1;33m\u001b[0m\u001b[0m\n\u001b[0;32m   1919\u001b[0m \u001b[1;33m\u001b[0m\u001b[0m\n",
      "\u001b[1;32mpandas\\_libs\\parsers.pyx\u001b[0m in \u001b[0;36mpandas._libs.parsers.TextReader.__cinit__\u001b[1;34m()\u001b[0m\n",
      "\u001b[1;32mpandas\\_libs\\parsers.pyx\u001b[0m in \u001b[0;36mpandas._libs.parsers.TextReader._setup_parser_source\u001b[1;34m()\u001b[0m\n",
      "\u001b[1;31mFileNotFoundError\u001b[0m: [Errno 2] File b'C:\\\\Users\\\\runch/47332/data/datafile.csv' does not exist: b'C:\\\\Users\\\\runch/47332/data/datafile.csv'"
     ]
    }
   ],
   "source": [
    "df = pd.read_csv('~/47332/data/datafile.csv', sep=';')\n",
    "print(df)"
   ]
  },
  {
   "cell_type": "code",
   "execution_count": null,
   "metadata": {},
   "outputs": [],
   "source": [
    "data = df[['Vcolors','RGB']]\n",
    "print(data)"
   ]
  },
  {
   "cell_type": "markdown",
   "metadata": {},
   "source": [
    "Split the independent data you created from the dataframe. In case it is the last 9 points use the one below. Otherwise you have to change the indicies."
   ]
  },
  {
   "cell_type": "code",
   "execution_count": null,
   "metadata": {},
   "outputs": [],
   "source": [
    "df1 = data.iloc[:-9, :]\n",
    "df_indep_test = data.iloc[-9:, :]\n",
    "\n",
    "# In case n points after the independent set\n",
    "# n = 3\n",
    "# df11 = date.iloc[:-9-n, :]\n",
    "# df_independent = date.iloc[-9-n:-n, :]\n",
    "# df12 = date.iloc[-n:, :]\n",
    "# df1 = pd.concat([df11, df12])"
   ]
  },
  {
   "cell_type": "markdown",
   "metadata": {},
   "source": [
    "Remove (on average) 20 percent of the points in the remaining data. These points will be the dependent test data."
   ]
  },
  {
   "cell_type": "code",
   "execution_count": null,
   "metadata": {},
   "outputs": [],
   "source": [
    "msk = np.random.rand(len(df1)) < 0.8\n",
    "df_train = df1[msk]\n",
    "df_dep_test = df1[~msk]\n",
    "print(len(df_train))\n",
    "print(len(df_dep_test))"
   ]
  },
  {
   "cell_type": "markdown",
   "metadata": {},
   "source": [
    "Now, turn the dataframes into lists. You can use `df_train.values.tolist()` and similar."
   ]
  },
  {
   "cell_type": "code",
   "execution_count": null,
   "metadata": {},
   "outputs": [],
   "source": [
    "train_list = df_train.values.tolist()\n",
    "for data in train_list:\n",
    "    data[0] = eval(data[0])\n",
    "    data[1] = list(eval(data[1]))\n",
    "# print(train_list)\n",
    "train_x = list(np.asarray(train_list)[:,0])\n",
    "# print(train_x)\n",
    "train_y = np.asarray(train_list)[:,1]\n",
    "# print(train_y)"
   ]
  },
  {
   "cell_type": "code",
   "execution_count": null,
   "metadata": {},
   "outputs": [],
   "source": [
    "# For you to work in"
   ]
  },
  {
   "cell_type": "code",
   "execution_count": null,
   "metadata": {},
   "outputs": [],
   "source": [
    "# For you to work in"
   ]
  },
  {
   "cell_type": "markdown",
   "metadata": {},
   "source": [
    "You will not be training to the robot data but to the difference between the robot and the silico mixer. Go ahead and make the difference list. Remember that in the end it should have the format `[[r0,g0,b0],[r1,g1,b2],...]`.\n",
    "\n",
    "You might find numpy usefull as it allows elementwise difference between numpy arrays to be easily calculated. \n",
    "`list(np.asarray(point)-np.asarray(point_sil))`"
   ]
  },
  {
   "cell_type": "code",
   "execution_count": null,
   "metadata": {},
   "outputs": [],
   "source": [
    "# For you to work in"
   ]
  },
  {
   "cell_type": "code",
   "execution_count": null,
   "metadata": {},
   "outputs": [],
   "source": [
    "# Teacher\n",
    "train_y_sil = []\n",
    "\n",
    "for point in train_x:\n",
    "    train_y_sil.append(list(mixer.run_cuvette(point)))\n",
    "    \n",
    "#print(train_y_sil)\n",
    "\n",
    "train_y_diff = []\n",
    "for point, point_sil in zip(train_y,train_y_sil):\n",
    "    print(point, point_sil)\n",
    "    train_y_diff.append(list(np.asarray(point)-np.asarray(point_sil)))\n",
    "\n",
    "print(train_y_diff)"
   ]
  },
  {
   "cell_type": "markdown",
   "metadata": {},
   "source": [
    "Train a neural network like you did the other day."
   ]
  },
  {
   "cell_type": "code",
   "execution_count": null,
   "metadata": {},
   "outputs": [],
   "source": [
    "# For you to work in"
   ]
  },
  {
   "cell_type": "code",
   "execution_count": null,
   "metadata": {},
   "outputs": [],
   "source": [
    "# Teacher\n",
    "mpl = MLPRegressor(solver='lbfgs', alpha=1e-5,\n",
    "                   hidden_layer_sizes=(10,10,10, 3), random_state=1, max_iter=4000)\n",
    "\n",
    "mpl.fit(train_x,train_y_diff)"
   ]
  },
  {
   "cell_type": "markdown",
   "metadata": {},
   "source": [
    "You can now predict what to LEGO robot will yield by the sum of the silico mixer prediction and the error correcting neural network. Try to see how well it does on both the dependent and independent test sets."
   ]
  },
  {
   "cell_type": "code",
   "execution_count": null,
   "metadata": {},
   "outputs": [],
   "source": [
    "# For you to work in"
   ]
  },
  {
   "cell_type": "code",
   "execution_count": null,
   "metadata": {},
   "outputs": [],
   "source": [
    "# For you to work in"
   ]
  },
  {
   "cell_type": "code",
   "execution_count": null,
   "metadata": {},
   "outputs": [],
   "source": [
    "# For you to work in"
   ]
  },
  {
   "cell_type": "code",
   "execution_count": null,
   "metadata": {},
   "outputs": [],
   "source": [
    "# For you to work in. Add cells as needed"
   ]
  },
  {
   "cell_type": "code",
   "execution_count": null,
   "metadata": {},
   "outputs": [],
   "source": [
    "# Teacher\n",
    "test_dep_list = df_dep_test.values.tolist()\n",
    "for data in test_dep_list:\n",
    "    data[0] = eval(data[0])\n",
    "    data[1] = list(eval(data[1]))\n",
    "# print(train_list)\n",
    "test_dep_list_x = list(np.asarray(test_dep_list)[:,0])\n",
    "# print(train_x)\n",
    "test_dep_list_y = np.asarray(test_dep_list)[:,1]\n",
    "# print(train_y)"
   ]
  },
  {
   "cell_type": "code",
   "execution_count": null,
   "metadata": {},
   "outputs": [],
   "source": [
    "# Teacher\n",
    "def root_sum_sqr_err(input_color1, input_color2):\n",
    "    r_color, g_color, b_color = input_color1[0], input_color1[1], input_color1[2]\n",
    "    r_color2, g_color2, b_color2 = input_color2[0], input_color2[1], input_color2[2]\n",
    "    return ((r_color-r_color2)**2 +(g_color-g_color2)**2 + (b_color-b_color2)**2)**(0.5)"
   ]
  },
  {
   "cell_type": "code",
   "execution_count": null,
   "metadata": {},
   "outputs": [],
   "source": [
    "# Teacher\n",
    "scores = []\n",
    "for test_point, output in zip(test_dep_list_x,test_dep_list_y) :\n",
    "    lego = output\n",
    "    prediction = mixer.run_cuvette(test_point) + mpl.predict([test_point])[0]\n",
    "    print(mpl.predict([test_point])[0])\n",
    "    print(lego, prediction)\n",
    "    scores.append(root_sum_sqr_err(lego, prediction))"
   ]
  },
  {
   "cell_type": "code",
   "execution_count": null,
   "metadata": {},
   "outputs": [],
   "source": [
    "#Teacher\n",
    "print(scores)\n",
    "print(\"Mean: \",np.mean(scores),\" Standard deviation: \", np.std(scores))"
   ]
  },
  {
   "cell_type": "code",
   "execution_count": null,
   "metadata": {},
   "outputs": [],
   "source": [
    "# Teacher\n",
    "test_indep_list = df_indep_test.values.tolist()\n",
    "for data in test_indep_list:\n",
    "    data[0] = eval(data[0])\n",
    "    data[1] = list(eval(data[1]))\n",
    "# print(train_list)\n",
    "test_indep_list_x = list(np.asarray(test_indep_list)[:,0])\n",
    "# print(train_x)\n",
    "test_indep_list_y = np.asarray(test_indep_list)[:,1]\n",
    "# print(train_y)"
   ]
  },
  {
   "cell_type": "code",
   "execution_count": null,
   "metadata": {},
   "outputs": [],
   "source": [
    "# Teacher\n",
    "scores = []\n",
    "for test_point, output in zip(test_indep_list_x,test_indep_list_y) :\n",
    "    lego = output\n",
    "    prediction = mixer.run_cuvette(test_point) + mpl.predict([test_point])[0]\n",
    "    print(lego, prediction)\n",
    "    scores.append(root_sum_sqr_err(lego, prediction))"
   ]
  },
  {
   "cell_type": "code",
   "execution_count": null,
   "metadata": {},
   "outputs": [],
   "source": [
    "#Teacher\n",
    "print(scores)\n",
    "print(\"Mean: \",np.mean(scores),\" Standard deviation: \", np.std(scores))"
   ]
  },
  {
   "cell_type": "markdown",
   "metadata": {},
   "source": [
    "Are you satisfied with the results? Do you have an idea as to how you could improve the predictive power? How many data points do you need in the training to get good results? You can change the number of training points indirectly by changing the value in the `msk` used to split data into the train set and dependent test set. Do you think you can get by using fewer training points if you use a silico mixer with optimized color weights?"
   ]
  },
  {
   "cell_type": "markdown",
   "metadata": {},
   "source": [
    "# Trash below here"
   ]
  },
  {
   "cell_type": "raw",
   "metadata": {},
   "source": [
    "[0.25, 0.25, 0.25, 0.25];(38, 46, 69)"
   ]
  },
  {
   "cell_type": "code",
   "execution_count": null,
   "metadata": {},
   "outputs": [],
   "source": [
    "df_train['Vcolors']"
   ]
  },
  {
   "cell_type": "raw",
   "metadata": {},
   "source": [
    "Time;Vcolors;RGB;Cuvette;Colors\n",
    "2020-06-10 08:51:42;[0.25, 0.25, 0.25, 0.25];(30, 31, 64);1;[red_u,green_u,blue_t,yellow_u]\n",
    "2020-06-10 11:55:41;[1.0, 0.0, 0.0, 0.0];(98, 27, 48);1;[red_u,green_u,blue_t,yellow_u]\n",
    "2020-06-10 12:02:56;[0.3333333333333334, 0.3333333333333334, 0.1666666666666667, 0.1666666666666667];(34, 30, 61);2;[red_u,green_u,blue_t,yellow_u]\n",
    "2020-06-10 12:08:51;[0.0, 0.2, 0.4, 0.4];(32, 55, 65);3;[red_u,green_u,blue_t,yellow_u]\n",
    "2020-06-10 12:14:50;[0.0, 0.2, 0.4, 0.4];(30, 54, 65);4;[red_u,green_u,blue_t,yellow_u]\n",
    "2020-06-10 13:00:49;[0.25, 0.25, 0.25, 0.25];(32, 32, 56);6;[red_u,green_u,blue_t,yellow_u]\n",
    "2020-06-10 13:09:07;[0.25, 0.25, 0.25, 0.25];(31, 32, 58);1;[red_u,green_u,blue_t,yellow_u]\n",
    "2020-06-10 13:23:13;[0.25, 0.25, 0.25, 0.25];(31, 29, 56);1;[red_u,green_u,blue_t,yellow_u]\n",
    "2020-06-10 13:27:06;[0.625, 0.125, 0.125, 0.125];(40, 29, 55);2;[red_u,green_u,blue_t,yellow_u]\n",
    "2020-06-10 13:30:57;[0.125, 0.625, 0.125, 0.125];(33, 39, 65);3;[red_u,green_u,blue_t,yellow_u]\n",
    "2020-06-12 07:48:41;[0.25, 0.25, 0.25, 0.25];(29, 33, 55);1;[red_u,green_u,blue_t,yellow_u]\n",
    "2020-06-12 07:52:33;[0.625, 0.125, 0.125, 0.125];(37, 27, 62);2;[red_u,green_u,blue_t,yellow_u]\n",
    "2020-06-12 07:56:27;[0.125, 0.625, 0.125, 0.125];(33, 45, 74);3;[red_u,green_u,blue_t,yellow_u]\n",
    "2020-06-12 08:00:26;[0.125, 0.125, 0.625, 0.125];(28, 49, 88);4;[red_u,green_u,blue_t,yellow_u]\n",
    "2020-06-12 08:24:28;[0.125, 0.625, 0.125, 0.125];(33, 45, 72);1;[red_u,green_u,blue_t,yellow_u]\n",
    "2020-06-12 08:28:30;[0.4166666666666667, 0.4166666666666667, 0.08333333333333336, 0.08333333333333336];(34, 28, 61);2;[red_u,green_u,blue_t,yellow_u]\n",
    "2020-06-12 08:32:36;[0.08333333333333336, 0.7500000000000001, 0.08333333333333336, 0.08333333333333336];(32, 52, 79);3;[red_u,green_u,blue_t,yellow_u]\n",
    "2020-06-12 08:37:01;[0.08333333333333336, 0.4166666666666667, 0.4166666666666667, 0.08333333333333336];(27, 52, 83);4;[red_u,green_u,blue_t,yellow_u]\n",
    "2020-06-12 08:41:16;[0.08333333333333331, 0.41666666666666663, 0.08333333333333331, 0.41666666666666663];(38, 47, 61);6;[red_u,green_u,blue_t,yellow_u]\n",
    "2020-06-12 08:44:42;[0.0, 0.5, 0.5, 0.0];(30, 81, 127);7;[red_u,green_u,blue_t,yellow_u]\n",
    "2020-06-12 08:48:33;[0.0909090909090909, 0.4545454545454545, 0.4545454545454545, 0.0];(34, 67, 102);8;[red_u,green_u,blue_t,yellow_u]\n",
    "2020-06-12 08:52:16;[0.0, 0.5454545454545454, 0.4545454545454545, 0.0];(30, 80, 119);9;[red_u,green_u,blue_t,yellow_u]\n",
    "2020-06-12 08:55:57;[0.0, 0.4545454545454545, 0.5454545454545454, 0.0];(26, 82, 115);10;[red_u,green_u,blue_t,yellow_u]\n",
    "2020-06-12 09:07:27;[0.0, 0.4545454545454545, 0.4545454545454545, 0.0909090909090909];(27, 60, 86);1;[red_u,green_u,blue_t,yellow_u]\n",
    "2020-06-12 09:10:58;[0.0, 0.5165959868940333, 0.4834040131059667, 0.0];(27, 68, 107);2;[red_u,green_u,blue_t,yellow_u]\n",
    "2020-06-12 09:14:43;[0.09364397685118289, 0.46821988425591443, 0.4381361388929026, 0.0];(27, 51, 99);3;[red_u,green_u,blue_t,yellow_u]\n",
    "2020-06-12 09:18:20;[0.0, 0.5618638611070973, 0.4381361388929026, 0.0];(27, 67, 102);4;[red_u,green_u,blue_t,yellow_u]\n",
    "2020-06-12 09:21:59;[0.0, 0.46821988425591443, 0.5317801157440855, 0.0];(32, 79, 113);6;[red_u,green_u,blue_t,yellow_u]\n",
    "2020-06-12 09:25:50;[0.0, 0.46821988425591443, 0.4381361388929026, 0.09364397685118289];(28, 68, 96);7;[red_u,green_u,blue_t,yellow_u]\n",
    "2020-06-12 09:29:18;[0.0, 0.5003129609057475, 0.4996870390942524, 0.0];(30, 76, 103);8;[red_u,green_u,blue_t,yellow_u]\n",
    "2020-06-12 09:33:09;[0.09096081704110161, 0.454804085205508, 0.45423509775339027, 0.0];(29, 56, 97);9;[red_u,green_u,blue_t,yellow_u]\n",
    "2020-06-12 09:36:53;[0.0, 0.5457649022466097, 0.45423509775339027, 0.0];(24, 71, 104);10;[red_u,green_u,blue_t,yellow_u]\n",
    "2020-06-12 09:45:35;[0.0, 0.454804085205508, 0.5451959147944919, 0.0];(27, 71, 118);1;[red_u,green_u,blue_t,yellow_u]\n",
    "2020-06-12 09:49:20;[0.0, 0.4548040852055081, 0.4542350977533903, 0.09096081704110162];(27, 68, 96);2;[red_u,green_u,blue_t,yellow_u]\n",
    "2020-06-12 09:52:42;[0.0, 0.5000000634301233, 0.4999999365698767, 0.0];(28, 69, 111);3;[red_u,green_u,blue_t,yellow_u]\n",
    "2020-06-12 09:56:28;[0.0909091013934087, 0.4545455069670435, 0.4545453916395479, 0.0];(27, 52, 93);4;[red_u,green_u,blue_t,yellow_u]\n",
    "2020-06-12 10:00:07;[0.0, 0.5454546083604521, 0.4545453916395479, 0.0];(29, 72, 102);6;[red_u,green_u,blue_t,yellow_u]\n",
    "2020-06-12 10:03:47;[0.0, 0.4545455069670435, 0.5454544930329566, 0.0];(24, 73, 113);7;[red_u,green_u,blue_t,yellow_u]\n",
    "2020-06-12 10:07:41;[0.0, 0.45454550696704343, 0.45454539163954777, 0.09090910139340869];(30, 67, 82);8;[red_u,green_u,blue_t,yellow_u]\n",
    "2020-06-12 10:11:08;[0.0, 0.5000000000000057, 0.4999999999999943, 0.0];(26, 73, 113);9;[red_u,green_u,blue_t,yellow_u]\n",
    "2020-06-12 10:15:01;[0.09090909090909184, 0.4545454545454592, 0.4545454545454489, 0.0];(32, 57, 94);10;[red_u,green_u,blue_t,yellow_u]\n"
   ]
  }
 ],
 "metadata": {
  "kernelspec": {
   "display_name": "Python 3",
   "language": "python",
   "name": "python3"
  },
  "language_info": {
   "codemirror_mode": {
    "name": "ipython",
    "version": 3
   },
   "file_extension": ".py",
   "mimetype": "text/x-python",
   "name": "python",
   "nbconvert_exporter": "python",
   "pygments_lexer": "ipython3",
   "version": "3.6.9"
  }
 },
 "nbformat": 4,
 "nbformat_minor": 4
}
