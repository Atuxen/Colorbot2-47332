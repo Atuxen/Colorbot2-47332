{
 "cells": [
  {
   "cell_type": "markdown",
   "metadata": {},
   "source": [
    "# Welcome!\n",
    "\n",
    "Welcome to the first Jupyter notebook in the Autonomous materials discovery (47332) course. \n",
    "We will be using the Jupyter notebooks throughout the course. \n",
    "You might have to submit python scripts to the gbar high-performance computing system at DTU at some point \n",
    "if performing calculations in the notebook becomes too slow, but that is a bridge we will cross once we get there.\n",
    "\n",
    "Since you are reading this, you have (probably) succesfully managed to log into the gbar, `source` the correct file, \n",
    "and open the Jupyter notebook.\n",
    "\n",
    "You will get some basic information about course exercises in this notebook (consider it a teaser) with significantly \n",
    "more to follow next week. \n",
    "**The main purpose of this notebook is to verify that you can use the course software and that you can communicate \n",
    "with the robot.**"
   ]
  },
  {
   "cell_type": "markdown",
   "metadata": {},
   "source": [
    "# Color mixing as a test system\n",
    "In the course, you will do recurrent exercises focused on mixing target colors. \n",
    "In practice, we do this by mixing food colors diluted in water. \n",
    "Although we do perform significantly more complicated autonoums experiments in our daily research, \n",
    "mixing colored liquids is significantly closer to state-of-the-art for demonstration of autonomous orchestration \n",
    "than you might expect, as seen in [this paper](https://journals.plos.org/plosone/article?id=10.1371/journal.pone.0229862), \n",
    "which can also be found in the course group on DTU Inside. \n",
    "Sadly, we will not be doing the Tequilla Sunrise mixing also performed in that paper.\n",
    "\n",
    "To give each group access to their very own robot, which can be operated without specialist knowledge and safety measures, \n",
    "we went with LEGO. Luckily, [someone](https://journals.plos.org/plosbiology/article?id=10.1371/journal.pbio.2001413) already \n",
    "did most of the design for us, although we had to modify and improve it in several ways. \n",
    "One major change we made to the robot is that we changed the operating system to a \n",
    "[Debian Linux-based system](https://www.ev3dev.org/). \n",
    "This allows us to use the programming language of our choice (Python, naturally) with all its flexibility and available modules.\n",
    "We thus have relatively easy access to state-of-the-art data science and machine learning software modules and could, in \n",
    "principle, run everyting directly on the LEGO EV3 brick computer. In practice the LEGO computer is rather slow once you begin \n",
    "doing semi-demanding operations such as training machine learning models, and we will thus run our main calculations on the \n",
    "gbar and send simple commands to the robot, which will execute them and pass back the result. More on that later in this \n",
    "notebook and later during the course.\n",
    "\n",
    "We have also written an *in silico*, i.e. a purely software, surrogate model for the color mixing robot, SilicoColorMixer. \n",
    "It has the advantage that it requires less maintenance, is less prone to error and data noise (beyond the noise introduced \n",
    "into the model on purpose), and is significantly faster than the physical robot.\n",
    "The *in silico* model is not written in the most computationally efficient way but instead such that you can easily switch \n",
    "between the *in silico* color mixer and the robot color mixer software. We will be using the *in silico* color mixer in the \n",
    "course to test various algorithms etc. before applying the code to the physical robot."
   ]
  },
  {
   "cell_type": "markdown",
   "metadata": {},
   "source": [
    "## Exercise 0.1: Verify access to the SilicoColorMixer module"
   ]
  },
  {
   "cell_type": "markdown",
   "metadata": {},
   "source": [
    "First, you should verify that you can import the SilicoColorMixer, begin and instance of it, and perform a simple color mixing calculation with it. Follow the cells below to try it out."
   ]
  },
  {
   "cell_type": "code",
   "execution_count": null,
   "metadata": {},
   "outputs": [],
   "source": [
    "import matplotlib.pyplot as plt     # for visualization of color\n",
    "import numpy as np                  # for using arrays\n",
    "from legobot import SilicoColorMixer"
   ]
  },
  {
   "cell_type": "markdown",
   "metadata": {},
   "source": [
    "If this fails, chances are that you have not updated your .bashrc file with `source /zhome/cb/a/119810/47332_pkgs/47332-exercises/AMD2022.bashrc` \n",
    "such that Python knows where to find the module. This should have happened when you ran `source /zhome/cb/a/119810/47332_pkgs/47332-exercises/setup2022`.\n",
    "\n",
    "You will now initiate an instance of the SilicoColorMixer class. This is our model. In a later exercise we will go over it in detail. For now just execute:"
   ]
  },
  {
   "cell_type": "code",
   "execution_count": null,
   "metadata": {},
   "outputs": [],
   "source": [
    "mixer = SilicoColorMixer()"
   ]
  },
  {
   "cell_type": "markdown",
   "metadata": {},
   "source": [
    "You can see the colors used in `mixer` and their rgb color codes. "
   ]
  },
  {
   "cell_type": "code",
   "execution_count": null,
   "metadata": {},
   "outputs": [],
   "source": [
    "mixer.get_colors()"
   ]
  },
  {
   "cell_type": "markdown",
   "metadata": {},
   "source": [
    "You will next try to mix a new color from these four base colors that the mixer has access to. \n",
    "You do this by providing a list of pseudo volumes of each base color. \n",
    "Note that the mixer does normalization for you, so the sum of the pseudo volumes is irrelevant. \n",
    "The method is called `run_cuvette` to match with the name in the LEGO robot software.\n",
    "A cuvette is a small container (4.5 ml in our case) that we will mix the liquids in and shine light into, \n",
    "to obtain the color code of the result. "
   ]
  },
  {
   "cell_type": "code",
   "execution_count": null,
   "metadata": {},
   "outputs": [],
   "source": [
    "output_color = mixer.run_cuvette([1.0, 0.0, 0.0, 2.0])"
   ]
  },
  {
   "cell_type": "markdown",
   "metadata": {},
   "source": [
    "Visualize the output color."
   ]
  },
  {
   "cell_type": "code",
   "execution_count": null,
   "metadata": {},
   "outputs": [],
   "source": [
    "plt.axis('off')\n",
    "plt.imshow(np.array([[output_color]], dtype=np.uint8))"
   ]
  },
  {
   "cell_type": "markdown",
   "metadata": {},
   "source": [
    "Try it out for a bit by changing the input volumes list. You can rerun the cell multiple times with changed values in input_volumes."
   ]
  },
  {
   "cell_type": "code",
   "execution_count": null,
   "metadata": {},
   "outputs": [],
   "source": [
    "input_volumes=[1.0, 0.0, 0.0, 0.0]\n",
    "output_color = mixer.run_cuvette(input_volumes)\n",
    "plt.axis('off')\n",
    "plt.imshow(np.array([[output_color]], dtype=np.uint8))"
   ]
  },
  {
   "cell_type": "markdown",
   "metadata": {},
   "source": [
    "## Exercise 0.2: Verify access to the LEGO robot"
   ]
  },
  {
   "cell_type": "markdown",
   "metadata": {},
   "source": [
    "You will now verify that you can communicate with the robot by making it speak to you! \n",
    "First, we need to get a few things out of the way.\n",
    "\n",
    "You should have formed groups by now. \n",
    "Each group will have an access to one shared robot and their own group space on the discord server. \n",
    "\n",
    "The robot control software is split into two parts: one running on the gbar and one running on the robot. \n",
    "SSH is used to connect from gbar to the robot. \n",
    "The next thing you should do is to give the IP address and password of the robot that you are assigned to in order to \n",
    "access and control your robot. Run the cell below to copy the configuration file in the same directory as your notebook files.\n"
   ]
  },
  {
   "cell_type": "code",
   "execution_count": null,
   "metadata": {},
   "outputs": [],
   "source": [
    "from legobot.read_config import copy_config\n",
    "copy_config()"
   ]
  },
  {
   "cell_type": "markdown",
   "metadata": {},
   "source": [
    "If you open the `robot_config.ini` file, you will see the IP address and password for each robot. \n",
    "While the password remains unchanged for the robot, the IP address may change over time when you turn your robot on and off\n",
    "throughout the course. Turn on your robot and see its IP address on its screen. Change the IP address field of your robot \n",
    "in the `robot_config.ini` file and save it. \n",
    "\n",
    "There is something that you should keep in mind. \n",
    "Imagine what an awful mess it could cause if two programs were simultaniously controlling the robot.\n",
    "To prevent this, only one python process is allowed on the robot at a time. \n",
    "It means you have to take turns executing your code on it. \n",
    "If you try to run while the robot is already busy you will see a so-called Traceback ending with this line.\n",
    "\n",
    "```Exception: The robot is already running a python process```"
   ]
  },
  {
   "cell_type": "markdown",
   "metadata": {},
   "source": [
    "Even though this helps, you can still mess up optimization runs badly by running more than one script on the robot at a time.\n",
    "If you are unlucky with timings, the \"only one python process\" restriction is not triggered and can execute multiple processes \n",
    "simulataneously. Therefore, you should be mindful of each other while running the robot."
   ]
  },
  {
   "cell_type": "markdown",
   "metadata": {},
   "source": [
    "Now go ahead and import the `AiLEGO_master` module."
   ]
  },
  {
   "cell_type": "code",
   "execution_count": null,
   "metadata": {},
   "outputs": [],
   "source": [
    "from legobot import AiLEGO_master"
   ]
  },
  {
   "cell_type": "markdown",
   "metadata": {},
   "source": [
    "Initiate an instance of the control software. \n",
    "Make sure that you changed the IP address of your robot on its display in the `robot_config.ini` file. \n",
    "In addition, you should specify your robot using `ssh_profile` argument, which can be one of \n",
    "`\"robot1\"`, `\"robot2\"`, `\"robot3\"` and `\"robot4\"`. \n",
    "We will operate in a `speak_only` mode such that it will only be capable of speaking, not \n",
    "running any experiments."
   ]
  },
  {
   "cell_type": "code",
   "execution_count": null,
   "metadata": {},
   "outputs": [],
   "source": [
    "speaking_robot = AiLEGO_master(speak_only=True, ssh_profile='robot3')"
   ]
  },
  {
   "cell_type": "markdown",
   "metadata": {},
   "source": [
    "Now make the robot say something. \n",
    "Be creative if you like. Note that the input has to be a string, i.e., surrounded by single or double quatation marks. \n",
    "You have to give it around a minute for your command to be executed over the SSH connection. \n",
    "Note that it will take some time for the robot to execute your command as it needs to load drivers. "
   ]
  },
  {
   "cell_type": "code",
   "execution_count": null,
   "metadata": {},
   "outputs": [],
   "source": [
    "say = 'rock! robot rock! '  # replace with your awesome catchphrase.\n",
    "speaking_robot.make_robot_talk(say)"
   ]
  },
  {
   "cell_type": "markdown",
   "metadata": {},
   "source": [
    "If the robot said something the sounds remotely like what you asked it to say, congratulations, you have succesfully confirmed that you can control it remotely."
   ]
  },
  {
   "cell_type": "markdown",
   "metadata": {},
   "source": [
    "This concludes this exercise. Well done!"
   ]
  }
 ],
 "metadata": {
  "interpreter": {
   "hash": "c1bceae1b0f30ee21e0b335445df0019c1035ce0f130113777dc9bc85664ba25"
  },
  "kernelspec": {
   "display_name": "Python 3.9.11 ('47332-2022': venv)",
   "language": "python",
   "name": "python3"
  },
  "language_info": {
   "codemirror_mode": {
    "name": "ipython",
    "version": 3
   },
   "file_extension": ".py",
   "mimetype": "text/x-python",
   "name": "python",
   "nbconvert_exporter": "python",
   "pygments_lexer": "ipython3",
   "version": "3.9.11"
  }
 },
 "nbformat": 4,
 "nbformat_minor": 2
}
