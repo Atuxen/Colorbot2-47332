{
 "cells": [
  {
   "cell_type": "markdown",
   "metadata": {},
   "source": [
    "# Test and adjust your positions\n",
    "\n",
    "This notebook will help you to adjust to positions given to the software with the actual positions of the different things on the workspace of the robot."
   ]
  },
  {
   "cell_type": "markdown",
   "metadata": {},
   "source": [
    "Load the software."
   ]
  },
  {
   "cell_type": "code",
   "execution_count": 1,
   "metadata": {},
   "outputs": [],
   "source": [
    "from legobot import AiLEGO_master"
   ]
  },
  {
   "cell_type": "markdown",
   "metadata": {},
   "source": [
    "Initiate an instance of the control software. \n",
    "So long as you have already modified your `robot_config.ini` and set your `ssh_profile` to a correct robot, \n",
    "you should be able to connect to your robot. \n",
    "We will load an instance that will not be able to run experiments but only make the robot speak."
   ]
  },
  {
   "cell_type": "code",
   "execution_count": 2,
   "metadata": {},
   "outputs": [],
   "source": [
    "robot = AiLEGO_master(speak_only=False, ssh_profile='robot3')"
   ]
  },
  {
   "cell_type": "markdown",
   "metadata": {},
   "source": [
    "Specify the position of the different containers on the workspace relative to the distance from when the cross bar touches the touch sensor in number of engine rotations. The total workspace is approximately 10.5. The the below numbers will generally be a good starting point. "
   ]
  },
  {
   "cell_type": "code",
   "execution_count": 3,
   "metadata": {},
   "outputs": [],
   "source": [
    "pos = {'1': 2.9,\n",
    "       '2': 3.4,\n",
    "       '3': 3.9,\n",
    "       '4': 4.4,\n",
    "       '5': 4.9,\n",
    "       '6': 5.4,\n",
    "       '7': 5.9,\n",
    "       '8': 6.4,\n",
    "       '9': 6.9,\n",
    "       '10': 7.4,\n",
    "       'blue': 8.35,\n",
    "       'red': 0.95,\n",
    "       'green': 1.9,\n",
    "       'yellow': 9.3,\n",
    "       'rinse1': 0.3}\n",
    "\n",
    "robot.set_positions(pos)"
   ]
  },
  {
   "cell_type": "markdown",
   "metadata": {},
   "source": [
    "Test to see if the positions are good by running the cell below. At the end of the small program the \n",
    "color sensor should read cuvette 1 and cuvette 8. Note that it takes around 3 minutes for a sequence \n",
    "to complete. \n",
    "If you would like to halt the process in the middle, interrupt the notbook (which should stop the \n",
    "process being executed by the robot). If it does not halt after few seconds, run \n",
    "`robot.kill_process()` command in the cell at the bottom. \n",
    "You can re-run the `robot.test_positions()` once the process is terminated for the robot."
   ]
  },
  {
   "cell_type": "code",
   "execution_count": 4,
   "metadata": {},
   "outputs": [],
   "source": [
    "robot.test_positions()"
   ]
  },
  {
   "cell_type": "markdown",
   "metadata": {},
   "source": [
    "The command below kills the process executing by the robot. "
   ]
  },
  {
   "cell_type": "code",
   "execution_count": null,
   "metadata": {},
   "outputs": [],
   "source": [
    "robot.kill_process()"
   ]
  },
  {
   "cell_type": "markdown",
   "metadata": {},
   "source": [
    "If all the positions look good, you are done calibrating the positions of your robot."
   ]
  }
 ],
 "metadata": {
  "interpreter": {
   "hash": "c1bceae1b0f30ee21e0b335445df0019c1035ce0f130113777dc9bc85664ba25"
  },
  "kernelspec": {
   "display_name": "Python 3.9.11 ('47332-2022': venv)",
   "language": "python",
   "name": "python3"
  },
  "language_info": {
   "codemirror_mode": {
    "name": "ipython",
    "version": 3
   },
   "file_extension": ".py",
   "mimetype": "text/x-python",
   "name": "python",
   "nbconvert_exporter": "python",
   "pygments_lexer": "ipython3",
   "version": "3.9.11"
  }
 },
 "nbformat": 4,
 "nbformat_minor": 2
}
