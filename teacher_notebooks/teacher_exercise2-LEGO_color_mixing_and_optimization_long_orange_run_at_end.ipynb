{
 "cells": [
  {
   "cell_type": "markdown",
   "metadata": {},
   "source": [
    "# Exercise 2: Color mixing and optimization with the LEGO bot"
   ]
  },
  {
   "cell_type": "markdown",
   "metadata": {},
   "source": [
    "This is the second full color mixing exercise in the course Autonomous materials discovery (47332).\n",
    "\n",
    "In this exercise you will explore the software used to control the LEGO bots. You will mix water colored with food coloring with the bots, visualize the output and run a simple optimization. \n",
    "\n",
    "This exercise builds heavily on exercise 1. Where exercise 1 could be completed individually, you have to work as a group for this exercise. Only one of you can run python scripts on the robot at a time. You should all try to run the robot at some point. Communication, sharing of results, and screen sharing will be important. There might be some wait time during this exercise. You can watch the camera and enjoy the sight of the LEGO robot working. You can also get started with or work on your group report.  \n",
    "\n",
    "Should you fail to finish this exercise within the time frame, there will be a chance to catch up later on, but try not to fall behind. \n"
   ]
  },
  {
   "cell_type": "markdown",
   "metadata": {},
   "source": [
    "# Exercise 2.1: Get familiar with robot control software"
   ]
  },
  {
   "cell_type": "markdown",
   "metadata": {},
   "source": [
    "You will start by looking at the python code used to control the robot. As already mentioned, the control class consists of two classes, one controlled by you and one working locally on the robot computer. They are called `AiLEGO_master` and `AiLEGO_robot`, respectively. Unless you really want to get your hands dirty, you will spend most of your time with the `AiLEGO_master` class. Start by loading it in."
   ]
  },
  {
   "cell_type": "code",
   "execution_count": 1,
   "metadata": {},
   "outputs": [],
   "source": [
    "from ailego_master import AiLEGO_master\n",
    "import matplotlib.pyplot as plt\n",
    "import numpy as np"
   ]
  },
  {
   "cell_type": "markdown",
   "metadata": {},
   "source": [
    "Take a look at the docstring for it just like you did for the *in silico* model in exercise 1. When you know and understand what inputs it can take during initialization, lets try to look at the methods (like functions but in the class) available. A neat way to do this within the notebook is to type the module name followed by a period, `.`, and then pressing `Tab`. You should be able to see all the methods in the class. Note that the cell will give you an error if you try to run it."
   ]
  },
  {
   "cell_type": "code",
   "execution_count": 2,
   "metadata": {},
   "outputs": [],
   "source": [
    "# AiLEGO_master.  # remove the # in front when looking at methods"
   ]
  },
  {
   "cell_type": "markdown",
   "metadata": {},
   "source": [
    "You see the `make_robot_talk` method, that you have already used. Most of the methods you will rarely call directly. Instead they serve in the execution of other methods and during initialization. Two methods that you *will* use are `run_cuvette`,  `set_first_empty_cuvette`, and `get_next_cuvette`. Use the cells below to type in the methods after the period, place cursor in that line, and use `Shift` + `Tab` to access method docstrings. See what they do, what input they take and what they return if anything. We cannot run the methods yet. We do not yet have an instance of the class, which is what `self` refers to."
   ]
  },
  {
   "cell_type": "code",
   "execution_count": 3,
   "metadata": {},
   "outputs": [],
   "source": [
    "# AiLEGO_master. ...  # remove the # in front when looking at method Docstring\n",
    "# AiLEGO_master. ...  # remove the # in front when looking at method Docstring\n",
    "# AiLEGO_master. ...  # remove the # in front when looking at method Docstring"
   ]
  },
  {
   "cell_type": "code",
   "execution_count": 4,
   "metadata": {},
   "outputs": [],
   "source": [
    "# Teacher\n",
    "# AiLEGO_master.set_first_empty_cuvette()\n",
    "# AiLEGO_master.get_next_cuvette()\n",
    "# AiLEGO_master.run_cuvette()"
   ]
  },
  {
   "cell_type": "markdown",
   "metadata": {},
   "source": [
    "Notice how `run_cuvette` is very similar to the `run_cuvette` method in `SilicoColorMixer`.\n",
    "\n",
    "Next, try to initialize an instance of the `AiLEGO_master` class. When you are initializing with `speak_only=False`, which is the default, the initialiation process is much longer. Part of it is just confirming that the robot is in its starting positions with the syringe up, the plunger down, color cartridges filled, and cuvettes empty. The robot will use the touch sensor on the right to determine the `x` position, i.e. the position of the wagon. The last part of the initialization is confirming that the cuvettes, resevoirs, etc. are located where the robot expects them to be. A small python program testing the positions will run on the robot if you answer `y` to test positions. If you can see that the syringe is not hitting the different vessels properly, you can change positions by a constant offset value. It will normally be between -0,5 and 0.5. 0.53 is the distance between two cuvettes. You might not have to test positions every time you initialize an instance of the `AiLEGO_master` class. There is no need to do anything if the optimal offset is 0. For non-zero values, you can specify offset as a keyword argument in the `run_cuvette` function even if you did not test positions during initialization. \n",
    "\n",
    "You should not be more than one person initializing at a time. If you do you are likely to experience error messages.\n",
    "\n",
    "Note that the color codes you obtain are not directly transferable to RGB codes. You will thus see a different color than the real life one if you try to vizualize the RGB code.\n",
    "\n",
    "Initialize a mixer and test the positions. You can give the instance an ID, if you so desire. It will make it easier to locate your data later on. "
   ]
  },
  {
   "cell_type": "code",
   "execution_count": 5,
   "metadata": {},
   "outputs": [
    {
     "name": "stdout",
     "output_type": "stream",
     "text": [
      "Input robot nameailego1\n",
      "Robot password:········\n",
      "Verify that syringe is at the top positon and the plunger fully pressed. Then press ENTER\n",
      "Verify that color cartridges are filled and cuvettes empty (#5 can be filled). Then press ENTER\n",
      "Do you want to test positions? (y/n): n\n"
     ]
    }
   ],
   "source": [
    "lego_mixer = AiLEGO_master(colors=['red_u', 'green_u', 'blue_t', 'yellow_u'])"
   ]
  },
  {
   "cell_type": "code",
   "execution_count": 2,
   "metadata": {},
   "outputs": [
    {
     "name": "stdout",
     "output_type": "stream",
     "text": [
      "Input robot nameailego1\n",
      "Robot password:········\n",
      "Verify that syringe is at the top positon and the plunger fully pressed. Then press ENTER\n",
      "Verify that color cartridges are filled and cuvettes empty (#5 can be filled). Then press ENTER\n",
      "Do you want to test positions? (y/n): y\n",
      "Are positions okay? (y/n): y\n"
     ]
    }
   ],
   "source": [
    "# Teachers\n",
    "lego_mixer = AiLEGO_master(local_ssh=True, colors=['red_u', 'green_u', 'blue_t', 'yellow_u'])"
   ]
  },
  {
   "cell_type": "markdown",
   "metadata": {},
   "source": [
    "You should now have working access to the robot. A .log file with a name identical to the ID of the instance should have been created. It will by default be located in the data subfolder of the course folder. Alternatively it will be in the folder you were in when launced jupyter notebook.\n",
    "\n",
    "Now you should try to mix some colors using the `run_cuvette` function. The process is similar to exercise 1, so you should use the same visualization methods. Keep track of which cuvette will be filled if no cuvette number is specified in `run_cuvette`. You should naturally make sure that the cuvette you are about to mix to is empty. If you do not specify any cuvette and do not use `set_first_empty_cuvette`, cuvettes will be filled in the order, 1, 2, 3, 4, 6, 7, 8, 9, 10. Note that 5 is missing. It is reserved for the target color. If you try to mix in cuvette 5, you will mix in cuvette 6 instead.\n",
    "\n",
    "Why do you think we use cuvette 5 for our target color and not cuvette 1 or 10?\n",
    "\n",
    "To avoid accidentally mixing in an already filled cuvette, it is good practice to make sure there are never a filled cuvette to the right, i.e. with a larger index, than the one you just mixed in. Again, cuvette 5 is an exception to this.\n",
    "\n",
    "It will take a while from the time the command is executed to the robot actually starts moving.\n",
    "\n",
    "Enough talk. Show me what you got!"
   ]
  },
  {
   "cell_type": "code",
   "execution_count": 3,
   "metadata": {},
   "outputs": [
    {
     "data": {
      "text/plain": [
       "1"
      ]
     },
     "execution_count": 3,
     "metadata": {},
     "output_type": "execute_result"
    }
   ],
   "source": [
    "lego_mixer.get_next_cuvette()"
   ]
  },
  {
   "cell_type": "code",
   "execution_count": 4,
   "metadata": {},
   "outputs": [],
   "source": [
    "import matplotlib.pyplot as plt\n",
    "import numpy as np"
   ]
  },
  {
   "cell_type": "code",
   "execution_count": 5,
   "metadata": {},
   "outputs": [
    {
     "name": "stdout",
     "output_type": "stream",
     "text": [
      "(96, 22, 50)\n"
     ]
    },
    {
     "data": {
      "text/plain": [
       "<matplotlib.image.AxesImage at 0x23b28976630>"
      ]
     },
     "execution_count": 5,
     "metadata": {},
     "output_type": "execute_result"
    },
    {
     "data": {
      "image/png": "[encoded data removed]",
      "text/plain": [
       "<Figure size 432x288 with 1 Axes>"
      ]
     },
     "metadata": {
      "needs_background": "light"
     },
     "output_type": "display_data"
    }
   ],
   "source": [
    "input_volumes=[1.0, 0.0, 0.0, 0.0]\n",
    "output_color = lego_mixer.run_cuvette(input_volumes)\n",
    "print(output_color)\n",
    "plt.axis('off')\n",
    "plt.imshow(np.array([[output_color]], dtype=np.uint8))"
   ]
  },
  {
   "cell_type": "markdown",
   "metadata": {},
   "source": [
    "Do some different mixing of colors now. Maybe try to skip a cuvette using the `set_first_empty_cuvette` method or directly specifying the cuvette in `run_cuvette`. If you do the latter, make sure you use `get_next_cuvette` and `set_first_empty_cuvette` afterwards to get the instance back on track. Have different group membets try. Have the teacher in the lab empty cuvettes for you and refill colors when they run low. You can speak directly to the teacher in the lab using the camera."
   ]
  },
  {
   "cell_type": "code",
   "execution_count": null,
   "metadata": {},
   "outputs": [],
   "source": [
    "# For you to play with"
   ]
  },
  {
   "cell_type": "code",
   "execution_count": null,
   "metadata": {},
   "outputs": [],
   "source": [
    "# For you to play with"
   ]
  },
  {
   "cell_type": "code",
   "execution_count": null,
   "metadata": {},
   "outputs": [],
   "source": [
    "# For you to play with. Add more as needed"
   ]
  },
  {
   "cell_type": "code",
   "execution_count": 6,
   "metadata": {},
   "outputs": [
    {
     "name": "stdout",
     "output_type": "stream",
     "text": [
      "2\n",
      "(30, 32, 57)\n"
     ]
    },
    {
     "data": {
      "text/plain": [
       "<matplotlib.image.AxesImage at 0x23b28959d30>"
      ]
     },
     "execution_count": 6,
     "metadata": {},
     "output_type": "execute_result"
    },
    {
     "data": {
      "image/png": "[encoded data removed]",
      "text/plain": [
       "<Figure size 432x288 with 1 Axes>"
      ]
     },
     "metadata": {
      "needs_background": "light"
     },
     "output_type": "display_data"
    }
   ],
   "source": [
    "# Teacher\n",
    "print(lego_mixer.get_next_cuvette())\n",
    "output_color = lego_mixer.run_cuvette([0.1, 0.1, 0.1, 0.1], cuvette=3)\n",
    "print(output_color)\n",
    "plt.axis('off')\n",
    "plt.imshow(np.array([[output_color]], dtype=np.uint8))"
   ]
  },
  {
   "cell_type": "code",
   "execution_count": 7,
   "metadata": {},
   "outputs": [
    {
     "name": "stdout",
     "output_type": "stream",
     "text": [
      "3\n",
      "5\n"
     ]
    }
   ],
   "source": [
    "# Teacher\n",
    "print(lego_mixer.get_next_cuvette())\n",
    "lego_mixer.set_first_empty_cuvette(5)\n",
    "print(lego_mixer.get_next_cuvette())"
   ]
  },
  {
   "cell_type": "code",
   "execution_count": 8,
   "metadata": {},
   "outputs": [
    {
     "name": "stdout",
     "output_type": "stream",
     "text": [
      "(32, 34, 54)\n"
     ]
    },
    {
     "data": {
      "text/plain": [
       "<matplotlib.image.AxesImage at 0x23b28cb9588>"
      ]
     },
     "execution_count": 8,
     "metadata": {},
     "output_type": "execute_result"
    },
    {
     "data": {
      "image/png": "[encoded data removed]",
      "text/plain": [
       "<Figure size 432x288 with 1 Axes>"
      ]
     },
     "metadata": {
      "needs_background": "light"
     },
     "output_type": "display_data"
    }
   ],
   "source": [
    "# Teacher\n",
    "output_color = lego_mixer.run_cuvette([0.1, 0.1, 0.1, 0.1])\n",
    "print(output_color)\n",
    "plt.axis('off')\n",
    "plt.imshow(np.array([[output_color]], dtype=np.uint8))"
   ]
  },
  {
   "cell_type": "code",
   "execution_count": 9,
   "metadata": {},
   "outputs": [
    {
     "name": "stdout",
     "output_type": "stream",
     "text": [
      "7\n"
     ]
    }
   ],
   "source": [
    "# Teacher\n",
    "print(lego_mixer.get_next_cuvette())"
   ]
  },
  {
   "cell_type": "markdown",
   "metadata": {},
   "source": [
    "Try mixing the same color multiple times to get an idea about the noise in the system."
   ]
  },
  {
   "cell_type": "markdown",
   "metadata": {},
   "source": [
    "# Exercise 2.2: Difference to target\n",
    "\n",
    "Just like you did with the `SilicoColorMixer`, you will now try to quantify the difference between a color you have mixed and a target color. Use the same vizualization methods as in exercise 1. Reuse or improve the \"score\" function you made. "
   ]
  },
  {
   "cell_type": "code",
   "execution_count": 10,
   "metadata": {},
   "outputs": [],
   "source": [
    "# For you to play with"
   ]
  },
  {
   "cell_type": "code",
   "execution_count": 11,
   "metadata": {},
   "outputs": [],
   "source": [
    "# For you to play with"
   ]
  },
  {
   "cell_type": "code",
   "execution_count": 12,
   "metadata": {},
   "outputs": [],
   "source": [
    "# For you to play with"
   ]
  },
  {
   "cell_type": "code",
   "execution_count": 13,
   "metadata": {},
   "outputs": [],
   "source": [
    "# For you to play with"
   ]
  },
  {
   "cell_type": "code",
   "execution_count": 14,
   "metadata": {},
   "outputs": [],
   "source": [
    "# For you to play with. Add more as needed"
   ]
  },
  {
   "cell_type": "code",
   "execution_count": 16,
   "metadata": {},
   "outputs": [
    {
     "name": "stdout",
     "output_type": "stream",
     "text": [
      "Input robot nameailego1\n",
      "Robot password:········\n",
      "Verify that syringe is at the top positon and the plunger fully pressed. Then press ENTER\n",
      "Verify that color cartridges are filled and cuvettes empty (#5 can be filled). Then press ENTER\n",
      "Do you want to test positions? (y/n): n\n"
     ]
    }
   ],
   "source": [
    "# Teacher\n",
    "lego_mixer_w_target = AiLEGO_master(local_ssh=True, colors=['red_u', 'green_u', 'blue_t', 'yellow_u'])"
   ]
  },
  {
   "cell_type": "code",
   "execution_count": 17,
   "metadata": {},
   "outputs": [],
   "source": [
    "# Teacher\n",
    "def root_sum_sqr_err(input1, input2):\n",
    "    \"\"\"The sum of squared difference between input colors\"\"\"\n",
    "    dif = np.asarray(input1)- np.asarray(input2)\n",
    "    return (sum(dif**2)**(0.5))"
   ]
  },
  {
   "cell_type": "code",
   "execution_count": 18,
   "metadata": {},
   "outputs": [
    {
     "name": "stdout",
     "output_type": "stream",
     "text": [
      "(78, 22, 42) (71, 30, 38)\n",
      "(34, 29, 48) (71, 30, 38)\n",
      "(30, 71, 128) (70, 29, 39)\n"
     ]
    }
   ],
   "source": [
    "# Teacher\n",
    "data = []  # empty list for data. Run only once\n",
    "\n",
    "for input_volumes in [[1., 0., 0., 1.0,], [1., 0.5, 0.5, 1.0,], [0.1, 0.5, 1.5, 0.0,]]:\n",
    "    color, target = lego_mixer_w_target.run_cuvette(input_volumes, read_target=True)\n",
    "    print(color, target)\n",
    "    score = root_sum_sqr_err(color, target)\n",
    "    data.append([score, input_volumes])"
   ]
  },
  {
   "cell_type": "code",
   "execution_count": 19,
   "metadata": {},
   "outputs": [
    {
     "name": "stdout",
     "output_type": "stream",
     "text": [
      "[[11.357816691600547, [1.0, 0.0, 0.0, 1.0]], [38.34057902536163, [1.0, 0.5, 0.5, 1.0]], [106.23088063270491, [0.1, 0.5, 1.5, 0.0]]]\n"
     ]
    }
   ],
   "source": [
    "# Teacher\n",
    "print(data)"
   ]
  },
  {
   "cell_type": "code",
   "execution_count": 20,
   "metadata": {},
   "outputs": [],
   "source": [
    "# Teacher\n",
    "from plot_pie_charts import make_piechart_plot"
   ]
  },
  {
   "cell_type": "code",
   "execution_count": 21,
   "metadata": {},
   "outputs": [
    {
     "data": {
      "image/png": "[encoded data removed]",
      "text/plain": [
       "<Figure size 432x288 with 1 Axes>"
      ]
     },
     "metadata": {
      "needs_background": "light"
     },
     "output_type": "display_data"
    }
   ],
   "source": [
    "# Teacher\n",
    "make_piechart_plot(data)"
   ]
  },
  {
   "cell_type": "markdown",
   "metadata": {},
   "source": [
    "# Exercise 2.3: Optimization"
   ]
  },
  {
   "cell_type": "markdown",
   "metadata": {},
   "source": [
    "Now you should try to run an optimization to determine how you can best mix the target color. Note that the target color may contain colors different from the 4 you currently have available, and you might thus not be able to reproduce it exactly. \n",
    "\n",
    "If you remember back from exercise 1, you often have to do a large number of function calls to get the optimization going. Do not go through all the steps you did in exercise 1 but jump directly to whatever you think worked and will work the best. See if you can produce some nice optimization figures. \n",
    "\n",
    "Make sure `eps` is large. Why? Something like 0.3 should do. And please keep in mind, that doing the optimization is bound to be rather crude. Despite our best efforts, a very simple LEGO robot is not really meant for delicate science.\n",
    "\n",
    "Should the optimizer encounter an error for some reason, rather than starting over form `x0`, start from the last set of inputs the optimizer used.\n",
    "\n",
    "Note: in exercise 1 you sometimes came across the line \"# When LEGO set the next cuvette to 1 here\".\n",
    "You should remember to add in .set_first_empty_cuvette(1). Otherwise you will see failures when you try to restart the optimization."
   ]
  },
  {
   "cell_type": "code",
   "execution_count": 25,
   "metadata": {},
   "outputs": [],
   "source": [
    "import numpy as np\n",
    "from IPython import display\n",
    "\n",
    "try:\n",
    "    from scipy.optimize import minimize\n",
    "except:\n",
    "    !pip3 install scipy --user --upgrade\n",
    "    from scipy.optimize import minimize"
   ]
  },
  {
   "cell_type": "code",
   "execution_count": 23,
   "metadata": {},
   "outputs": [],
   "source": [
    "# For you to play with. Add cells as needed."
   ]
  },
  {
   "cell_type": "markdown",
   "metadata": {},
   "source": [
    "You might want to use some of your old data at some point. Even if you no longer have it available in a list in active memory, you can use your old data by loading it from file. You can load in the data you have written to your local data folder. This, however, only contains the data YOU have generated and not that generated by the other group members. You can share the data between you anyway you see fit.\n",
    "\n",
    "The robot also stores ALL data generated on it. You can ssh directly into the robot from a new gbar session and find your data on the robot. While in there, make sure not to change anything, as we will pull the data from the robot and use it later.\n",
    "\n",
    "We will not tell you in detail how to get your data, read it into python, and modify it such that you can use it with plotting tools. We trust, that by now and with the wait time you will experience during this exercise, you can figure it out. Stack Overflow is your friend.\n",
    "\n",
    "One hint though; if you are using mobaxterm, you can ssh directly to the robot using gbar as a gateway ssh server (\"Network settings\" when creating new session). If you enable SCP or SFTP (\"Advanced SSH settings when creating new session), you will be able to see all files in a folder structure and access them as if they were on your machine. The robot host path is \"robotname\".eduroam.wireless.dtu.dk"
   ]
  },
  {
   "cell_type": "code",
   "execution_count": 24,
   "metadata": {},
   "outputs": [
    {
     "name": "stdout",
     "output_type": "stream",
     "text": [
      "Input robot nameailego1\n",
      "Robot password:········\n",
      "Verify that syringe is at the top positon and the plunger fully pressed. Then press ENTER\n",
      "Verify that color cartridges are filled and cuvettes empty (#5 can be filled). Then press ENTER\n",
      "Do you want to test positions? (y/n): y\n",
      "Are positions okay? (y/n): y\n"
     ]
    }
   ],
   "source": [
    "# Teacher\n",
    "lego_mixer_optimize = AiLEGO_master(local_ssh=True, colors=['red_u', 'green_u', 'blue_t', 'yellow_u'])"
   ]
  },
  {
   "cell_type": "code",
   "execution_count": 32,
   "metadata": {},
   "outputs": [
    {
     "data": {
      "text/plain": [
       "1"
      ]
     },
     "execution_count": 32,
     "metadata": {},
     "output_type": "execute_result"
    }
   ],
   "source": [
    "lego_mixer_optimize.set_first_empty_cuvette(1)\n",
    "lego_mixer_optimize.get_next_cuvette()"
   ]
  },
  {
   "cell_type": "code",
   "execution_count": 33,
   "metadata": {},
   "outputs": [],
   "source": [
    "# Teacher\n",
    "def root_sum_sqr_err(input1, input2):\n",
    "    \"\"\"The sum of squared difference between input colors\"\"\"\n",
    "    dif = np.asarray(input1)- np.asarray(input2)\n",
    "    return (sum(dif**2)**(0.5))"
   ]
  },
  {
   "cell_type": "code",
   "execution_count": 34,
   "metadata": {},
   "outputs": [],
   "source": [
    "# TEACHER\n",
    "data_opt1=[]\n",
    "data_pie=[]\n",
    "func_calls=[0]\n",
    "\n",
    "def find_color2(color_list, func_calls=func_calls):  \n",
    "    color, target = lego_mixer_optimize.run_cuvette(color_list, read_target=True)\n",
    "    display.clear_output(wait=True)\n",
    "    score = root_sum_sqr_err(color, target)\n",
    "    data_opt1.append(color)\n",
    "    data_opt1.append(target)\n",
    "    print(data_opt1)\n",
    "    data_pie.append([score, color_list])\n",
    "    print(data_pie)\n",
    "    plt.axis('off')\n",
    "    plt.imshow(np.array([data_opt1], dtype=np.uint8))\n",
    "    make_piechart_plot(data_pie)\n",
    "    \n",
    "    func_calls[0] += 1\n",
    "    if func_calls[0] % 9 == 0:\n",
    "        input('Have cuvettes other than #5 emptied. Then press Enter')\n",
    "        lego_mixer_optimize.set_first_empty_cuvette(1)\n",
    "    return score"
   ]
  },
  {
   "cell_type": "code",
   "execution_count": 35,
   "metadata": {
    "scrolled": true
   },
   "outputs": [
    {
     "name": "stdout",
     "output_type": "stream",
     "text": [
      "[(27, 28, 51), (70, 28, 37), (28, 24, 42), (71, 28, 36), (29, 35, 54), (72, 29, 39), (31, 41, 68), (71, 28, 38), (22, 23, 39), (69, 28, 37), (96, 22, 34), (70, 29, 37), (98, 22, 40), (70, 28, 36), (64, 22, 42), (70, 28, 35), (28, 22, 48), (71, 28, 35), (73, 22, 38), (68, 25, 42), (31, 23, 42), (70, 27, 40), (34, 24, 44), (68, 27, 41), (34, 29, 50), (68, 26, 42), (28, 25, 47), (68, 27, 41), (36, 26, 40), (66, 26, 41), (55, 22, 38), (68, 26, 40), (57, 22, 34), (66, 27, 40), (45, 21, 44), (67, 28, 39), (27, 23, 40), (69, 28, 42), (49, 23, 40), (69, 30, 45), (63, 23, 36), (68, 28, 43), (73, 23, 41), (68, 26, 42), (47, 18, 34), (66, 27, 40), (28, 21, 44), (69, 31, 41), (71, 23, 34), (68, 29, 40), (88, 18, 34), (68, 27, 39), (85, 22, 42), (68, 27, 40), (66, 23, 41), (70, 30, 41), (28, 22, 41), (69, 28, 39), (85, 22, 33), (68, 27, 40), (72, 22, 35), (68, 26, 38), (81, 25, 33), (68, 28, 38), (60, 21, 38), (68, 28, 39), (34, 29, 43), (69, 28, 37), (79, 23, 40), (69, 28, 36)]\n"
     ]
    },
    {
     "data": {
      "image/png": "[encoded data removed]",
      "text/plain": [
       "<Figure size 432x288 with 1 Axes>"
      ]
     },
     "metadata": {
      "needs_background": "light"
     },
     "output_type": "display_data"
    },
    {
     "data": {
      "image/png": "[encoded data removed]",
      "text/plain": [
       "<Figure size 432x288 with 1 Axes>"
      ]
     },
     "metadata": {
      "needs_background": "light"
     },
     "output_type": "display_data"
    },
    {
     "data": {
      "text/plain": [
       "      fun: 6.4031242374328485\n",
       " hess_inv: <4x4 LbfgsInvHessProduct with dtype=float64>\n",
       "      jac: array([19.61170653, 10.68488504, 72.80378775, 13.67804462])\n",
       "  message: b'STOP: TOTAL NO. of f AND g EVALUATIONS EXCEEDS LIMIT'\n",
       "     nfev: 35\n",
       "      nit: 3\n",
       "   status: 1\n",
       "  success: False\n",
       "        x: array([1.        , 0.04987994, 0.01341234, 0.09845301])"
      ]
     },
     "execution_count": 35,
     "metadata": {},
     "output_type": "execute_result"
    }
   ],
   "source": [
    "# Teacher\n",
    "func_calls=[0]\n",
    "\n",
    "x0 = [0.25, 0.25, 0.25, 0.25]\n",
    "\n",
    "res = minimize(find_color2, x0, method='L-BFGS-B',\n",
    "               bounds = 4*[[0.0, 1.0]], \n",
    "               options={'disp': True, 'eps': 0.4, 'maxiter': 4, 'gtol': 0.1, 'maxfun':30})\n",
    "res"
   ]
  },
  {
   "cell_type": "code",
   "execution_count": null,
   "metadata": {},
   "outputs": [],
   "source": []
  }
 ],
 "metadata": {
  "kernelspec": {
   "display_name": "Python 3",
   "language": "python",
   "name": "python3"
  },
  "language_info": {
   "codemirror_mode": {
    "name": "ipython",
    "version": 3
   },
   "file_extension": ".py",
   "mimetype": "text/x-python",
   "name": "python",
   "nbconvert_exporter": "python",
   "pygments_lexer": "ipython3",
   "version": "3.6.9"
  }
 },
 "nbformat": 4,
 "nbformat_minor": 2
}
