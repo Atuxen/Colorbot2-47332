{
 "cells": [
  {
   "cell_type": "markdown",
   "metadata": {},
   "source": [
    "# Exercise 1: *In silico* color mixing and optimization"
   ]
  },
  {
   "cell_type": "markdown",
   "metadata": {},
   "source": [
    "This is the first full color mixing exercise in the course Autonomous materials discovery (47332). \n",
    "\n",
    "In this exercise you will explore the `SilicoColorMixer` python class and get familiarity with common optimizers. You should by now know to basic principles of optimizers and some standard ones.\n",
    "\n",
    "The reason for using the `SilicoColorMixer` in this course is that you can experiment with your code without having to wait for the LEGO robot. You should thus experience, that code produced in this exercise will be very useful and easy to transfer to later exercises involving the robot. Towards the end of the course, you will also use the *in silico* model in combination with the LEGO robot for improved performance. "
   ]
  },
  {
   "cell_type": "markdown",
   "metadata": {},
   "source": [
    "## Exercise 1.1: Get familiar with `SilicoColorMixer`"
   ]
  },
  {
   "cell_type": "markdown",
   "metadata": {},
   "source": [
    "Before getting ahead of yourselves, let us look at the `SilicoColorMixer`. Start by importing it."
   ]
  },
  {
   "cell_type": "code",
   "execution_count": 1,
   "metadata": {},
   "outputs": [],
   "source": [
    "from silico_color_mixer import SilicoColorMixer"
   ]
  },
  {
   "cell_type": "markdown",
   "metadata": {},
   "source": [
    "Let us see the description of the `SilicoColorMixer` class. Place your cursor in the above cell and press `Shift`+`Tab`. This will open a new window below the cell showing you some of the possible inputs and default parameters for the class. You can see all possible inputs and the Docstring, which describes the class, by clicking on the plus or up-arrow in the corner of the window. The output will look something like this:"
   ]
  },
  {
   "cell_type": "raw",
   "metadata": {},
   "source": [
    "Init signature:\n",
    "SilicoColorMixer(\n",
    "    noise={'colors': 1, 'volume': 0.02, 'measurement': 2},\n",
    "    colors=['red', 'green', 'blue', 'yellow'],\n",
    "    color_codes={},\n",
    "    target=None,\n",
    ")\n",
    "Docstring:     \n",
    "An in silico mirror of the LEGO robot control class\n",
    "\n",
    "Simulates mixing of colored liquids into cuvettes\n",
    "Init docstring:\n",
    "noise: dict or False\n",
    "    All noise is gaussian distributed with mean 0 and std specified\n",
    "    by value.\n",
    "   'colors': int or float\n",
    "        Noise in the RGB value of mixing colors\n",
    "        Applied seperately to each channel\n",
    "    'volume': int or float\n",
    "        Noise in dosed volume of liquid\n",
    "        Applied seperately to each color\n",
    "    'measurement': int or float\n",
    "        Noise in the output measurement\n",
    "        Applied seperately to each channel\n",
    "colors: list\n",
    "    List containing the colors available to the mixer in the desired\n",
    "    order\n",
    "    Possible colors: 'red_t', 'green_t', 'blue_t', 'yellow_t', 'red_u',\n",
    "                     'yellow_u', 'green_u', 'purple_u'\n",
    "color_codes: dict\n",
    "    Can manually specify color codes for colors not in color_codes()\n",
    "    function or overrule defaults values\n",
    "       {'purple': [125, 30, 249],  # Not in defaults\n",
    "        'red_t': [249, 30, 52]}  # Overrules default value\n",
    "target: None or tuple - (r,g,b)\n",
    "    A target value you wish to optimize to.\n",
    "    Used in run_cuvette().\n",
    "    Implemented for transferability with LEGO robot\n",
    "File:           c:\\users\\runch\\documents\\work\\work\\47332_exercises\\software\\silico_color_mixer.py\n",
    "Type:           type\n",
    "Subclasses:     "
   ]
  },
  {
   "cell_type": "markdown",
   "metadata": {},
   "source": [
    "Lets go over the possible inputs one by one:\n",
    "\n",
    "* noise: This can either be `False` or a dictionary like the default one and must contain the entries `'color'`, `'volume'`, and `'measurement'`. You can read about each of them in the Docstring above.\n",
    "* colors: A list with the names of the colors we will be using. To be transferable to the LEGO robot, this list should contain 4 colors, but **can** contain from one and up. We will discuss default colors in a second.  \n",
    "* color_codes: If you are not satisfied with the default colors or which to change the rgb color code for a given instance of the mixer, you can do so by specifying colors and their rgb color codes. Normally, you would not want to set this keyword. \n",
    "* target: This is not actually used by the color mixer, but can be returned by the `run_cuvette` method such that the output can be in the same format as the output from the `run_cuvette(read_target=True)` method on the LEGO robot. Note that the rgb color code input should be of the form (r,g,b). "
   ]
  },
  {
   "cell_type": "markdown",
   "metadata": {},
   "source": [
    "Before initializing an instance of the mixer, let us take a look at the default colors of the class. Do this by running the cell below"
   ]
  },
  {
   "cell_type": "code",
   "execution_count": 2,
   "metadata": {},
   "outputs": [
    {
     "data": {
      "text/plain": [
       "{'yellow_t': [249, 242, 30],\n",
       " 'red_t': [220, 35, 40],\n",
       " 'blue_t': [54, 59, 212],\n",
       " 'green_t': [73, 213, 5],\n",
       " 'red_u': [220, 35, 40],\n",
       " 'yellow_u': [249, 242, 30],\n",
       " 'green_u': [73, 213, 5],\n",
       " 'purple_u': [214, 39, 249]}"
      ]
     },
     "execution_count": 2,
     "metadata": {},
     "output_type": "execute_result"
    }
   ],
   "source": [
    "SilicoColorMixer.default_color_codes"
   ]
  },
  {
   "cell_type": "markdown",
   "metadata": {},
   "source": [
    "We have 8 default colors, although you might note that some of them have identical rgb color codes. The color codes are given as lists rather than tuple, e.g., `(249, 242, 30)`. The names of the colors represent the 8 physical colors we have available for the robot. `_u` denotes that the color is purchased from [Urtegården](https://www.urtegaarden.dk/farver). `_t` denotes that it is made by [Tørsleffs](https://www.torsleffs.dk/produkter/farve-gul/)."
   ]
  },
  {
   "cell_type": "markdown",
   "metadata": {},
   "source": [
    "Now, let us create an instance of the mixer. Although we will be using the default parameters, we write them out for comprehension. Note that since all inputs are keyword arguments, the order does not matter."
   ]
  },
  {
   "cell_type": "code",
   "execution_count": 3,
   "metadata": {},
   "outputs": [],
   "source": [
    "mixer0 = SilicoColorMixer(colors=['red_u', 'green_u', 'blue_t', 'yellow_u'],\n",
    "                         noise={'colors': 1, 'volume': 0.02, 'measurement': 2},\n",
    "                         target=None,\n",
    "                         color_codes={},)"
   ]
  },
  {
   "cell_type": "markdown",
   "metadata": {},
   "source": [
    "Although the order the keywords do not matter, the order of colors in the `colors` list does if we want a simple conceptual 1:1 mapping to the robot. The first color in the list, is the color in the first color cartridge from the left and so forth. Once you move to the LEGO robot it is paramount for reuseability of data that the `colors` list matches what is in the color cartridges.\n",
    "\n",
    "Now lets go ahead and mix a color like we did in exercise 0. "
   ]
  },
  {
   "cell_type": "code",
   "execution_count": 4,
   "metadata": {},
   "outputs": [],
   "source": [
    "import matplotlib.pyplot as plt\n",
    "import numpy as np"
   ]
  },
  {
   "cell_type": "code",
   "execution_count": 5,
   "metadata": {},
   "outputs": [
    {
     "name": "stdout",
     "output_type": "stream",
     "text": [
      "(220.0, 31.0, 40.0)\n"
     ]
    },
    {
     "data": {
      "text/plain": [
       "<matplotlib.image.AxesImage at 0x7f702f7eea58>"
      ]
     },
     "execution_count": 5,
     "metadata": {},
     "output_type": "execute_result"
    },
    {
     "data": {
      "image/png": "[encoded data removed]",
      "text/plain": [
       "<Figure size 432x288 with 1 Axes>"
      ]
     },
     "metadata": {
      "needs_background": "light"
     },
     "output_type": "display_data"
    }
   ],
   "source": [
    "input_volumes=[1.0, 0.0, 0.0, 0.0]\n",
    "output_color = mixer0.run_cuvette(input_volumes)\n",
    "print(output_color)\n",
    "plt.axis('off')\n",
    "plt.imshow(np.array([[output_color]], dtype=np.uint8))"
   ]
  },
  {
   "cell_type": "markdown",
   "metadata": {},
   "source": [
    "Before letting you run free to experiment on your own I would like to showcase the noise. Noise is added to the class to make it more similar to a real system. I will ramp it up just to show you the effect."
   ]
  },
  {
   "cell_type": "code",
   "execution_count": 6,
   "metadata": {},
   "outputs": [],
   "source": [
    "mixer = SilicoColorMixer(noise={'colors': 10, 'volume': 0.1, 'measurement': 10},)"
   ]
  },
  {
   "cell_type": "markdown",
   "metadata": {},
   "source": [
    "I will then try to mix the same color multiple times - an attempt at equal parts red and yellow - and and show you the difference."
   ]
  },
  {
   "cell_type": "code",
   "execution_count": 7,
   "metadata": {},
   "outputs": [
    {
     "name": "stdout",
     "output_type": "stream",
     "text": [
      "Mix 0 = (235.0, 117.0, 23.0)\n",
      "Mix 1 = (243.0, 163.0, 37.0)\n",
      "Mix 2 = (212.0, 155.0, 45.0)\n",
      "Mix 3 = (227.0, 129.0, 26.0)\n",
      "Mix 4 = (226.0, 147.0, 34.0)\n",
      "Mix 5 = (239.0, 115.0, 57.0)\n",
      "Mix 6 = (248.0, 122.0, 49.0)\n",
      "Mix 7 = (229.0, 143.0, 42.0)\n",
      "Mix 8 = (224.0, 141.0, 41.0)\n",
      "Mix 9 = (249.0, 140.0, 50.0)\n"
     ]
    },
    {
     "data": {
      "text/plain": [
       "<matplotlib.image.AxesImage at 0x7f702ce6c2e8>"
      ]
     },
     "execution_count": 7,
     "metadata": {},
     "output_type": "execute_result"
    },
    {
     "data": {
      "image/png": "[encoded data removed]",
      "text/plain": [
       "<Figure size 432x288 with 1 Axes>"
      ]
     },
     "metadata": {
      "needs_background": "light"
     },
     "output_type": "display_data"
    }
   ],
   "source": [
    "mixed_colors = []\n",
    "input_volumes=[1.0, 0.0, 0.0, 1.0]\n",
    "for n in range (10):\n",
    "    color = mixer.run_cuvette(input_volumes)\n",
    "    print(f'Mix {n} =', color)\n",
    "    mixed_colors.append(color)\n",
    "\n",
    "plt.axis('off')\n",
    "plt.imshow(np.array([mixed_colors], dtype=np.uint8))"
   ]
  },
  {
   "cell_type": "markdown",
   "metadata": {},
   "source": [
    "Now it is your turn to shine. Use the below cells to experiment with the `SilicoColorMixer` and insert more if needed. Make a figure like the one produced by the cell above, but instead of 10 shades of orange, make a rainbow."
   ]
  },
  {
   "cell_type": "code",
   "execution_count": 8,
   "metadata": {},
   "outputs": [],
   "source": [
    "# my_mixer = SilicoColorMixer(..."
   ]
  },
  {
   "cell_type": "code",
   "execution_count": null,
   "metadata": {},
   "outputs": [],
   "source": []
  },
  {
   "cell_type": "markdown",
   "metadata": {},
   "source": [
    "# Exercise 1.2: Difference from target"
   ]
  },
  {
   "cell_type": "markdown",
   "metadata": {},
   "source": [
    "Next up we will be working with a target color."
   ]
  },
  {
   "cell_type": "code",
   "execution_count": 9,
   "metadata": {},
   "outputs": [],
   "source": [
    "target0 = (220, 141, 50)\n",
    "mixer_w_target = SilicoColorMixer(noise={'colors': 2, 'volume': 0.02, 'measurement': 2}, target=target0)"
   ]
  },
  {
   "cell_type": "markdown",
   "metadata": {},
   "source": [
    "We will now do as before but with `read_target=True` in the `run_cuvette` method. This will yield two outputs, which we store in 2 different variables, `color` and `target`."
   ]
  },
  {
   "cell_type": "code",
   "execution_count": 10,
   "metadata": {},
   "outputs": [
    {
     "name": "stdout",
     "output_type": "stream",
     "text": [
      "Mix = (68.0, 210.0, 4.0) Target = (220, 141, 50)\n"
     ]
    },
    {
     "data": {
      "text/plain": [
       "<matplotlib.image.AxesImage at 0x7f702d521828>"
      ]
     },
     "execution_count": 10,
     "metadata": {},
     "output_type": "execute_result"
    },
    {
     "data": {
      "image/png": "[encoded data removed]",
      "text/plain": [
       "<Figure size 432x288 with 1 Axes>"
      ]
     },
     "metadata": {
      "needs_background": "light"
     },
     "output_type": "display_data"
    }
   ],
   "source": [
    "input_volumes = [0., 1., 0., 0.]\n",
    "color, target = mixer_w_target.run_cuvette(input_volumes, read_target=True)\n",
    "print('Mix =', color, 'Target =', target)\n",
    "plt.axis('off')\n",
    "plt.imshow(np.array([[color,target]], dtype=np.uint8))"
   ]
  },
  {
   "cell_type": "markdown",
   "metadata": {},
   "source": [
    "It is evident that the mixed color and the target color are very different. But **how** different are they?\n",
    "\n",
    "To answer this **you** will now write a function that takes the color (r, g, b) and target (r, g, b) as inputs and returns some quantitative measure for the difference. To get you started, you can get inspiration from the cell below, which contains a function that takes (r, g, b) tuples (or lists, arrays, etc.) as `input_color1` and `input_color2`and returns the squared value of the red channel of `input_color1`, red$^2$ -- a **very poor** measure for the difference between the two colors across all channels. Try making a function that returns the root summed squared error for each of the r, g, b channels, $\\sqrt((\\delta r)^2+(\\delta g)^2+(\\delta b)^2)$"
   ]
  },
  {
   "cell_type": "code",
   "execution_count": 11,
   "metadata": {},
   "outputs": [
    {
     "data": {
      "text/plain": [
       "4624"
      ]
     },
     "execution_count": 11,
     "metadata": {},
     "output_type": "execute_result"
    }
   ],
   "source": [
    "def red_squared(input_color1, input_color2):\n",
    "    r_color, g_color, b_color = input_color1[0], input_color1[1], input_color1[2]\n",
    "    red2 = r_color**2\n",
    "    return red2\n",
    "    \n",
    "red_squared((68, 216, 5), (68, 216, 5))"
   ]
  },
  {
   "cell_type": "code",
   "execution_count": 12,
   "metadata": {},
   "outputs": [],
   "source": [
    "# def your_function():\n",
    "#     ..."
   ]
  },
  {
   "cell_type": "code",
   "execution_count": 13,
   "metadata": {},
   "outputs": [
    {
     "data": {
      "text/plain": [
       "173.1502237942533"
      ]
     },
     "execution_count": 13,
     "metadata": {},
     "output_type": "execute_result"
    }
   ],
   "source": [
    "# TEACHER\n",
    "def root_sum_sqr_err(input1, input2):\n",
    "    \"\"\"The sum of squared difference between input colors\"\"\"\n",
    "    dif = np.asarray(input1)- np.asarray(input2)\n",
    "    return (sum(dif**2)**(0.5))\n",
    "\n",
    "root_sum_sqr_err(color, target)"
   ]
  },
  {
   "cell_type": "markdown",
   "metadata": {},
   "source": [
    "Calculate the difference score for a few data points and store them in a list following the example below but using you own \"score\" function and mixing color combinations of your own choice.\n",
    "\n",
    "Start by creating an empty list to store data in."
   ]
  },
  {
   "cell_type": "code",
   "execution_count": 14,
   "metadata": {},
   "outputs": [],
   "source": [
    "data = []  # empty list for data. Run only once"
   ]
  },
  {
   "cell_type": "markdown",
   "metadata": {},
   "source": [
    "Run the below cell a few times with different `input_volumes` to generate some data points. Edit such that you use your own score function."
   ]
  },
  {
   "cell_type": "code",
   "execution_count": 15,
   "metadata": {},
   "outputs": [
    {
     "data": {
      "text/plain": [
       "<matplotlib.image.AxesImage at 0x7f702ce0eef0>"
      ]
     },
     "execution_count": 15,
     "metadata": {},
     "output_type": "execute_result"
    },
    {
     "data": {
      "image/png": "[encoded data removed]",
      "text/plain": [
       "<Figure size 432x288 with 1 Axes>"
      ]
     },
     "metadata": {
      "needs_background": "light"
     },
     "output_type": "display_data"
    }
   ],
   "source": [
    "# run a handful of times with different color\n",
    "input_volumes = [0.5, 5, 5.5, 0.5]\n",
    "color, target = mixer_w_target.run_cuvette(input_volumes, read_target=True)\n",
    "# score = red_squared(color, target)  # replace with your function\n",
    "###  TEACHER\n",
    "score = root_sum_sqr_err(color, target)\n",
    "###  TEACHER\n",
    "data.append([score, list(input_volumes)])\n",
    "plt.axis('off')\n",
    "plt.imshow(np.array([[color, target]], dtype=np.uint8))"
   ]
  },
  {
   "cell_type": "markdown",
   "metadata": {},
   "source": [
    "Take a look at the data you just generated."
   ]
  },
  {
   "cell_type": "code",
   "execution_count": 16,
   "metadata": {},
   "outputs": [
    {
     "name": "stdout",
     "output_type": "stream",
     "text": [
      "[[154.76756766196203, [0.5, 5, 5.5, 0.5]]]\n"
     ]
    }
   ],
   "source": [
    "print(data)"
   ]
  },
  {
   "cell_type": "markdown",
   "metadata": {},
   "source": [
    "Now, lets make a more advanced plot, one showing the calculated difference. First, lets extract the colors we use in the mixer."
   ]
  },
  {
   "cell_type": "code",
   "execution_count": 17,
   "metadata": {},
   "outputs": [
    {
     "name": "stdout",
     "output_type": "stream",
     "text": [
      "['red_t', 'green_t', 'blue_t', 'yellow_t']\n",
      "[[220.  35.  40.]\n",
      " [ 73. 213.   5.]\n",
      " [ 54.  59. 212.]\n",
      " [249. 242.  30.]]\n"
     ]
    }
   ],
   "source": [
    "base_colors, base_colors_matrix = mixer_w_target.get_colors()\n",
    "print(base_colors)\n",
    "print(base_colors_matrix)"
   ]
  },
  {
   "cell_type": "markdown",
   "metadata": {},
   "source": [
    "You will now use an advanced plotting function custom made for this course. You can see the Docstring as before by using `Shift`+`Tab`."
   ]
  },
  {
   "cell_type": "code",
   "execution_count": 18,
   "metadata": {},
   "outputs": [],
   "source": [
    "from plot_pie_charts import make_piechart_plot"
   ]
  },
  {
   "cell_type": "markdown",
   "metadata": {},
   "source": [
    "You should use the data you just generated in the `make_piechart_plot` function. If you do not specify `colors`, it will default to the base colors red, green, blue, and yellow."
   ]
  },
  {
   "cell_type": "code",
   "execution_count": 19,
   "metadata": {},
   "outputs": [
    {
     "data": {
      "image/png": "[encoded data removed]",
      "text/plain": [
       "<Figure size 432x288 with 1 Axes>"
      ]
     },
     "metadata": {
      "needs_background": "light"
     },
     "output_type": "display_data"
    }
   ],
   "source": [
    "make_piechart_plot(data)"
   ]
  },
  {
   "cell_type": "markdown",
   "metadata": {},
   "source": [
    "# Exercise 1.3: Optimization"
   ]
  },
  {
   "cell_type": "markdown",
   "metadata": {},
   "source": [
    "As you now know how to use the color mixer and calculate a difference score, we will use common optimizers find a way to mix the target color. Start by loading in the scipy module. It will install if you do not already have it available. Patience might be required."
   ]
  },
  {
   "cell_type": "code",
   "execution_count": 20,
   "metadata": {},
   "outputs": [],
   "source": [
    "import numpy as np\n",
    "from IPython import display\n",
    "\n",
    "try:\n",
    "    from scipy.optimize import minimize\n",
    "except:\n",
    "    !pip3 install scipy --user --upgrade\n",
    "    from scipy.optimize import minimize"
   ]
  },
  {
   "cell_type": "markdown",
   "metadata": {},
   "source": [
    "The SciPy minimize function will seek to -- drumroll -- determine that input parameters which minimize the outout of a given function. We fist have to make such a function. For simplicity, make it such that it takes only one input argument (multiple keyword arguments are ok). Before trying with the color mixer, try to optimize a very simple function as the one below. "
   ]
  },
  {
   "cell_type": "code",
   "execution_count": 21,
   "metadata": {},
   "outputs": [],
   "source": [
    "def parabola_4d(func_input):\n",
    "    \"\"\" input is of format [x, y]\"\"\"\n",
    "    return func_input[0]**2 + func_input[1]**2 +func_input[2]**2 +  func_input[3]**2"
   ]
  },
  {
   "cell_type": "markdown",
   "metadata": {},
   "source": [
    "Set the initial guess, `x0`."
   ]
  },
  {
   "cell_type": "code",
   "execution_count": 22,
   "metadata": {},
   "outputs": [],
   "source": [
    "x0 = [2,-4, 5, 3]"
   ]
  },
  {
   "cell_type": "markdown",
   "metadata": {},
   "source": [
    "There are countless different optimizers available. The SciPy package has some of the more common once [readily available](https://docs.scipy.org/doc/scipy-0.18.1/reference/generated/scipy.optimize.minimize.html#scipy.optimize.minimize). No two optimizers are the same and they excel at different tasks. You will use the [conjugate gradient optimizer](https://en.wikipedia.org/wiki/Conjugate_gradient_method) in this exercise but we encourage you to experiment with other optimizers in the SciPy package.\n",
    "\n",
    "Try experimenting the values of  `eps` and `gtol`."
   ]
  },
  {
   "cell_type": "code",
   "execution_count": 23,
   "metadata": {},
   "outputs": [
    {
     "name": "stdout",
     "output_type": "stream",
     "text": [
      "Optimization terminated successfully.\n",
      "         Current function value: 0.000087\n",
      "         Iterations: 2\n",
      "         Function evaluations: 30\n",
      "         Gradient evaluations: 5\n"
     ]
    },
    {
     "data": {
      "text/plain": [
       "array([-0.00332547, -0.00833653, -0.00081995, -0.0024903 ])"
      ]
     },
     "execution_count": 23,
     "metadata": {},
     "output_type": "execute_result"
    }
   ],
   "source": [
    "res = minimize(parabola_4d, x0, method='CG', options={'disp': True, 'eps': 0.01, 'maxiter': 3, 'gtol': 1}) \n",
    "res.x"
   ]
  },
  {
   "cell_type": "markdown",
   "metadata": {},
   "source": [
    "The last line are the input values that give the minimum output value. We know the correct answer is `[0 0 0 0]`."
   ]
  },
  {
   "cell_type": "markdown",
   "metadata": {},
   "source": [
    "Things will, however, not go so smooth for us when trying to optimize the color mixing. We will run into at least two issues. What are the issues and how do they cause trouble? \n",
    "\n",
    "Lets start by removing one of the issues by using the mixer below."
   ]
  },
  {
   "cell_type": "code",
   "execution_count": 24,
   "metadata": {},
   "outputs": [],
   "source": [
    "mixer_opt1 = SilicoColorMixer(target=target0, noise=False)"
   ]
  },
  {
   "cell_type": "markdown",
   "metadata": {},
   "source": [
    "Write a function where a color is mixing with `mixer_opt1` and a score is calculated. Make sure the function will have its lowest value when the difference between the mixed color and target color is as small as possible. Use the cell below for inspiration. "
   ]
  },
  {
   "cell_type": "raw",
   "metadata": {},
   "source": [
    "def find_color(color_list):\n",
    "    # color, target = mixer_opt1.run_cuvette(...)\n",
    "    # score = red_squared(color, target)  # Replace with your \"score\" function\n",
    "    return score"
   ]
  },
  {
   "cell_type": "code",
   "execution_count": 25,
   "metadata": {},
   "outputs": [],
   "source": [
    "data = []"
   ]
  },
  {
   "cell_type": "code",
   "execution_count": 26,
   "metadata": {},
   "outputs": [],
   "source": [
    "def find_color(color_list):\n",
    "    \"\"\"Your awesome function\"\"\"\n",
    "    # color, target = mixer_opt1.run_cuvette(...)\n",
    "    # score = red_squared(color, target)  # Replace with your \"score\" function\n",
    "    # data.append(color)\n",
    "    return score"
   ]
  },
  {
   "cell_type": "code",
   "execution_count": 27,
   "metadata": {},
   "outputs": [],
   "source": [
    "# TEACHER\n",
    "\n",
    "def find_color(color_list):\n",
    "    color, target = mixer_opt1.run_cuvette(color_list, read_target=True)\n",
    "    score = root_sum_sqr_err(color, target)\n",
    "    return score"
   ]
  },
  {
   "cell_type": "markdown",
   "metadata": {},
   "source": [
    "We halfway solve the second issue by changing optimizer such that we now use `L-BFGS-B` optimizer, which accept bounds. Give the function a starting point and run the minimization. Again, you should try different values of `eps` and `gtol` and possibly also `maxiter` this time."
   ]
  },
  {
   "cell_type": "code",
   "execution_count": 28,
   "metadata": {},
   "outputs": [],
   "source": [
    "x0 = [0.1, 0.1, 0.1, 0.1]"
   ]
  },
  {
   "cell_type": "code",
   "execution_count": 29,
   "metadata": {},
   "outputs": [
    {
     "data": {
      "text/plain": [
       "      fun: 6.684873536630466\n",
       " hess_inv: <4x4 LbfgsInvHessProduct with dtype=float64>\n",
       "      jac: array([31.45659912, 20.95109082, 21.77842063,  6.10214583])\n",
       "  message: b'STOP: TOTAL NO. of ITERATIONS REACHED LIMIT'\n",
       "     nfev: 20\n",
       "      nit: 3\n",
       "   status: 1\n",
       "  success: False\n",
       "        x: array([0.94307965, 0.03370683, 0.11853745, 1.        ])"
      ]
     },
     "execution_count": 29,
     "metadata": {},
     "output_type": "execute_result"
    }
   ],
   "source": [
    "data=[]\n",
    "\n",
    "res = minimize(find_color, x0, method='L-BFGS-B',\n",
    "               bounds = 4*[[0.0, 1.0]], \n",
    "               options={'disp': True, 'eps': 0.1, 'maxiter': 3, 'gtol': 0.1})\n",
    "res"
   ]
  },
  {
   "cell_type": "markdown",
   "metadata": {},
   "source": [
    "You cannot see how the optimization is progressing. Edit your `find_color` function such that you can collect data and visualize the optimization. You should produce some nice plots. Below are some cells for you to play with. Add more as needed."
   ]
  },
  {
   "cell_type": "code",
   "execution_count": null,
   "metadata": {},
   "outputs": [],
   "source": []
  },
  {
   "cell_type": "code",
   "execution_count": null,
   "metadata": {},
   "outputs": [],
   "source": []
  },
  {
   "cell_type": "code",
   "execution_count": null,
   "metadata": {},
   "outputs": [],
   "source": []
  },
  {
   "cell_type": "code",
   "execution_count": 30,
   "metadata": {},
   "outputs": [],
   "source": [
    "# TEACHER\n",
    "def find_color(color_list):\n",
    "    color, target = mixer_opt1.run_cuvette(color_list, read_target=True)\n",
    "    score = root_sum_sqr_err(color, target)\n",
    "    data_opt1.append(color)\n",
    "    data_pie.append([score, list(color_list)])\n",
    "    return score"
   ]
  },
  {
   "cell_type": "code",
   "execution_count": 31,
   "metadata": {},
   "outputs": [
    {
     "data": {
      "text/plain": [
       "      fun: 6.684873536630466\n",
       " hess_inv: <4x4 LbfgsInvHessProduct with dtype=float64>\n",
       "      jac: array([31.45659912, 20.95109082, 21.77842063,  6.10214583])\n",
       "  message: b'STOP: TOTAL NO. of ITERATIONS REACHED LIMIT'\n",
       "     nfev: 20\n",
       "      nit: 3\n",
       "   status: 1\n",
       "  success: False\n",
       "        x: array([0.94307965, 0.03370683, 0.11853745, 1.        ])"
      ]
     },
     "execution_count": 31,
     "metadata": {},
     "output_type": "execute_result"
    }
   ],
   "source": [
    "# TEACHER\n",
    "data_opt1=[]\n",
    "data_pie=[]\n",
    "\n",
    "res = minimize(find_color, x0, method='L-BFGS-B',\n",
    "               bounds = 4*[[0.0, 1.0]], \n",
    "               options={'disp': True, 'eps': 0.1, 'maxiter': 3, 'gtol': 0.1})\n",
    "res"
   ]
  },
  {
   "cell_type": "code",
   "execution_count": 32,
   "metadata": {},
   "outputs": [
    {
     "data": {
      "text/plain": [
       "<matplotlib.image.AxesImage at 0x7f70259f14e0>"
      ]
     },
     "execution_count": 32,
     "metadata": {},
     "output_type": "execute_result"
    },
    {
     "data": {
      "image/png": "[encoded data removed]",
      "text/plain": [
       "<Figure size 432x288 with 1 Axes>"
      ]
     },
     "metadata": {
      "needs_background": "light"
     },
     "output_type": "display_data"
    }
   ],
   "source": [
    "# TEACHER\n",
    "\n",
    "per_line = 20\n",
    "data_opt1 = [target0] + [(255.,255.,255.)] +  data_opt1\n",
    "data_opt_vis = data_opt1 + [(255., 255., 255.)] * ((per_line - len(data_opt1) % per_line))\n",
    "plt.axis('off')\n",
    "data_array = np.asarray(data_opt_vis).reshape(int(len(data_opt_vis)/per_line), per_line, 3)\n",
    "plt.imshow(np.asarray(data_array, dtype=np.uint8))"
   ]
  },
  {
   "cell_type": "code",
   "execution_count": 33,
   "metadata": {},
   "outputs": [
    {
     "data": {
      "image/png": "[encoded data removed]",
      "text/plain": [
       "<Figure size 432x288 with 1 Axes>"
      ]
     },
     "metadata": {
      "needs_background": "light"
     },
     "output_type": "display_data"
    }
   ],
   "source": [
    "make_piechart_plot(data_pie, colors=base_colors_matrix)\n",
    "#print(data_pie)"
   ]
  },
  {
   "cell_type": "markdown",
   "metadata": {},
   "source": [
    "Once you feel like you have some good plots you are ready to try simulating the LEGO robot. The LEGO robot will have to reset or break after every 9 function evalutions due to having filled all mixing cuvettes. We also have to consider noise. Load a mixer with noise."
   ]
  },
  {
   "cell_type": "code",
   "execution_count": 34,
   "metadata": {},
   "outputs": [],
   "source": [
    "mixer_opt2 = SilicoColorMixer(target=target0)"
   ]
  },
  {
   "cell_type": "markdown",
   "metadata": {},
   "source": [
    "Input your `find_color` function in the cell below, update it to use the new mixer renaming it `find_color2`, and run the cell."
   ]
  },
  {
   "cell_type": "code",
   "execution_count": 35,
   "metadata": {},
   "outputs": [],
   "source": [
    "# def find_color2(color_list):\n",
    "#     ..."
   ]
  },
  {
   "cell_type": "code",
   "execution_count": 36,
   "metadata": {},
   "outputs": [],
   "source": [
    "# TEACHER\n",
    "\n",
    "data_opt1=[]\n",
    "data_pie=[]\n",
    "\n",
    "def find_color2(color_list):\n",
    "    color, target = mixer_opt2.run_cuvette(color_list, read_target=True)\n",
    "    score = root_sum_sqr_err(color, target)\n",
    "    data_opt1.append(color)\n",
    "    data_pie.append([score, list(color_list)])\n",
    "    return score"
   ]
  },
  {
   "cell_type": "markdown",
   "metadata": {},
   "source": [
    "It is possible to force the `find_color` function to raise an error after more than 9 function calls, but it is better to set a maximum number of function evaluations in the optimizer if it allows it. Here `maxfun` (what a name!) is given."
   ]
  },
  {
   "cell_type": "code",
   "execution_count": 37,
   "metadata": {},
   "outputs": [
    {
     "data": {
      "text/plain": [
       "      fun: 19.1049731745428\n",
       " hess_inv: <4x4 LbfgsInvHessProduct with dtype=float64>\n",
       "      jac: array([  12.42016775,   -6.93020535, -115.55138739,  -25.52027817])\n",
       "  message: b'STOP: TOTAL NO. of f AND g EVALUATIONS EXCEEDS LIMIT'\n",
       "     nfev: 10\n",
       "      nit: 1\n",
       "   status: 1\n",
       "  success: False\n",
       "        x: array([1., 0., 0., 1.])"
      ]
     },
     "execution_count": 37,
     "metadata": {},
     "output_type": "execute_result"
    }
   ],
   "source": [
    "res = minimize(find_color2, x0, method='L-BFGS-B',\n",
    "               bounds = 4*[[0.0, 1.0]], \n",
    "               options={'disp': True, 'eps': 0.1, 'maxiter': 3, 'gtol': 0.1, 'maxfun': 9})\n",
    "res"
   ]
  },
  {
   "cell_type": "markdown",
   "metadata": {},
   "source": [
    "Not surprisingly, 9 function evaluations is not enough to get anywhere. We can even see that the optimizer actually makes more than 9 evaluations. As you will learn later, the LEGO robot control software would have killed the optimization before even one step could be taken. To prevent this from happening, we force the `find_color2` function to wait for our go-ahead every time 9 function evaluations have been made. go ahead finish the function."
   ]
  },
  {
   "cell_type": "code",
   "execution_count": 38,
   "metadata": {},
   "outputs": [],
   "source": [
    "func_calls=[0]\n",
    "\n",
    "def find_color2(color_list, func_calls=func_calls):  \n",
    "    color, target = mixer_opt2.run_cuvette(color_list, read_target=True)\n",
    "    # ...\n",
    "    # ...\n",
    "    \n",
    "    func_calls[0] += 1\n",
    "    if func_calls[0] % 9 == 0:\n",
    "        input('Have cuvettes other than #5 emptied. Then press Enter')\n",
    "        # When LEGO - set the next cuvette to 1 here\n",
    "    return score"
   ]
  },
  {
   "cell_type": "code",
   "execution_count": 39,
   "metadata": {},
   "outputs": [],
   "source": [
    "# TEACHER\n",
    "data_opt1=[]\n",
    "data_pie=[]\n",
    "func_calls=[0]\n",
    "\n",
    "def find_color2(color_list, func_calls=func_calls):  \n",
    "    color, target = mixer_opt2.run_cuvette(color_list, read_target=True)\n",
    "    score = root_sum_sqr_err(color, target)\n",
    "    data_opt1.append(color)\n",
    "    data_pie.append([score, list(color_list)])\n",
    "    \n",
    "    func_calls[0] += 1\n",
    "    if func_calls[0] % 9 == 0:\n",
    "        input('Have cuvettes other than #5 emptied. Then press Enter')\n",
    "        # When LEGO set the next cuvette to 1 here\n",
    "    return score"
   ]
  },
  {
   "cell_type": "markdown",
   "metadata": {},
   "source": [
    "It is not all that pretty, but it works. Try it out. Note that with a noisy mixer, getting especially `eps` right is important. "
   ]
  },
  {
   "cell_type": "code",
   "execution_count": 40,
   "metadata": {},
   "outputs": [
    {
     "name": "stdout",
     "output_type": "stream",
     "text": [
      "Have cuvettes other than #5 emptied. Then press Enter\n",
      "Have cuvettes other than #5 emptied. Then press Enter\n",
      "Have cuvettes other than #5 emptied. Then press Enter\n",
      "Have cuvettes other than #5 emptied. Then press Enter\n",
      "Have cuvettes other than #5 emptied. Then press Enter\n",
      "Have cuvettes other than #5 emptied. Then press Enter\n"
     ]
    },
    {
     "data": {
      "text/plain": [
       "      fun: 7.0710678118654755\n",
       " hess_inv: <4x4 LbfgsInvHessProduct with dtype=float64>\n",
       "      jac: array([45.04769091, 50.11978162, 47.18758311, -5.90327113])\n",
       "  message: b'CONVERGENCE: REL_REDUCTION_OF_F_<=_FACTR*EPSMCH'\n",
       "     nfev: 60\n",
       "      nit: 3\n",
       "   status: 0\n",
       "  success: True\n",
       "        x: array([1.        , 0.09487998, 0.12613799, 1.        ])"
      ]
     },
     "execution_count": 40,
     "metadata": {},
     "output_type": "execute_result"
    }
   ],
   "source": [
    "func_calls=[0]\n",
    "\n",
    "res = minimize(find_color2, x0, method='L-BFGS-B',\n",
    "               bounds = 4*[[0.0, 1.0]], \n",
    "               options={'disp': True, 'eps': 0.1, 'maxiter': 5, 'gtol': 0.1, 'maxfun':100})\n",
    "res"
   ]
  },
  {
   "cell_type": "markdown",
   "metadata": {},
   "source": [
    "Now, update the `find_color2` function such that it produces one or more figures for every 9 function evaluations to help you keep track on the progress. Remember, you can always stop the optimization prematurely if you think you are sufficietly converged."
   ]
  },
  {
   "cell_type": "code",
   "execution_count": 41,
   "metadata": {},
   "outputs": [],
   "source": [
    "func_calls=[0]\n",
    "\n",
    "def find_color2(color_list, func_calls=func_calls):  \n",
    "    color, target = mixer_opt2.run_cuvette(color_list, read_target=True)\n",
    "    # ...\n",
    "    # ...\n",
    "    \n",
    "    func_calls[0] += 1\n",
    "    if func_calls[0] % 9 == 0:\n",
    "        display.clear_output(wait=True) # This will help you remove figures as you go\n",
    "        # Your figure plot commands\n",
    "        input('Have cuvettes other than #5 emptied. Then press Enter')\n",
    "        # When LEGO - set the next cuvette to 1 here\n",
    "    return score"
   ]
  },
  {
   "cell_type": "code",
   "execution_count": 42,
   "metadata": {},
   "outputs": [],
   "source": [
    "# TEACHER\n",
    "data_opt1=[]\n",
    "data_pie0=[]\n",
    "func_calls=[0]\n",
    "\n",
    "def find_color2(color_list, func_calls=func_calls):\n",
    "    color, target = mixer_opt2.run_cuvette(color_list, read_target=True)\n",
    "    score = root_sum_sqr_err(color, target)\n",
    "    print('color:', color, 'target:', target, 'input:', color_list, 'score:', score)      # NOTICE THIS\n",
    "    data_opt1.append(color)\n",
    "    data_pie0.append([score, list(color_list)])\n",
    "    \n",
    "    func_calls[0] += 1\n",
    "    if func_calls[0] % 9 == 0:\n",
    "        #display.clear_output(wait=True)                 # NOTICE THIS\n",
    "        plt.axis('off')\n",
    "        plt.imshow(np.array([data_opt1], dtype=np.uint8))\n",
    "        make_piechart_plot(data_pie0, colors=base_colors_matrix)\n",
    "        input('Have cuvettes other than #5 emptied. Then press Enter')\n",
    "        # When LEGO set the next cuvette to 1 here\n",
    "    return score"
   ]
  },
  {
   "cell_type": "code",
   "execution_count": 43,
   "metadata": {},
   "outputs": [
    {
     "name": "stdout",
     "output_type": "stream",
     "text": [
      "color: (149.0, 138.0, 73.0) target: (220, 141, 50) input: [0.1 0.1 0.1 0.1] score: 74.69270379361026\n",
      "color: (162.0, 117.0, 66.0) target: (220, 141, 50) input: [0.2 0.1 0.1 0.1] score: 64.77653896280658\n",
      "color: (129.0, 150.0, 60.0) target: (220, 141, 50) input: [0.1 0.2 0.1 0.1] score: 91.98912979260103\n",
      "color: (128.0, 119.0, 102.0) target: (220, 141, 50) input: [0.1 0.1 0.2 0.1] score: 107.94443014810908\n",
      "color: (167.0, 162.0, 63.0) target: (220, 141, 50) input: [0.1 0.1 0.1 0.2] score: 58.47221562417487\n",
      "color: (236.0, 138.0, 33.0) target: (220, 141, 50) input: [1. 0. 0. 1.] score: 23.53720459187964\n",
      "color: (237.0, 135.0, 35.0) target: (220, 141, 50) input: [1.1 0.  0.  1. ] score: 23.45207879911715\n",
      "color: (229.0, 142.0, 36.0) target: (220, 141, 50) input: [1.  0.1 0.  1. ] score: 16.673332000533065\n",
      "color: (226.0, 142.0, 47.0) target: (220, 141, 50) input: [1.  0.  0.1 1. ] score: 6.782329983125268\n"
     ]
    },
    {
     "data": {
      "image/png": "[encoded data removed]",
      "text/plain": [
       "<Figure size 432x288 with 1 Axes>"
      ]
     },
     "metadata": {
      "needs_background": "light"
     },
     "output_type": "display_data"
    },
    {
     "data": {
      "image/png": "[encoded data removed]",
      "text/plain": [
       "<Figure size 432x288 with 1 Axes>"
      ]
     },
     "metadata": {
      "needs_background": "light"
     },
     "output_type": "display_data"
    },
    {
     "name": "stdout",
     "output_type": "stream",
     "text": [
      "Have cuvettes other than #5 emptied. Then press Enter\n",
      "color: (237.0, 143.0, 36.0) target: (220, 141, 50) input: [1.  0.  0.  1.1] score: 22.11334438749598\n",
      "color: (224.0, 135.0, 46.0) target: (220, 141, 50) input: [1.         0.0276515  0.07870906 1.        ] score: 8.246211251235321\n",
      "color: (222.0, 131.0, 40.0) target: (220, 141, 50) input: [1.1        0.0276515  0.07870906 1.        ] score: 14.2828568570857\n",
      "color: (220.0, 144.0, 36.0) target: (220, 141, 50) input: [1.         0.1276515  0.07870906 1.        ] score: 14.317821063276353\n",
      "color: (218.0, 138.0, 47.0) target: (220, 141, 50) input: [1.         0.0276515  0.17870906 1.        ] score: 4.69041575982343\n",
      "color: (227.0, 139.0, 41.0) target: (220, 141, 50) input: [1.         0.0276515  0.07870906 1.1       ] score: 11.575836902790225\n",
      "color: (188.0, 125.0, 67.0) target: (220, 141, 50) input: [0.62230371 0.10366494 0.31852959 0.63720811] score: 39.61060464067672\n",
      "color: (194.0, 128.0, 62.0) target: (220, 141, 50) input: [0.72230371 0.10366494 0.31852959 0.63720811] score: 31.448370387032774\n",
      "color: (184.0, 139.0, 61.0) target: (220, 141, 50) input: [0.62230371 0.20366494 0.31852959 0.63720811] score: 37.69615364994153\n"
     ]
    },
    {
     "data": {
      "image/png": "[encoded data removed]",
      "text/plain": [
       "<Figure size 432x288 with 1 Axes>"
      ]
     },
     "metadata": {
      "needs_background": "light"
     },
     "output_type": "display_data"
    },
    {
     "data": {
      "image/png": "[encoded data removed]",
      "text/plain": [
       "<Figure size 432x288 with 1 Axes>"
      ]
     },
     "metadata": {
      "needs_background": "light"
     },
     "output_type": "display_data"
    },
    {
     "name": "stdout",
     "output_type": "stream",
     "text": [
      "Have cuvettes other than #5 emptied. Then press Enter\n",
      "color: (181.0, 123.0, 78.0) target: (220, 141, 50) input: [0.62230371 0.10366494 0.41852959 0.63720811] score: 51.273774973177076\n",
      "color: (195.0, 134.0, 63.0) target: (220, 141, 50) input: [0.62230371 0.10366494 0.31852959 0.73720811] score: 29.03446228191595\n",
      "color: (218.0, 135.0, 47.0) target: (220, 141, 50) input: [0.90055978 0.04766439 0.14184922 0.90448382] score: 7.0\n",
      "color: (214.0, 132.0, 48.0) target: (220, 141, 50) input: [1.00055978 0.04766439 0.14184922 0.90448382] score: 11.0\n",
      "color: (206.0, 140.0, 44.0) target: (220, 141, 50) input: [0.90055978 0.14766439 0.14184922 0.90448382] score: 15.264337522473747\n",
      "color: (208.0, 132.0, 55.0) target: (220, 141, 50) input: [0.90055978 0.04766439 0.24184922 0.90448382] score: 15.811388300841896\n",
      "color: (219.0, 141.0, 44.0) target: (220, 141, 50) input: [0.90055978 0.04766439 0.14184922 1.00448382] score: 6.082762530298219\n",
      "color: (224.0, 139.0, 52.0) target: (220, 141, 50) input: [0.88965381 0.02275568 0.11738864 0.92253973] score: 4.898979485566356\n",
      "color: (222.0, 135.0, 44.0) target: (220, 141, 50) input: [0.98965381 0.02275568 0.11738864 0.92253973] score: 8.717797887081348\n"
     ]
    },
    {
     "data": {
      "image/png": "[encoded data removed]",
      "text/plain": [
       "<Figure size 432x288 with 1 Axes>"
      ]
     },
     "metadata": {
      "needs_background": "light"
     },
     "output_type": "display_data"
    },
    {
     "data": {
      "image/png": "[encoded data removed]",
      "text/plain": [
       "<Figure size 432x288 with 1 Axes>"
      ]
     },
     "metadata": {
      "needs_background": "light"
     },
     "output_type": "display_data"
    },
    {
     "name": "stdout",
     "output_type": "stream",
     "text": [
      "Have cuvettes other than #5 emptied. Then press Enter\n",
      "color: (213.0, 141.0, 45.0) target: (220, 141, 50) input: [0.88965381 0.12275568 0.11738864 0.92253973] score: 8.602325267042627\n",
      "color: (209.0, 128.0, 55.0) target: (220, 141, 50) input: [0.88965381 0.02275568 0.21738864 0.92253973] score: 17.74823934929885\n",
      "color: (223.0, 141.0, 45.0) target: (220, 141, 50) input: [0.88965381 0.02275568 0.11738864 1.02253973] score: 5.830951894845301\n"
     ]
    },
    {
     "data": {
      "text/plain": [
       "      fun: 4.898979485566356\n",
       " hess_inv: <4x4 LbfgsInvHessProduct with dtype=float64>\n",
       "      jac: array([ 38.18818402,  37.03345781, 128.49259864,   9.31972409])\n",
       "  message: b'STOP: TOTAL NO. of ITERATIONS REACHED LIMIT'\n",
       "     nfev: 30\n",
       "      nit: 4\n",
       "   status: 1\n",
       "  success: False\n",
       "        x: array([0.88965381, 0.02275568, 0.11738864, 0.92253973])"
      ]
     },
     "execution_count": 43,
     "metadata": {},
     "output_type": "execute_result"
    }
   ],
   "source": [
    "func_calls=[0]\n",
    "\n",
    "res = minimize(find_color2, x0, method='L-BFGS-B',\n",
    "               bounds = 4*[[0.0, 1.0]], \n",
    "               options={'disp': True, 'eps': 0.1, 'maxiter': 4, 'gtol': 0.1, 'maxfun':60})\n",
    "res"
   ]
  },
  {
   "cell_type": "markdown",
   "metadata": {},
   "source": [
    "This ends todays exercise. Good job! "
   ]
  },
  {
   "cell_type": "markdown",
   "metadata": {},
   "source": [
    "# TRASH  BELOW"
   ]
  },
  {
   "cell_type": "code",
   "execution_count": null,
   "metadata": {},
   "outputs": [],
   "source": []
  },
  {
   "cell_type": "code",
   "execution_count": null,
   "metadata": {},
   "outputs": [],
   "source": []
  },
  {
   "cell_type": "code",
   "execution_count": null,
   "metadata": {},
   "outputs": [],
   "source": []
  },
  {
   "cell_type": "code",
   "execution_count": null,
   "metadata": {},
   "outputs": [],
   "source": []
  },
  {
   "cell_type": "code",
   "execution_count": null,
   "metadata": {},
   "outputs": [],
   "source": []
  },
  {
   "cell_type": "code",
   "execution_count": null,
   "metadata": {},
   "outputs": [],
   "source": []
  },
  {
   "cell_type": "markdown",
   "metadata": {},
   "source": [
    "Note, you might want to use a different value of `x`, i.e. the recipe for mixing the target color, than the one resulting from the optimization. If you have saved scores and color_list data, like the type you have used to make the pie charts, you can search through that for the lowest possible score and take that as your result."
   ]
  },
  {
   "cell_type": "code",
   "execution_count": 44,
   "metadata": {},
   "outputs": [
    {
     "name": "stdout",
     "output_type": "stream",
     "text": [
      "[6.4031242374328485, [0.9999999999610327, 0.09487998340951871, 0.12613798484711383, 1.1]]\n"
     ]
    }
   ],
   "source": [
    "# Teacher\n",
    "idx = np.asarray(data_pie)[:,0].argmin()\n",
    "print(data_pie[idx])"
   ]
  },
  {
   "cell_type": "code",
   "execution_count": null,
   "metadata": {},
   "outputs": [],
   "source": []
  },
  {
   "cell_type": "code",
   "execution_count": null,
   "metadata": {},
   "outputs": [],
   "source": []
  },
  {
   "cell_type": "code",
   "execution_count": null,
   "metadata": {},
   "outputs": [],
   "source": []
  },
  {
   "cell_type": "markdown",
   "metadata": {},
   "source": [
    "You should see something like this:"
   ]
  },
  {
   "cell_type": "raw",
   "metadata": {},
   "source": [
    "Warning: Desired error not necessarily achieved due to precision loss."
   ]
  },
  {
   "cell_type": "markdown",
   "metadata": {},
   "source": [
    "Let us just see which colors were found compared to the taget color. First we plot the target color and then all other colors that have been mixed during the optimization."
   ]
  },
  {
   "cell_type": "code",
   "execution_count": 45,
   "metadata": {},
   "outputs": [
    {
     "data": {
      "text/plain": [
       "<matplotlib.image.AxesImage at 0x7f7025926550>"
      ]
     },
     "metadata": {},
     "output_type": "display_data"
    },
    {
     "data": {
      "image/png": "[encoded data removed]",
      "text/plain": [
       "<Figure size 432x288 with 1 Axes>"
      ]
     },
     "metadata": {
      "needs_background": "light"
     },
     "output_type": "display_data"
    },
    {
     "data": {
      "text/plain": [
       "<matplotlib.image.AxesImage at 0x7f7025521828>"
      ]
     },
     "execution_count": 45,
     "metadata": {},
     "output_type": "execute_result"
    },
    {
     "data": {
      "image/png": "[encoded data removed]",
      "text/plain": [
       "<Figure size 432x288 with 1 Axes>"
      ]
     },
     "metadata": {
      "needs_background": "light"
     },
     "output_type": "display_data"
    }
   ],
   "source": [
    "plt.axis('off')\n",
    "#plt.imshow(np.array([[target0]], dtype=np.uint8))\n",
    "display.display(plt.imshow(np.array([[target0]], dtype=np.uint8)))\n",
    "plt.show()\n",
    "data_opt_vis = data_opt1 + [(255., 255., 255.)] * (10 - len(data_opt1) % 10)\n",
    "plt.axis('off')\n",
    "data_array = np.asarray(data_opt_vis).reshape(int(len(data_opt_vis)/10), 10, 3)\n",
    "plt.imshow(np.asarray(data_array, dtype=np.uint8))"
   ]
  },
  {
   "cell_type": "code",
   "execution_count": 46,
   "metadata": {},
   "outputs": [
    {
     "data": {
      "text/plain": [
       "<matplotlib.image.AxesImage at 0x7f70254e8978>"
      ]
     },
     "execution_count": 46,
     "metadata": {},
     "output_type": "execute_result"
    },
    {
     "data": {
      "image/png": "[encoded data removed]",
      "text/plain": [
       "<Figure size 432x288 with 1 Axes>"
      ]
     },
     "metadata": {
      "needs_background": "light"
     },
     "output_type": "display_data"
    }
   ],
   "source": [
    "data_opt_vis = data_opt1 + [(255., 255., 255.)] * (10 - len(data_opt1) % 10)\n",
    "plt.axis('off')\n",
    "data_array = np.asarray(data_opt_vis).reshape(int(len(data_opt_vis)/10), 10, 3)\n",
    "plt.imshow(np.asarray(data_array, dtype=np.uint8))"
   ]
  },
  {
   "cell_type": "markdown",
   "metadata": {},
   "source": [
    "The first issue is the noise. Lets turn that of completely."
   ]
  },
  {
   "cell_type": "code",
   "execution_count": 47,
   "metadata": {},
   "outputs": [],
   "source": [
    "mixer_opt1 = SilicoColorMixer(target=target0, noise=False)"
   ]
  },
  {
   "cell_type": "markdown",
   "metadata": {},
   "source": [
    "The second is that the function we are trying to optimize does not actually have a minimum. `[1,1,1,1] = [0.1, 0.1, 0.1, 0.1]`. The score only depends on the ratio of the inputs and not their numerical value. Some optimizers can accept linear constraints, which would help us, but since that it not generally the case we will instead use a \"filter function\" that generates a minimum in our function when we multiply the score with the filter value.\n",
    "\n",
    "We first use a normal distribution as the filter function."
   ]
  },
  {
   "cell_type": "code",
   "execution_count": 48,
   "metadata": {},
   "outputs": [
    {
     "data": {
      "text/plain": [
       "0.06495875944111162"
      ]
     },
     "execution_count": 48,
     "metadata": {},
     "output_type": "execute_result"
    },
    {
     "data": {
      "image/png": "[encoded data removed]",
      "text/plain": [
       "<Figure size 432x288 with 1 Axes>"
      ]
     },
     "metadata": {
      "needs_background": "light"
     },
     "output_type": "display_data"
    }
   ],
   "source": [
    "def filter_func(color_list):\n",
    "    #limit_below = np.any(np.asarray(color_list) <= 0.0)\n",
    "    #print(limit_below)\n",
    "    #if limit_below:\n",
    "    #    return 200\n",
    "    col_sum = sum(color_list)\n",
    "    std = 2\n",
    "    mean = 1\n",
    "    norm_dist = 1./(std*(2.*np.pi)**0.5)*np.exp(-1./2.*((col_sum-mean)/std)**2)\n",
    "    return (100-1002*norm_dist/2)\n",
    "\n",
    "x=np.arange(0,3,0.05)\n",
    "plt.plot(x,filter_func([x]))\n",
    "filter_func([1.,0.,0.,0.])"
   ]
  },
  {
   "cell_type": "markdown",
   "metadata": {},
   "source": [
    "Find another function that could serve as filter.\n",
    "\n",
    "The new function to minimize is the product of the previous and the filter function."
   ]
  },
  {
   "cell_type": "code",
   "execution_count": 49,
   "metadata": {},
   "outputs": [],
   "source": [
    "def find_color_min(color_list):\n",
    "    #print(color_list, (find_color(color_list)+1) * filter_func(color_list))\n",
    "    return ((find_color(color_list) + 1) * filter_func(color_list))"
   ]
  },
  {
   "cell_type": "code",
   "execution_count": null,
   "metadata": {},
   "outputs": [],
   "source": []
  },
  {
   "cell_type": "code",
   "execution_count": null,
   "metadata": {},
   "outputs": [],
   "source": []
  },
  {
   "cell_type": "code",
   "execution_count": null,
   "metadata": {},
   "outputs": [],
   "source": []
  },
  {
   "cell_type": "code",
   "execution_count": 50,
   "metadata": {},
   "outputs": [
    {
     "ename": "TypeError",
     "evalue": "unsupported operand type(s) for /: 'list' and 'float'",
     "output_type": "error",
     "traceback": [
      "\u001b[0;31m---------------------------------------------------------------------------\u001b[0m",
      "\u001b[0;31mTypeError\u001b[0m                                 Traceback (most recent call last)",
      "\u001b[0;32m<ipython-input-50-a03c199000e9>\u001b[0m in \u001b[0;36m<module>\u001b[0;34m\u001b[0m\n\u001b[0;32m----> 1\u001b[0;31m \u001b[0mx0\u001b[0m \u001b[0;34m=\u001b[0m \u001b[0mx0\u001b[0m\u001b[0;34m/\u001b[0m\u001b[0msum\u001b[0m\u001b[0;34m(\u001b[0m\u001b[0mx0\u001b[0m\u001b[0;34m)\u001b[0m\u001b[0;34m\u001b[0m\u001b[0;34m\u001b[0m\u001b[0m\n\u001b[0m\u001b[1;32m      2\u001b[0m \u001b[0;31m# x0 = [0.26483819,  0.75270829,  0.96769502, -0.65597114]\u001b[0m\u001b[0;34m\u001b[0m\u001b[0;34m\u001b[0m\u001b[0;34m\u001b[0m\u001b[0m\n\u001b[1;32m      3\u001b[0m \u001b[0mx0\u001b[0m \u001b[0;34m=\u001b[0m \u001b[0;34m[\u001b[0m\u001b[0;36m0.25\u001b[0m\u001b[0;34m,\u001b[0m \u001b[0;36m0.25\u001b[0m\u001b[0;34m,\u001b[0m \u001b[0;36m0.25\u001b[0m\u001b[0;34m,\u001b[0m \u001b[0;36m0.25\u001b[0m\u001b[0;34m]\u001b[0m\u001b[0;34m\u001b[0m\u001b[0;34m\u001b[0m\u001b[0m\n",
      "\u001b[0;31mTypeError\u001b[0m: unsupported operand type(s) for /: 'list' and 'float'"
     ]
    }
   ],
   "source": [
    "x0 = x0/sum(x0)\n",
    "# x0 = [0.26483819,  0.75270829,  0.96769502, -0.65597114]\n",
    "x0 = [0.25, 0.25, 0.25, 0.25]"
   ]
  },
  {
   "cell_type": "code",
   "execution_count": null,
   "metadata": {},
   "outputs": [],
   "source": [
    "data_opt1 = []\n",
    "res = minimize(find_color, x0, method='CG' , options={'disp': True, 'maxiter':3, 'eps':0.1})# 'gtol': 100, 'eps':0.001})\n",
    "print(res.x)"
   ]
  },
  {
   "cell_type": "code",
   "execution_count": null,
   "metadata": {},
   "outputs": [],
   "source": [
    "data_opt_vis = data_opt1 + [(255., 255., 255.)] * (10 - len(data_opt1) % 10)\n",
    "plt.axis('off')\n",
    "data_array = np.asarray(data_opt_vis).reshape(int(len(data_opt_vis)/10), 10, 3)\n",
    "plt.imshow(np.asarray(data_array, dtype=np.uint8))"
   ]
  },
  {
   "cell_type": "code",
   "execution_count": null,
   "metadata": {},
   "outputs": [],
   "source": [
    "import time\n",
    "from IPython import display\n",
    "\n",
    "for maxi in range(10):\n",
    "    display.clear_output(wait=True)\n",
    "    data_opt1 = []\n",
    "    res = minimize(find_color, x0, method='CG', options={'disp': True, 'maxiter': maxi+1,'eps': 0.1})# 'gtol': 100, 'eps':0.001})\n",
    "    print(res.x)\n",
    "    data_opt_vis = data_opt1 + [(255., 255., 255.)] * (10 - len(data_opt1) % 10)\n",
    "    plt.axis('off')\n",
    "    data_array = np.asarray(data_opt_vis).reshape(int(len(data_opt_vis)/10), 10, 3)\n",
    "    #plt.imshow(np.asarray(data_array, dtype=np.uint8))\n",
    "    \n",
    "    display.display(plt.imshow(np.asarray(data_array, dtype=np.uint8)))\n",
    "    plt.show()\n",
    "    time.sleep(3)"
   ]
  },
  {
   "cell_type": "markdown",
   "metadata": {},
   "source": []
  },
  {
   "cell_type": "code",
   "execution_count": null,
   "metadata": {},
   "outputs": [],
   "source": [
    "try:\n",
    "    from noisyopt import minimizeCompass\n",
    "except:\n",
    "    !pip3 install noisyopt --user --upgrade\n",
    "    from noisyopt import minimizeCompass"
   ]
  },
  {
   "cell_type": "code",
   "execution_count": null,
   "metadata": {},
   "outputs": [],
   "source": [
    "bounds = 4*[[0.0, 1.0]]"
   ]
  },
  {
   "cell_type": "code",
   "execution_count": null,
   "metadata": {},
   "outputs": [],
   "source": [
    "print(bounds)"
   ]
  },
  {
   "cell_type": "code",
   "execution_count": null,
   "metadata": {},
   "outputs": [],
   "source": [
    "data_opt1 = []\n",
    "res = minimizeCompass(find_color, bounds=bounds, x0=x0, deltatol=0.1, paired=False, feps=0.1, eps=0.2, disp=True)\n",
    "#res = minimizeCompass(find_color, x0=x0, deltatol=0.1, paired=False, feps=1, disp=True)"
   ]
  },
  {
   "cell_type": "code",
   "execution_count": null,
   "metadata": {},
   "outputs": [],
   "source": [
    "print(res)"
   ]
  },
  {
   "cell_type": "code",
   "execution_count": null,
   "metadata": {},
   "outputs": [],
   "source": [
    "data_opt_vis = data_opt1 + [(255., 255., 255.)] * (10 - len(data_opt1) % 10)\n",
    "plt.axis('off')\n",
    "data_array = np.asarray(data_opt_vis).reshape(int(len(data_opt_vis)/10), 10, 3)\n",
    "plt.imshow(np.asarray(data_array, dtype=np.uint8))"
   ]
  },
  {
   "cell_type": "markdown",
   "metadata": {},
   "source": [
    "We thus have to keep our ultimate usecase in mind, i.e., running the LEGO robot, when deciding on an optimizer. The LEGO will have to reset or break after every 9 function evalutions due to having filled all mixing cuvettes and each function evaluation takes minuttes. We thus want an optimizer that uses only few function evaluations.\n",
    "\n"
   ]
  },
  {
   "cell_type": "code",
   "execution_count": null,
   "metadata": {},
   "outputs": [],
   "source": []
  }
 ],
 "metadata": {
  "kernelspec": {
   "display_name": "Python 3",
   "language": "python",
   "name": "python3"
  },
  "language_info": {
   "codemirror_mode": {
    "name": "ipython",
    "version": 3
   },
   "file_extension": ".py",
   "mimetype": "text/x-python",
   "name": "python",
   "nbconvert_exporter": "python",
   "pygments_lexer": "ipython3",
   "version": "3.6.13"
  }
 },
 "nbformat": 4,
 "nbformat_minor": 2
}
