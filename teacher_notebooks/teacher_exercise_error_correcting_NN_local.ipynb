{
 "cells": [
  {
   "cell_type": "markdown",
   "metadata": {},
   "source": [
    "# Exercise: Error correcting Neural Networks"
   ]
  },
  {
   "cell_type": "markdown",
   "metadata": {},
   "source": [
    "This is a rather long exercise where you will put most of what you have learned during the exercises to good use. The majority of it can be done without use of the LEGO robot so you can finish on your own time if you do not finish today. \n",
    "\n",
    "During this exercise we will train an error correcting neural network. The method is the similar to that employed by the group of [Anatole v. Lilienfeld's group for electronic structure calculations of molecules](https://pubs.acs.org/doi/10.1021/acs.jctc.5b00099) ([arxiv](https://arxiv.org/abs/1503.04987)). Generating data is rather expensive with the LEGO robots, and we cannot mix data from all 4 robots without inducing significant noise. We thus have to make as much as possible out of the precious data we have.\n",
    "\n",
    "You will:\n",
    " * Change the SilicoColorMixer model to be as similar to the LEGO as possible\n",
    " * Train a neural network to predict the error between the update SilicoColorMixer and AiLEGO_master (the robot) color mixer\n",
    " * Test performance "
   ]
  },
  {
   "cell_type": "markdown",
   "metadata": {},
   "source": [
    "Import all the modules and functions you think you will be needing today."
   ]
  },
  {
   "cell_type": "code",
   "execution_count": 1,
   "metadata": {},
   "outputs": [],
   "source": [
    "# import statements here"
   ]
  },
  {
   "cell_type": "code",
   "execution_count": 2,
   "metadata": {},
   "outputs": [],
   "source": [
    "# Teacher\n",
    "import numpy as np\n",
    "from IPython import display\n",
    "import matplotlib.pyplot as plt\n",
    "from plot_pie_charts import make_piechart_plot\n",
    "from silico_color_mixer import SilicoColorMixer\n",
    "from sklearn.neural_network import MLPRegressor\n",
    "from scipy.optimize import minimize"
   ]
  },
  {
   "cell_type": "markdown",
   "metadata": {},
   "source": [
    "We start with making sure you can actually do the last thing. Right now, most of the data you have on the robots are correlated as they originate from oprimization runs. We want to use some of this as a test dataset (dependent test set) but we also want a test dataset that is not correlated with the optimization runs. Run the robot to generate 9 data points where you decide the input list, like you did on the first robot day. This will be your independent data set. Use the cells below. You have done this before and can do it again; this time unassisted."
   ]
  },
  {
   "cell_type": "code",
   "execution_count": 3,
   "metadata": {},
   "outputs": [],
   "source": [
    "# for you to generate independent test data set on robot"
   ]
  },
  {
   "cell_type": "code",
   "execution_count": 4,
   "metadata": {},
   "outputs": [],
   "source": [
    "# for you to generate independent test data set on robot"
   ]
  },
  {
   "cell_type": "code",
   "execution_count": 5,
   "metadata": {},
   "outputs": [],
   "source": [
    "# for you to generate independent test data set on robot. Add more cells as needed"
   ]
  },
  {
   "cell_type": "markdown",
   "metadata": {},
   "source": [
    "## Change SilicoColorMixer"
   ]
  },
  {
   "cell_type": "markdown",
   "metadata": {},
   "source": [
    "Change the color mixer such that it is as similar to the LEGO robot as possible without changing the source code. By make sure the `SilicoColorMixer` and the robot are as similar as possible, you can use a smaller neural network to predict the error and require less training data.\n",
    "\n",
    "First, lets change the rgb codes of the used colors in the `SilicoColorMixer`. If you cannot remember how to do this, go back and reread the documentation of the `SilicoColorMixer` or open the DocString by initializing and pressing `Shift`+`Tab`."
   ]
  },
  {
   "cell_type": "code",
   "execution_count": 6,
   "metadata": {},
   "outputs": [],
   "source": [
    "from silico_color_mixer import SilicoColorMixer"
   ]
  },
  {
   "cell_type": "markdown",
   "metadata": {},
   "source": [
    "Initialize a mixer. We have plenty of noise in our lego data already so you can remove that. Change the colors such that the colors codes are that of the pure colors you have obtained with your robot. You should have those in your robot data. Pay attention to the input formats. You can find examples in the DocString."
   ]
  },
  {
   "cell_type": "code",
   "execution_count": 7,
   "metadata": {},
   "outputs": [],
   "source": [
    "# Cell for you to change colors used in SilicoColorMixer and initialize the mixer."
   ]
  },
  {
   "cell_type": "code",
   "execution_count": 8,
   "metadata": {},
   "outputs": [],
   "source": [
    "# Cell for you to change colors used in SilicoColorMixer and initialize the mixer. Add more as needed."
   ]
  },
  {
   "cell_type": "code",
   "execution_count": 9,
   "metadata": {},
   "outputs": [],
   "source": [
    "# Teacher\n",
    "rgb_codes = {'red': [88, 26, 70],   # \n",
    "             'green': [22, 72, 59],\n",
    "             'blue': [23, 117, 169],\n",
    "             'yellow': [61, 68, 45]}"
   ]
  },
  {
   "cell_type": "code",
   "execution_count": 10,
   "metadata": {},
   "outputs": [],
   "source": [
    "# Teacher\n",
    "mixer = SilicoColorMixer(colors=['red', 'green', 'blue', 'yellow'], color_codes=rgb_codes, noise=False)"
   ]
  },
  {
   "cell_type": "markdown",
   "metadata": {},
   "source": [
    "Try out your need updated silico mixer to make sure it works."
   ]
  },
  {
   "cell_type": "code",
   "execution_count": 11,
   "metadata": {},
   "outputs": [],
   "source": [
    "# Cell for you to try out the mixer. Add more cells as needed."
   ]
  },
  {
   "cell_type": "code",
   "execution_count": 12,
   "metadata": {},
   "outputs": [
    {
     "data": {
      "text/plain": [
       "(48.5, 70.75, 85.75)"
      ]
     },
     "execution_count": 12,
     "metadata": {},
     "output_type": "execute_result"
    }
   ],
   "source": [
    "# Teacher\n",
    "mixer.run_cuvette([1., 1., 1., 1.,])"
   ]
  },
  {
   "cell_type": "markdown",
   "metadata": {},
   "source": [
    "## Optimization of weights"
   ]
  },
  {
   "cell_type": "markdown",
   "metadata": {},
   "source": [
    "During the robot runs you might have noticed that the different colors have different strength. A little blue is very potent while you need a lot of yellow for the outcome to get a yellow tone. This difference if strength is also reflected in the measured rgb color codes. Update your silico model to reflect this by adding weights to each color input. \n",
    "\n",
    "It can be done using a wrapper function as the one below."
   ]
  },
  {
   "cell_type": "code",
   "execution_count": 13,
   "metadata": {},
   "outputs": [],
   "source": [
    "def run_cuvette_w_weights(colors_input):\n",
    "    w_r, w_g, w_b, w_y = 1., 1., 1., 1.\n",
    "    weighted_colors = [colors_input[0] * w_r,\n",
    "                       colors_input[1] * w_g,\n",
    "                       colors_input[2] * w_b,\n",
    "                       colors_input[3] * w_y]\n",
    "    return mixer.run_cuvette(weighted_colors)"
   ]
  },
  {
   "cell_type": "code",
   "execution_count": 14,
   "metadata": {},
   "outputs": [
    {
     "data": {
      "text/plain": [
       "(48.5, 70.75, 85.75)"
      ]
     },
     "execution_count": 14,
     "metadata": {},
     "output_type": "execute_result"
    }
   ],
   "source": [
    "run_cuvette_w_weights([1.,1.,1.,1.])"
   ]
  },
  {
   "cell_type": "markdown",
   "metadata": {},
   "source": [
    "In the above example, all the weights, `w_r` ect., are `1.`. You need to optimize those. Go find your robot data and find a datapoint with input `[0.25, 0.25, 0.25, 0.25]`. You should all have at least one of those. Reinitialize your silico mixer giving the rgb code you obtained from that datapoint as target. Based on this single data point and what you have learned so far, optimize the weights. You will need to write a new wrapper function that takes the weights as input.\n",
    "\n",
    "If you look closer at the `[0.25, 0.25, 0.25, 0.25]` data point, you will likely find that the values in the rgb code are so low that they cannot possibly be achived by a linear combination of the pure colors. Life is not linear, and when you physically mix all four colors they counteract each other. The resulting color is a blueish semitransparent grey with a low rgb signal. Your fit will thus not be all that great."
   ]
  },
  {
   "cell_type": "code",
   "execution_count": 15,
   "metadata": {},
   "outputs": [],
   "source": [
    "# Cell for you to work in."
   ]
  },
  {
   "cell_type": "code",
   "execution_count": 16,
   "metadata": {},
   "outputs": [],
   "source": [
    "# Cell for you to work in."
   ]
  },
  {
   "cell_type": "code",
   "execution_count": 17,
   "metadata": {},
   "outputs": [],
   "source": [
    "# Cell for you to work in."
   ]
  },
  {
   "cell_type": "code",
   "execution_count": 18,
   "metadata": {},
   "outputs": [],
   "source": [
    "# Cell for you to work in. Add more as needed"
   ]
  },
  {
   "cell_type": "code",
   "execution_count": 19,
   "metadata": {},
   "outputs": [],
   "source": [
    "# Teacher\n",
    "mixer = SilicoColorMixer(colors=['red', 'green', 'blue', 'yellow'], color_codes=rgb_codes, noise=False, target = (58, 66, 89))"
   ]
  },
  {
   "cell_type": "code",
   "execution_count": 20,
   "metadata": {},
   "outputs": [],
   "source": [
    "# Teacher\n",
    "def root_sum_sqr_err(input1, input2):\n",
    "    \"\"\"The sum of squared difference between input colors\"\"\"\n",
    "    dif = np.asarray(input1)- np.asarray(input2)\n",
    "    return (sum(dif**2)**(0.5))"
   ]
  },
  {
   "cell_type": "code",
   "execution_count": 21,
   "metadata": {},
   "outputs": [],
   "source": [
    "# Teacher\n",
    "# wrapper function\n",
    "def run_cuvette_w_weights(weights):\n",
    "    weighted_colors = [weights[0] * 0.25,\n",
    "                       weights[1] * 0.25,\n",
    "                       weights[2] * 0.25,\n",
    "                       weights[3] * 0.25]\n",
    "    return mixer.run_cuvette(weighted_colors, read_target=True)"
   ]
  },
  {
   "cell_type": "code",
   "execution_count": 22,
   "metadata": {},
   "outputs": [
    {
     "data": {
      "text/plain": [
       "((48.5, 70.75, 85.75), (58, 66, 89))"
      ]
     },
     "execution_count": 22,
     "metadata": {},
     "output_type": "execute_result"
    }
   ],
   "source": [
    "run_cuvette_w_weights([1.0, 1.0, 1.0, 1.0])"
   ]
  },
  {
   "cell_type": "code",
   "execution_count": 23,
   "metadata": {},
   "outputs": [],
   "source": [
    "# Teacher\n",
    "def find_weights(weights):\n",
    "    color, target = run_cuvette_w_weights(weights)\n",
    "    score = root_sum_sqr_err(color, target)\n",
    "    print('color:', color, 'target:', target, 'input:', weights, 'score:', score)\n",
    "    return score"
   ]
  },
  {
   "cell_type": "code",
   "execution_count": 24,
   "metadata": {},
   "outputs": [
    {
     "name": "stdout",
     "output_type": "stream",
     "text": [
      "color: (48.5, 70.75, 85.75) target: (58, 66, 89) input: [1. 1. 1. 1.] score: 11.107429945761531\n",
      "color: (49.463414634146346, 69.65853658536585, 85.3658536585366) target: (58, 66, 89) input: [1.1 1.  1.  1. ] score: 9.973224116911194\n",
      "color: (47.85365853658537, 70.78048780487805, 85.09756097560977) target: (58, 66, 89) input: [1.  1.1 1.  1. ] score: 11.875619524213398\n",
      "color: (47.87804878048781, 71.87804878048782, 87.78048780487806) target: (58, 66, 89) input: [1.  1.  1.1 1. ] score: 11.768286364209095\n",
      "color: (48.804878048780495, 70.6829268292683, 84.75609756097563) target: (58, 66, 89) input: [1.  1.  1.  1.1] score: 11.157543605025104\n",
      "color: (86.71706950779195, 27.995669654545853, 68.81210139610366) target: (58, 66, 89) input: [10.          0.          0.          0.49886341] score: 51.73538881812875\n",
      "color: (86.72917392354766, 27.976840563370295, 68.82330918847006) target: (58, 66, 89) input: [10.1         0.          0.          0.49886341] score: 51.75156944457714\n",
      "color: (86.10646564376985, 28.41084936442757, 68.71952447517377) target: (58, 66, 89) input: [10.          0.1         0.          0.49886341] score: 51.12939804066977\n",
      "color: (86.11590061770588, 28.83542319154882, 69.75737160813682) target: (58, 66, 89) input: [10.          0.          0.1         0.49886341] score: 50.41813547051616\n",
      "color: (86.4744296272749, 28.373109468683452, 68.58743484006936) target: (58, 66, 89) input: [10.          0.          0.          0.59886341] score: 51.412535923281624\n",
      "color: (64.21421425782776, 53.1701406295312, 78.7854218372311) target: (58, 66, 89) input: [2.89130865 0.78985459 0.78985459 0.89468845] score: 17.537370308900684\n",
      "color: (64.64939654732567, 52.67303853110545, 78.62468466290466) target: (58, 66, 89) input: [2.99130865 0.78985459 0.78985459 0.89468845] score: 18.15129595321371\n",
      "color: (63.441867335627734, 53.51464979986461, 78.42342979428834) target: (58, 66, 89) input: [2.89130865 0.88985459 0.78985459 0.89468845] score: 17.244179511792975\n",
      "color: (63.460163232774676, 54.33796517147683, 80.43597848045155) target: (58, 66, 89) input: [2.89130865 0.78985459 0.88985459 0.89468845] score: 15.464763284884793\n",
      "color: (64.15540732435834, 53.441466211276854, 78.1672872342312) target: (58, 66, 89) input: [2.89130865 0.78985459 0.78985459 0.99468845] score: 17.69049112141649\n",
      "color: (53.984694940450716, 64.61414336975102, 83.31916979844002) target: (58, 66, 89) input: [1.54008097 0.939991   0.939991   0.9699273 ] score: 7.0933141125854\n",
      "color: (54.742275758710896, 63.75413831381345, 83.02252840313919) target: (58, 66, 89) input: [1.64008097 0.939991   0.939991   0.9699273 ] score: 7.168460688114365\n",
      "color: (53.27233938984289, 64.77863941938813, 82.77753900832786) target: (58, 66, 89) input: [1.54008097 1.039991   0.939991   0.9699273 ] score: 7.909583889534584\n",
      "color: (53.29461115300756, 65.78086876179812, 85.22743295644119) target: (58, 66, 89) input: [1.54008097 0.939991   1.039991   0.9699273 ] score: 6.034978442306385\n",
      "color: (54.1409381532649, 64.68955236672946, 82.46573432402252) target: (58, 66, 89) input: [1.54008097 0.939991   0.939991   1.0699273 ] score: 7.701055723777638\n",
      "color: (55.5653758792936, 64.02394864531038, 86.85527199096092) target: (58, 66, 89) input: [1.74501265 0.79025163 1.06836092 0.86810763] score: 3.798951407724617\n",
      "color: (56.27483606379819, 63.192230123735996, 86.48658745396492) target: (58, 66, 89) input: [1.84501265 0.79025163 1.06836092 0.86810763] score: 4.144515039349413\n",
      "color: (54.83118214621169, 64.19841315720538, 86.2459784677005) target: (58, 66, 89) input: [1.74501265 0.89025163 1.06836092 0.86810763] score: 4.568561736803779\n",
      "color: (54.85305569041754, 65.1827226464689, 88.65206833034466) target: (58, 66, 89) input: [1.74501265 0.79025163 1.16836092 0.86810763] score: 3.269901712124901\n",
      "color: (55.68425037024007, 64.11091898038194, 85.93974884881851) target: (58, 66, 89) input: [1.74501265 0.79025163 1.06836092 0.96810763] score: 4.27743621281745\n",
      "color: (60.1968477736109, 63.87724530763827, 98.43459390010436) target: (58, 66, 89) input: [1.79110277 0.1332074  1.21390012 0.55164815] score: 9.916843736000347\n",
      "color: (60.93046758199852, 62.8778083654319, 97.68431273922307) target: (58, 66, 89) input: [1.89110277 0.1332074  1.21390012 0.55164815] score: 9.682613727952976\n",
      "color: (59.1889777336774, 64.09157401729206, 97.39406443116955) target: (58, 66, 89) input: [1.79110277 0.2332074  1.21390012 0.55164815] score: 8.689998587875676\n",
      "color: (59.21536394350045, 65.27895345932919, 100.29654751170474) target: (58, 66, 89) input: [1.79110277 0.1332074  1.31390012 0.55164815] score: 11.384594999962756\n",
      "color: (60.218039916776235, 63.98602917799988, 97.02465749364688) target: (58, 66, 89) input: [1.79110277 0.1332074  1.21390012 0.65164815] score: 8.56568195969379\n",
      "color: (56.41788923611987, 63.99694501499367, 88.98667358764297) target: (58, 66, 89) input: [1.75490817 0.64918455 1.09960812 0.80016393] score: 2.552544090786756\n",
      "color: (57.13503457139967, 63.13413593690155, 88.55553697053531) target: (58, 66, 89) input: [1.85490817 0.64918455 1.09960812 0.80016393] score: 3.0263657091293226\n",
      "color: (55.63635095008201, 64.17867300630476, 88.30575636698237) target: (58, 66, 89) input: [1.75490817 0.74918455 1.09960812 0.80016393] score: 3.0636649737082324\n",
      "color: (55.65905827767774, 65.20050274811227, 90.8035624025118) target: (58, 66, 89) input: [1.75490817 0.64918455 1.19960812 0.80016393] score: 3.061378993662708\n",
      "color: (56.521936726315175, 64.0878436959219, 87.98785378064227) target: (58, 66, 89) input: [1.75490817 0.64918455 1.09960812 0.90016393] score: 2.6202008971835826\n",
      "color: (58.254418653930436, 65.08639290776341, 94.37829722989355) target: (58, 66, 89) input: [1.46692908 0.2478349  1.03434671 0.6613331 ] score: 5.461271634293004\n",
      "color: (59.101763977482904, 63.972961240061146, 93.68384665205497) target: (58, 66, 89) input: [1.56692908 0.2478349  1.03434671 0.6613331 ] score: 5.221224899996161\n",
      "color: (57.22165981331089, 65.28333686963558, 93.37049595802631) target: (58, 66, 89) input: [1.46692908 0.3478349  1.03434671 0.6613331 ] score: 4.496738196489016\n",
      "color: (57.25014624004077, 66.56522607248012, 96.50400289831298) target: (58, 66, 89) input: [1.46692908 0.2478349  1.13434671 0.6613331 ] score: 7.562527399766948\n",
      "color: (58.332630455776176, 65.16939116271607, 92.971685983808) target: (58, 66, 89) input: [1.46692908 0.2478349  1.03434671 0.7613331 ] score: 4.07122139101535\n",
      "color: (56.70970689057461, 64.17005420978006, 89.84338241556908) target: (58, 66, 89) input: [1.69946976 0.57192135 1.08704475 0.77343782] score: 2.39266625384015\n",
      "color: (57.449102616891565, 63.26808838743065, 89.37447942055928) target: (58, 66, 89) input: [1.79946976 0.57192135 1.08704475 0.77343782] score: 2.8119501812851158\n",
      "color: (55.88950974998364, 64.35507735527557, 89.11454727607462) target: (58, 66, 89) input: [1.69946976 0.67192135 1.08704475 0.77343782] score: 2.678257022953073\n",
      "color: (55.91313994493679, 65.41843612816734, 91.71386872092117) target: (58, 66, 89) input: [1.69946976 0.57192135 1.18704475 0.77343782] score: 3.472504119628043\n",
      "color: (56.8110873531565, 64.26055657546297, 88.78372454673051) target: (58, 66, 89) input: [1.69946976 0.57192135 1.08704475 0.87343782] score: 2.1180065582231897\n",
      "color: (58.55876510590902, 65.89262047574874, 94.15060967214012) target: (58, 66, 89) input: [1.21513566 0.14500325 0.90333572 0.67488295] score: 5.181942570171277\n",
      "color: (59.527750296113155, 64.57965386349592, 93.35575228280551) target: (58, 66, 89) input: [1.31513566 0.14500325 0.90333572 0.67488295] score: 4.82949087005259\n",
      "color: (57.35552407042899, 66.09362971776065, 92.99371457852483) target: (58, 66, 89) input: [1.21513566 0.24500325 0.90333572 0.67488295] score: 4.04646412100319\n",
      "color: (57.388436588999966, 67.5746930534544, 96.61409162133178) target: (58, 66, 89) input: [1.21513566 0.14500325 1.00333572 0.67488295] score: 7.79923452886925\n",
      "color: (58.6391122946969, 65.96197964347675, 92.5329393185312) target: (58, 66, 89) input: [1.21513566 0.14500325 0.90333572 0.77488295] score: 3.5904832963219078\n",
      "color: (56.97770354844012, 64.41971752400296, 90.46765833065673) target: (58, 66, 89) input: [1.60624675 0.48974958 1.05168505 0.75446831] score: 2.3867139992804667\n",
      "color: (57.75284438289603, 63.45974049755627, 89.95624171833222) target: (58, 66, 89) input: [1.70624675 0.48974958 1.05168505 0.75446831] score: 2.7255095785376873\n",
      "color: (56.10373065097184, 64.60912279556403, 89.68138942967818) target: (58, 66, 89) input: [1.60624675 0.58974958 1.05168505 0.75446831] score: 2.448401191953729\n",
      "color: (56.12871722266767, 65.73351852187598, 92.42991231621846) target: (58, 66, 89) input: [1.60624675 0.48974958 1.15168505 0.75446831] score: 3.916249495099983\n",
      "color: (57.07820694710886, 64.50917650878074, 89.33157742593669) target: (58, 66, 89) input: [1.60624675 0.48974958 1.05168505 0.85446831] score: 1.783872389976466\n",
      "color: (57.45843695921871, 70.16029569825005, 94.44294553211493) target: (58, 66, 89) input: [0.65784751 0.         0.65045443 0.65562914] score: 6.872190836231783\n",
      "color: (58.938213262785126, 68.0206750427682, 93.25865474976396) target: (58, 66, 89) input: [0.75784751 0.         0.65045443 0.65562914] score: 4.806195172131419\n",
      "color: (55.740432065242146, 70.24943163499512, 92.72569121684012) target: (58, 66, 89) input: [0.65784751 0.1        0.65045443 0.65562914] score: 6.086385751455683\n",
      "color: (55.78888329550796, 72.42973699695625, 98.05532654607842) target: (58, 66, 89) input: [0.65784751 0.         0.75045443 0.65562914] score: 11.323846245292465\n",
      "color: (57.63003004560845, 70.0556267139319, 92.04737399311887) target: (58, 66, 89) input: [0.65784751 0.         0.65045443 0.75562914] score: 5.086400894920472\n",
      "color: (57.03701202699125, 65.12793740197453, 90.95809280106405) target: (58, 66, 89) input: [1.39900221 0.38272932 0.96400799 0.73286994] score: 2.349886471430759\n",
      "color: (57.90223602942995, 64.03455356461302, 90.37244373668352) target: (58, 66, 89) input: [1.49900221 0.38272932 0.96400799 0.73286994] score: 2.3991955515711583\n",
      "color: (56.057944250783336, 65.31996904670004, 90.06506177357574) target: (58, 66, 89) input: [1.39900221 0.48272932 0.96400799 0.73286994] score: 2.316976308045432\n",
      "color: (56.085888065611314, 66.5774407139591, 93.13888140465343) target: (58, 66, 89) input: [1.39900221 0.38272932 1.06400799 0.73286994] score: 4.596477081123409\n",
      "color: (57.147753029074515, 65.20819378738813, 89.67384836598404) target: (58, 66, 89) input: [1.39900221 0.38272932 0.96400799 0.83286994] score: 1.3443785174279559\n",
      "color: (57.18908246480444, 66.9438549493835, 92.21559571557927) target: (58, 66, 89) input: [1.02842486 0.19136466 0.80723121 0.69424954] score: 3.4479711745336754\n",
      "color: (58.281176259641754, 65.49259891730127, 91.42816333217542) target: (58, 66, 89) input: [1.12842486 0.19136466 0.80723121 0.69424954] score: 2.4964961677181066\n",
      "color: (55.94180449711871, 67.12307014572642, 91.03826803842158) target: (58, 66, 89) input: [1.02842486 0.29136466 0.80723121 0.69424954] score: 3.1067655007666195\n",
      "color: (55.9772495238236, 68.71809634744668, 94.93722097595997) target: (58, 66, 89) input: [1.02842486 0.19136466 0.90723121 0.69424954] score: 6.8359461788587765\n",
      "color: (57.32416053860959, 66.98129003890685, 90.54203766455305) target: (58, 66, 89) input: [1.02842486 0.19136466 0.80723121 0.79424954] score: 1.9487353019151954\n",
      "color: (57.06030011371736, 65.40602725257034, 91.15066696177982) target: (58, 66, 89) input: [1.32942355 0.34679918 0.93457198 0.72561867] score: 2.420993160143164\n",
      "color: (57.96064871803803, 64.25930760858299, 90.5351802715572) target: (58, 66, 89) input: [1.42942355 0.34679918 0.93457198 0.72561867] score: 2.321279171299212\n",
      "color: (56.04004159826731, 65.59791257084743, 90.21507908492873) target: (58, 66, 89) input: [1.32942355 0.44679918 0.93457198 0.72561867] score: 2.340839255445862\n",
      "color: (56.06914170614263, 66.90741742523656, 93.41609095121328) target: (58, 66, 89) input: [1.32942355 0.34679918 1.03457198 0.72561867] score: 4.904434669150822\n",
      "color: (57.17494580540453, 65.48151213934617, 89.80767757467433) target: (58, 66, 89) input: [1.32942355 0.34679918 0.93457198 0.82561867] score: 1.2656568058904323\n",
      "color: (57.04127019825065, 65.17878546962663, 90.99330452824914) target: (58, 66, 89) input: [1.38584027 0.37593255 0.95843969 0.73149824] score: 2.3594107484703097\n",
      "color: (57.91292704257165, 64.07568929205496, 90.40222867681257) target: (58, 66, 89) input: [1.48584027 0.37593255 0.95843969 0.73149824] score: 2.3826033372558655\n",
      "color: (56.054667608364014, 65.37083980680575, 90.09251877111132) target: (58, 66, 89) input: [1.38584027 0.47593255 0.95843969 0.73149824] score: 2.318136736234296\n",
      "color: (56.082823054336856, 66.63783487558368, 93.18961782812404) target: (58, 66, 89) input: [1.38584027 0.37593255 1.05843969 0.73149824] score: 4.651375959350945\n",
      "color: (57.15273000130488, 65.25821802291438, 89.6983425274915) target: (58, 66, 89) input: [1.38584027 0.37593255 0.95843969 0.83149824] score: 1.3250619751245996\n",
      "color: (57.03701202699125, 65.12793740197453, 90.95809280106405) target: (58, 66, 89) input: [1.39900221 0.38272932 0.96400799 0.73286994] score: 2.349886471430759\n",
      "color: (57.90223602942995, 64.03455356461302, 90.37244373668352) target: (58, 66, 89) input: [1.49900221 0.38272932 0.96400799 0.73286994] score: 2.3991955515711583\n",
      "color: (56.057944250783336, 65.31996904670004, 90.06506177357574) target: (58, 66, 89) input: [1.39900221 0.48272932 0.96400799 0.73286994] score: 2.316976308045432\n",
      "color: (56.085888065611314, 66.5774407139591, 93.13888140465343) target: (58, 66, 89) input: [1.39900221 0.38272932 1.06400799 0.73286994] score: 4.596477081123409\n",
      "color: (57.147753029074515, 65.20819378738813, 89.67384836598404) target: (58, 66, 89) input: [1.39900221 0.38272932 0.96400799 0.83286994] score: 1.3443785174279559\n",
      "color: (nan, nan, nan) target: (58, 66, 89) input: [0. 0. 0. 0.] score: nan\n",
      "color: (88.0, 26.0, 70.0) target: (58, 66, 89) input: [0.1 0.  0.  0. ] score: 53.48831648126533\n",
      "color: (22.0, 72.0, 59.0) target: (58, 66, 89) input: [0.  0.1 0.  0. ] score: 47.24404724407086\n",
      "color: (23.0, 117.0, 169.0) target: (58, 66, 89) input: [0.  0.  0.1 0. ] score: 101.1236866416568\n",
      "color: (61.0, 68.0, 45.0) target: (58, 66, 89) input: [0.  0.  0.  0.1] score: 44.14748010928823\n",
      "color: (nan, nan, nan) target: (58, 66, 89) input: [0. 0. 0. 0.] score: nan\n",
      "color: (88.0, 26.0, 70.0) target: (58, 66, 89) input: [0.1 0.  0.  0. ] score: 53.48831648126533\n",
      "color: (22.0, 72.0, 59.0) target: (58, 66, 89) input: [0.  0.1 0.  0. ] score: 47.24404724407086\n",
      "color: (23.0, 117.0, 169.0) target: (58, 66, 89) input: [0.  0.  0.1 0. ] score: 101.1236866416568\n",
      "color: (61.0, 68.0, 45.0) target: (58, 66, 89) input: [0.  0.  0.  0.1] score: 44.14748010928823\n",
      "color: (nan, nan, nan) target: (58, 66, 89) input: [0. 0. 0. 0.] score: nan\n",
      "color: (88.0, 26.0, 70.0) target: (58, 66, 89) input: [0.1 0.  0.  0. ] score: 53.48831648126533\n",
      "color: (22.0, 72.0, 59.0) target: (58, 66, 89) input: [0.  0.1 0.  0. ] score: 47.24404724407086\n",
      "color: (23.0, 117.0, 169.0) target: (58, 66, 89) input: [0.  0.  0.1 0. ] score: 101.1236866416568\n",
      "color: (61.0, 68.0, 45.0) target: (58, 66, 89) input: [0.  0.  0.  0.1] score: 44.14748010928823\n",
      "color: (nan, nan, nan) target: (58, 66, 89) input: [0. 0. 0. 0.] score: nan\n",
      "color: (88.0, 26.0, 70.0) target: (58, 66, 89) input: [0.1 0.  0.  0. ] score: 53.48831648126533\n",
      "color: (22.0, 72.0, 59.0) target: (58, 66, 89) input: [0.  0.1 0.  0. ] score: 47.24404724407086\n",
      "color: (23.0, 117.0, 169.0) target: (58, 66, 89) input: [0.  0.  0.1 0. ] score: 101.1236866416568\n",
      "color: (61.0, 68.0, 45.0) target: (58, 66, 89) input: [0.  0.  0.  0.1] score: 44.14748010928823\n",
      "color: (nan, nan, nan) target: (58, 66, 89) input: [0. 0. 0. 0.] score: nan\n",
      "color: (88.0, 26.0, 70.0) target: (58, 66, 89) input: [0.1 0.  0.  0. ] score: 53.48831648126533\n",
      "color: (22.0, 72.0, 59.0) target: (58, 66, 89) input: [0.  0.1 0.  0. ] score: 47.24404724407086\n",
      "color: (23.0, 117.0, 169.0) target: (58, 66, 89) input: [0.  0.  0.1 0. ] score: 101.1236866416568\n",
      "color: (61.0, 68.0, 45.0) target: (58, 66, 89) input: [0.  0.  0.  0.1] score: 44.14748010928823\n",
      "color: (nan, nan, nan) target: (58, 66, 89) input: [0. 0. 0. 0.] score: nan\n",
      "color: (88.0, 26.0, 70.0) target: (58, 66, 89) input: [0.1 0.  0.  0. ] score: 53.48831648126533\n",
      "color: (22.0, 72.0, 59.0) target: (58, 66, 89) input: [0.  0.1 0.  0. ] score: 47.24404724407086\n",
      "color: (23.0, 117.0, 169.0) target: (58, 66, 89) input: [0.  0.  0.1 0. ] score: 101.1236866416568\n",
      "color: (61.0, 68.0, 45.0) target: (58, 66, 89) input: [0.  0.  0.  0.1] score: 44.14748010928823\n",
      "color: (nan, nan, nan) target: (58, 66, 89) input: [0. 0. 0. 0.] score: nan\n",
      "color: (88.0, 26.0, 70.0) target: (58, 66, 89) input: [0.1 0.  0.  0. ] score: 53.48831648126533\n",
      "color: (22.0, 72.0, 59.0) target: (58, 66, 89) input: [0.  0.1 0.  0. ] score: 47.24404724407086\n",
      "color: (23.0, 117.0, 169.0) target: (58, 66, 89) input: [0.  0.  0.1 0. ] score: 101.1236866416568\n",
      "color: (61.0, 68.0, 45.0) target: (58, 66, 89) input: [0.  0.  0.  0.1] score: 44.14748010928823\n",
      "color: (nan, nan, nan) target: (58, 66, 89) input: [0. 0. 0. 0.] score: nan\n",
      "color: (88.0, 26.0, 70.0) target: (58, 66, 89) input: [0.1 0.  0.  0. ] score: 53.48831648126533\n",
      "color: (22.0, 72.0, 59.0) target: (58, 66, 89) input: [0.  0.1 0.  0. ] score: 47.24404724407086\n",
      "color: (23.0, 117.0, 169.0) target: (58, 66, 89) input: [0.  0.  0.1 0. ] score: 101.1236866416568\n",
      "color: (61.0, 68.0, 45.0) target: (58, 66, 89) input: [0.  0.  0.  0.1] score: 44.14748010928823\n",
      "color: (nan, nan, nan) target: (58, 66, 89) input: [0. 0. 0. 0.] score: nan\n",
      "color: (88.0, 26.0, 70.0) target: (58, 66, 89) input: [0.1 0.  0.  0. ] score: 53.48831648126533\n",
      "color: (22.0, 72.0, 59.0) target: (58, 66, 89) input: [0.  0.1 0.  0. ] score: 47.24404724407086\n",
      "color: (23.0, 117.0, 169.0) target: (58, 66, 89) input: [0.  0.  0.1 0. ] score: 101.1236866416568\n",
      "color: (61.0, 68.0, 45.0) target: (58, 66, 89) input: [0.  0.  0.  0.1] score: 44.14748010928823\n",
      "color: (nan, nan, nan) target: (58, 66, 89) input: [0. 0. 0. 0.] score: nan\n",
      "color: (88.0, 26.0, 70.0) target: (58, 66, 89) input: [0.1 0.  0.  0. ] score: 53.48831648126533\n",
      "color: (22.0, 72.0, 59.0) target: (58, 66, 89) input: [0.  0.1 0.  0. ]"
     ]
    },
    {
     "name": "stderr",
     "output_type": "stream",
     "text": [
      "/zhome/0a/b/51514/47332_exercises/software/silico_color_mixer.py:142: RuntimeWarning: invalid value encountered in double_scalars\n",
      "  return [float(i) * norm / sum(input_list) for i in input_list]\n"
     ]
    },
    {
     "name": "stdout",
     "output_type": "stream",
     "text": [
      " score: 47.24404724407086\n",
      "color: (23.0, 117.0, 169.0) target: (58, 66, 89) input: [0.  0.  0.1 0. ] score: 101.1236866416568\n",
      "color: (61.0, 68.0, 45.0) target: (58, 66, 89) input: [0.  0.  0.  0.1] score: 44.14748010928823\n",
      "color: (nan, nan, nan) target: (58, 66, 89) input: [0. 0. 0. 0.] score: nan\n",
      "color: (88.0, 26.0, 70.0) target: (58, 66, 89) input: [0.1 0.  0.  0. ] score: 53.48831648126533\n",
      "color: (22.0, 72.0, 59.0) target: (58, 66, 89) input: [0.  0.1 0.  0. ] score: 47.24404724407086\n",
      "color: (23.0, 117.0, 169.0) target: (58, 66, 89) input: [0.  0.  0.1 0. ] score: 101.1236866416568\n",
      "color: (61.0, 68.0, 45.0) target: (58, 66, 89) input: [0.  0.  0.  0.1] score: 44.14748010928823\n",
      "color: (nan, nan, nan) target: (58, 66, 89) input: [0. 0. 0. 0.] score: nan\n",
      "color: (88.0, 26.0, 70.0) target: (58, 66, 89) input: [0.1 0.  0.  0. ] score: 53.48831648126533\n",
      "color: (22.0, 72.0, 59.0) target: (58, 66, 89) input: [0.  0.1 0.  0. ] score: 47.24404724407086\n",
      "color: (23.0, 117.0, 169.0) target: (58, 66, 89) input: [0.  0.  0.1 0. ] score: 101.1236866416568\n",
      "color: (61.0, 68.0, 45.0) target: (58, 66, 89) input: [0.  0.  0.  0.1] score: 44.14748010928823\n",
      "color: (nan, nan, nan) target: (58, 66, 89) input: [0. 0. 0. 0.] score: nan\n",
      "color: (88.0, 26.0, 70.0) target: (58, 66, 89) input: [0.1 0.  0.  0. ] score: 53.48831648126533\n",
      "color: (22.0, 72.0, 59.0) target: (58, 66, 89) input: [0.  0.1 0.  0. ] score: 47.24404724407086\n",
      "color: (23.0, 117.0, 169.0) target: (58, 66, 89) input: [0.  0.  0.1 0. ] score: 101.1236866416568\n",
      "color: (61.0, 68.0, 45.0) target: (58, 66, 89) input: [0.  0.  0.  0.1] score: 44.14748010928823\n",
      "color: (nan, nan, nan) target: (58, 66, 89) input: [0. 0. 0. 0.] score: nan\n",
      "color: (88.0, 26.0, 70.0) target: (58, 66, 89) input: [0.1 0.  0.  0. ] score: 53.48831648126533\n",
      "color: (22.0, 72.0, 59.0) target: (58, 66, 89) input: [0.  0.1 0.  0. ] score: 47.24404724407086\n",
      "color: (23.0, 117.0, 169.0) target: (58, 66, 89) input: [0.  0.  0.1 0. ] score: 101.1236866416568\n",
      "color: (61.0, 68.0, 45.0) target: (58, 66, 89) input: [0.  0.  0.  0.1] score: 44.14748010928823\n",
      "color: (nan, nan, nan) target: (58, 66, 89) input: [0. 0. 0. 0.] score: nan\n",
      "color: (88.0, 26.0, 70.0) target: (58, 66, 89) input: [0.1 0.  0.  0. ] score: 53.48831648126533\n",
      "color: (22.0, 72.0, 59.0) target: (58, 66, 89) input: [0.  0.1 0.  0. ] score: 47.24404724407086\n",
      "color: (23.0, 117.0, 169.0) target: (58, 66, 89) input: [0.  0.  0.1 0. ] score: 101.1236866416568\n",
      "color: (61.0, 68.0, 45.0) target: (58, 66, 89) input: [0.  0.  0.  0.1] score: 44.14748010928823\n",
      "color: (nan, nan, nan) target: (58, 66, 89) input: [0. 0. 0. 0.] score: nan\n",
      "color: (88.0, 26.0, 70.0) target: (58, 66, 89) input: [0.1 0.  0.  0. ] score: 53.48831648126533\n",
      "color: (22.0, 72.0, 59.0) target: (58, 66, 89) input: [0.  0.1 0.  0. ] score: 47.24404724407086\n",
      "color: (23.0, 117.0, 169.0) target: (58, 66, 89) input: [0.  0.  0.1 0. ] score: 101.1236866416568\n",
      "color: (61.0, 68.0, 45.0) target: (58, 66, 89) input: [0.  0.  0.  0.1] score: 44.14748010928823\n",
      "color: (nan, nan, nan) target: (58, 66, 89) input: [0. 0. 0. 0.] score: nan\n",
      "color: (88.0, 26.0, 70.0) target: (58, 66, 89) input: [0.1 0.  0.  0. ] score: 53.48831648126533\n",
      "color: (22.0, 72.0, 59.0) target: (58, 66, 89) input: [0.  0.1 0.  0. ] score: 47.24404724407086\n",
      "color: (23.0, 117.0, 169.0) target: (58, 66, 89) input: [0.  0.  0.1 0. ] score: 101.1236866416568\n",
      "color: (61.0, 68.0, 45.0) target: (58, 66, 89) input: [0.  0.  0.  0.1] score: 44.14748010928823\n",
      "color: (nan, nan, nan) target: (58, 66, 89) input: [0. 0. 0. 0.] score: nan\n",
      "color: (88.0, 26.0, 70.0) target: (58, 66, 89) input: [0.1 0.  0.  0. ] score: 53.48831648126533\n",
      "color: (22.0, 72.0, 59.0) target: (58, 66, 89) input: [0.  0.1 0.  0. ] score: 47.24404724407086\n",
      "color: (23.0, 117.0, 169.0) target: (58, 66, 89) input: [0.  0.  0.1 0. ] score: 101.1236866416568\n",
      "color: (61.0, 68.0, 45.0) target: (58, 66, 89) input: [0.  0.  0.  0.1] score: 44.14748010928823\n",
      "color: (nan, nan, nan) target: (58, 66, 89) input: [0. 0. 0. 0.] score: nan\n",
      "color: (88.0, 26.0, 70.0) target: (58, 66, 89) input: [0.1 0.  0.  0. ] score: 53.48831648126533\n",
      "color: (22.0, 72.0, 59.0) target: (58, 66, 89) input: [0.  0.1 0.  0. ] score: 47.24404724407086\n",
      "color: (23.0, 117.0, 169.0) target: (58, 66, 89) input: [0.  0.  0.1 0. ] score: 101.1236866416568\n",
      "color: (61.0, 68.0, 45.0) target: (58, 66, 89) input: [0.  0.  0.  0.1] score: 44.14748010928823\n",
      "color: (nan, nan, nan) target: (58, 66, 89) input: [0. 0. 0. 0.] score: nan\n",
      "color: (88.0, 26.0, 70.0) target: (58, 66, 89) input: [0.1 0.  0.  0. ] score: 53.48831648126533\n",
      "color: (22.0, 72.0, 59.0) target: (58, 66, 89) input: [0.  0.1 0.  0. ] score: 47.24404724407086\n",
      "color: (23.0, 117.0, 169.0) target: (58, 66, 89) input: [0.  0.  0.1 0. ] score: 101.1236866416568\n",
      "color: (61.0, 68.0, 45.0) target: (58, 66, 89) input: [0.  0.  0.  0.1] score: 44.14748010928823\n",
      "color: (60.715796825237035, 64.97006920831436, 47.80720793816184) target: (58, 66, 89) input: [ 0.90591141  0.71183096  0.         10.        ] score: 41.29506541563371\n",
      "color: (60.94864204684042, 64.63749602145647, 47.996602715518435) target: (58, 66, 89) input: [ 1.00591141  0.71183096  0.         10.        ] score: 41.131855001701204\n",
      "color: (60.38539361596675, 65.03006310964115, 47.90272797703949) target: (58, 66, 89) input: [ 0.90591141  0.81183096  0.         10.        ] score: 41.17786599623136\n",
      "color: (60.3939276831012, 65.41409613069138, 48.84147536182894) target: (58, 66, 89) input: [ 0.90591141  0.71183096  0.1        10.        ] score: 40.234081003678725\n",
      "color: (60.71822223421028, 64.99592684110334, 47.78325103715719) target: (58, 66, 89) input: [ 0.90591141  0.71183096  0.         10.1       ] score: 41.31848605756237\n",
      "color: (58.749433638908236, 65.05445201984867, 70.87197418716454) target: (58, 66, 89) input: [1.29701929 0.45079538 0.76462817 2.6495332 ] score: 18.168132309974084\n",
      "color: (59.30531922594209, 64.31225076742379, 70.85540295647702) target: (58, 66, 89) input: [1.39701929 0.45079538 0.76462817 2.6495332 ] score: 18.269612957736637\n",
      "color: (58.0510375723384, 65.1864470714506, 70.64635601420974) target: (58, 66, 89) input: [1.29701929 0.55079538 0.76462817 2.6495332 ] score: 18.37173700983324\n",
      "color: (58.07004183981725, 66.04163910799856, 72.73682543688254) target: (58, 66, 89) input: [1.29701929 0.45079538 0.86462817 2.6495332 ] score: 16.263378694018986\n",
      "color: (58.792204004013314, 65.11043000153522, 70.38029626950592) target: (58, 66, 89) input: [1.29701929 0.45079538 0.76462817 2.7495332 ] score: 18.65776752394344\n",
      "color: (57.42980075097676, 65.11108160590426, 86.35081568819048) target: (58, 66, 89) input: [1.38196374 0.39410124 0.93069724 1.05309031] score: 2.851925772681698\n",
      "color: (58.22180508250318, 64.09780243849585, 85.9272032431571) target: (58, 66, 89) input: [1.48196374 0.39410124 0.93069724 1.05309031] score: 3.6207227132826483\n",
      "color: (56.51189519755489, 65.28955781285376, 85.64221826233236) target: (58, 66, 89) input: [1.38196374 0.49410124 0.93069724 1.05309031] score: 3.74083977231739\n",
      "color: (56.537802923084406, 66.45540546168215, 88.49206807057953) target: (58, 66, 89) input: [1.38196374 0.39410124 1.03069724 1.05309031] score: 1.61350837345061\n",
      "color: (57.52229649320614, 65.18592691073567, 85.27951010491908) target: (58, 66, 89) input: [1.38196374 0.39410124 0.93069724 1.15309031] score: 3.838353904275467\n",
      "color: (57.19832319157493, 65.1210150339735, 89.06596812626108) target: (58, 66, 89) input: [1.39232306 0.38718716 0.95095003 0.85839771] score: 1.1914915313797252\n",
      "color: (58.033315406508244, 64.06049669931187, 88.54911525962623) target: (58, 66, 89) input: [1.49232306 0.38718716 0.95095003 0.85839771] score: 1.9915019504868383\n",
      "color: (56.24414378028935, 65.30749510546443, 88.25091998858974) target: (58, 66, 89) input: [1.39232306 0.48718716 0.95095003 0.85839771] score: 2.0306932207368735\n",
      "color: (56.27125244129267, 66.52738485061369, 91.23287269895457) target: (58, 66, 89) input: [1.39232306 0.38718716 1.05095003 0.85839771] score: 2.8727031507153726\n",
      "color: (57.301381559418694, 65.19906046145117, 87.8713987345433) target: (58, 66, 89) input: [1.39232306 0.38718716 0.95095003 0.95839771] score: 1.5502621347119088\n",
      "color: (58.13401189883079, 64.10410662942846, 87.63472072879742) target: (58, 66, 89) input: [1.35636339 0.35006018 0.86225485 0.84941665] score: 2.3401620349840755\n",
      "color: (58.982936882529174, 63.021017464936264, 87.13346307890791) target: (58, 66, 89) input: [1.45636339 0.35006018 0.86225485 0.84941665] score: 3.6502687486061727\n",
      "color: (57.10692163956121, 64.3285432403382, 86.82079387174659) target: (58, 66, 89) input: [1.35636339 0.45006018 0.86225485 0.84941665] score: 2.8879570645562533\n",
      "color: (57.135346112939516, 65.60764454236181, 89.94748594335987) target: (58, 66, 89) input: [1.35636339 0.35006018 0.96225485 0.84941665] score: 1.341379425223084\n",
      "color: (58.21547610131501, 64.21484534682497, 86.42285124445036) target: (58, 66, 89) input: [1.35636339 0.35006018 0.86225485 0.94941665] score: 3.142435805903033\n",
      "color: (57.344875813318914, 64.96174134433303, 88.84179842448312) target: (58, 66, 89) input: [1.3864554  0.38112903 0.93647734 0.85693224] score: 1.2378192414637736\n",
      "color: (58.18222010104403, 63.897501925310394, 88.32713496446479) target: (58, 66, 89) input: [1.4864554  0.38112903 0.93647734 0.85693224] score: 2.2150507162012785\n",
      "color: (56.37943102560885, 65.15399128091673, 88.02667011855891) target: (58, 66, 89) input: [1.3864554  0.48112903 0.93647734 0.85693224] score: 2.0710735408551333\n",
      "color: (56.40674601160029, 66.38316565053162, 91.03131857761755) target: (58, 66, 89) input: [1.3864554  0.38112903 1.03647734 0.85693224] score: 2.6098906779926834\n",
      "color: (57.44471547927509, 65.04473133695096, 87.64426031467872) target: (58, 66, 89) input: [1.3864554  0.38112903 0.93647734 0.95693224] score: 1.7489737596417056\n",
      "color: (57.225243042063525, 65.09175848529588, 89.02479100650623) target: (58, 66, 89) input: [1.39123837 0.38606726 0.94827463 0.85812681] score: 1.1940542646406822\n",
      "color: (58.060672038764096, 64.03055145073603, 88.50833324585756) target: (58, 66, 89) input: [1.49123837 0.38606726 0.94827463 0.85812681] score: 2.0307990746537987\n",
      "color: (56.2689986274159, 65.27929352531203, 88.20972101063286) target: (58, 66, 89) input: [1.39123837 0.48606726 0.94827463 0.85812681] score: 2.0347787239845907\n",
      "color: (56.29614519425451, 66.50088903304945, 91.19584336287986) target: (58, 66, 89) input: [1.39123837 0.38606726 1.04827463 0.85812681] score: 2.824135105973993\n",
      "color: (57.327714734121656, 65.1707072579576, 87.82966907489234) target: (58, 66, 89) input: [1.39123837 0.38606726 0.94827463 0.95812681] score: 1.584098609615157\n",
      "color: (57.20373975915602, 65.11512829722626, 89.05768284057419) target: (58, 66, 89) input: [1.39210455 0.38696157 0.95041109 0.85834314] score: 1.191786730759874\n",
      "color: (58.038820030663075, 64.05447120110392, 88.54090921818172) target: (58, 66, 89) input: [1.49210455 0.38696157 0.95041109 0.85834314] score: 1.999338302555426\n",
      "color: (56.24914500231763, 65.30182046328409, 88.24263004679081) target: (58, 66, 89) input: [1.39210455 0.48696157 0.95041109 0.85834314] score: 2.031392904984721\n",
      "color: (56.27626129062589, 66.52205343715599, 91.2254217606999) target: (58, 66, 89) input: [1.39210455 0.38696157 1.05041109 0.85834314] score: 2.8629210506819356\n",
      "color: (57.30668024633995, 65.19335531005105, 87.86300201047513) target: (58, 66, 89) input: [1.39210455 0.38696157 0.95041109 0.95834314] score: 1.5569625444504676\n",
      "color: (57.19943408863648, 65.11980770877047, 89.06426887680358) target: (58, 66, 89) input: [1.39227823 0.38714089 0.95083947 0.85838652] score: 1.1915430065687074\n",
      "color: (58.034444370342996, 64.05926090748088, 88.54743225207534) target: (58, 66, 89) input: [1.49227823 0.38714089 0.95083947 0.85838652] score: 1.9931061703637056\n",
      "color: (56.245169499510254, 65.30633127200068, 88.24921977360322) target: (58, 66, 89) input: [1.39227823 0.48714089 0.95083947 0.85838652] score: 2.0308316862806968\n",
      "color: (56.2722797248259, 66.52629141120482, 91.23134455832445) target: (58, 66, 89) input: [1.39227823 0.38714089 1.05083947 0.85838652] score: 2.870696524664315\n",
      "color: (57.30246828682053, 65.1978903707381, 87.86967661918416) target: (58, 66, 89) input: [1.39227823 0.38714089 0.95083947 0.95838652] score: 1.5516318163355343\n",
      "color: (57.19855192451189, 65.12076644654888, 89.06561825197254) target: (58, 66, 89) input: [1.39231383 0.38717763 0.95092727 0.85839541] score: 1.1915017474640157\n",
      "color: (58.03354785967812, 64.06024225030333, 88.54876872909256) target: (58, 66, 89) input: [1.49231383 0.38717763 0.95092727 0.85839541] score: 1.9918321330478652\n",
      "color: (56.244354975437474, 65.30725547265288, 88.25056991505247) target: (58, 66, 89) input: [1.39231383 0.48717763 0.95092727 0.85839541] score: 2.0307215182454237\n",
      "color: (56.271463958532024, 66.52715971190787, 91.23255805545355) target: (58, 66, 89) input: [1.39231383 0.38717763 1.05092727 0.85839541] score: 2.8722899713439647\n",
      "color: (57.301605316125126, 65.19881954027466, 87.87104415172868) target: (58, 66, 89) input: [1.39231383 0.38717763 0.95092727 0.95839541] score: 1.5505439596659003\n",
      "color: (57.198370325625994, 65.12096380859023, 89.06589602911232) target: (58, 66, 89) input: [1.39232115 0.3871852  0.95094534 0.85839724] score: 1.1914936203345512\n",
      "color: (58.03336330718491, 64.06044426604242, 88.54904385149244) target: (58, 66, 89) input: [1.49232115 0.3871852  0.95094534 0.85839724] score: 1.9915699845274824\n",
      "color: (56.24418730041218, 65.30744572530827, 88.25084785036364) target: (58, 66, 89) input: [1.39232115 0.4871852  0.95094534 0.85839724] score: 2.0306990428747533\n",
      "color: (56.271296027787514, 66.52733845719877, 91.23280786165154) target: (58, 66, 89) input: [1.39232115 0.3871852  1.05094534 0.85839724] score: 2.8726180078522296\n",
      "color: (57.30142766805062, 65.1990108158069, 87.87132566710883) target: (58, 66, 89) input: [1.39232115 0.3871852  0.95094534 0.95839724] score: 1.550320201083259\n",
      "color: (57.19833290591262, 65.1210044764114, 89.06595326702377) target: (58, 66, 89) input: [1.39232266 0.38718676 0.95094906 0.85839761] score: 1.1914919612244166\n",
      "color: (58.033325278848174, 64.06048589280358, 88.54910054239426) target: (58, 66, 89) input: [1.49232266 0.38718676 0.95094906 0.85839761] score: 1.991515972090953\n",
      "color: (56.24415274979617, 65.30748492820346, 88.25090512088559) target: (58, 66, 89) input: [1.39232266 0.48718676 0.95094906 0.85839761] score: 2.030694420297928\n",
      "color: (56.27126142447878, 66.52737528892074, 91.23285933597225) target: (58, 66, 89) input: [1.39232266 0.38718676 1.05094906 0.85839761] score: 2.8726856027240095\n",
      "color: (57.301391062417814, 65.19905022947304, 87.87138367532911) target: (58, 66, 89) input: [1.39232266 0.38718676 0.95094906 0.95839761] score: 1.5502741018576403\n",
      "color: (57.1983251937707, 65.12101285798303, 89.06596506366401) target: (58, 66, 89) input: [1.39232297 0.38718708 0.95094983 0.85839769] score: 1.1914916199445718\n",
      "color: (58.03331744126945, 64.06049447201175, 88.54911222629745) target: (58, 66, 89) input: [1.49232297 0.38718708 0.95094983 0.85839769] score: 1.9915048404320153\n",
      "color: (56.244145628970074, 65.30749300785678, 88.25091692424758) target: (58, 66, 89) input: [1.39232297 0.48718708 0.95094983 0.85839769] score: 2.03069346795888\n",
      "color: (56.27125429279279, 66.52738287987908, 91.23286994474654) target: (58, 66, 89) input: [1.39232297 0.38718708 1.05094983 0.85839769] score: 2.872699533945263\n",
      "color: (57.30138351805607, 65.19905835256591, 87.87139563072951) target: (58, 66, 89) input: [1.39232297 0.38718708 0.95094983 0.95839769] score: 1.5502646012131553\n",
      "color: (57.19832360424499, 65.12101458548285, 89.06596749503305) target: (58, 66, 89) input: [1.39232304 0.38718715 0.95094999 0.85839771] score: 1.1914915496324585\n",
      "color: (58.03331582589033, 64.06049624024584, 88.54911463443065) target: (58, 66, 89) input: [1.49232304 0.38718715 0.95094999 0.85839771] score: 1.9915025461293998\n",
      "color: (56.244144161318616, 65.30749467312916, 88.25091935700203) target: (58, 66, 89) input: [1.39232304 0.48718715 0.95094999 0.85839771] score: 2.030693271690791\n",
      "color: (56.27125282290303, 66.52738444442804, 91.2328721312882) target: (58, 66, 89) input: [1.39232304 0.38718715 1.05094999 0.85839771] score: 2.872702405267371\n",
      "color: (57.301381963110984, 65.19906002679149, 87.87139809482017) target: (58, 66, 89) input: [1.39232304 0.38718715 0.95094999 0.95839771] score: 1.550262643078737\n",
      "color: (57.19832327662997, 65.12101494153553, 89.06596799615927) target: (58, 66, 89) input: [1.39232305 0.38718716 0.95095002 0.85839771] score: 1.191491535141713\n",
      "color: (58.033315492946684, 64.06049660469421, 88.54911513076776) target: (58, 66, 89) input: [1.49232305 0.38718716 0.95095002 0.85839771] score: 1.991502073254143\n",
      "color: (56.24414385882293, 65.30749501635623, 88.2509198584138) target: (58, 66, 89) input: [1.39232305 0.48718716 0.95095002 0.85839771] score: 2.030693231238904\n",
      "color: (56.27125251994602, 66.52738476689515, 91.23287258195342) target: (58, 66, 89) input: [1.39232305 0.38718716 1.05095002 0.85839771] score: 2.8727029970718108\n",
      "color: (57.301381642623326, 65.19906037186388, 87.87139860269059) target: (58, 66, 89) input: [1.39232305 0.38718716 0.95095002 0.95839771] score: 1.5502622394908745\n",
      "color: (57.19832320910555, 65.1210150149212, 89.06596809944591) target: (58, 66, 89) input: [1.39232305 0.38718716 0.95095003 0.85839771] score: 1.1914915321550992\n",
      "color: (58.03331542432399, 64.06049667981031, 88.54911523306731) target: (58, 66, 89) input: [1.49232305 0.38718716 0.95095003 0.85839771] score: 1.9915019757902952\n",
      "color: (56.244143796475846, 65.30749508709843, 88.25091996175931) target: (58, 66, 89) input: [1.39232305 0.48718716 0.95095003 0.85839771] score: 2.030693222901416\n",
      "color: (56.27125245750383, 66.52738483335852, 91.23287267483954) target: (58, 66, 89) input: [1.39232305 0.38718716 1.05095003 0.85839771] score: 2.8727031190480234\n",
      "color: (57.30138157656793, 65.19906044298641, 87.87139870736726) target: (58, 66, 89) input: [1.39232305 0.38718716 0.95095003 0.95839771] score: 1.5502621563078067\n",
      "color: (57.19832319518815, 65.12101503004666, 89.06596812073424) target: (58, 66, 89) input: [1.39232306 0.38718716 0.95095003 0.85839771] score: 1.1914915315395274\n",
      "color: (58.03331541018022, 64.06049669529241, 88.54911525415218) target: (58, 66, 89) input: [1.49232306 0.38718716 0.95095003 0.85839771] score: 1.9915019557021207\n",
      "color: (56.24414378362553, 65.30749510167902, 88.25091998305975) target: (58, 66, 89) input: [1.39232306 0.48718716 0.95095003 0.85839771] score: 2.030693221183008\n",
      "color: (56.27125244463393, 66.52738484705723, 91.23287269398425) target: (58, 66, 89) input: [1.39232306 0.38718716 1.05095003 0.85839771] score: 2.8727031441884523\n",
      "color: (57.30138156295331, 65.19906045764542, 87.8713987289421) target: (58, 66, 89) input: [1.39232306 0.38718716 0.95095003 0.95839771] score: 1.5502621391630014\n",
      "color: (57.19832319231965, 65.12101503316416, 89.06596812512194) target: (58, 66, 89) input: [1.39232306 0.38718716 0.95095003 0.85839771] score: 1.1914915314126548\n",
      "color: (58.03331540726507, 64.06049669848343, 88.54911525849798) target: (58, 66, 89) input: [1.49232306 0.38718716 0.95095003 0.85839771] score: 1.9915019515617467\n",
      "color: (56.24414378097696, 65.30749510468424, 88.25091998744996) target: (58, 66, 89) input: [1.39232306 0.48718716 0.95095003 0.85839771] score: 2.0306932208288235\n",
      "color: (56.27125244198133, 66.52738484988068, 91.23287269793016) target: (58, 66, 89) input: [1.39232306 0.38718716 1.05095003 0.85839771] score: 2.872703149370135\n",
      "color: (57.301381560147206, 65.19906046066677, 87.87139873338884) target: (58, 66, 89) input: [1.39232306 0.38718716 0.95095003 0.95839771] score: 1.5502621356293205\n",
      "color: (57.19832319172842, 65.12101503380669, 89.06596812602629) target: (58, 66, 89) input: [1.39232306 0.38718716 0.95095003 0.85839771] score: 1.1914915313865184\n",
      "color: (58.033315406664244, 64.06049669914113, 88.54911525939369) target: (58, 66, 89) input: [1.49232306 0.38718716 0.95095003 0.85839771] score: 1.9915019507083827\n",
      "color: (56.244143780431074, 65.30749510530363, 88.25091998835482) target: (58, 66, 89) input: [1.39232306 0.48718716 0.95095003 0.85839771] score: 2.030693220755821\n",
      "color: (56.27125244143461, 66.5273848504626, 91.23287269874342) target: (58, 66, 89) input: [1.39232306 0.38718716 1.05095003 0.85839771] score: 2.8727031504380975\n",
      "color: (57.30138155956885, 65.19906046128949, 87.87139873430536) target: (58, 66, 89) input: [1.39232306 0.38718716 0.95095003 0.95839771] score: 1.550262134900997\n",
      "color: (57.19832319160657, 65.12101503393913, 89.06596812621268) target: (58, 66, 89) input: [1.39232306 0.38718716 0.95095003 0.85839771] score: 1.1914915313811163\n",
      "color: (58.03331540654039, 64.06049669927668, 88.54911525957829) target: (58, 66, 89) input: [1.49232306 0.38718716 0.95095003 0.85839771] score: 1.991501950532499\n",
      "color: (56.24414378031855, 65.30749510543129, 88.25091998854131) target: (58, 66, 89) input: [1.39232306 0.48718716 0.95095003 0.85839771] score: 2.0306932207407886\n",
      "color: (56.27125244132192, 66.52738485058255, 91.23287269891105) target: (58, 66, 89) input: [1.39232306 0.38718716 1.05095003 0.85839771] score: 2.8727031506582312\n",
      "color: (57.301381559449645, 65.19906046141784, 87.87139873449428) target: (58, 66, 89) input: [1.39232306 0.38718716 0.95095003 0.95839771] score: 1.55026213475087\n",
      "color: (57.198323191581444, 65.12101503396642, 89.0659681262511) target: (58, 66, 89) input: [1.39232306 0.38718716 0.95095003 0.85839771] score: 1.1914915313800194\n",
      "color: (58.03331540651487, 64.06049669930462, 88.54911525961636) target: (58, 66, 89) input: [1.49232306 0.38718716 0.95095003 0.85839771] score: 1.9915019504962435\n",
      "color: (56.24414378029537, 65.3074951054576, 88.25091998857977) target: (58, 66, 89) input: [1.39232306 0.48718716 0.95095003 0.85839771] score: 2.0306932207376756\n",
      "color: (56.2712524412987, 66.52738485060726, 91.2328726989456) target: (58, 66, 89) input: [1.39232306 0.38718716 1.05095003 0.85839771] score: 2.8727031507035936\n",
      "color: (57.30138155942508, 65.1990604614443, 87.87139873453322) target: (58, 66, 89) input: [1.39232306 0.38718716 0.95095003 0.95839771] score: 1.5502621347199217\n",
      "color: (57.19832319157627, 65.12101503397204, 89.06596812625902) target: (58, 66, 89) input: [1.39232306 0.38718716 0.95095003 0.85839771] score: 1.1914915313797874\n",
      "color: (58.033315406509615, 64.06049669931038, 88.54911525962419) target: (58, 66, 89) input: [1.49232306 0.38718716 0.95095003 0.85839771] score: 1.9915019504887777\n",
      "color: (56.244143780290585, 65.30749510546303, 88.2509199885877) target: (58, 66, 89) input: [1.39232306 0.48718716 0.95095003 0.85839771] score: 2.030693220737034\n",
      "color: (56.27125244129391, 66.52738485061236, 91.23287269895272) target: (58, 66, 89) input: [1.39232306 0.38718716 1.05095003 0.85839771] score: 2.872703150712946\n",
      "color: (57.30138155942001, 65.19906046144975, 87.87139873454123) target: (58, 66, 89) input: [1.39232306 0.38718716 0.95095003 0.95839771] score: 1.550262134713561\n",
      "color: (57.19832319157521, 65.12101503397321, 89.06596812626066) target: (58, 66, 89) input: [1.39232306 0.38718716 0.95095003 0.85839771] score: 1.1914915313797305\n",
      "color: (58.03331540650853, 64.06049669931156, 88.54911525962581) target: (58, 66, 89) input: [1.49232306 0.38718716 0.95095003 0.85839771] score: 1.991501950487244\n",
      "color: (56.244143780289605, 65.30749510546416, 88.25091998858933) target: (58, 66, 89) input: [1.39232306 0.48718716 0.95095003 0.85839771] score: 2.030693220736896\n",
      "color: (56.27125244129292, 66.5273848506134, 91.23287269895418) target: (58, 66, 89) input: [1.39232306 0.38718716 1.05095003 0.85839771] score: 2.8727031507148686\n",
      "color: (57.30138155941897, 65.19906046145088, 87.87139873454288) target: (58, 66, 89) input: [1.39232306 0.38718716 0.95095003 0.95839771] score: 1.5502621347122412\n",
      "color: (57.19832319157499, 65.12101503397345, 89.065968126261) target: (58, 66, 89) input: [1.39232306 0.38718716 0.95095003 0.85839771] score: 1.1914915313797194\n",
      "color: (58.03331540650831, 64.06049669931181, 88.54911525962615) target: (58, 66, 89) input: [1.49232306 0.38718716 0.95095003 0.85839771] score: 1.991501950486914\n",
      "color: (56.24414378028939, 65.30749510546438, 88.25091998858966) target: (58, 66, 89) input: [1.39232306 0.48718716 0.95095003 0.85839771] score: 2.0306932207368824\n",
      "color: (56.27125244129272, 66.52738485061363, 91.23287269895451) target: (58, 66, 89) input: [1.39232306 0.38718716 1.05095003 0.85839771] score: 2.8727031507152883\n",
      "color: (57.30138155941874, 65.19906046145111, 87.87139873454322) target: (58, 66, 89) input: [1.39232306 0.38718716 0.95095003 0.95839771] score: 1.5502621347119778\n",
      "color: (nan, nan, nan) target: (58, 66, 89) input: [0. 0. 0. 0.] score: nan\n",
      "color: (88.0, 26.0, 70.0) target: (58, 66, 89) input: [0.1 0.  0.  0. ] score: 53.48831648126533\n",
      "color: (22.0, 72.0, 59.0) target: (58, 66, 89) input: [0.  0.1 0.  0. ] score: 47.24404724407086\n",
      "color: (23.0, 117.0, 169.0) target: (58, 66, 89) input: [0.  0.  0.1 0. ] score: 101.1236866416568\n",
      "color: (61.0, 68.0, 45.0) target: (58, 66, 89) input: [0.  0.  0.  0.1] score: 44.14748010928823\n",
      "color: (nan, nan, nan) target: (58, 66, 89) input: [0. 0. 0. 0.] score: nan\n",
      "color: (88.0, 26.0, 70.0) target: (58, 66, 89) input: [0.1 0.  0.  0. ] score: 53.48831648126533\n",
      "color: (22.0, 72.0, 59.0) target: (58, 66, 89) input: [0.  0.1 0.  0. ] score: 47.24404724407086\n",
      "color: (23.0, 117.0, 169.0) target: (58, 66, 89) input: [0.  0.  0.1 0. ] score: 101.1236866416568\n",
      "color: (61.0, 68.0, 45.0) target: (58, 66, 89) input: [0.  0.  0.  0.1] score: 44.14748010928823\n",
      "color: (nan, nan, nan) target: (58, 66, 89) input: [0. 0. 0. 0.] score: nan\n",
      "color: (88.0, 26.0, 70.0) target: (58, 66, 89) input: [0.1 0.  0.  0. ] score: 53.48831648126533\n",
      "color: (22.0, 72.0, 59.0) target: (58, 66, 89) input: [0.  0.1 0.  0. ] score: 47.24404724407086\n",
      "color: (23.0, 117.0, 169.0) target: (58, 66, 89) input: [0.  0.  0.1 0. ] score: 101.1236866416568\n",
      "color: (61.0, 68.0, 45.0) target: (58, 66, 89) input: [0.  0.  0.  0.1] score: 44.14748010928823\n",
      "color: (nan, nan, nan) target: (58, 66, 89) input: [0. 0. 0. 0.] score: nan\n",
      "color: (88.0, 26.0, 70.0) target: (58, 66, 89) input: [0.1 0.  0.  0. ] score: 53.48831648126533\n",
      "color: (22.0, 72.0, 59.0) target: (58, 66, 89) input: [0.  0.1 0.  0. ] score: 47.24404724407086\n",
      "color: (23.0, 117.0, 169.0) target: (58, 66, 89) input: [0.  0.  0.1 0. ] score: 101.1236866416568\n",
      "color: (61.0, 68.0, 45.0) target: (58, 66, 89) input: [0.  0.  0.  0.1] score: 44.14748010928823\n",
      "color: (nan, nan, nan) target: (58, 66, 89) input: [0. 0. 0. 0.] score: nan\n",
      "color: (88.0, 26.0, 70.0) target: (58, 66, 89) input: [0.1 0.  0.  0. ] score: 53.48831648126533\n",
      "color: (22.0, 72.0, 59.0) target: (58, 66, 89) input: [0.  0.1 0.  0. ] score: 47.24404724407086\n"
     ]
    },
    {
     "name": "stdout",
     "output_type": "stream",
     "text": [
      "color: (23.0, 117.0, 169.0) target: (58, 66, 89) input: [0.  0.  0.1 0. ] score: 101.1236866416568\n",
      "color: (61.0, 68.0, 45.0) target: (58, 66, 89) input: [0.  0.  0.  0.1] score: 44.14748010928823\n",
      "color: (nan, nan, nan) target: (58, 66, 89) input: [0. 0. 0. 0.] score: nan\n",
      "color: (88.0, 26.0, 70.0) target: (58, 66, 89) input: [0.1 0.  0.  0. ] score: 53.48831648126533\n",
      "color: (22.0, 72.0, 59.0) target: (58, 66, 89) input: [0.  0.1 0.  0. ] score: 47.24404724407086\n",
      "color: (23.0, 117.0, 169.0) target: (58, 66, 89) input: [0.  0.  0.1 0. ] score: 101.1236866416568\n",
      "color: (61.0, 68.0, 45.0) target: (58, 66, 89) input: [0.  0.  0.  0.1] score: 44.14748010928823\n",
      "color: (nan, nan, nan) target: (58, 66, 89) input: [0. 0. 0. 0.] score: nan\n",
      "color: (88.0, 26.0, 70.0) target: (58, 66, 89) input: [0.1 0.  0.  0. ] score: 53.48831648126533\n",
      "color: (22.0, 72.0, 59.0) target: (58, 66, 89) input: [0.  0.1 0.  0. ] score: 47.24404724407086\n",
      "color: (23.0, 117.0, 169.0) target: (58, 66, 89) input: [0.  0.  0.1 0. ] score: 101.1236866416568\n",
      "color: (61.0, 68.0, 45.0) target: (58, 66, 89) input: [0.  0.  0.  0.1] score: 44.14748010928823\n",
      "color: (nan, nan, nan) target: (58, 66, 89) input: [0. 0. 0. 0.] score: nan\n",
      "color: (88.0, 26.0, 70.0) target: (58, 66, 89) input: [0.1 0.  0.  0. ] score: 53.48831648126533\n",
      "color: (22.0, 72.0, 59.0) target: (58, 66, 89) input: [0.  0.1 0.  0. ] score: 47.24404724407086\n",
      "color: (23.0, 117.0, 169.0) target: (58, 66, 89) input: [0.  0.  0.1 0. ] score: 101.1236866416568\n",
      "color: (61.0, 68.0, 45.0) target: (58, 66, 89) input: [0.  0.  0.  0.1] score: 44.14748010928823\n",
      "color: (nan, nan, nan) target: (58, 66, 89) input: [0. 0. 0. 0.] score: nan\n",
      "color: (88.0, 26.0, 70.0) target: (58, 66, 89) input: [0.1 0.  0.  0. ] score: 53.48831648126533\n",
      "color: (22.0, 72.0, 59.0) target: (58, 66, 89) input: [0.  0.1 0.  0. ] score: 47.24404724407086\n",
      "color: (23.0, 117.0, 169.0) target: (58, 66, 89) input: [0.  0.  0.1 0. ] score: 101.1236866416568\n",
      "color: (61.0, 68.0, 45.0) target: (58, 66, 89) input: [0.  0.  0.  0.1] score: 44.14748010928823\n",
      "color: (nan, nan, nan) target: (58, 66, 89) input: [0. 0. 0. 0.] score: nan\n",
      "color: (88.0, 26.0, 70.0) target: (58, 66, 89) input: [0.1 0.  0.  0. ] score: 53.48831648126533\n",
      "color: (22.0, 72.0, 59.0) target: (58, 66, 89) input: [0.  0.1 0.  0. ] score: 47.24404724407086\n",
      "color: (23.0, 117.0, 169.0) target: (58, 66, 89) input: [0.  0.  0.1 0. ] score: 101.1236866416568\n",
      "color: (61.0, 68.0, 45.0) target: (58, 66, 89) input: [0.  0.  0.  0.1] score: 44.14748010928823\n",
      "color: (nan, nan, nan) target: (58, 66, 89) input: [0. 0. 0. 0.] score: nan\n",
      "color: (88.0, 26.0, 70.0) target: (58, 66, 89) input: [0.1 0.  0.  0. ] score: 53.48831648126533\n",
      "color: (22.0, 72.0, 59.0) target: (58, 66, 89) input: [0.  0.1 0.  0. ] score: 47.24404724407086\n",
      "color: (23.0, 117.0, 169.0) target: (58, 66, 89) input: [0.  0.  0.1 0. ] score: 101.1236866416568\n",
      "color: (61.0, 68.0, 45.0) target: (58, 66, 89) input: [0.  0.  0.  0.1] score: 44.14748010928823\n",
      "color: (nan, nan, nan) target: (58, 66, 89) input: [0. 0. 0. 0.] score: nan\n",
      "color: (88.0, 26.0, 70.0) target: (58, 66, 89) input: [0.1 0.  0.  0. ] score: 53.48831648126533\n",
      "color: (22.0, 72.0, 59.0) target: (58, 66, 89) input: [0.  0.1 0.  0. ] score: 47.24404724407086\n",
      "color: (23.0, 117.0, 169.0) target: (58, 66, 89) input: [0.  0.  0.1 0. ] score: 101.1236866416568\n",
      "color: (61.0, 68.0, 45.0) target: (58, 66, 89) input: [0.  0.  0.  0.1] score: 44.14748010928823\n",
      "color: (nan, nan, nan) target: (58, 66, 89) input: [0. 0. 0. 0.] score: nan\n",
      "color: (88.0, 26.0, 70.0) target: (58, 66, 89) input: [0.1 0.  0.  0. ] score: 53.48831648126533\n",
      "color: (22.0, 72.0, 59.0) target: (58, 66, 89) input: [0.  0.1 0.  0. ] score: 47.24404724407086\n",
      "color: (23.0, 117.0, 169.0) target: (58, 66, 89) input: [0.  0.  0.1 0. ] score: 101.1236866416568\n",
      "color: (61.0, 68.0, 45.0) target: (58, 66, 89) input: [0.  0.  0.  0.1] score: 44.14748010928823\n",
      "color: (nan, nan, nan) target: (58, 66, 89) input: [0. 0. 0. 0.] score: nan\n",
      "color: (88.0, 26.0, 70.0) target: (58, 66, 89) input: [0.1 0.  0.  0. ] score: 53.48831648126533\n",
      "color: (22.0, 72.0, 59.0) target: (58, 66, 89) input: [0.  0.1 0.  0. ] score: 47.24404724407086\n",
      "color: (23.0, 117.0, 169.0) target: (58, 66, 89) input: [0.  0.  0.1 0. ] score: 101.1236866416568\n",
      "color: (61.0, 68.0, 45.0) target: (58, 66, 89) input: [0.  0.  0.  0.1] score: 44.14748010928823\n",
      "color: (nan, nan, nan) target: (58, 66, 89) input: [0. 0. 0. 0.] score: nan\n",
      "color: (88.0, 26.0, 70.0) target: (58, 66, 89) input: [0.1 0.  0.  0. ] score: 53.48831648126533\n",
      "color: (22.0, 72.0, 59.0) target: (58, 66, 89) input: [0.  0.1 0.  0. ] score: 47.24404724407086\n",
      "color: (23.0, 117.0, 169.0) target: (58, 66, 89) input: [0.  0.  0.1 0. ] score: 101.1236866416568\n",
      "color: (61.0, 68.0, 45.0) target: (58, 66, 89) input: [0.  0.  0.  0.1] score: 44.14748010928823\n",
      "color: (nan, nan, nan) target: (58, 66, 89) input: [0. 0. 0. 0.] score: nan\n",
      "color: (88.0, 26.0, 70.0) target: (58, 66, 89) input: [0.1 0.  0.  0. ] score: 53.48831648126533\n",
      "color: (22.0, 72.0, 59.0) target: (58, 66, 89) input: [0.  0.1 0.  0. ] score: 47.24404724407086\n",
      "color: (23.0, 117.0, 169.0) target: (58, 66, 89) input: [0.  0.  0.1 0. ] score: 101.1236866416568\n",
      "color: (61.0, 68.0, 45.0) target: (58, 66, 89) input: [0.  0.  0.  0.1] score: 44.14748010928823\n",
      "color: (nan, nan, nan) target: (58, 66, 89) input: [0. 0. 0. 0.] score: nan\n",
      "color: (88.0, 26.0, 70.0) target: (58, 66, 89) input: [0.1 0.  0.  0. ] score: 53.48831648126533\n",
      "color: (22.0, 72.0, 59.0) target: (58, 66, 89) input: [0.  0.1 0.  0. ] score: 47.24404724407086\n",
      "color: (23.0, 117.0, 169.0) target: (58, 66, 89) input: [0.  0.  0.1 0. ] score: 101.1236866416568\n",
      "color: (61.0, 68.0, 45.0) target: (58, 66, 89) input: [0.  0.  0.  0.1] score: 44.14748010928823\n",
      "color: (nan, nan, nan) target: (58, 66, 89) input: [0. 0. 0. 0.] score: nan\n",
      "color: (88.0, 26.0, 70.0) target: (58, 66, 89) input: [0.1 0.  0.  0. ] score: 53.48831648126533\n",
      "color: (22.0, 72.0, 59.0) target: (58, 66, 89) input: [0.  0.1 0.  0. ] score: 47.24404724407086\n",
      "color: (23.0, 117.0, 169.0) target: (58, 66, 89) input: [0.  0.  0.1 0. ] score: 101.1236866416568\n",
      "color: (61.0, 68.0, 45.0) target: (58, 66, 89) input: [0.  0.  0.  0.1] score: 44.14748010928823\n",
      "color: (nan, nan, nan) target: (58, 66, 89) input: [0. 0. 0. 0.] score: nan\n",
      "color: (88.0, 26.0, 70.0) target: (58, 66, 89) input: [0.1 0.  0.  0. ] score: 53.48831648126533\n",
      "color: (22.0, 72.0, 59.0) target: (58, 66, 89) input: [0.  0.1 0.  0. ] score: 47.24404724407086\n",
      "color: (23.0, 117.0, 169.0) target: (58, 66, 89) input: [0.  0.  0.1 0. ] score: 101.1236866416568\n",
      "color: (61.0, 68.0, 45.0) target: (58, 66, 89) input: [0.  0.  0.  0.1] score: 44.14748010928823\n",
      "color: (nan, nan, nan) target: (58, 66, 89) input: [0. 0. 0. 0.] score: nan\n",
      "color: (88.0, 26.0, 70.0) target: (58, 66, 89) input: [0.1 0.  0.  0. ] score: 53.48831648126533\n",
      "color: (22.0, 72.0, 59.0) target: (58, 66, 89) input: [0.  0.1 0.  0. ] score: 47.24404724407086\n",
      "color: (23.0, 117.0, 169.0) target: (58, 66, 89) input: [0.  0.  0.1 0. ] score: 101.1236866416568\n",
      "color: (61.0, 68.0, 45.0) target: (58, 66, 89) input: [0.  0.  0.  0.1] score: 44.14748010928823\n"
     ]
    },
    {
     "data": {
      "text/plain": [
       "      fun: nan\n",
       " hess_inv: <4x4 LbfgsInvHessProduct with dtype=float64>\n",
       "      jac: array([ 8.00010419,  8.39201689, 16.81211619,  3.58770603])\n",
       "  message: b'ABNORMAL_TERMINATION_IN_LNSRCH'\n",
       "     nfev: 405\n",
       "      nit: 7\n",
       "   status: 2\n",
       "  success: False\n",
       "        x: array([1.39232306, 0.38718716, 0.95095003, 0.85839771])"
      ]
     },
     "execution_count": 24,
     "metadata": {},
     "output_type": "execute_result"
    }
   ],
   "source": [
    "# Teacher\n",
    "res = minimize(find_weights, [1.0, 1.0, 1.0, 1.0], method='L-BFGS-B',\n",
    "               bounds = 4*[[0.0, 10.0]], \n",
    "               options={'disp': True, 'eps': 0.1, 'maxiter': 100, 'gtol': 0.1, 'maxfun':10000})\n",
    "res"
   ]
  },
  {
   "cell_type": "markdown",
   "metadata": {},
   "source": [
    "Do the weights you find during optimization make sense? How sensitive are these weights to changes in the input colors and the target color? \n",
    "\n",
    "The noise in our data robot data is too large to use it to improve the silico model by incorporating weights into it. We would need to use more data points and proably also a more advanced model than simply adding weights. Lets see if we can close the gaps with an error correcting neural network rather than attempting to improve the silico model further. "
   ]
  },
  {
   "cell_type": "markdown",
   "metadata": {},
   "source": [
    "## Error correcting neural network"
   ]
  },
  {
   "cell_type": "markdown",
   "metadata": {},
   "source": [
    "The other day you train a neural network to replicate the silico mixer. Today is slightly different as you will need it to predict the error between the robot and the silico mixer. Start by getting your data from the robot and splitting it into train set, dependent test set, and independent test set.\n",
    "\n",
    "Start by copying the robot data file to your own data folder. It cannot easily be done from within the notebook so make a new login to gbar. From gbar run the below line. Replace X with your robot number."
   ]
  },
  {
   "cell_type": "raw",
   "metadata": {},
   "source": [
    "scp robot@ailegoX.eduroam.wireless.dtu.dk:/home/robot/47332_exercises/data/datafile.csv  ~/47332/data"
   ]
  },
  {
   "cell_type": "markdown",
   "metadata": {},
   "source": [
    "Use pandas to load in the data. It might perhaps be a bit overkill, but pandas is a great tool for you to get an introduction to if you don't already know it."
   ]
  },
  {
   "cell_type": "code",
   "execution_count": 25,
   "metadata": {},
   "outputs": [],
   "source": [
    "try:\n",
    "    import pandas as pd\n",
    "except:\n",
    "    !pip3 install pandas --user --upgrade\n",
    "    import pandas as pd"
   ]
  },
  {
   "cell_type": "markdown",
   "metadata": {},
   "source": [
    "You can then load in the data with the cell below"
   ]
  },
  {
   "cell_type": "code",
   "execution_count": 26,
   "metadata": {},
   "outputs": [
    {
     "name": "stdout",
     "output_type": "stream",
     "text": [
      "                    Time                                            Vcolors  \\\n",
      "0    2020-06-10 11:58:57                               [1.0, 0.0, 0.0, 0.0]   \n",
      "1    2020-06-10 12:07:34                               [0.5, 0.0, 0.0, 0.5]   \n",
      "2    2020-06-10 12:11:54                               [0.5, 0.0, 0.5, 0.0]   \n",
      "3    2020-06-10 12:14:56                               [0.5, 0.0, 0.5, 0.0]   \n",
      "4    2020-06-10 12:20:42                               [0.5, 0.0, 0.5, 0.0]   \n",
      "..                   ...                                                ...   \n",
      "106  2020-06-18 08:35:24                               [0.0, 1.0, 0.0, 0.0]   \n",
      "107  2020-06-18 08:38:45                               [0.0, 0.5, 0.5, 0.0]   \n",
      "108  2020-06-18 08:42:22  [0.0, 0.3333333333333333, 0.6666666666666666, ...   \n",
      "109  2020-06-18 08:45:31                               [0.0, 0.0, 1.0, 0.0]   \n",
      "110  2020-06-18 08:49:04                               [0.5, 0.0, 0.5, 0.0]   \n",
      "\n",
      "               RGB  Cuvette                           Colors  \n",
      "0     (79, 18, 63)        1  [red_u,green_u,blue_t,yellow_u]  \n",
      "1     (78, 25, 68)        4  [red_u,green_u,blue_t,yellow_u]  \n",
      "2     (21, 19, 82)        2  [red_u,green_u,blue_t,yellow_u]  \n",
      "3     (22, 24, 85)        3  [red_u,green_u,blue_t,yellow_u]  \n",
      "4     (35, 38, 96)        6  [red_u,green_u,blue_t,yellow_u]  \n",
      "..             ...      ...                              ...  \n",
      "106   (24, 41, 58)        6  [red_u,green_u,blue_t,yellow_u]  \n",
      "107   (23, 47, 74)        7  [red_u,green_u,blue_t,yellow_u]  \n",
      "108   (22, 53, 83)        8  [red_u,green_u,blue_t,yellow_u]  \n",
      "109  (20, 60, 107)        9  [red_u,green_u,blue_t,yellow_u]  \n",
      "110   (19, 12, 41)       10  [red_u,green_u,blue_t,yellow_u]  \n",
      "\n",
      "[111 rows x 5 columns]\n"
     ]
    }
   ],
   "source": [
    "df = pd.read_csv('~/47332/data/datafile.csv', sep=';')\n",
    "print(df)"
   ]
  },
  {
   "cell_type": "code",
   "execution_count": 27,
   "metadata": {},
   "outputs": [
    {
     "name": "stdout",
     "output_type": "stream",
     "text": [
      "                                               Vcolors            RGB\n",
      "0                                 [1.0, 0.0, 0.0, 0.0]   (79, 18, 63)\n",
      "1                                 [0.5, 0.0, 0.0, 0.5]   (78, 25, 68)\n",
      "2                                 [0.5, 0.0, 0.5, 0.0]   (21, 19, 82)\n",
      "3                                 [0.5, 0.0, 0.5, 0.0]   (22, 24, 85)\n",
      "4                                 [0.5, 0.0, 0.5, 0.0]   (35, 38, 96)\n",
      "..                                                 ...            ...\n",
      "106                               [0.0, 1.0, 0.0, 0.0]   (24, 41, 58)\n",
      "107                               [0.0, 0.5, 0.5, 0.0]   (23, 47, 74)\n",
      "108  [0.0, 0.3333333333333333, 0.6666666666666666, ...   (22, 53, 83)\n",
      "109                               [0.0, 0.0, 1.0, 0.0]  (20, 60, 107)\n",
      "110                               [0.5, 0.0, 0.5, 0.0]   (19, 12, 41)\n",
      "\n",
      "[111 rows x 2 columns]\n"
     ]
    }
   ],
   "source": [
    "data = df[['Vcolors','RGB']]\n",
    "print(data)"
   ]
  },
  {
   "cell_type": "markdown",
   "metadata": {},
   "source": [
    "Split the independent data you created from the dataframe. In case it is the last 9 points use the one below. Otherwise you have to change the indicies."
   ]
  },
  {
   "cell_type": "code",
   "execution_count": 28,
   "metadata": {},
   "outputs": [],
   "source": [
    "df1 = data.iloc[:-9, :]\n",
    "df_indep_test = data.iloc[-9:, :]\n",
    "\n",
    "# In case n points after the independent set\n",
    "# n = 3\n",
    "# df11 = date.iloc[:-9-n, :]\n",
    "# df_independent = date.iloc[-9-n:-n, :]\n",
    "# df12 = date.iloc[-n:, :]\n",
    "# df1 = pd.concat([df11, df12])"
   ]
  },
  {
   "cell_type": "markdown",
   "metadata": {},
   "source": [
    "Remove (on average) 20 percent of the points in the remaining data. These points will be the dependent test data."
   ]
  },
  {
   "cell_type": "code",
   "execution_count": 29,
   "metadata": {},
   "outputs": [
    {
     "name": "stdout",
     "output_type": "stream",
     "text": [
      "83\n",
      "19\n"
     ]
    }
   ],
   "source": [
    "msk = np.random.rand(len(df1)) < 0.8\n",
    "df_train = df1[msk]\n",
    "df_dep_test = df1[~msk]\n",
    "print(len(df_train))\n",
    "print(len(df_dep_test))"
   ]
  },
  {
   "cell_type": "markdown",
   "metadata": {},
   "source": [
    "Now, turn the dataframes into lists. You can use `df_train.values.tolist()` and similar."
   ]
  },
  {
   "cell_type": "code",
   "execution_count": 30,
   "metadata": {},
   "outputs": [],
   "source": [
    "train_list = df_train.values.tolist()\n",
    "for data in train_list:\n",
    "    data[0] = eval(data[0])\n",
    "    data[1] = list(eval(data[1]))\n",
    "# print(train_list)\n",
    "train_x = list(np.asarray(train_list)[:,0])\n",
    "# print(train_x)\n",
    "train_y = np.asarray(train_list)[:,1]\n",
    "# print(train_y)"
   ]
  },
  {
   "cell_type": "code",
   "execution_count": 31,
   "metadata": {},
   "outputs": [],
   "source": [
    "# For you to work in"
   ]
  },
  {
   "cell_type": "code",
   "execution_count": 32,
   "metadata": {},
   "outputs": [],
   "source": [
    "# For you to work in"
   ]
  },
  {
   "cell_type": "markdown",
   "metadata": {},
   "source": [
    "You will not be training to the robot data but to the difference between the robot and the silico mixer. Go ahead and make the difference list. Remember that in the end it should have the format `[[r0,g0,b0],[r1,g1,b2],...]`.\n",
    "\n",
    "You might find numpy usefull as it allows elementwise difference between numpy arrays to be easily calculated. \n",
    "`list(np.asarray(point)-np.asarray(point_sil))`"
   ]
  },
  {
   "cell_type": "code",
   "execution_count": 33,
   "metadata": {},
   "outputs": [],
   "source": [
    "# For you to work in"
   ]
  },
  {
   "cell_type": "code",
   "execution_count": 34,
   "metadata": {},
   "outputs": [
    {
     "name": "stdout",
     "output_type": "stream",
     "text": [
      "[79, 18, 63] [88.0, 26.0, 70.0]\n",
      "[78, 25, 68] [74.5, 47.0, 57.5]\n",
      "[21, 19, 82] [55.5, 71.5, 119.5]\n",
      "[22, 24, 85] [55.5, 71.5, 119.5]\n",
      "[35, 38, 96] [55.5, 71.5, 119.5]\n",
      "[22, 26, 73] [48.5, 70.75, 85.75]\n",
      "[29, 24, 67] [68.25, 48.375, 77.875]\n",
      "[26, 42, 81] [35.25, 71.375, 72.375]\n",
      "[28, 56, 110] [35.75, 93.875, 127.375]\n",
      "[34, 45, 81] [54.75, 69.375, 65.375]\n",
      "[30, 55, 80] [38.625, 81.9375, 89.6875]\n",
      "[21, 31, 71] [48.5, 70.75, 85.75]\n",
      "[23, 21, 66] [68.25, 48.375, 77.875]\n",
      "[21, 45, 73] [35.25, 71.375, 72.375]\n",
      "[18, 53, 99] [35.75, 93.875, 127.375]\n",
      "[24, 40, 62] [54.75, 69.375, 65.375]\n",
      "[17, 83, 119] [22.5, 94.5, 114.0]\n",
      "[22, 84, 115] [22.454545454545457, 92.45454545454547, 109.0]\n",
      "[17, 74, 107] [22.5, 94.5, 114.0]\n",
      "[17, 55, 93] [28.454545454545453, 88.27272727272728, 110.0]\n",
      "[17, 76, 108] [22.454545454545457, 92.45454545454547, 109.0]\n",
      "[20, 84, 123] [22.545454545454547, 96.54545454545456, 119.0]\n",
      "[17, 75, 90] [26.0, 92.0909090909091, 107.72727272727272]\n",
      "[27, 67, 71] [34.5, 84.8125, 89.0]\n",
      "[15, 54, 57] [36.9375, 84.5625, 88.125]\n",
      "[17, 56, 74] [28.282470101940653, 88.75711212872162, 99.32344586847587]\n",
      "[17, 65, 78] [28.35963408754929, 92.22949148110997, 107.81148428542524]\n",
      "[22, 65, 73] [31.29186554067725, 88.4484561862871, 98.24315006995506]\n",
      "[21, 78, 102] [22.935836858885498, 94.20000839583204, 113.21888978537405]\n",
      "[21, 58, 88] [28.789825771714757, 88.06387947739556, 109.3303759028602]\n",
      "[20, 53, 80] [22.851637226835354, 92.20261694806909, 108.34067781204698]\n",
      "[17, 64, 91] [22.941609780545647, 96.25138186503231, 118.23765872017931]\n",
      "[17, 58, 76] [26.360566821536818, 91.8427267332279, 107.08106206010284]\n",
      "[18, 57, 90] [22.54208952795664, 94.47102928595194, 113.92456682002577]\n",
      "[20, 52, 94] [28.48689395448079, 88.25257722947146, 109.93539335906769]\n",
      "[22, 79, 101] [22.492857644413007, 92.43023890012478, 108.93638730738974]\n",
      "[20, 77, 104] [22.583676376383732, 96.51708183880736, 118.92644782416937]\n",
      "[20, 62, 86] [26.034788191271247, 92.06696397224187, 107.66492505979959]\n",
      "[73, 17, 40] [88.0, 26.0, 70.0]\n",
      "[16, 93, 171] [23.0, 117.0, 169.0]\n",
      "[62, 55, 51] [61.0, 68.0, 45.0]\n",
      "[22, 22, 62] [48.5, 70.75, 85.75]\n",
      "[24, 15, 49] [68.25, 48.375, 77.875]\n",
      "[22, 34, 65] [35.25, 71.375, 72.375]\n",
      "[31, 31, 61] [54.75, 69.375, 65.375]\n",
      "[70, 16, 45] [74.5, 47.0, 57.5]\n",
      "[75, 18, 43] [75.72727272727273, 45.09090909090909, 58.63636363636364]\n",
      "[60, 19, 36] [69.72727272727272, 49.272727272727266, 57.63636363636363]\n",
      "[32, 14, 38] [69.81818181818181, 53.36363636363637, 67.63636363636363]\n",
      "[59, 25, 59] [74.5, 47.0, 57.5]\n",
      "[61, 23, 59] [75.72727272727273, 45.09090909090909, 58.63636363636364]\n",
      "[51, 22, 53] [69.72727272727272, 49.272727272727266, 57.63636363636363]\n",
      "[82, 22, 59] [73.27272727272728, 48.909090909090914, 56.36363636363637]\n",
      "[85, 17, 47] [88.0, 26.0, 70.0]\n",
      "[59, 16, 38] [77.00000000000001, 33.66666666666667, 68.16666666666667]\n",
      "[26, 11, 34] [77.16666666666667, 41.16666666666667, 86.5]\n",
      "[64, 24, 59] [88.0, 26.0, 70.0]\n",
      "[63, 20, 50] [88.0, 26.0, 70.0]\n",
      "[49, 21, 53] [77.00000000000001, 33.66666666666667, 68.16666666666667]\n",
      "[26, 19, 55] [77.16666666666667, 41.16666666666667, 86.5]\n",
      "[28, 22, 49] [56.99996550257727, 55.33338340686511, 58.000112587043276]\n",
      "[28, 21, 47] [58.33978789637524, 54.6965388065214, 57.96462301482616]\n",
      "[22, 23, 51] [51.49041900868677, 65.32620081757793, 75.98716147164026]\n",
      "[22, 26, 56] [47.18971061093248, 72.19774919614147, 86.38745980707395]\n",
      "[66, 19, 45] [74.26086956521739, 47.16459627329192, 57.92857142857143]\n",
      "[26, 22, 52] [52.298156859120596, 63.8613169044573, 73.35068564451558]\n",
      "[41, 21, 44] [57.29814049586777, 57.87551652892562, 55.63336776859505]\n",
      "[40, 18, 45] [56.688397570835484, 54.346598667868804, 59.01270791356487]\n",
      "[19, 21, 50] [50.737608750586624, 62.235650337532945, 78.43170824157973]\n",
      "[35, 22, 48] [67.98034285714286, 47.69177142857143, 59.837142857142865]\n",
      "[52, 21, 49] [77.40106172475403, 42.487122815079516, 60.18652713810996]\n",
      "[52, 20, 48] [74.50019617418009, 46.99960059501464, 57.50047702786239]\n",
      "[40, 20, 42] [56.99999393681155, 55.33333183495918, 58.000019757631364]\n",
      "[37, 15, 42] [60.979226260726925, 44.83300494088936, 65.49698445720229]\n",
      "[28, 13, 37] [55.00005645045202, 49.00005786171333, 64.50013548108485]\n",
      "[18, 22, 50] [52.444212957708714, 70.563952218976, 89.73142251391351]\n",
      "[34, 20, 45] [64.31339340487017, 51.85078228731362, 57.791087619363935]\n",
      "[38, 21, 49] [72.23529411764706, 48.55882352941176, 61.55882352941176]\n",
      "[21, 21, 51] [60.07998989313275, 66.59999803552847, 88.71998389133356]\n",
      "[73, 19, 45] [80.09081365877023, 38.3030454826671, 62.67709701239349]\n",
      "[63, 19, 50] [75.75118740104992, 45.04620448295975, 58.67140238313474]\n",
      "[68, 17, 45] [76.30156079018603, 44.196610608765766, 59.1711253815585]\n",
      "[24, 17, 45] [63.01536432883651, 62.320140755619306, 86.93078224197025]\n",
      "[[-9.0, -8.0, -7.0], [3.5, -22.0, 10.5], [-34.5, -52.5, -37.5], [-33.5, -47.5, -34.5], [-20.5, -33.5, -23.5], [-26.5, -44.75, -12.75], [-39.25, -24.375, -10.875], [-9.25, -29.375, 8.625], [-7.75, -37.875, -17.375], [-20.75, -24.375, 15.625], [-8.625, -26.9375, -9.6875], [-27.5, -39.75, -14.75], [-45.25, -27.375, -11.875], [-14.25, -26.375, 0.625], [-17.75, -40.875, -28.375], [-30.75, -29.375, -3.375], [-5.5, -11.5, 5.0], [-0.4545454545454568, -8.454545454545467, 6.0], [-5.5, -20.5, -7.0], [-11.454545454545453, -33.27272727272728, -17.0], [-5.454545454545457, -16.454545454545467, -1.0], [-2.5454545454545467, -12.545454545454561, 4.0], [-9.0, -17.090909090909093, -17.72727272727272], [-7.5, -17.8125, -18.0], [-21.9375, -30.5625, -31.125], [-11.282470101940653, -32.757112128721616, -25.323445868475872], [-11.359634087549288, -27.229491481109974, -29.811484285425237], [-9.29186554067725, -23.448456186287103, -25.243150069955064], [-1.935836858885498, -16.200008395832043, -11.218889785374046], [-7.7898257717147565, -30.06387947739556, -21.330375902860197], [-2.8516372268353543, -39.20261694806909, -28.340677812046977], [-5.941609780545647, -32.251381865032315, -27.23765872017931], [-9.360566821536818, -33.842726733227906, -31.081062060102838], [-4.542089527956641, -37.47102928595194, -23.924566820025774], [-8.486893954480792, -36.252577229471456, -15.935393359067689], [-0.4928576444130073, -13.430238900124778, -7.936387307389737], [-2.583676376383732, -19.517081838807357, -14.926447824169372], [-6.034788191271247, -30.066963972241865, -21.664925059799586], [-15.0, -9.0, -30.0], [-7.0, -24.0, 2.0], [1.0, -13.0, 6.0], [-26.5, -48.75, -23.75], [-44.25, -33.375, -28.875], [-13.25, -37.375, -7.375], [-23.75, -38.375, -4.375], [-4.5, -31.0, -12.5], [-0.7272727272727337, -27.090909090909093, -15.63636363636364], [-9.72727272727272, -30.272727272727266, -21.636363636363633], [-37.81818181818181, -39.36363636363637, -29.636363636363626], [-15.5, -22.0, 1.5], [-14.727272727272734, -22.090909090909093, 0.36363636363635976], [-18.72727272727272, -27.272727272727266, -4.636363636363633], [8.72727272727272, -26.909090909090914, 2.636363636363633], [-3.0, -9.0, -23.0], [-18.000000000000014, -17.66666666666667, -30.16666666666667], [-51.16666666666667, -30.16666666666667, -52.5], [-24.0, -2.0, -11.0], [-25.0, -6.0, -20.0], [-28.000000000000014, -12.666666666666671, -15.166666666666671], [-51.16666666666667, -22.16666666666667, -31.5], [-28.99996550257727, -33.33338340686511, -9.000112587043276], [-30.339787896375242, -33.6965388065214, -10.96462301482616], [-29.49041900868677, -42.32620081757793, -24.987161471640263], [-25.18971061093248, -46.19774919614147, -30.387459807073952], [-8.26086956521739, -28.16459627329192, -12.92857142857143], [-26.298156859120596, -41.8613169044573, -21.35068564451558], [-16.29814049586777, -36.87551652892562, -11.63336776859505], [-16.688397570835484, -36.346598667868804, -14.012707913564867], [-31.737608750586624, -41.235650337532945, -28.431708241579727], [-32.98034285714286, -25.69177142857143, -11.837142857142865], [-25.40106172475403, -21.487122815079516, -11.186527138109959], [-22.50019617418009, -26.99960059501464, -9.500477027862388], [-16.99999393681155, -35.33333183495918, -16.000019757631364], [-23.979226260726925, -29.83300494088936, -23.496984457202288], [-27.00005645045202, -36.00005786171333, -27.500135481084854], [-34.444212957708714, -48.563952218976, -39.731422513913515], [-30.31339340487017, -31.85078228731362, -12.791087619363935], [-34.23529411764706, -27.55882352941176, -12.558823529411761], [-39.07998989313275, -45.59999803552847, -37.719983891333555], [-7.09081365877023, -19.303045482667102, -17.67709701239349], [-12.751187401049918, -26.04620448295975, -8.67140238313474], [-8.30156079018603, -27.196610608765766, -14.171125381558497], [-39.01536432883651, -45.320140755619306, -41.93078224197025]]\n"
     ]
    }
   ],
   "source": [
    "# Teacher\n",
    "train_y_sil = []\n",
    "\n",
    "for point in train_x:\n",
    "    train_y_sil.append(list(mixer.run_cuvette(point)))\n",
    "    \n",
    "#print(train_y_sil)\n",
    "\n",
    "train_y_diff = []\n",
    "for point, point_sil in zip(train_y,train_y_sil):\n",
    "    print(point, point_sil)\n",
    "    train_y_diff.append(list(np.asarray(point)-np.asarray(point_sil)))\n",
    "\n",
    "print(train_y_diff)"
   ]
  },
  {
   "cell_type": "markdown",
   "metadata": {},
   "source": [
    "Train a neural network like you did the other day."
   ]
  },
  {
   "cell_type": "code",
   "execution_count": 35,
   "metadata": {},
   "outputs": [],
   "source": [
    "# For you to work in"
   ]
  },
  {
   "cell_type": "code",
   "execution_count": 36,
   "metadata": {},
   "outputs": [
    {
     "data": {
      "text/plain": [
       "MLPRegressor(alpha=1e-05, hidden_layer_sizes=(10, 10, 10, 3), max_iter=4000,\n",
       "             random_state=1, solver='lbfgs')"
      ]
     },
     "execution_count": 36,
     "metadata": {},
     "output_type": "execute_result"
    }
   ],
   "source": [
    "# Teacher\n",
    "mpl = MLPRegressor(solver='lbfgs', alpha=1e-5,\n",
    "                   hidden_layer_sizes=(10,10,10, 3), random_state=1, max_iter=4000)\n",
    "\n",
    "mpl.fit(train_x,train_y_diff)"
   ]
  },
  {
   "cell_type": "markdown",
   "metadata": {},
   "source": [
    "You can now predict what to LEGO robot will yield by the sum of the silico mixer prediction and the error correcting neural network. Try to see how well it does on both the dependent and independent test sets."
   ]
  },
  {
   "cell_type": "code",
   "execution_count": 37,
   "metadata": {},
   "outputs": [],
   "source": [
    "# For you to work in"
   ]
  },
  {
   "cell_type": "code",
   "execution_count": 38,
   "metadata": {},
   "outputs": [],
   "source": [
    "# For you to work in"
   ]
  },
  {
   "cell_type": "code",
   "execution_count": 39,
   "metadata": {},
   "outputs": [],
   "source": [
    "# For you to work in"
   ]
  },
  {
   "cell_type": "code",
   "execution_count": 40,
   "metadata": {},
   "outputs": [],
   "source": [
    "# For you to work in. Add cells as needed"
   ]
  },
  {
   "cell_type": "code",
   "execution_count": 41,
   "metadata": {},
   "outputs": [],
   "source": [
    "# Teacher\n",
    "test_dep_list = df_dep_test.values.tolist()\n",
    "for data in test_dep_list:\n",
    "    data[0] = eval(data[0])\n",
    "    data[1] = list(eval(data[1]))\n",
    "# print(train_list)\n",
    "test_dep_list_x = list(np.asarray(test_dep_list)[:,0])\n",
    "# print(train_x)\n",
    "test_dep_list_y = np.asarray(test_dep_list)[:,1]\n",
    "# print(train_y)"
   ]
  },
  {
   "cell_type": "code",
   "execution_count": 42,
   "metadata": {},
   "outputs": [],
   "source": [
    "# Teacher\n",
    "def root_sum_sqr_err(input_color1, input_color2):\n",
    "    r_color, g_color, b_color = input_color1[0], input_color1[1], input_color1[2]\n",
    "    r_color2, g_color2, b_color2 = input_color2[0], input_color2[1], input_color2[2]\n",
    "    return ((r_color-r_color2)**2 +(g_color-g_color2)**2 + (b_color-b_color2)**2)**(0.5)"
   ]
  },
  {
   "cell_type": "code",
   "execution_count": 43,
   "metadata": {},
   "outputs": [
    {
     "name": "stdout",
     "output_type": "stream",
     "text": [
      "[-21.92538823 -26.42699838 -19.76121006]\n",
      "[32, 62, 79] [12.63711177 61.19800162 76.11378994]\n",
      "[-14.76778956 -31.35103989 -12.18456002]\n",
      "[19, 62, 107] [13.6867559  56.92168738 97.81543998]\n",
      "[ -4.73991375 -20.02837381  -4.95400334]\n",
      "[18, 60, 100] [ 17.80554079  76.51708074 114.04599666]\n",
      "[-20.54343389 -25.90653551 -18.57160215]\n",
      "[23, 62, 74] [14.78989944 59.76013116 72.42839785]\n",
      "[-12.49122402 -29.62796063 -10.38565025]\n",
      "[22, 52, 68] [26.13377598 52.30953937 79.30184975]\n",
      "[-21.92538823 -26.42699838 -19.76121006]\n",
      "[21, 49, 63] [12.63711177 61.19800162 76.11378994]\n",
      "[-20.57821128 -26.90160076 -18.41914896]\n",
      "[20, 64, 83] [ 8.22957472 63.2566764  84.27598782]\n",
      "[-21.84404054 -32.25528912 -18.60295077]\n",
      "[17, 51, 78] [11.53125261 52.95227967 81.56929894]\n",
      "[-10.10391299 -21.13067595  -9.74189932]\n",
      "[17, 62, 82] [ 12.82294937  73.07550969 103.49307463]\n",
      "[-15.15144494 -31.5709668  -12.50080493]\n",
      "[20, 44, 73] [13.63146997 56.49721749 96.84337339]\n",
      "[ 11.26805577 -20.97862628  10.12219622]\n",
      "[23, 53, 67] [33.26805577 51.02137372 69.12219622]\n",
      "[-20.75441502 -34.95422589 -17.08746356]\n",
      "[21, 39, 86] [ 14.99558498  58.92077411 110.28753644]\n",
      "[-34.40449568 -33.60959014 -30.04226897]\n",
      "[34, 24, 60] [35.41368613 19.75404623 37.59409466]\n",
      "[-15.50261405  -6.68118389 -17.45067627]\n",
      "[84, 15, 42] [72.49738595 19.31881611 52.54932373]\n",
      "[-15.96527961 -13.81188241 -16.55685841]\n",
      "[92, 20, 57] [67.53472039 19.18811759 49.27647492]\n",
      "[-20.19546301 -36.24363382 -16.3277152 ]\n",
      "[39, 17, 47] [36.80458466 19.08966366 41.67234219]\n",
      "[-12.99127008 -23.06354371 -12.07034811]\n",
      "[24, 53, 56] [26.55426914 51.90268525 52.29384073]\n",
      "[ -9.48766655 -21.74293865  -9.05459573]\n",
      "[32, 49, 52] [32.01237297 48.25706558 42.94559479]\n",
      "[-45.0988192  -41.94601725 -38.447796  ]\n",
      "[21, 13, 40] [18.41452187 19.6361984  48.36549015]\n"
     ]
    }
   ],
   "source": [
    "# Teacher\n",
    "scores = []\n",
    "for test_point, output in zip(test_dep_list_x,test_dep_list_y) :\n",
    "    lego = output\n",
    "    print(mpl.predict([test_point])[0])\n",
    "    prediction = mixer.run_cuvette(test_point) + mpl.predict([test_point])[0]\n",
    "    print(lego, prediction)\n",
    "    scores.append(root_sum_sqr_err(lego, prediction))"
   ]
  },
  {
   "cell_type": "code",
   "execution_count": 44,
   "metadata": {},
   "outputs": [
    {
     "name": "stdout",
     "output_type": "stream",
     "text": [
      "[19.593234811150033, 11.763331359954698, 21.68275334819135, 8.654056671399173, 12.038094790533457, 19.766148580977962, 11.862697256151971, 6.816046422913283, 24.537052068660813, 27.66306335992089, 10.670128774144908, 31.980848443218687, 22.848440339630823, 16.19415122187797, 25.668305336719218, 6.129476360306565, 4.632926401863858, 9.084842229587904, 10.98659418927343]\n",
      "Mean:  15.924852208761946  Standard deviation:  7.88423599167606\n"
     ]
    }
   ],
   "source": [
    "#Teacher\n",
    "print(scores)\n",
    "print(\"Mean: \",np.mean(scores),\" Standard deviation: \", np.std(scores))"
   ]
  },
  {
   "cell_type": "code",
   "execution_count": 45,
   "metadata": {},
   "outputs": [],
   "source": [
    "# Teacher\n",
    "test_indep_list = df_indep_test.values.tolist()\n",
    "for data in test_indep_list:\n",
    "    data[0] = eval(data[0])\n",
    "    data[1] = list(eval(data[1]))\n",
    "# print(train_list)\n",
    "test_indep_list_x = list(np.asarray(test_indep_list)[:,0])\n",
    "# print(train_x)\n",
    "test_indep_list_y = np.asarray(test_indep_list)[:,1]\n",
    "# print(train_y)"
   ]
  },
  {
   "cell_type": "code",
   "execution_count": 46,
   "metadata": {},
   "outputs": [
    {
     "name": "stdout",
     "output_type": "stream",
     "text": [
      "[54, 18, 45] [72.49738595 19.31881611 52.54932373]\n",
      "[52, 19, 45] [69.59332245 21.18815777 53.46499654]\n",
      "[54, 48, 50] [66.68401185 55.88549533 48.27833174]\n",
      "[28, 39, 49] [32.01220081 48.25716747 42.94526111]\n",
      "[24, 41, 58] [33.26805577 51.02137372 69.12219622]\n",
      "[23, 47, 74] [ 17.72249665  74.46108138 109.01296807]\n",
      "[22, 53, 83] [ 18.02699184  81.9997457  127.46740625]\n",
      "[20, 60, 107] [ 18.63598223  97.07707433 164.37628261]\n",
      "[19, 12, 41] [21.62020881 26.94818951 91.97851094]\n"
     ]
    }
   ],
   "source": [
    "# Teacher\n",
    "scores = []\n",
    "for test_point, output in zip(test_indep_list_x,test_indep_list_y) :\n",
    "    lego = output\n",
    "    prediction = mixer.run_cuvette(test_point) + mpl.predict([test_point])[0]\n",
    "    print(lego, prediction)\n",
    "    scores.append(root_sum_sqr_err(lego, prediction))"
   ]
  },
  {
   "cell_type": "code",
   "execution_count": 47,
   "metadata": {},
   "outputs": [
    {
     "name": "stdout",
     "output_type": "stream",
     "text": [
      "[20.022109075569443, 19.64609873731534, 15.034272007187187, 11.766595425944802, 17.607613064673018, 44.80927320463964, 53.236456144439984, 68.32721120852129, 53.18949559639815]\n",
      "Mean:  33.737680496076536  Standard deviation:  19.88021317220693\n"
     ]
    }
   ],
   "source": [
    "#Teacher\n",
    "print(scores)\n",
    "print(\"Mean: \",np.mean(scores),\" Standard deviation: \", np.std(scores))"
   ]
  },
  {
   "cell_type": "markdown",
   "metadata": {},
   "source": [
    "Are you satisfied with the results? Do you have an idea as to how you could improve the predictive power? How many data points do you need in the training to get good results? You can change the number of training points indirectly by changing the value in the `msk` used to split data into the train set and dependent test set. Do you think you can get by using fewer training points if you use a silico mixer with optimized color weights?"
   ]
  },
  {
   "cell_type": "markdown",
   "metadata": {},
   "source": [
    "# Trash below here"
   ]
  },
  {
   "cell_type": "raw",
   "metadata": {},
   "source": [
    "[0.25, 0.25, 0.25, 0.25];(38, 46, 69)"
   ]
  },
  {
   "cell_type": "code",
   "execution_count": 48,
   "metadata": {},
   "outputs": [
    {
     "data": {
      "text/plain": [
       "0                                   [1.0, 0.0, 0.0, 0.0]\n",
       "1                                   [0.5, 0.0, 0.0, 0.5]\n",
       "2                                   [0.5, 0.0, 0.5, 0.0]\n",
       "3                                   [0.5, 0.0, 0.5, 0.0]\n",
       "4                                   [0.5, 0.0, 0.5, 0.0]\n",
       "                             ...                        \n",
       "96     [0.35999990516344405, 3.387019856163049e-07, 0...\n",
       "97     [0.7070728640708882, 1.9957291396603856e-06, 1...\n",
       "98     [0.5465794517123573, 0.00012498958420133143, 4...\n",
       "99     [0.5667655359096931, 1.4398433450455999e-05, 1...\n",
       "100    [0.42886845942724516, 4.0349621400668035e-07, ...\n",
       "Name: Vcolors, Length: 83, dtype: object"
      ]
     },
     "execution_count": 48,
     "metadata": {},
     "output_type": "execute_result"
    }
   ],
   "source": [
    "df_train['Vcolors']"
   ]
  },
  {
   "cell_type": "raw",
   "metadata": {},
   "source": [
    "Time;Vcolors;RGB;Cuvette;Colors\n",
    "2020-06-10 08:51:42;[0.25, 0.25, 0.25, 0.25];(30, 31, 64);1;[red_u,green_u,blue_t,yellow_u]\n",
    "2020-06-10 11:55:41;[1.0, 0.0, 0.0, 0.0];(98, 27, 48);1;[red_u,green_u,blue_t,yellow_u]\n",
    "2020-06-10 12:02:56;[0.3333333333333334, 0.3333333333333334, 0.1666666666666667, 0.1666666666666667];(34, 30, 61);2;[red_u,green_u,blue_t,yellow_u]\n",
    "2020-06-10 12:08:51;[0.0, 0.2, 0.4, 0.4];(32, 55, 65);3;[red_u,green_u,blue_t,yellow_u]\n",
    "2020-06-10 12:14:50;[0.0, 0.2, 0.4, 0.4];(30, 54, 65);4;[red_u,green_u,blue_t,yellow_u]\n",
    "2020-06-10 13:00:49;[0.25, 0.25, 0.25, 0.25];(32, 32, 56);6;[red_u,green_u,blue_t,yellow_u]\n",
    "2020-06-10 13:09:07;[0.25, 0.25, 0.25, 0.25];(31, 32, 58);1;[red_u,green_u,blue_t,yellow_u]\n",
    "2020-06-10 13:23:13;[0.25, 0.25, 0.25, 0.25];(31, 29, 56);1;[red_u,green_u,blue_t,yellow_u]\n",
    "2020-06-10 13:27:06;[0.625, 0.125, 0.125, 0.125];(40, 29, 55);2;[red_u,green_u,blue_t,yellow_u]\n",
    "2020-06-10 13:30:57;[0.125, 0.625, 0.125, 0.125];(33, 39, 65);3;[red_u,green_u,blue_t,yellow_u]\n",
    "2020-06-12 07:48:41;[0.25, 0.25, 0.25, 0.25];(29, 33, 55);1;[red_u,green_u,blue_t,yellow_u]\n",
    "2020-06-12 07:52:33;[0.625, 0.125, 0.125, 0.125];(37, 27, 62);2;[red_u,green_u,blue_t,yellow_u]\n",
    "2020-06-12 07:56:27;[0.125, 0.625, 0.125, 0.125];(33, 45, 74);3;[red_u,green_u,blue_t,yellow_u]\n",
    "2020-06-12 08:00:26;[0.125, 0.125, 0.625, 0.125];(28, 49, 88);4;[red_u,green_u,blue_t,yellow_u]\n",
    "2020-06-12 08:24:28;[0.125, 0.625, 0.125, 0.125];(33, 45, 72);1;[red_u,green_u,blue_t,yellow_u]\n",
    "2020-06-12 08:28:30;[0.4166666666666667, 0.4166666666666667, 0.08333333333333336, 0.08333333333333336];(34, 28, 61);2;[red_u,green_u,blue_t,yellow_u]\n",
    "2020-06-12 08:32:36;[0.08333333333333336, 0.7500000000000001, 0.08333333333333336, 0.08333333333333336];(32, 52, 79);3;[red_u,green_u,blue_t,yellow_u]\n",
    "2020-06-12 08:37:01;[0.08333333333333336, 0.4166666666666667, 0.4166666666666667, 0.08333333333333336];(27, 52, 83);4;[red_u,green_u,blue_t,yellow_u]\n",
    "2020-06-12 08:41:16;[0.08333333333333331, 0.41666666666666663, 0.08333333333333331, 0.41666666666666663];(38, 47, 61);6;[red_u,green_u,blue_t,yellow_u]\n",
    "2020-06-12 08:44:42;[0.0, 0.5, 0.5, 0.0];(30, 81, 127);7;[red_u,green_u,blue_t,yellow_u]\n",
    "2020-06-12 08:48:33;[0.0909090909090909, 0.4545454545454545, 0.4545454545454545, 0.0];(34, 67, 102);8;[red_u,green_u,blue_t,yellow_u]\n",
    "2020-06-12 08:52:16;[0.0, 0.5454545454545454, 0.4545454545454545, 0.0];(30, 80, 119);9;[red_u,green_u,blue_t,yellow_u]\n",
    "2020-06-12 08:55:57;[0.0, 0.4545454545454545, 0.5454545454545454, 0.0];(26, 82, 115);10;[red_u,green_u,blue_t,yellow_u]\n",
    "2020-06-12 09:07:27;[0.0, 0.4545454545454545, 0.4545454545454545, 0.0909090909090909];(27, 60, 86);1;[red_u,green_u,blue_t,yellow_u]\n",
    "2020-06-12 09:10:58;[0.0, 0.5165959868940333, 0.4834040131059667, 0.0];(27, 68, 107);2;[red_u,green_u,blue_t,yellow_u]\n",
    "2020-06-12 09:14:43;[0.09364397685118289, 0.46821988425591443, 0.4381361388929026, 0.0];(27, 51, 99);3;[red_u,green_u,blue_t,yellow_u]\n",
    "2020-06-12 09:18:20;[0.0, 0.5618638611070973, 0.4381361388929026, 0.0];(27, 67, 102);4;[red_u,green_u,blue_t,yellow_u]\n",
    "2020-06-12 09:21:59;[0.0, 0.46821988425591443, 0.5317801157440855, 0.0];(32, 79, 113);6;[red_u,green_u,blue_t,yellow_u]\n",
    "2020-06-12 09:25:50;[0.0, 0.46821988425591443, 0.4381361388929026, 0.09364397685118289];(28, 68, 96);7;[red_u,green_u,blue_t,yellow_u]\n",
    "2020-06-12 09:29:18;[0.0, 0.5003129609057475, 0.4996870390942524, 0.0];(30, 76, 103);8;[red_u,green_u,blue_t,yellow_u]\n",
    "2020-06-12 09:33:09;[0.09096081704110161, 0.454804085205508, 0.45423509775339027, 0.0];(29, 56, 97);9;[red_u,green_u,blue_t,yellow_u]\n",
    "2020-06-12 09:36:53;[0.0, 0.5457649022466097, 0.45423509775339027, 0.0];(24, 71, 104);10;[red_u,green_u,blue_t,yellow_u]\n",
    "2020-06-12 09:45:35;[0.0, 0.454804085205508, 0.5451959147944919, 0.0];(27, 71, 118);1;[red_u,green_u,blue_t,yellow_u]\n",
    "2020-06-12 09:49:20;[0.0, 0.4548040852055081, 0.4542350977533903, 0.09096081704110162];(27, 68, 96);2;[red_u,green_u,blue_t,yellow_u]\n",
    "2020-06-12 09:52:42;[0.0, 0.5000000634301233, 0.4999999365698767, 0.0];(28, 69, 111);3;[red_u,green_u,blue_t,yellow_u]\n",
    "2020-06-12 09:56:28;[0.0909091013934087, 0.4545455069670435, 0.4545453916395479, 0.0];(27, 52, 93);4;[red_u,green_u,blue_t,yellow_u]\n",
    "2020-06-12 10:00:07;[0.0, 0.5454546083604521, 0.4545453916395479, 0.0];(29, 72, 102);6;[red_u,green_u,blue_t,yellow_u]\n",
    "2020-06-12 10:03:47;[0.0, 0.4545455069670435, 0.5454544930329566, 0.0];(24, 73, 113);7;[red_u,green_u,blue_t,yellow_u]\n",
    "2020-06-12 10:07:41;[0.0, 0.45454550696704343, 0.45454539163954777, 0.09090910139340869];(30, 67, 82);8;[red_u,green_u,blue_t,yellow_u]\n",
    "2020-06-12 10:11:08;[0.0, 0.5000000000000057, 0.4999999999999943, 0.0];(26, 73, 113);9;[red_u,green_u,blue_t,yellow_u]\n",
    "2020-06-12 10:15:01;[0.09090909090909184, 0.4545454545454592, 0.4545454545454489, 0.0];(32, 57, 94);10;[red_u,green_u,blue_t,yellow_u]\n"
   ]
  }
 ],
 "metadata": {
  "kernelspec": {
   "display_name": "Python 3",
   "language": "python",
   "name": "python3"
  },
  "language_info": {
   "codemirror_mode": {
    "name": "ipython",
    "version": 3
   },
   "file_extension": ".py",
   "mimetype": "text/x-python",
   "name": "python",
   "nbconvert_exporter": "python",
   "pygments_lexer": "ipython3",
   "version": "3.6.2"
  }
 },
 "nbformat": 4,
 "nbformat_minor": 4
}
